{
 "cells": [
  {
   "cell_type": "markdown",
   "execution_count": null,
   "metadata": {},
   "source": [
    "### Questions\n",
    "### 1)Which factor influenced a candidate in getting placed?\n",
    "### 2)Does percentage matters for one to get placed?\n",
    "### 3)Which degree specialization is much demanded by corporate?\n",
    "### 4)Play with the data conducting all statistical tests."
   ]
  },
  {
   "cell_type": "code",
   "execution_count": 1,
   "metadata": {},
   "outputs": [],
   "source": [
    "import pandas as pd\n",
    "import numpy as np\n",
    "import matplotlib.pyplot as plt\n",
    "%matplotlib inline\n",
    "import seaborn as sns\n",
    "import scipy.stats as stats"
   ]
  },
  {
   "cell_type": "code",
   "execution_count": 2,
   "metadata": {},
   "outputs": [],
   "source": [
    "import statsmodels.formula.api as smf\n",
    "from sklearn.model_selection import train_test_split\n",
    "from sklearn.linear_model import LinearRegression\n",
    "from sklearn.metrics import mean_absolute_error, mean_squared_error, r2_score\n",
    "from sklearn import metrics\n",
    "from sklearn.linear_model import LogisticRegression"
   ]
  },
  {
   "cell_type": "code",
   "execution_count": 3,
   "metadata": {},
   "outputs": [],
   "source": [
    "# Create Data audit Report for continuous variables\n",
    "def continuous_var_summary(x):\n",
    "    return pd.Series([x.count(), x.isnull().sum(), x.sum(), x.mean(), x.median(),  \n",
    "                      x.std(), x.var(), x.min(), x.quantile(0.01), x.quantile(0.05),\n",
    "                          x.quantile(0.10),x.quantile(0.25),x.quantile(0.50),x.quantile(0.75), \n",
    "                              x.quantile(0.90),x.quantile(0.95), x.quantile(0.99),x.max()], \n",
    "                  index = ['N', 'NMISS', 'SUM', 'MEAN','MEDIAN', 'STD', 'VAR', 'MIN', 'P1', \n",
    "                               'P5' ,'P10' ,'P25' ,'P50' ,'P75' ,'P90' ,'P95' ,'P99' ,'MAX'])"
   ]
  },
  {
   "cell_type": "code",
   "execution_count": 4,
   "metadata": {},
   "outputs": [],
   "source": [
    "# Create Data audit Report for categorical variables\n",
    "def categorical_var_summary(x):\n",
    "    Mode = x.value_counts().sort_values(ascending = False)[0:1].reset_index()\n",
    "    return pd.Series([x.count(), x.isnull().sum(), Mode.iloc[0, 0], Mode.iloc[0, 1], \n",
    "                          round(Mode.iloc[0, 1] * 100/x.count(), 2)], \n",
    "                  index = ['N', 'NMISS', 'MODE', 'FREQ', 'PERCENT'])"
   ]
  },
  {
   "cell_type": "code",
   "execution_count": 5,
   "metadata": {},
   "outputs": [],
   "source": [
    "# Missing value imputation for categorical and continuous variables\n",
    "def missing_imputation(x, stats = 'mean'):\n",
    "    if (x.dtypes == 'float64') | (x.dtypes == 'int64'):\n",
    "        x = x.fillna(x.mean()) if stats == 'mean' else x.fillna(x.median())\n",
    "    else:\n",
    "        x = x.fillna(x.mode())\n",
    "    return x"
   ]
  },
  {
   "cell_type": "code",
   "execution_count": 6,
   "metadata": {},
   "outputs": [],
   "source": [
    "# An utility function to create dummy variable\n",
    "def create_dummies(df, colname):\n",
    "    col_dummies = pd.get_dummies(df[colname], prefix = colname, drop_first = True)\n",
    "    df = pd.concat([df, col_dummies], axis = 1)\n",
    "    df.drop(colname, axis = 1, inplace = True )\n",
    "    return df"
   ]
  },
  {
   "cell_type": "code",
   "execution_count": 7,
   "metadata": {},
   "outputs": [],
   "source": [
    "df_campus = pd.read_csv('../input/factors-affecting-campus-placement/Placement_Data_Full_Class.csv')"
   ]
  },
  {
   "cell_type": "code",
   "execution_count": 8,
   "metadata": {},
   "outputs": [
    {
     "name": "stdout",
     "output_type": "stream",
     "text": [
      "<class 'pandas.core.frame.DataFrame'>\n",
      "RangeIndex: 215 entries, 0 to 214\n",
      "Data columns (total 15 columns):\n",
      " #   Column          Non-Null Count  Dtype  \n",
      "---  ------          --------------  -----  \n",
      " 0   sl_no           215 non-null    int64  \n",
      " 1   gender          215 non-null    object \n",
      " 2   ssc_p           215 non-null    float64\n",
      " 3   ssc_b           215 non-null    object \n",
      " 4   hsc_p           215 non-null    float64\n",
      " 5   hsc_b           215 non-null    object \n",
      " 6   hsc_s           215 non-null    object \n",
      " 7   degree_p        215 non-null    float64\n",
      " 8   degree_t        215 non-null    object \n",
      " 9   workex          215 non-null    object \n",
      " 10  etest_p         215 non-null    float64\n",
      " 11  specialisation  215 non-null    object \n",
      " 12  mba_p           215 non-null    float64\n",
      " 13  status          215 non-null    object \n",
      " 14  salary          148 non-null    float64\n",
      "dtypes: float64(6), int64(1), object(8)\n",
      "memory usage: 25.3+ KB\n"
     ]
    }
   ],
   "source": [
    "df_campus.info()"
   ]
  },
  {
   "cell_type": "code",
   "execution_count": 9,
   "metadata": {},
   "outputs": [],
   "source": [
    "df_campus.drop(columns='sl_no',inplace=True)"
   ]
  },
  {
   "cell_type": "code",
   "execution_count": 10,
   "metadata": {},
   "outputs": [
    {
     "name": "stdout",
     "output_type": "stream",
     "text": [
      "<class 'pandas.core.frame.DataFrame'>\n",
      "RangeIndex: 215 entries, 0 to 214\n",
      "Data columns (total 14 columns):\n",
      " #   Column          Non-Null Count  Dtype  \n",
      "---  ------          --------------  -----  \n",
      " 0   gender          215 non-null    object \n",
      " 1   ssc_p           215 non-null    float64\n",
      " 2   ssc_b           215 non-null    object \n",
      " 3   hsc_p           215 non-null    float64\n",
      " 4   hsc_b           215 non-null    object \n",
      " 5   hsc_s           215 non-null    object \n",
      " 6   degree_p        215 non-null    float64\n",
      " 7   degree_t        215 non-null    object \n",
      " 8   workex          215 non-null    object \n",
      " 9   etest_p         215 non-null    float64\n",
      " 10  specialisation  215 non-null    object \n",
      " 11  mba_p           215 non-null    float64\n",
      " 12  status          215 non-null    object \n",
      " 13  salary          148 non-null    float64\n",
      "dtypes: float64(6), object(8)\n",
      "memory usage: 23.6+ KB\n"
     ]
    }
   ],
   "source": [
    "df_campus.info()"
   ]
  },
  {
   "cell_type": "code",
   "execution_count": 11,
   "metadata": {},
   "outputs": [],
   "source": [
    "### Imputing 0 in salary column for candidates whose status is not_placed"
   ]
  },
  {
   "cell_type": "code",
   "execution_count": 12,
   "metadata": {},
   "outputs": [],
   "source": [
    "df_campus.salary = np.where(df_campus.status=='Not Placed',0,df_campus.salary)"
   ]
  },
  {
   "cell_type": "code",
   "execution_count": 13,
   "metadata": {},
   "outputs": [],
   "source": [
    "df_campus_cont=df_campus[['ssc_p','hsc_p','degree_p','etest_p','mba_p','salary']]"
   ]
  },
  {
   "cell_type": "code",
   "execution_count": 14,
   "metadata": {},
   "outputs": [],
   "source": [
    "df_campus_cat=df_campus.loc[:,df_campus.columns.difference(['ssc_p','hsc_p','degree_p','etest_p','mba_p','salary'])]"
   ]
  },
  {
   "cell_type": "code",
   "execution_count": 15,
   "metadata": {},
   "outputs": [
    {
     "data": {
      "text/html": [
       "<div>\n",
       "<style scoped>\n",
       "    .dataframe tbody tr th:only-of-type {\n",
       "        vertical-align: middle;\n",
       "    }\n",
       "\n",
       "    .dataframe tbody tr th {\n",
       "        vertical-align: top;\n",
       "    }\n",
       "\n",
       "    .dataframe thead th {\n",
       "        text-align: right;\n",
       "    }\n",
       "</style>\n",
       "<table border=\"1\" class=\"dataframe\">\n",
       "  <thead>\n",
       "    <tr style=\"text-align: right;\">\n",
       "      <th></th>\n",
       "      <th>ssc_p</th>\n",
       "      <th>hsc_p</th>\n",
       "      <th>degree_p</th>\n",
       "      <th>etest_p</th>\n",
       "      <th>mba_p</th>\n",
       "      <th>salary</th>\n",
       "    </tr>\n",
       "  </thead>\n",
       "  <tbody>\n",
       "    <tr>\n",
       "      <th>N</th>\n",
       "      <td>215.000000</td>\n",
       "      <td>215.000000</td>\n",
       "      <td>215.000000</td>\n",
       "      <td>215.000000</td>\n",
       "      <td>215.000000</td>\n",
       "      <td>2.150000e+02</td>\n",
       "    </tr>\n",
       "    <tr>\n",
       "      <th>NMISS</th>\n",
       "      <td>0.000000</td>\n",
       "      <td>0.000000</td>\n",
       "      <td>0.000000</td>\n",
       "      <td>0.000000</td>\n",
       "      <td>0.000000</td>\n",
       "      <td>0.000000e+00</td>\n",
       "    </tr>\n",
       "    <tr>\n",
       "      <th>SUM</th>\n",
       "      <td>14470.230000</td>\n",
       "      <td>14261.630000</td>\n",
       "      <td>14269.590000</td>\n",
       "      <td>15501.620000</td>\n",
       "      <td>13389.810000</td>\n",
       "      <td>4.272100e+07</td>\n",
       "    </tr>\n",
       "    <tr>\n",
       "      <th>MEAN</th>\n",
       "      <td>67.303395</td>\n",
       "      <td>66.333163</td>\n",
       "      <td>66.370186</td>\n",
       "      <td>72.100558</td>\n",
       "      <td>62.278186</td>\n",
       "      <td>1.987023e+05</td>\n",
       "    </tr>\n",
       "    <tr>\n",
       "      <th>MEDIAN</th>\n",
       "      <td>67.000000</td>\n",
       "      <td>65.000000</td>\n",
       "      <td>66.000000</td>\n",
       "      <td>71.000000</td>\n",
       "      <td>62.000000</td>\n",
       "      <td>2.400000e+05</td>\n",
       "    </tr>\n",
       "    <tr>\n",
       "      <th>STD</th>\n",
       "      <td>10.827205</td>\n",
       "      <td>10.897509</td>\n",
       "      <td>7.358743</td>\n",
       "      <td>13.275956</td>\n",
       "      <td>5.833385</td>\n",
       "      <td>1.547809e+05</td>\n",
       "    </tr>\n",
       "    <tr>\n",
       "      <th>VAR</th>\n",
       "      <td>117.228377</td>\n",
       "      <td>118.755706</td>\n",
       "      <td>54.151103</td>\n",
       "      <td>176.251018</td>\n",
       "      <td>34.028376</td>\n",
       "      <td>2.395714e+10</td>\n",
       "    </tr>\n",
       "    <tr>\n",
       "      <th>MIN</th>\n",
       "      <td>40.890000</td>\n",
       "      <td>37.000000</td>\n",
       "      <td>50.000000</td>\n",
       "      <td>50.000000</td>\n",
       "      <td>51.210000</td>\n",
       "      <td>0.000000e+00</td>\n",
       "    </tr>\n",
       "    <tr>\n",
       "      <th>P1</th>\n",
       "      <td>43.140000</td>\n",
       "      <td>40.280000</td>\n",
       "      <td>50.968000</td>\n",
       "      <td>50.067200</td>\n",
       "      <td>51.468200</td>\n",
       "      <td>0.000000e+00</td>\n",
       "    </tr>\n",
       "    <tr>\n",
       "      <th>P5</th>\n",
       "      <td>49.700000</td>\n",
       "      <td>48.400000</td>\n",
       "      <td>54.814000</td>\n",
       "      <td>54.336000</td>\n",
       "      <td>53.263000</td>\n",
       "      <td>0.000000e+00</td>\n",
       "    </tr>\n",
       "    <tr>\n",
       "      <th>P10</th>\n",
       "      <td>52.000000</td>\n",
       "      <td>52.000000</td>\n",
       "      <td>57.000000</td>\n",
       "      <td>55.802000</td>\n",
       "      <td>54.986000</td>\n",
       "      <td>0.000000e+00</td>\n",
       "    </tr>\n",
       "    <tr>\n",
       "      <th>P25</th>\n",
       "      <td>60.600000</td>\n",
       "      <td>60.900000</td>\n",
       "      <td>61.000000</td>\n",
       "      <td>60.000000</td>\n",
       "      <td>57.945000</td>\n",
       "      <td>0.000000e+00</td>\n",
       "    </tr>\n",
       "    <tr>\n",
       "      <th>P50</th>\n",
       "      <td>67.000000</td>\n",
       "      <td>65.000000</td>\n",
       "      <td>66.000000</td>\n",
       "      <td>71.000000</td>\n",
       "      <td>62.000000</td>\n",
       "      <td>2.400000e+05</td>\n",
       "    </tr>\n",
       "    <tr>\n",
       "      <th>P75</th>\n",
       "      <td>75.700000</td>\n",
       "      <td>73.000000</td>\n",
       "      <td>72.000000</td>\n",
       "      <td>83.500000</td>\n",
       "      <td>66.255000</td>\n",
       "      <td>2.825000e+05</td>\n",
       "    </tr>\n",
       "    <tr>\n",
       "      <th>P90</th>\n",
       "      <td>82.000000</td>\n",
       "      <td>79.000000</td>\n",
       "      <td>77.120000</td>\n",
       "      <td>92.000000</td>\n",
       "      <td>70.678000</td>\n",
       "      <td>3.560000e+05</td>\n",
       "    </tr>\n",
       "    <tr>\n",
       "      <th>P95</th>\n",
       "      <td>84.200000</td>\n",
       "      <td>87.000000</td>\n",
       "      <td>78.468000</td>\n",
       "      <td>95.000000</td>\n",
       "      <td>72.185000</td>\n",
       "      <td>4.000000e+05</td>\n",
       "    </tr>\n",
       "    <tr>\n",
       "      <th>P99</th>\n",
       "      <td>87.000000</td>\n",
       "      <td>91.860000</td>\n",
       "      <td>83.860000</td>\n",
       "      <td>97.000000</td>\n",
       "      <td>76.114200</td>\n",
       "      <td>6.290000e+05</td>\n",
       "    </tr>\n",
       "    <tr>\n",
       "      <th>MAX</th>\n",
       "      <td>89.400000</td>\n",
       "      <td>97.700000</td>\n",
       "      <td>91.000000</td>\n",
       "      <td>98.000000</td>\n",
       "      <td>77.890000</td>\n",
       "      <td>9.400000e+05</td>\n",
       "    </tr>\n",
       "  </tbody>\n",
       "</table>\n",
       "</div>"
      ],
      "text/plain": [
       "               ssc_p         hsc_p      degree_p       etest_p         mba_p  \\\n",
       "N         215.000000    215.000000    215.000000    215.000000    215.000000   \n",
       "NMISS       0.000000      0.000000      0.000000      0.000000      0.000000   \n",
       "SUM     14470.230000  14261.630000  14269.590000  15501.620000  13389.810000   \n",
       "MEAN       67.303395     66.333163     66.370186     72.100558     62.278186   \n",
       "MEDIAN     67.000000     65.000000     66.000000     71.000000     62.000000   \n",
       "STD        10.827205     10.897509      7.358743     13.275956      5.833385   \n",
       "VAR       117.228377    118.755706     54.151103    176.251018     34.028376   \n",
       "MIN        40.890000     37.000000     50.000000     50.000000     51.210000   \n",
       "P1         43.140000     40.280000     50.968000     50.067200     51.468200   \n",
       "P5         49.700000     48.400000     54.814000     54.336000     53.263000   \n",
       "P10        52.000000     52.000000     57.000000     55.802000     54.986000   \n",
       "P25        60.600000     60.900000     61.000000     60.000000     57.945000   \n",
       "P50        67.000000     65.000000     66.000000     71.000000     62.000000   \n",
       "P75        75.700000     73.000000     72.000000     83.500000     66.255000   \n",
       "P90        82.000000     79.000000     77.120000     92.000000     70.678000   \n",
       "P95        84.200000     87.000000     78.468000     95.000000     72.185000   \n",
       "P99        87.000000     91.860000     83.860000     97.000000     76.114200   \n",
       "MAX        89.400000     97.700000     91.000000     98.000000     77.890000   \n",
       "\n",
       "              salary  \n",
       "N       2.150000e+02  \n",
       "NMISS   0.000000e+00  \n",
       "SUM     4.272100e+07  \n",
       "MEAN    1.987023e+05  \n",
       "MEDIAN  2.400000e+05  \n",
       "STD     1.547809e+05  \n",
       "VAR     2.395714e+10  \n",
       "MIN     0.000000e+00  \n",
       "P1      0.000000e+00  \n",
       "P5      0.000000e+00  \n",
       "P10     0.000000e+00  \n",
       "P25     0.000000e+00  \n",
       "P50     2.400000e+05  \n",
       "P75     2.825000e+05  \n",
       "P90     3.560000e+05  \n",
       "P95     4.000000e+05  \n",
       "P99     6.290000e+05  \n",
       "MAX     9.400000e+05  "
      ]
     },
     "execution_count": 15,
     "metadata": {},
     "output_type": "execute_result"
    }
   ],
   "source": [
    "df_campus_cont.apply(continuous_var_summary)"
   ]
  },
  {
   "cell_type": "code",
   "execution_count": 16,
   "metadata": {},
   "outputs": [
    {
     "data": {
      "text/html": [
       "<div>\n",
       "<style scoped>\n",
       "    .dataframe tbody tr th:only-of-type {\n",
       "        vertical-align: middle;\n",
       "    }\n",
       "\n",
       "    .dataframe tbody tr th {\n",
       "        vertical-align: top;\n",
       "    }\n",
       "\n",
       "    .dataframe thead th {\n",
       "        text-align: right;\n",
       "    }\n",
       "</style>\n",
       "<table border=\"1\" class=\"dataframe\">\n",
       "  <thead>\n",
       "    <tr style=\"text-align: right;\">\n",
       "      <th></th>\n",
       "      <th>degree_t</th>\n",
       "      <th>gender</th>\n",
       "      <th>hsc_b</th>\n",
       "      <th>hsc_s</th>\n",
       "      <th>specialisation</th>\n",
       "      <th>ssc_b</th>\n",
       "      <th>status</th>\n",
       "      <th>workex</th>\n",
       "    </tr>\n",
       "  </thead>\n",
       "  <tbody>\n",
       "    <tr>\n",
       "      <th>N</th>\n",
       "      <td>215</td>\n",
       "      <td>215</td>\n",
       "      <td>215</td>\n",
       "      <td>215</td>\n",
       "      <td>215</td>\n",
       "      <td>215</td>\n",
       "      <td>215</td>\n",
       "      <td>215</td>\n",
       "    </tr>\n",
       "    <tr>\n",
       "      <th>NMISS</th>\n",
       "      <td>0</td>\n",
       "      <td>0</td>\n",
       "      <td>0</td>\n",
       "      <td>0</td>\n",
       "      <td>0</td>\n",
       "      <td>0</td>\n",
       "      <td>0</td>\n",
       "      <td>0</td>\n",
       "    </tr>\n",
       "    <tr>\n",
       "      <th>MODE</th>\n",
       "      <td>Comm&amp;Mgmt</td>\n",
       "      <td>M</td>\n",
       "      <td>Others</td>\n",
       "      <td>Commerce</td>\n",
       "      <td>Mkt&amp;Fin</td>\n",
       "      <td>Central</td>\n",
       "      <td>Placed</td>\n",
       "      <td>No</td>\n",
       "    </tr>\n",
       "    <tr>\n",
       "      <th>FREQ</th>\n",
       "      <td>145</td>\n",
       "      <td>139</td>\n",
       "      <td>131</td>\n",
       "      <td>113</td>\n",
       "      <td>120</td>\n",
       "      <td>116</td>\n",
       "      <td>148</td>\n",
       "      <td>141</td>\n",
       "    </tr>\n",
       "    <tr>\n",
       "      <th>PERCENT</th>\n",
       "      <td>67.44</td>\n",
       "      <td>64.65</td>\n",
       "      <td>60.93</td>\n",
       "      <td>52.56</td>\n",
       "      <td>55.81</td>\n",
       "      <td>53.95</td>\n",
       "      <td>68.84</td>\n",
       "      <td>65.58</td>\n",
       "    </tr>\n",
       "  </tbody>\n",
       "</table>\n",
       "</div>"
      ],
      "text/plain": [
       "          degree_t gender   hsc_b     hsc_s specialisation    ssc_b  status  \\\n",
       "N              215    215     215       215            215      215     215   \n",
       "NMISS            0      0       0         0              0        0       0   \n",
       "MODE     Comm&Mgmt      M  Others  Commerce        Mkt&Fin  Central  Placed   \n",
       "FREQ           145    139     131       113            120      116     148   \n",
       "PERCENT      67.44  64.65   60.93     52.56          55.81    53.95   68.84   \n",
       "\n",
       "        workex  \n",
       "N          215  \n",
       "NMISS        0  \n",
       "MODE        No  \n",
       "FREQ       141  \n",
       "PERCENT  65.58  "
      ]
     },
     "execution_count": 16,
     "metadata": {},
     "output_type": "execute_result"
    }
   ],
   "source": [
    "df_campus_cat.apply(categorical_var_summary)"
   ]
  },
  {
   "cell_type": "code",
   "execution_count": 17,
   "metadata": {},
   "outputs": [],
   "source": [
    "def cat_count (x):\n",
    "    sns.countplot(x)\n",
    "    plt.show()"
   ]
  },
  {
   "cell_type": "code",
   "execution_count": 18,
   "metadata": {},
   "outputs": [
    {
     "data": {
      "image/png": "[encoded data removed]",
      "text/plain": [
       "<Figure size 432x288 with 1 Axes>"
      ]
     },
     "metadata": {
      "needs_background": "light"
     },
     "output_type": "display_data"
    },
    {
     "data": {
      "image/png": "[encoded data removed]",
      "text/plain": [
       "<Figure size 432x288 with 1 Axes>"
      ]
     },
     "metadata": {
      "needs_background": "light"
     },
     "output_type": "display_data"
    },
    {
     "data": {
      "image/png": "[encoded data removed]",
      "text/plain": [
       "<Figure size 432x288 with 1 Axes>"
      ]
     },
     "metadata": {
      "needs_background": "light"
     },
     "output_type": "display_data"
    },
    {
     "data": {
      "image/png": "[encoded data removed]",
      "text/plain": [
       "<Figure size 432x288 with 1 Axes>"
      ]
     },
     "metadata": {
      "needs_background": "light"
     },
     "output_type": "display_data"
    },
    {
     "data": {
      "image/png": "[encoded data removed]",
      "text/plain": [
       "<Figure size 432x288 with 1 Axes>"
      ]
     },
     "metadata": {
      "needs_background": "light"
     },
     "output_type": "display_data"
    },
    {
     "data": {
      "image/png": "[encoded data removed]",
      "text/plain": [
       "<Figure size 432x288 with 1 Axes>"
      ]
     },
     "metadata": {
      "needs_background": "light"
     },
     "output_type": "display_data"
    },
    {
     "data": {
      "image/png": "[encoded data removed]",
      "text/plain": [
       "<Figure size 432x288 with 1 Axes>"
      ]
     },
     "metadata": {
      "needs_background": "light"
     },
     "output_type": "display_data"
    },
    {
     "data": {
      "image/png": "[encoded data removed]",
      "text/plain": [
       "<Figure size 432x288 with 1 Axes>"
      ]
     },
     "metadata": {
      "needs_background": "light"
     },
     "output_type": "display_data"
    },
    {
     "data": {
      "text/plain": [
       "degree_t          None\n",
       "gender            None\n",
       "hsc_b             None\n",
       "hsc_s             None\n",
       "specialisation    None\n",
       "ssc_b             None\n",
       "status            None\n",
       "workex            None\n",
       "dtype: object"
      ]
     },
     "execution_count": 18,
     "metadata": {},
     "output_type": "execute_result"
    }
   ],
   "source": [
    "df_campus_cat.apply(cat_count)"
   ]
  },
  {
   "cell_type": "code",
   "execution_count": 19,
   "metadata": {},
   "outputs": [],
   "source": [
    "def box_cont(x):\n",
    "    sns.boxplot(x)\n",
    "    plt.show()"
   ]
  },
  {
   "cell_type": "code",
   "execution_count": 20,
   "metadata": {},
   "outputs": [
    {
     "data": {
      "image/png": "[encoded data removed]",
      "text/plain": [
       "<Figure size 432x288 with 1 Axes>"
      ]
     },
     "metadata": {
      "needs_background": "light"
     },
     "output_type": "display_data"
    },
    {
     "data": {
      "image/png": "[encoded data removed]",
      "text/plain": [
       "<Figure size 432x288 with 1 Axes>"
      ]
     },
     "metadata": {
      "needs_background": "light"
     },
     "output_type": "display_data"
    },
    {
     "data": {
      "image/png": "[encoded data removed]",
      "text/plain": [
       "<Figure size 432x288 with 1 Axes>"
      ]
     },
     "metadata": {
      "needs_background": "light"
     },
     "output_type": "display_data"
    },
    {
     "data": {
      "image/png": "[encoded data removed]",
      "text/plain": [
       "<Figure size 432x288 with 1 Axes>"
      ]
     },
     "metadata": {
      "needs_background": "light"
     },
     "output_type": "display_data"
    },
    {
     "data": {
      "image/png": "[encoded data removed]",
      "text/plain": [
       "<Figure size 432x288 with 1 Axes>"
      ]
     },
     "metadata": {
      "needs_background": "light"
     },
     "output_type": "display_data"
    },
    {
     "data": {
      "image/png": "[encoded data removed]",
      "text/plain": [
       "<Figure size 432x288 with 1 Axes>"
      ]
     },
     "metadata": {
      "needs_background": "light"
     },
     "output_type": "display_data"
    },
    {
     "data": {
      "text/plain": [
       "ssc_p       None\n",
       "hsc_p       None\n",
       "degree_p    None\n",
       "etest_p     None\n",
       "mba_p       None\n",
       "salary      None\n",
       "dtype: object"
      ]
     },
     "execution_count": 20,
     "metadata": {},
     "output_type": "execute_result"
    }
   ],
   "source": [
    "df_campus_cont.apply(box_cont)"
   ]
  },
  {
   "cell_type": "code",
   "execution_count": 21,
   "metadata": {},
   "outputs": [],
   "source": [
    "### Outlier Treatement"
   ]
  },
  {
   "cell_type": "code",
   "execution_count": 22,
   "metadata": {},
   "outputs": [],
   "source": [
    "df_campus_cont = df_campus_cont.apply(lambda x: x.clip(lower = x.dropna().quantile(0.01), upper = x.dropna().quantile(0.99)))"
   ]
  },
  {
   "cell_type": "code",
   "execution_count": 23,
   "metadata": {},
   "outputs": [
    {
     "data": {
      "image/png": "[encoded data removed]",
      "text/plain": [
       "<Figure size 432x288 with 1 Axes>"
      ]
     },
     "metadata": {
      "needs_background": "light"
     },
     "output_type": "display_data"
    },
    {
     "data": {
      "image/png": "[encoded data removed]",
      "text/plain": [
       "<Figure size 432x288 with 1 Axes>"
      ]
     },
     "metadata": {
      "needs_background": "light"
     },
     "output_type": "display_data"
    },
    {
     "data": {
      "image/png": "[encoded data removed]",
      "text/plain": [
       "<Figure size 432x288 with 1 Axes>"
      ]
     },
     "metadata": {
      "needs_background": "light"
     },
     "output_type": "display_data"
    },
    {
     "data": {
      "image/png": "[encoded data removed]",
      "text/plain": [
       "<Figure size 432x288 with 1 Axes>"
      ]
     },
     "metadata": {
      "needs_background": "light"
     },
     "output_type": "display_data"
    },
    {
     "data": {
      "image/png": "[encoded data removed]",
      "text/plain": [
       "<Figure size 432x288 with 1 Axes>"
      ]
     },
     "metadata": {
      "needs_background": "light"
     },
     "output_type": "display_data"
    },
    {
     "data": {
      "image/png": "[encoded data removed]",
      "text/plain": [
       "<Figure size 432x288 with 1 Axes>"
      ]
     },
     "metadata": {
      "needs_background": "light"
     },
     "output_type": "display_data"
    },
    {
     "data": {
      "text/plain": [
       "ssc_p       None\n",
       "hsc_p       None\n",
       "degree_p    None\n",
       "etest_p     None\n",
       "mba_p       None\n",
       "salary      None\n",
       "dtype: object"
      ]
     },
     "execution_count": 23,
     "metadata": {},
     "output_type": "execute_result"
    }
   ],
   "source": [
    "df_campus_cont.apply(box_cont)"
   ]
  },
  {
   "cell_type": "code",
   "execution_count": 24,
   "metadata": {},
   "outputs": [
    {
     "data": {
      "image/png": "[encoded data removed]",
      "text/plain": [
       "<Figure size 720x720 with 2 Axes>"
      ]
     },
     "metadata": {
      "needs_background": "light"
     },
     "output_type": "display_data"
    }
   ],
   "source": [
    "import seaborn as sns\n",
    "plt.figure(figsize = (10,10))\n",
    "sns.heatmap(df_campus_cont.corr())\n",
    "plt.show()"
   ]
  },
  {
   "cell_type": "code",
   "execution_count": 25,
   "metadata": {},
   "outputs": [],
   "source": [
    "# for c_feature in categorical_features\n",
    "for c_feature in list(df_campus_cat.columns):\n",
    "    df_campus_cat[c_feature] = df_campus_cat[c_feature].astype('category')\n",
    "    df_campus_cat = create_dummies(df_campus_cat, c_feature)"
   ]
  },
  {
   "cell_type": "code",
   "execution_count": 26,
   "metadata": {},
   "outputs": [],
   "source": [
    "df_campus_new=pd.concat([df_campus_cont,df_campus_cat],axis = 1)"
   ]
  },
  {
   "cell_type": "code",
   "execution_count": 27,
   "metadata": {},
   "outputs": [
    {
     "name": "stdout",
     "output_type": "stream",
     "text": [
      "<class 'pandas.core.frame.DataFrame'>\n",
      "RangeIndex: 215 entries, 0 to 214\n",
      "Data columns (total 16 columns):\n",
      " #   Column                 Non-Null Count  Dtype  \n",
      "---  ------                 --------------  -----  \n",
      " 0   ssc_p                  215 non-null    float64\n",
      " 1   hsc_p                  215 non-null    float64\n",
      " 2   degree_p               215 non-null    float64\n",
      " 3   etest_p                215 non-null    float64\n",
      " 4   mba_p                  215 non-null    float64\n",
      " 5   salary                 215 non-null    float64\n",
      " 6   degree_t_Others        215 non-null    uint8  \n",
      " 7   degree_t_Sci&Tech      215 non-null    uint8  \n",
      " 8   gender_M               215 non-null    uint8  \n",
      " 9   hsc_b_Others           215 non-null    uint8  \n",
      " 10  hsc_s_Commerce         215 non-null    uint8  \n",
      " 11  hsc_s_Science          215 non-null    uint8  \n",
      " 12  specialisation_Mkt&HR  215 non-null    uint8  \n",
      " 13  ssc_b_Others           215 non-null    uint8  \n",
      " 14  status_Placed          215 non-null    uint8  \n",
      " 15  workex_Yes             215 non-null    uint8  \n",
      "dtypes: float64(6), uint8(10)\n",
      "memory usage: 12.3 KB\n"
     ]
    }
   ],
   "source": [
    "df_campus_new.info()"
   ]
  },
  {
   "cell_type": "code",
   "execution_count": null,
   "metadata": {},
   "outputs": [],
   "source": []
  },
  {
   "cell_type": "code",
   "execution_count": 28,
   "metadata": {},
   "outputs": [
    {
     "data": {
      "text/plain": [
       "1    148\n",
       "0     67\n",
       "Name: status_Placed, dtype: int64"
      ]
     },
     "execution_count": 28,
     "metadata": {},
     "output_type": "execute_result"
    }
   ],
   "source": [
    "df_campus_new.status_Placed.value_counts()"
   ]
  },
  {
   "cell_type": "code",
   "execution_count": 29,
   "metadata": {},
   "outputs": [],
   "source": [
    "# F_regression"
   ]
  },
  {
   "cell_type": "code",
   "execution_count": 30,
   "metadata": {},
   "outputs": [],
   "source": [
    "from statsmodels.stats.outliers_influence import variance_inflation_factor\n",
    "from patsy import dmatrices"
   ]
  },
  {
   "cell_type": "code",
   "execution_count": 31,
   "metadata": {},
   "outputs": [],
   "source": [
    "df_campus_new.rename(columns={'specialisation_Mkt&HR':'specialisation_Mkt_HR'},inplace=True)"
   ]
  },
  {
   "cell_type": "code",
   "execution_count": 32,
   "metadata": {},
   "outputs": [],
   "source": [
    "df_campus_new.rename(columns={'degree_t_Sci&Tech':'degree_t_Sci_Tech'},inplace=True)"
   ]
  },
  {
   "cell_type": "code",
   "execution_count": 33,
   "metadata": {},
   "outputs": [],
   "source": [
    "# get all the independant variables for model creation\n",
    "model_param = 'status_Placed ~ ' + ' + '.join(list(df_campus_new.columns.difference(['status_Placed'])))"
   ]
  },
  {
   "cell_type": "code",
   "execution_count": 34,
   "metadata": {},
   "outputs": [
    {
     "data": {
      "text/plain": [
       "'status_Placed ~ degree_p + degree_t_Others + degree_t_Sci_Tech + etest_p + gender_M + hsc_b_Others + hsc_p + hsc_s_Commerce + hsc_s_Science + mba_p + salary + specialisation_Mkt_HR + ssc_b_Others + ssc_p + workex_Yes'"
      ]
     },
     "execution_count": 34,
     "metadata": {},
     "output_type": "execute_result"
    }
   ],
   "source": [
    "model_param"
   ]
  },
  {
   "cell_type": "code",
   "execution_count": 35,
   "metadata": {},
   "outputs": [],
   "source": [
    "model_param='''status_Placed ~ degree_p + degree_t_Others + degree_t_Sci_Tech + etest_p + gender_M + \n",
    "                hsc_b_Others + hsc_p + hsc_s_Commerce + mba_p + \n",
    "            salary + specialisation_Mkt_HR + ssc_b_Others + ssc_p + workex_Yes'''"
   ]
  },
  {
   "cell_type": "code",
   "execution_count": 36,
   "metadata": {},
   "outputs": [],
   "source": [
    "# separate the Y and X variables\n",
    "y, X = dmatrices(model_param,df_campus_new, return_type = 'dataframe')"
   ]
  },
  {
   "cell_type": "code",
   "execution_count": 37,
   "metadata": {},
   "outputs": [
    {
     "data": {
      "text/html": [
       "<div>\n",
       "<style scoped>\n",
       "    .dataframe tbody tr th:only-of-type {\n",
       "        vertical-align: middle;\n",
       "    }\n",
       "\n",
       "    .dataframe tbody tr th {\n",
       "        vertical-align: top;\n",
       "    }\n",
       "\n",
       "    .dataframe thead th {\n",
       "        text-align: right;\n",
       "    }\n",
       "</style>\n",
       "<table border=\"1\" class=\"dataframe\">\n",
       "  <thead>\n",
       "    <tr style=\"text-align: right;\">\n",
       "      <th></th>\n",
       "      <th>Features</th>\n",
       "      <th>VIF Factor</th>\n",
       "    </tr>\n",
       "  </thead>\n",
       "  <tbody>\n",
       "    <tr>\n",
       "      <th>0</th>\n",
       "      <td>Intercept</td>\n",
       "      <td>218.5</td>\n",
       "    </tr>\n",
       "    <tr>\n",
       "      <th>1</th>\n",
       "      <td>degree_p</td>\n",
       "      <td>1.7</td>\n",
       "    </tr>\n",
       "    <tr>\n",
       "      <th>2</th>\n",
       "      <td>degree_t_Others</td>\n",
       "      <td>1.3</td>\n",
       "    </tr>\n",
       "    <tr>\n",
       "      <th>3</th>\n",
       "      <td>degree_t_Sci_Tech</td>\n",
       "      <td>1.8</td>\n",
       "    </tr>\n",
       "    <tr>\n",
       "      <th>4</th>\n",
       "      <td>etest_p</td>\n",
       "      <td>1.2</td>\n",
       "    </tr>\n",
       "    <tr>\n",
       "      <th>5</th>\n",
       "      <td>gender_M</td>\n",
       "      <td>1.3</td>\n",
       "    </tr>\n",
       "    <tr>\n",
       "      <th>6</th>\n",
       "      <td>hsc_b_Others</td>\n",
       "      <td>1.7</td>\n",
       "    </tr>\n",
       "    <tr>\n",
       "      <th>7</th>\n",
       "      <td>hsc_p</td>\n",
       "      <td>2.0</td>\n",
       "    </tr>\n",
       "    <tr>\n",
       "      <th>8</th>\n",
       "      <td>hsc_s_Commerce</td>\n",
       "      <td>2.0</td>\n",
       "    </tr>\n",
       "    <tr>\n",
       "      <th>9</th>\n",
       "      <td>mba_p</td>\n",
       "      <td>1.5</td>\n",
       "    </tr>\n",
       "    <tr>\n",
       "      <th>10</th>\n",
       "      <td>salary</td>\n",
       "      <td>1.9</td>\n",
       "    </tr>\n",
       "    <tr>\n",
       "      <th>11</th>\n",
       "      <td>specialisation_Mkt_HR</td>\n",
       "      <td>1.2</td>\n",
       "    </tr>\n",
       "    <tr>\n",
       "      <th>12</th>\n",
       "      <td>ssc_b_Others</td>\n",
       "      <td>1.8</td>\n",
       "    </tr>\n",
       "    <tr>\n",
       "      <th>13</th>\n",
       "      <td>ssc_p</td>\n",
       "      <td>2.2</td>\n",
       "    </tr>\n",
       "    <tr>\n",
       "      <th>14</th>\n",
       "      <td>workex_Yes</td>\n",
       "      <td>1.2</td>\n",
       "    </tr>\n",
       "  </tbody>\n",
       "</table>\n",
       "</div>"
      ],
      "text/plain": [
       "                 Features  VIF Factor\n",
       "0               Intercept       218.5\n",
       "1                degree_p         1.7\n",
       "2         degree_t_Others         1.3\n",
       "3       degree_t_Sci_Tech         1.8\n",
       "4                 etest_p         1.2\n",
       "5                gender_M         1.3\n",
       "6            hsc_b_Others         1.7\n",
       "7                   hsc_p         2.0\n",
       "8          hsc_s_Commerce         2.0\n",
       "9                   mba_p         1.5\n",
       "10                 salary         1.9\n",
       "11  specialisation_Mkt_HR         1.2\n",
       "12           ssc_b_Others         1.8\n",
       "13                  ssc_p         2.2\n",
       "14             workex_Yes         1.2"
      ]
     },
     "execution_count": 37,
     "metadata": {},
     "output_type": "execute_result"
    }
   ],
   "source": [
    "# For each X, calculate VIF and save in dataframe\n",
    "vif = pd.DataFrame()\n",
    "vif['Features'] = X.columns\n",
    "vif['VIF Factor'] = [variance_inflation_factor(X.values, i) for i in range(X.shape[1])]\n",
    "\n",
    "# display the output\n",
    "vif.round(1)"
   ]
  },
  {
   "cell_type": "code",
   "execution_count": 38,
   "metadata": {},
   "outputs": [],
   "source": [
    "# Train and Test split\n",
    "train, test = train_test_split(df_campus_new, test_size = 0.3, random_state =  123)"
   ]
  },
  {
   "cell_type": "code",
   "execution_count": 39,
   "metadata": {},
   "outputs": [],
   "source": [
    "model_param='''status_Placed ~ degree_p + degree_t_Others + degree_t_Sci_Tech + etest_p + gender_M + \n",
    "                hsc_b_Others + hsc_p + hsc_s_Commerce + mba_p + specialisation_Mkt_HR + ssc_b_Others + ssc_p + workex_Yes'''"
   ]
  },
  {
   "cell_type": "code",
   "execution_count": 40,
   "metadata": {},
   "outputs": [
    {
     "data": {
      "text/html": [
       "<div>\n",
       "<style scoped>\n",
       "    .dataframe tbody tr th:only-of-type {\n",
       "        vertical-align: middle;\n",
       "    }\n",
       "\n",
       "    .dataframe tbody tr th {\n",
       "        vertical-align: top;\n",
       "    }\n",
       "\n",
       "    .dataframe thead th {\n",
       "        text-align: right;\n",
       "    }\n",
       "</style>\n",
       "<table border=\"1\" class=\"dataframe\">\n",
       "  <thead>\n",
       "    <tr style=\"text-align: right;\">\n",
       "      <th></th>\n",
       "      <th>ssc_p</th>\n",
       "      <th>hsc_p</th>\n",
       "      <th>degree_p</th>\n",
       "      <th>etest_p</th>\n",
       "      <th>mba_p</th>\n",
       "      <th>salary</th>\n",
       "      <th>degree_t_Others</th>\n",
       "      <th>degree_t_Sci_Tech</th>\n",
       "      <th>gender_M</th>\n",
       "      <th>hsc_b_Others</th>\n",
       "      <th>hsc_s_Commerce</th>\n",
       "      <th>hsc_s_Science</th>\n",
       "      <th>specialisation_Mkt_HR</th>\n",
       "      <th>ssc_b_Others</th>\n",
       "      <th>status_Placed</th>\n",
       "      <th>workex_Yes</th>\n",
       "    </tr>\n",
       "  </thead>\n",
       "  <tbody>\n",
       "    <tr>\n",
       "      <th>41</th>\n",
       "      <td>74.0</td>\n",
       "      <td>63.16</td>\n",
       "      <td>65.0</td>\n",
       "      <td>65.00</td>\n",
       "      <td>69.76</td>\n",
       "      <td>0.0</td>\n",
       "      <td>0</td>\n",
       "      <td>0</td>\n",
       "      <td>0</td>\n",
       "      <td>1</td>\n",
       "      <td>1</td>\n",
       "      <td>0</td>\n",
       "      <td>1</td>\n",
       "      <td>1</td>\n",
       "      <td>0</td>\n",
       "      <td>1</td>\n",
       "    </tr>\n",
       "    <tr>\n",
       "      <th>95</th>\n",
       "      <td>73.0</td>\n",
       "      <td>78.00</td>\n",
       "      <td>65.0</td>\n",
       "      <td>95.46</td>\n",
       "      <td>62.16</td>\n",
       "      <td>420000.0</td>\n",
       "      <td>0</td>\n",
       "      <td>0</td>\n",
       "      <td>1</td>\n",
       "      <td>1</td>\n",
       "      <td>1</td>\n",
       "      <td>0</td>\n",
       "      <td>0</td>\n",
       "      <td>0</td>\n",
       "      <td>1</td>\n",
       "      <td>1</td>\n",
       "    </tr>\n",
       "    <tr>\n",
       "      <th>170</th>\n",
       "      <td>63.4</td>\n",
       "      <td>67.20</td>\n",
       "      <td>60.0</td>\n",
       "      <td>58.06</td>\n",
       "      <td>69.28</td>\n",
       "      <td>0.0</td>\n",
       "      <td>0</td>\n",
       "      <td>0</td>\n",
       "      <td>0</td>\n",
       "      <td>1</td>\n",
       "      <td>1</td>\n",
       "      <td>0</td>\n",
       "      <td>1</td>\n",
       "      <td>1</td>\n",
       "      <td>0</td>\n",
       "      <td>0</td>\n",
       "    </tr>\n",
       "    <tr>\n",
       "      <th>82</th>\n",
       "      <td>63.0</td>\n",
       "      <td>67.00</td>\n",
       "      <td>74.0</td>\n",
       "      <td>82.00</td>\n",
       "      <td>60.44</td>\n",
       "      <td>0.0</td>\n",
       "      <td>0</td>\n",
       "      <td>0</td>\n",
       "      <td>1</td>\n",
       "      <td>0</td>\n",
       "      <td>1</td>\n",
       "      <td>0</td>\n",
       "      <td>0</td>\n",
       "      <td>0</td>\n",
       "      <td>0</td>\n",
       "      <td>0</td>\n",
       "    </tr>\n",
       "    <tr>\n",
       "      <th>185</th>\n",
       "      <td>87.0</td>\n",
       "      <td>72.00</td>\n",
       "      <td>78.0</td>\n",
       "      <td>82.00</td>\n",
       "      <td>71.43</td>\n",
       "      <td>252000.0</td>\n",
       "      <td>1</td>\n",
       "      <td>0</td>\n",
       "      <td>0</td>\n",
       "      <td>0</td>\n",
       "      <td>0</td>\n",
       "      <td>1</td>\n",
       "      <td>1</td>\n",
       "      <td>0</td>\n",
       "      <td>1</td>\n",
       "      <td>0</td>\n",
       "    </tr>\n",
       "    <tr>\n",
       "      <th>...</th>\n",
       "      <td>...</td>\n",
       "      <td>...</td>\n",
       "      <td>...</td>\n",
       "      <td>...</td>\n",
       "      <td>...</td>\n",
       "      <td>...</td>\n",
       "      <td>...</td>\n",
       "      <td>...</td>\n",
       "      <td>...</td>\n",
       "      <td>...</td>\n",
       "      <td>...</td>\n",
       "      <td>...</td>\n",
       "      <td>...</td>\n",
       "      <td>...</td>\n",
       "      <td>...</td>\n",
       "      <td>...</td>\n",
       "    </tr>\n",
       "    <tr>\n",
       "      <th>17</th>\n",
       "      <td>55.0</td>\n",
       "      <td>67.00</td>\n",
       "      <td>64.0</td>\n",
       "      <td>60.00</td>\n",
       "      <td>67.28</td>\n",
       "      <td>0.0</td>\n",
       "      <td>0</td>\n",
       "      <td>0</td>\n",
       "      <td>0</td>\n",
       "      <td>0</td>\n",
       "      <td>1</td>\n",
       "      <td>0</td>\n",
       "      <td>0</td>\n",
       "      <td>0</td>\n",
       "      <td>0</td>\n",
       "      <td>0</td>\n",
       "    </tr>\n",
       "    <tr>\n",
       "      <th>98</th>\n",
       "      <td>69.0</td>\n",
       "      <td>73.00</td>\n",
       "      <td>65.0</td>\n",
       "      <td>70.00</td>\n",
       "      <td>57.31</td>\n",
       "      <td>220000.0</td>\n",
       "      <td>0</td>\n",
       "      <td>0</td>\n",
       "      <td>0</td>\n",
       "      <td>0</td>\n",
       "      <td>1</td>\n",
       "      <td>0</td>\n",
       "      <td>0</td>\n",
       "      <td>0</td>\n",
       "      <td>1</td>\n",
       "      <td>0</td>\n",
       "    </tr>\n",
       "    <tr>\n",
       "      <th>66</th>\n",
       "      <td>83.0</td>\n",
       "      <td>74.00</td>\n",
       "      <td>66.0</td>\n",
       "      <td>68.92</td>\n",
       "      <td>58.46</td>\n",
       "      <td>275000.0</td>\n",
       "      <td>0</td>\n",
       "      <td>0</td>\n",
       "      <td>1</td>\n",
       "      <td>1</td>\n",
       "      <td>0</td>\n",
       "      <td>1</td>\n",
       "      <td>1</td>\n",
       "      <td>1</td>\n",
       "      <td>1</td>\n",
       "      <td>0</td>\n",
       "    </tr>\n",
       "    <tr>\n",
       "      <th>126</th>\n",
       "      <td>79.0</td>\n",
       "      <td>61.00</td>\n",
       "      <td>75.5</td>\n",
       "      <td>70.00</td>\n",
       "      <td>68.20</td>\n",
       "      <td>210000.0</td>\n",
       "      <td>0</td>\n",
       "      <td>1</td>\n",
       "      <td>0</td>\n",
       "      <td>1</td>\n",
       "      <td>0</td>\n",
       "      <td>1</td>\n",
       "      <td>0</td>\n",
       "      <td>1</td>\n",
       "      <td>1</td>\n",
       "      <td>1</td>\n",
       "    </tr>\n",
       "    <tr>\n",
       "      <th>109</th>\n",
       "      <td>52.0</td>\n",
       "      <td>63.00</td>\n",
       "      <td>65.0</td>\n",
       "      <td>86.00</td>\n",
       "      <td>56.09</td>\n",
       "      <td>0.0</td>\n",
       "      <td>0</td>\n",
       "      <td>1</td>\n",
       "      <td>1</td>\n",
       "      <td>1</td>\n",
       "      <td>0</td>\n",
       "      <td>1</td>\n",
       "      <td>1</td>\n",
       "      <td>0</td>\n",
       "      <td>0</td>\n",
       "      <td>1</td>\n",
       "    </tr>\n",
       "  </tbody>\n",
       "</table>\n",
       "<p>150 rows × 16 columns</p>\n",
       "</div>"
      ],
      "text/plain": [
       "     ssc_p  hsc_p  degree_p  etest_p  mba_p    salary  degree_t_Others  \\\n",
       "41    74.0  63.16      65.0    65.00  69.76       0.0                0   \n",
       "95    73.0  78.00      65.0    95.46  62.16  420000.0                0   \n",
       "170   63.4  67.20      60.0    58.06  69.28       0.0                0   \n",
       "82    63.0  67.00      74.0    82.00  60.44       0.0                0   \n",
       "185   87.0  72.00      78.0    82.00  71.43  252000.0                1   \n",
       "..     ...    ...       ...      ...    ...       ...              ...   \n",
       "17    55.0  67.00      64.0    60.00  67.28       0.0                0   \n",
       "98    69.0  73.00      65.0    70.00  57.31  220000.0                0   \n",
       "66    83.0  74.00      66.0    68.92  58.46  275000.0                0   \n",
       "126   79.0  61.00      75.5    70.00  68.20  210000.0                0   \n",
       "109   52.0  63.00      65.0    86.00  56.09       0.0                0   \n",
       "\n",
       "     degree_t_Sci_Tech  gender_M  hsc_b_Others  hsc_s_Commerce  hsc_s_Science  \\\n",
       "41                   0         0             1               1              0   \n",
       "95                   0         1             1               1              0   \n",
       "170                  0         0             1               1              0   \n",
       "82                   0         1             0               1              0   \n",
       "185                  0         0             0               0              1   \n",
       "..                 ...       ...           ...             ...            ...   \n",
       "17                   0         0             0               1              0   \n",
       "98                   0         0             0               1              0   \n",
       "66                   0         1             1               0              1   \n",
       "126                  1         0             1               0              1   \n",
       "109                  1         1             1               0              1   \n",
       "\n",
       "     specialisation_Mkt_HR  ssc_b_Others  status_Placed  workex_Yes  \n",
       "41                       1             1              0           1  \n",
       "95                       0             0              1           1  \n",
       "170                      1             1              0           0  \n",
       "82                       0             0              0           0  \n",
       "185                      1             0              1           0  \n",
       "..                     ...           ...            ...         ...  \n",
       "17                       0             0              0           0  \n",
       "98                       0             0              1           0  \n",
       "66                       1             1              1           0  \n",
       "126                      0             1              1           1  \n",
       "109                      1             0              0           1  \n",
       "\n",
       "[150 rows x 16 columns]"
      ]
     },
     "execution_count": 40,
     "metadata": {},
     "output_type": "execute_result"
    }
   ],
   "source": [
    "train"
   ]
  },
  {
   "cell_type": "code",
   "execution_count": 41,
   "metadata": {},
   "outputs": [
    {
     "name": "stdout",
     "output_type": "stream",
     "text": [
      "Optimization terminated successfully.\n",
      "         Current function value: 0.251434\n",
      "         Iterations 8\n"
     ]
    }
   ],
   "source": [
    "m1 = smf.logit(formula = model_param, data = train).fit()"
   ]
  },
  {
   "cell_type": "code",
   "execution_count": 42,
   "metadata": {},
   "outputs": [
    {
     "name": "stdout",
     "output_type": "stream",
     "text": [
      "                           Logit Regression Results                           \n",
      "==============================================================================\n",
      "Dep. Variable:          status_Placed   No. Observations:                  150\n",
      "Model:                          Logit   Df Residuals:                      136\n",
      "Method:                           MLE   Df Model:                           13\n",
      "Date:                Fri, 19 Jun 2020   Pseudo R-squ.:                  0.5845\n",
      "Time:                        13:22:34   Log-Likelihood:                -37.715\n",
      "converged:                       True   LL-Null:                       -90.766\n",
      "Covariance Type:            nonrobust   LLR p-value:                 1.079e-16\n",
      "=========================================================================================\n",
      "                            coef    std err          z      P>|z|      [0.025      0.975]\n",
      "-----------------------------------------------------------------------------------------\n",
      "Intercept               -18.8026      6.590     -2.853      0.004     -31.719      -5.886\n",
      "degree_p                  0.1550      0.061      2.553      0.011       0.036       0.274\n",
      "degree_t_Others          -1.6705      1.713     -0.975      0.329      -5.028       1.687\n",
      "degree_t_Sci_Tech        -1.2784      0.914     -1.399      0.162      -3.070       0.513\n",
      "etest_p                  -0.0150      0.027     -0.554      0.579      -0.068       0.038\n",
      "gender_M                  0.8837      0.820      1.078      0.281      -0.723       2.490\n",
      "hsc_b_Others              0.5420      0.858      0.632      0.527      -1.139       2.223\n",
      "hsc_p                     0.1239      0.046      2.704      0.007       0.034       0.214\n",
      "hsc_s_Commerce           -1.0489      0.829     -1.265      0.206      -2.674       0.576\n",
      "mba_p                    -0.1646      0.072     -2.289      0.022      -0.306      -0.024\n",
      "specialisation_Mkt_HR    -1.0143      0.647     -1.568      0.117      -2.283       0.254\n",
      "ssc_b_Others              0.4808      0.813      0.592      0.554      -1.112       2.074\n",
      "ssc_p                     0.2011      0.050      4.034      0.000       0.103       0.299\n",
      "workex_Yes                1.1883      0.787      1.510      0.131      -0.354       2.731\n",
      "=========================================================================================\n"
     ]
    }
   ],
   "source": [
    "print(m1.summary())"
   ]
  },
  {
   "cell_type": "code",
   "execution_count": 43,
   "metadata": {},
   "outputs": [],
   "source": [
    "p = m1.predict(train)"
   ]
  },
  {
   "cell_type": "code",
   "execution_count": 44,
   "metadata": {},
   "outputs": [
    {
     "name": "stdout",
     "output_type": "stream",
     "text": [
      "Optimization terminated successfully.\n",
      "         Current function value: 0.473858\n",
      "         Iterations 6\n",
      "Optimization terminated successfully.\n",
      "         Current function value: 0.599801\n",
      "         Iterations 5\n",
      "Optimization terminated successfully.\n",
      "         Current function value: 0.603428\n",
      "         Iterations 5\n",
      "Optimization terminated successfully.\n",
      "         Current function value: 0.600897\n",
      "         Iterations 5\n",
      "Optimization terminated successfully.\n",
      "         Current function value: 0.601587\n",
      "         Iterations 5\n",
      "Optimization terminated successfully.\n",
      "         Current function value: 0.605109\n",
      "         Iterations 5\n",
      "Optimization terminated successfully.\n",
      "         Current function value: 0.451751\n",
      "         Iterations 7\n",
      "Optimization terminated successfully.\n",
      "         Current function value: 0.604987\n",
      "         Iterations 5\n",
      "Optimization terminated successfully.\n",
      "         Current function value: 0.602378\n",
      "         Iterations 5\n",
      "Optimization terminated successfully.\n",
      "         Current function value: 0.598886\n",
      "         Iterations 5\n",
      "Optimization terminated successfully.\n",
      "         Current function value: 0.570267\n",
      "         Iterations 5\n",
      "Optimization terminated successfully.\n",
      "         Current function value: 0.604847\n",
      "         Iterations 5\n",
      "Optimization terminated successfully.\n",
      "         Current function value: 0.388859\n",
      "         Iterations 7\n",
      "Optimization terminated successfully.\n",
      "         Current function value: 0.574292\n",
      "         Iterations 6\n"
     ]
    }
   ],
   "source": [
    "# empty dataframe\n",
    "somersd_df = pd.DataFrame()\n",
    "\n",
    "# iterate for each of the X - dependant variables and get the Somer's D value\n",
    "for num_variable in train.columns.difference(['status_Placed','salary']):\n",
    "    \n",
    "    # execute teh logit model\n",
    "    logreg = smf.logit(formula = str('status_Placed ~ ') + str(num_variable), data = train).fit()\n",
    "    \n",
    "    # get the predicted probabilities and create a dataframe with the predicted values\n",
    "    y_score = pd.DataFrame(logreg.predict())\n",
    "    \n",
    "    # name the column of the df as score\n",
    "    y_score.columns = ['Score']\n",
    "    \n",
    "    # calculate the Somer's D values\n",
    "    somers_d = 2 * metrics.roc_auc_score(train['status_Placed'], y_score) - 1\n",
    "    \n",
    "    # place the variable name and the Somers' D score in a temp dataframe\n",
    "    temp = pd.DataFrame([num_variable, somers_d]).T\n",
    "    temp.columns = ['Variable Name', 'SomersD']\n",
    "    \n",
    "    # append the data in the dataframe for all the X variables\n",
    "    somersd_df = pd.concat([somersd_df, temp], axis=0)"
   ]
  },
  {
   "cell_type": "code",
   "execution_count": 45,
   "metadata": {},
   "outputs": [],
   "source": [
    "somersd_df['Var_Sig']=np.where(somersd_df.SomersD < 0.2 , 'Insig','Sig')"
   ]
  },
  {
   "cell_type": "markdown",
   "execution_count": null,
   "metadata": {},
   "source": [
    "### 2)Does percentage matters for one to get placed?"
   ]
  },
  {
   "cell_type": "code",
   "execution_count": 46,
   "metadata": {},
   "outputs": [],
   "source": [
    "### Yes, the percentage matter in getting placed. Please check the below significant variables after Sommer's D"
   ]
  },
  {
   "cell_type": "code",
   "execution_count": 47,
   "metadata": {},
   "outputs": [
    {
     "data": {
      "text/html": [
       "<div>\n",
       "<style scoped>\n",
       "    .dataframe tbody tr th:only-of-type {\n",
       "        vertical-align: middle;\n",
       "    }\n",
       "\n",
       "    .dataframe tbody tr th {\n",
       "        vertical-align: top;\n",
       "    }\n",
       "\n",
       "    .dataframe thead th {\n",
       "        text-align: right;\n",
       "    }\n",
       "</style>\n",
       "<table border=\"1\" class=\"dataframe\">\n",
       "  <thead>\n",
       "    <tr style=\"text-align: right;\">\n",
       "      <th></th>\n",
       "      <th>Variable Name</th>\n",
       "      <th>SomersD</th>\n",
       "      <th>Var_Sig</th>\n",
       "    </tr>\n",
       "  </thead>\n",
       "  <tbody>\n",
       "    <tr>\n",
       "      <th>0</th>\n",
       "      <td>degree_p</td>\n",
       "      <td>0.615352</td>\n",
       "      <td>Sig</td>\n",
       "    </tr>\n",
       "    <tr>\n",
       "      <th>0</th>\n",
       "      <td>degree_t_Others</td>\n",
       "      <td>0.0531732</td>\n",
       "      <td>Insig</td>\n",
       "    </tr>\n",
       "    <tr>\n",
       "      <th>0</th>\n",
       "      <td>degree_t_Sci_Tech</td>\n",
       "      <td>0.0557461</td>\n",
       "      <td>Insig</td>\n",
       "    </tr>\n",
       "    <tr>\n",
       "      <th>0</th>\n",
       "      <td>etest_p</td>\n",
       "      <td>0.100129</td>\n",
       "      <td>Insig</td>\n",
       "    </tr>\n",
       "    <tr>\n",
       "      <th>0</th>\n",
       "      <td>gender_M</td>\n",
       "      <td>0.0883362</td>\n",
       "      <td>Insig</td>\n",
       "    </tr>\n",
       "    <tr>\n",
       "      <th>0</th>\n",
       "      <td>hsc_b_Others</td>\n",
       "      <td>0.000428816</td>\n",
       "      <td>Insig</td>\n",
       "    </tr>\n",
       "    <tr>\n",
       "      <th>0</th>\n",
       "      <td>hsc_p</td>\n",
       "      <td>0.592624</td>\n",
       "      <td>Sig</td>\n",
       "    </tr>\n",
       "    <tr>\n",
       "      <th>0</th>\n",
       "      <td>hsc_s_Commerce</td>\n",
       "      <td>0.0171527</td>\n",
       "      <td>Insig</td>\n",
       "    </tr>\n",
       "    <tr>\n",
       "      <th>0</th>\n",
       "      <td>hsc_s_Science</td>\n",
       "      <td>0.0797599</td>\n",
       "      <td>Insig</td>\n",
       "    </tr>\n",
       "    <tr>\n",
       "      <th>0</th>\n",
       "      <td>mba_p</td>\n",
       "      <td>0.117925</td>\n",
       "      <td>Insig</td>\n",
       "    </tr>\n",
       "    <tr>\n",
       "      <th>0</th>\n",
       "      <td>specialisation_Mkt_HR</td>\n",
       "      <td>0.287307</td>\n",
       "      <td>Sig</td>\n",
       "    </tr>\n",
       "    <tr>\n",
       "      <th>0</th>\n",
       "      <td>ssc_b_Others</td>\n",
       "      <td>0.0248714</td>\n",
       "      <td>Insig</td>\n",
       "    </tr>\n",
       "    <tr>\n",
       "      <th>0</th>\n",
       "      <td>ssc_p</td>\n",
       "      <td>0.75729</td>\n",
       "      <td>Sig</td>\n",
       "    </tr>\n",
       "    <tr>\n",
       "      <th>0</th>\n",
       "      <td>workex_Yes</td>\n",
       "      <td>0.246569</td>\n",
       "      <td>Sig</td>\n",
       "    </tr>\n",
       "  </tbody>\n",
       "</table>\n",
       "</div>"
      ],
      "text/plain": [
       "           Variable Name      SomersD Var_Sig\n",
       "0               degree_p     0.615352     Sig\n",
       "0        degree_t_Others    0.0531732   Insig\n",
       "0      degree_t_Sci_Tech    0.0557461   Insig\n",
       "0                etest_p     0.100129   Insig\n",
       "0               gender_M    0.0883362   Insig\n",
       "0           hsc_b_Others  0.000428816   Insig\n",
       "0                  hsc_p     0.592624     Sig\n",
       "0         hsc_s_Commerce    0.0171527   Insig\n",
       "0          hsc_s_Science    0.0797599   Insig\n",
       "0                  mba_p     0.117925   Insig\n",
       "0  specialisation_Mkt_HR     0.287307     Sig\n",
       "0           ssc_b_Others    0.0248714   Insig\n",
       "0                  ssc_p      0.75729     Sig\n",
       "0             workex_Yes     0.246569     Sig"
      ]
     },
     "execution_count": 47,
     "metadata": {},
     "output_type": "execute_result"
    }
   ],
   "source": [
    "somersd_df"
   ]
  },
  {
   "cell_type": "code",
   "execution_count": 48,
   "metadata": {},
   "outputs": [],
   "source": [
    "model_param='''status_Placed ~ degree_p +hsc_p+ specialisation_Mkt_HR + ssc_p + workex_Yes'''"
   ]
  },
  {
   "cell_type": "code",
   "execution_count": 49,
   "metadata": {},
   "outputs": [
    {
     "name": "stdout",
     "output_type": "stream",
     "text": [
      "Optimization terminated successfully.\n",
      "         Current function value: 0.305476\n",
      "         Iterations 8\n"
     ]
    }
   ],
   "source": [
    "m1 = smf.logit(formula = model_param, data = train).fit()"
   ]
  },
  {
   "cell_type": "code",
   "execution_count": 50,
   "metadata": {},
   "outputs": [
    {
     "name": "stdout",
     "output_type": "stream",
     "text": [
      "                           Logit Regression Results                           \n",
      "==============================================================================\n",
      "Dep. Variable:          status_Placed   No. Observations:                  150\n",
      "Model:                          Logit   Df Residuals:                      144\n",
      "Method:                           MLE   Df Model:                            5\n",
      "Date:                Fri, 19 Jun 2020   Pseudo R-squ.:                  0.4952\n",
      "Time:                        13:22:35   Log-Likelihood:                -45.821\n",
      "converged:                       True   LL-Null:                       -90.766\n",
      "Covariance Type:            nonrobust   LLR p-value:                 7.086e-18\n",
      "=========================================================================================\n",
      "                            coef    std err          z      P>|z|      [0.025      0.975]\n",
      "-----------------------------------------------------------------------------------------\n",
      "Intercept               -20.9022      4.118     -5.076      0.000     -28.972     -12.832\n",
      "degree_p                  0.1039      0.047      2.209      0.027       0.012       0.196\n",
      "hsc_p                     0.0905      0.036      2.513      0.012       0.020       0.161\n",
      "specialisation_Mkt_HR    -1.0065      0.547     -1.841      0.066      -2.078       0.065\n",
      "ssc_p                     0.1492      0.039      3.799      0.000       0.072       0.226\n",
      "workex_Yes                0.9887      0.660      1.499      0.134      -0.304       2.281\n",
      "=========================================================================================\n"
     ]
    }
   ],
   "source": [
    "print(m1.summary())"
   ]
  },
  {
   "cell_type": "code",
   "execution_count": 51,
   "metadata": {},
   "outputs": [],
   "source": [
    "train_predict = m1.predict(train)"
   ]
  },
  {
   "cell_type": "code",
   "execution_count": 52,
   "metadata": {},
   "outputs": [],
   "source": [
    "test_predict = m1.predict(test)"
   ]
  },
  {
   "cell_type": "code",
   "execution_count": 53,
   "metadata": {},
   "outputs": [
    {
     "data": {
      "text/plain": [
       "0.6883720930232559"
      ]
     },
     "execution_count": 53,
     "metadata": {},
     "output_type": "execute_result"
    }
   ],
   "source": [
    "df_campus_new.status_Placed.mean()"
   ]
  },
  {
   "cell_type": "code",
   "execution_count": 54,
   "metadata": {},
   "outputs": [
    {
     "data": {
      "text/plain": [
       "0.86"
      ]
     },
     "execution_count": 54,
     "metadata": {},
     "output_type": "execute_result"
    }
   ],
   "source": [
    "metrics.accuracy_score( train['status_Placed'],\n",
    "                            train_predict>0.688)"
   ]
  },
  {
   "cell_type": "code",
   "execution_count": 55,
   "metadata": {},
   "outputs": [
    {
     "name": "stdout",
     "output_type": "stream",
     "text": [
      "The AUC for the model built on the Train Data is :  0.9258147512864494\n",
      "The AUC for the model built on the Test Data is :  0.9151138716356109\n"
     ]
    }
   ],
   "source": [
    "# model performance | Method 1: AUC\n",
    "train_auc = metrics.roc_auc_score(train['status_Placed'], train_predict)\n",
    "test_auc = metrics.roc_auc_score(test['status_Placed'], test_predict)\n",
    "\n",
    "print(\"The AUC for the model built on the Train Data is : \", train_auc)\n",
    "print(\"The AUC for the model built on the Test Data is : \", test_auc)"
   ]
  },
  {
   "cell_type": "code",
   "execution_count": 56,
   "metadata": {},
   "outputs": [],
   "source": [
    "feature_col=list(['degree_p','degree_t_Others','degree_t_Sci_Tech','etest_p','gender_M','hsc_b_Others','hsc_p','hsc_s_Commerce','mba_p','salary','specialisation_Mkt_HR','ssc_b_Others','ssc_p','workex_Yes'])"
   ]
  },
  {
   "cell_type": "code",
   "execution_count": 57,
   "metadata": {},
   "outputs": [],
   "source": [
    "## Using Random Forest"
   ]
  },
  {
   "cell_type": "code",
   "execution_count": 58,
   "metadata": {},
   "outputs": [],
   "source": [
    "from sklearn.model_selection import train_test_split\n",
    "\n",
    "\n",
    "train_X, test_X, train_y, test_y = train_test_split( df_campus_new[feature_col],\n",
    "                                                  df_campus_new['status_Placed'],\n",
    "                                                  test_size = 0.3,\n",
    "                                                  random_state = 555 )"
   ]
  },
  {
   "cell_type": "code",
   "execution_count": 59,
   "metadata": {},
   "outputs": [
    {
     "name": "stderr",
     "output_type": "stream",
     "text": [
      "Using TensorFlow backend.\n"
     ]
    },
    {
     "name": "stdout",
     "output_type": "stream",
     "text": [
      "Frequency of unique values of the said array:\n",
      "[[  0   1]\n",
      " [102 102]]\n"
     ]
    }
   ],
   "source": [
    "#!pip install imblearn\n",
    "from imblearn.over_sampling import RandomOverSampler\n",
    "ros = RandomOverSampler(random_state=123)\n",
    "\n",
    "train_X_os, train_y_os = ros.fit_sample(train_X, train_y)\n",
    "\n",
    "unique_elements, counts_elements = np.unique(train_y_os, return_counts=True)\n",
    "print(\"Frequency of unique values of the said array:\")\n",
    "print(np.asarray((unique_elements, counts_elements)))"
   ]
  },
  {
   "cell_type": "code",
   "execution_count": 60,
   "metadata": {},
   "outputs": [
    {
     "name": "stderr",
     "output_type": "stream",
     "text": [
      "/opt/conda/lib/python3.7/site-packages/sklearn/utils/deprecation.py:143: FutureWarning: The sklearn.tree.export module is  deprecated in version 0.22 and will be removed in version 0.24. The corresponding classes / functions should instead be imported from sklearn.tree. Anything that cannot be imported from sklearn.tree is now part of the private API.\n",
      "  warnings.warn(message, FutureWarning)\n"
     ]
    }
   ],
   "source": [
    "from sklearn.ensemble import RandomForestClassifier\n",
    "import sklearn.tree as dt\n",
    "from sklearn import metrics\n",
    "from sklearn.tree import DecisionTreeClassifier, export_graphviz, export\n",
    "from sklearn.model_selection import GridSearchCV"
   ]
  },
  {
   "cell_type": "code",
   "execution_count": 61,
   "metadata": {},
   "outputs": [
    {
     "name": "stdout",
     "output_type": "stream",
     "text": [
      "Fitting 5 folds for each of 3 candidates, totalling 15 fits\n"
     ]
    },
    {
     "name": "stderr",
     "output_type": "stream",
     "text": [
      "[Parallel(n_jobs=-1)]: Using backend LokyBackend with 4 concurrent workers.\n",
      "[Parallel(n_jobs=-1)]: Done  15 out of  15 | elapsed:    1.8s finished\n"
     ]
    }
   ],
   "source": [
    "pargrid_rf = {'n_estimators': np.arange(50,60,70),\n",
    "                  'max_features': np.arange(5,8)}\n",
    "\n",
    "#from sklearn.grid_search import GridSearchCV\n",
    "gscv_rf = GridSearchCV(estimator=RandomForestClassifier(), \n",
    "                        param_grid=pargrid_rf, \n",
    "                        cv=5,\n",
    "                        verbose=True, n_jobs=-1)\n",
    "\n",
    "gscv_results = gscv_rf.fit(train_X_os, train_y_os)"
   ]
  },
  {
   "cell_type": "code",
   "execution_count": 62,
   "metadata": {},
   "outputs": [
    {
     "data": {
      "text/plain": [
       "{'max_features': 5, 'n_estimators': 50}"
      ]
     },
     "execution_count": 62,
     "metadata": {},
     "output_type": "execute_result"
    }
   ],
   "source": [
    "gscv_results.best_params_"
   ]
  },
  {
   "cell_type": "code",
   "execution_count": 63,
   "metadata": {},
   "outputs": [
    {
     "data": {
      "text/plain": [
       "1.0"
      ]
     },
     "execution_count": 63,
     "metadata": {},
     "output_type": "execute_result"
    }
   ],
   "source": [
    "gscv_rf.best_score_"
   ]
  },
  {
   "cell_type": "code",
   "execution_count": 64,
   "metadata": {},
   "outputs": [
    {
     "data": {
      "text/plain": [
       "RandomForestClassifier(max_features=5, n_estimators=50, n_jobs=-1,\n",
       "                       oob_score=True)"
      ]
     },
     "execution_count": 64,
     "metadata": {},
     "output_type": "execute_result"
    }
   ],
   "source": [
    "radm_clf = RandomForestClassifier(oob_score=True,n_estimators=50, max_features=5, n_jobs=-1)\n",
    "radm_clf.fit( train_X, train_y )"
   ]
  },
  {
   "cell_type": "code",
   "execution_count": 65,
   "metadata": {},
   "outputs": [],
   "source": [
    "radm_train_pred = pd.DataFrame( { 'actual':  train_y,\n",
    "                            'predicted': radm_clf.predict( train_X ) } )"
   ]
  },
  {
   "cell_type": "code",
   "execution_count": 66,
   "metadata": {},
   "outputs": [],
   "source": [
    "radm_test_pred = pd.DataFrame( { 'actual':  test_y,\n",
    "                            'predicted': radm_clf.predict( test_X ) } )"
   ]
  },
  {
   "cell_type": "code",
   "execution_count": 67,
   "metadata": {},
   "outputs": [
    {
     "name": "stdout",
     "output_type": "stream",
     "text": [
      "1.0\n"
     ]
    }
   ],
   "source": [
    "print(metrics.accuracy_score( radm_test_pred.actual, radm_test_pred.predicted ))"
   ]
  },
  {
   "cell_type": "code",
   "execution_count": 68,
   "metadata": {},
   "outputs": [],
   "source": [
    "feat_imp=list(zip(train_X.columns,radm_clf.feature_importances_))"
   ]
  },
  {
   "cell_type": "code",
   "execution_count": 69,
   "metadata": {},
   "outputs": [
    {
     "data": {
      "text/plain": [
       "[('degree_p', 0.10891725807241161),\n",
       " ('degree_t_Others', 0.002024093971328052),\n",
       " ('degree_t_Sci_Tech', 0.0),\n",
       " ('etest_p', 0.01155093901836966),\n",
       " ('gender_M', 0.003970561144737037),\n",
       " ('hsc_b_Others', 6.430041152263402e-05),\n",
       " ('hsc_p', 0.07619707403088062),\n",
       " ('hsc_s_Commerce', 0.0010086754017881437),\n",
       " ('mba_p', 0.0264912304501587),\n",
       " ('salary', 0.6342305680823371),\n",
       " ('specialisation_Mkt_HR', 0.011085829190060521),\n",
       " ('ssc_b_Others', 0.002025061066016197),\n",
       " ('ssc_p', 0.11532871830172388),\n",
       " ('workex_Yes', 0.007105690858665871)]"
      ]
     },
     "execution_count": 69,
     "metadata": {},
     "output_type": "execute_result"
    }
   ],
   "source": [
    "feat_imp"
   ]
  },
  {
   "cell_type": "code",
   "execution_count": 70,
   "metadata": {},
   "outputs": [],
   "source": [
    "df_feat_imp=pd.DataFrame(feat_imp)"
   ]
  },
  {
   "cell_type": "code",
   "execution_count": 71,
   "metadata": {},
   "outputs": [],
   "source": [
    "df_feat_imp.columns=['Features','Importance']"
   ]
  },
  {
   "cell_type": "markdown",
   "execution_count": null,
   "metadata": {},
   "source": [
    "### 1)Which factor influenced a candidate in getting placed?"
   ]
  },
  {
   "cell_type": "code",
   "execution_count": 72,
   "metadata": {},
   "outputs": [],
   "source": [
    "### Top 5 features are selected using Logistic Regression \n",
    "#degree_p \n",
    "#hsc_p \n",
    "#specialisation_Mkt_HR\n",
    "#ssc_p\n",
    "#workex_Yes\n",
    "### Top 5 features are selected using Random Forest\n",
    "#degree_p \n",
    "#hsc_p \n",
    "#salary\n",
    "#ssc_p\n",
    "#mba_p"
   ]
  },
  {
   "cell_type": "code",
   "execution_count": 73,
   "metadata": {},
   "outputs": [
    {
     "data": {
      "text/html": [
       "<div>\n",
       "<style scoped>\n",
       "    .dataframe tbody tr th:only-of-type {\n",
       "        vertical-align: middle;\n",
       "    }\n",
       "\n",
       "    .dataframe tbody tr th {\n",
       "        vertical-align: top;\n",
       "    }\n",
       "\n",
       "    .dataframe thead th {\n",
       "        text-align: right;\n",
       "    }\n",
       "</style>\n",
       "<table border=\"1\" class=\"dataframe\">\n",
       "  <thead>\n",
       "    <tr style=\"text-align: right;\">\n",
       "      <th></th>\n",
       "      <th>Features</th>\n",
       "      <th>Importance</th>\n",
       "    </tr>\n",
       "  </thead>\n",
       "  <tbody>\n",
       "    <tr>\n",
       "      <th>9</th>\n",
       "      <td>salary</td>\n",
       "      <td>0.634231</td>\n",
       "    </tr>\n",
       "    <tr>\n",
       "      <th>12</th>\n",
       "      <td>ssc_p</td>\n",
       "      <td>0.115329</td>\n",
       "    </tr>\n",
       "    <tr>\n",
       "      <th>0</th>\n",
       "      <td>degree_p</td>\n",
       "      <td>0.108917</td>\n",
       "    </tr>\n",
       "    <tr>\n",
       "      <th>6</th>\n",
       "      <td>hsc_p</td>\n",
       "      <td>0.076197</td>\n",
       "    </tr>\n",
       "    <tr>\n",
       "      <th>8</th>\n",
       "      <td>mba_p</td>\n",
       "      <td>0.026491</td>\n",
       "    </tr>\n",
       "  </tbody>\n",
       "</table>\n",
       "</div>"
      ],
      "text/plain": [
       "    Features  Importance\n",
       "9     salary    0.634231\n",
       "12     ssc_p    0.115329\n",
       "0   degree_p    0.108917\n",
       "6      hsc_p    0.076197\n",
       "8      mba_p    0.026491"
      ]
     },
     "execution_count": 73,
     "metadata": {},
     "output_type": "execute_result"
    }
   ],
   "source": [
    "#Top 5 features\n",
    "df_feat_imp.sort_values(by='Importance',ascending = False).head(5)"
   ]
  },
  {
   "cell_type": "markdown",
   "execution_count": null,
   "metadata": {},
   "source": [
    "### 3)Which degree specialization is much demanded by corporate?"
   ]
  },
  {
   "cell_type": "code",
   "execution_count": 74,
   "metadata": {},
   "outputs": [],
   "source": [
    "### Specialisation in Marketing and Finance is in more demand in the Corporate"
   ]
  },
  {
   "cell_type": "code",
   "execution_count": 75,
   "metadata": {},
   "outputs": [
    {
     "data": {
      "text/html": [
       "<div>\n",
       "<style scoped>\n",
       "    .dataframe tbody tr th:only-of-type {\n",
       "        vertical-align: middle;\n",
       "    }\n",
       "\n",
       "    .dataframe tbody tr th {\n",
       "        vertical-align: top;\n",
       "    }\n",
       "\n",
       "    .dataframe thead th {\n",
       "        text-align: right;\n",
       "    }\n",
       "</style>\n",
       "<table border=\"1\" class=\"dataframe\">\n",
       "  <thead>\n",
       "    <tr style=\"text-align: right;\">\n",
       "      <th></th>\n",
       "      <th>specialisation</th>\n",
       "      <th>status</th>\n",
       "    </tr>\n",
       "  </thead>\n",
       "  <tbody>\n",
       "    <tr>\n",
       "      <th>0</th>\n",
       "      <td>Mkt&amp;HR</td>\n",
       "      <td>Placed</td>\n",
       "    </tr>\n",
       "    <tr>\n",
       "      <th>1</th>\n",
       "      <td>Mkt&amp;Fin</td>\n",
       "      <td>Placed</td>\n",
       "    </tr>\n",
       "    <tr>\n",
       "      <th>2</th>\n",
       "      <td>Mkt&amp;Fin</td>\n",
       "      <td>Placed</td>\n",
       "    </tr>\n",
       "    <tr>\n",
       "      <th>3</th>\n",
       "      <td>Mkt&amp;HR</td>\n",
       "      <td>Not Placed</td>\n",
       "    </tr>\n",
       "    <tr>\n",
       "      <th>4</th>\n",
       "      <td>Mkt&amp;Fin</td>\n",
       "      <td>Placed</td>\n",
       "    </tr>\n",
       "    <tr>\n",
       "      <th>...</th>\n",
       "      <td>...</td>\n",
       "      <td>...</td>\n",
       "    </tr>\n",
       "    <tr>\n",
       "      <th>210</th>\n",
       "      <td>Mkt&amp;Fin</td>\n",
       "      <td>Placed</td>\n",
       "    </tr>\n",
       "    <tr>\n",
       "      <th>211</th>\n",
       "      <td>Mkt&amp;Fin</td>\n",
       "      <td>Placed</td>\n",
       "    </tr>\n",
       "    <tr>\n",
       "      <th>212</th>\n",
       "      <td>Mkt&amp;Fin</td>\n",
       "      <td>Placed</td>\n",
       "    </tr>\n",
       "    <tr>\n",
       "      <th>213</th>\n",
       "      <td>Mkt&amp;HR</td>\n",
       "      <td>Placed</td>\n",
       "    </tr>\n",
       "    <tr>\n",
       "      <th>214</th>\n",
       "      <td>Mkt&amp;HR</td>\n",
       "      <td>Not Placed</td>\n",
       "    </tr>\n",
       "  </tbody>\n",
       "</table>\n",
       "<p>215 rows × 2 columns</p>\n",
       "</div>"
      ],
      "text/plain": [
       "    specialisation      status\n",
       "0           Mkt&HR      Placed\n",
       "1          Mkt&Fin      Placed\n",
       "2          Mkt&Fin      Placed\n",
       "3           Mkt&HR  Not Placed\n",
       "4          Mkt&Fin      Placed\n",
       "..             ...         ...\n",
       "210        Mkt&Fin      Placed\n",
       "211        Mkt&Fin      Placed\n",
       "212        Mkt&Fin      Placed\n",
       "213         Mkt&HR      Placed\n",
       "214         Mkt&HR  Not Placed\n",
       "\n",
       "[215 rows x 2 columns]"
      ]
     },
     "execution_count": 75,
     "metadata": {},
     "output_type": "execute_result"
    }
   ],
   "source": [
    "df_campus[['specialisation','status']]"
   ]
  },
  {
   "cell_type": "code",
   "execution_count": 76,
   "metadata": {},
   "outputs": [
    {
     "data": {
      "text/plain": [
       "Mkt&Fin    120\n",
       "Mkt&HR      95\n",
       "Name: specialisation, dtype: int64"
      ]
     },
     "execution_count": 76,
     "metadata": {},
     "output_type": "execute_result"
    }
   ],
   "source": [
    "df_campus.specialisation.value_counts()"
   ]
  },
  {
   "cell_type": "code",
   "execution_count": 77,
   "metadata": {},
   "outputs": [
    {
     "data": {
      "text/plain": [
       "95"
      ]
     },
     "execution_count": 77,
     "metadata": {},
     "output_type": "execute_result"
    }
   ],
   "source": [
    "df_campus.loc[(df_campus.specialisation == 'Mkt&Fin') & (df_campus.status=='Placed')].status.count()"
   ]
  },
  {
   "cell_type": "code",
   "execution_count": 78,
   "metadata": {},
   "outputs": [
    {
     "data": {
      "text/plain": [
       "53"
      ]
     },
     "execution_count": 78,
     "metadata": {},
     "output_type": "execute_result"
    }
   ],
   "source": [
    "df_campus.loc[(df_campus.specialisation == 'Mkt&HR') & (df_campus.status=='Placed')].status.count()"
   ]
  },
  {
   "cell_type": "code",
   "execution_count": null,
   "metadata": {},
   "outputs": [],
   "source": []
  }
 ],
 "metadata": {
  "kernelspec": {
   "display_name": "Python 3",
   "language": "python",
   "name": "python3"
  },
  "language_info": {
   "codemirror_mode": {
    "name": "ipython",
    "version": 3
   },
   "file_extension": ".py",
   "mimetype": "text/x-python",
   "name": "python",
   "nbconvert_exporter": "python",
   "pygments_lexer": "ipython3",
   "version": "3.7.6"
  }
 },
 "nbformat": 4,
 "nbformat_minor": 4
}
