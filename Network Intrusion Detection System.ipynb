{
 "cells": [
  {
   "cell_type": "markdown",
   "metadata": {},
   "source": [
    "### BUSINESS PROBLEM: Your task to build network intrusion detection system to detect anamolies and attacks in the network. There are two problems. \n",
    "### 1. Binomial Classification: Activity is normal or attack \n",
    "\n",
    "### However, you can use attack variable to define the target variable as required."
   ]
  },
  {
   "cell_type": "code",
   "execution_count": 1,
   "metadata": {},
   "outputs": [],
   "source": [
    "import pandas as pd\n",
    "import numpy as np\n",
    "import matplotlib.pyplot as plt\n",
    "%matplotlib inline\n",
    "import seaborn as sns\n",
    "import scipy.stats as stats"
   ]
  },
  {
   "cell_type": "code",
   "execution_count": 2,
   "metadata": {},
   "outputs": [],
   "source": [
    "import statsmodels.formula.api as smf\n",
    "from sklearn.model_selection import train_test_split\n",
    "from sklearn.linear_model import LinearRegression\n",
    "from sklearn.metrics import mean_absolute_error, mean_squared_error, r2_score\n",
    "from sklearn import metrics\n",
    "from sklearn.linear_model import LogisticRegression"
   ]
  },
  {
   "cell_type": "code",
   "execution_count": 3,
   "metadata": {},
   "outputs": [],
   "source": [
    "# Create Data audit Report for continuous variables\n",
    "def continuous_var_summary(x):\n",
    "    return pd.Series([x.count(), x.isnull().sum(), x.sum(), x.mean(), x.median(),  \n",
    "                      x.std(), x.var(), x.min(), x.quantile(0.01), x.quantile(0.05),\n",
    "                          x.quantile(0.10),x.quantile(0.25),x.quantile(0.50),x.quantile(0.75), \n",
    "                              x.quantile(0.90),x.quantile(0.95), x.quantile(0.99),x.max()], \n",
    "                  index = ['N', 'NMISS', 'SUM', 'MEAN','MEDIAN', 'STD', 'VAR', 'MIN', 'P1', \n",
    "                               'P5' ,'P10' ,'P25' ,'P50' ,'P75' ,'P90' ,'P95' ,'P99' ,'MAX'])"
   ]
  },
  {
   "cell_type": "code",
   "execution_count": 4,
   "metadata": {},
   "outputs": [],
   "source": [
    "# Create Data audit Report for categorical variables\n",
    "def categorical_var_summary(x):\n",
    "    Mode = x.value_counts().sort_values(ascending = False)[0:1].reset_index()\n",
    "    return pd.Series([x.count(), x.isnull().sum(), Mode.iloc[0, 0], Mode.iloc[0, 1], \n",
    "                          round(Mode.iloc[0, 1] * 100/x.count(), 2)], \n",
    "                  index = ['N', 'NMISS', 'MODE', 'FREQ', 'PERCENT'])"
   ]
  },
  {
   "cell_type": "code",
   "execution_count": 5,
   "metadata": {},
   "outputs": [],
   "source": [
    "# Missing value imputation for categorical and continuous variables\n",
    "def missing_imputation(x, stats = 'mean'):\n",
    "    if (x.dtypes == 'float64') | (x.dtypes == 'int64'):\n",
    "        x = x.fillna(x.mean()) if stats == 'mean' else x.fillna(x.median())\n",
    "    else:\n",
    "        x = x.fillna(x.mode())\n",
    "    return x"
   ]
  },
  {
   "cell_type": "code",
   "execution_count": 6,
   "metadata": {},
   "outputs": [],
   "source": [
    "# An utility function to create dummy variable\n",
    "def create_dummies(df, colname):\n",
    "    col_dummies = pd.get_dummies(df[colname], prefix = colname, drop_first = True)\n",
    "    df = pd.concat([df, col_dummies], axis = 1)\n",
    "    df.drop(colname, axis = 1, inplace = True )\n",
    "    return df"
   ]
  },
  {
   "cell_type": "code",
   "execution_count": null,
   "metadata": {},
   "outputs": [],
   "source": []
  },
  {
   "cell_type": "code",
   "execution_count": null,
   "metadata": {},
   "outputs": [],
   "source": []
  },
  {
   "cell_type": "code",
   "execution_count": null,
   "metadata": {},
   "outputs": [],
   "source": []
  },
  {
   "cell_type": "code",
   "execution_count": 7,
   "metadata": {},
   "outputs": [],
   "source": [
    "df_net_test=pd.read_csv('F:/analytix_labs/3. Network Intrusion Detection System/NSL_Dataset/test.txt',sep=',',header = None)"
   ]
  },
  {
   "cell_type": "code",
   "execution_count": 8,
   "metadata": {},
   "outputs": [],
   "source": [
    "columns=[\"duration\",\"protocol_type\",\"service\",\"flag\",\"src_bytes\",\"dst_bytes\",\"land\", \n",
    "         \"wrong_fragment\",\"urgent\",\"hot\",\"num_failed_logins\",\"logged_in\", \"num_compromised\",\"root_shell\",\n",
    "         \"su_attempted\",\"num_root\",\"num_file_creations\", \"num_shells\",\"num_access_files\",\"num_outbound_cmds\",\n",
    "         \"is_host_login\", \"is_guest_login\",\"count\",\"srv_count\",\"serror_rate\", \"srv_serror_rate\", \"rerror_rate\",\"srv_rerror_rate\",\n",
    "         \"same_srv_rate\", \"diff_srv_rate\",\"srv_diff_host_rate\",\"dst_host_count\",\"dst_host_srv_count\",\"dst_host_same_srv_rate\", \n",
    "         \"dst_host_diff_srv_rate\",\"dst_host_same_src_port_rate\", \"dst_host_srv_diff_host_rate\",\"dst_host_serror_rate\",\n",
    "         \"dst_host_srv_serror_rate\", \"dst_host_rerror_rate\",\"dst_host_srv_rerror_rate\",\"attack\", \"last_flag\"]"
   ]
  },
  {
   "cell_type": "code",
   "execution_count": 9,
   "metadata": {},
   "outputs": [],
   "source": [
    "df_net_test.columns=columns"
   ]
  },
  {
   "cell_type": "code",
   "execution_count": 10,
   "metadata": {},
   "outputs": [],
   "source": [
    "df_net_train=pd.read_csv('F:/analytix_labs/3. Network Intrusion Detection System/NSL_Dataset/train.txt',sep=',',header = None)"
   ]
  },
  {
   "cell_type": "code",
   "execution_count": 11,
   "metadata": {},
   "outputs": [],
   "source": [
    "df_net_train.columns=columns"
   ]
  },
  {
   "cell_type": "code",
   "execution_count": 12,
   "metadata": {},
   "outputs": [
    {
     "name": "stdout",
     "output_type": "stream",
     "text": [
      "<class 'pandas.core.frame.DataFrame'>\n",
      "RangeIndex: 125973 entries, 0 to 125972\n",
      "Data columns (total 43 columns):\n",
      "duration                       125973 non-null int64\n",
      "protocol_type                  125973 non-null object\n",
      "service                        125973 non-null object\n",
      "flag                           125973 non-null object\n",
      "src_bytes                      125973 non-null int64\n",
      "dst_bytes                      125973 non-null int64\n",
      "land                           125973 non-null int64\n",
      "wrong_fragment                 125973 non-null int64\n",
      "urgent                         125973 non-null int64\n",
      "hot                            125973 non-null int64\n",
      "num_failed_logins              125973 non-null int64\n",
      "logged_in                      125973 non-null int64\n",
      "num_compromised                125973 non-null int64\n",
      "root_shell                     125973 non-null int64\n",
      "su_attempted                   125973 non-null int64\n",
      "num_root                       125973 non-null int64\n",
      "num_file_creations             125973 non-null int64\n",
      "num_shells                     125973 non-null int64\n",
      "num_access_files               125973 non-null int64\n",
      "num_outbound_cmds              125973 non-null int64\n",
      "is_host_login                  125973 non-null int64\n",
      "is_guest_login                 125973 non-null int64\n",
      "count                          125973 non-null int64\n",
      "srv_count                      125973 non-null int64\n",
      "serror_rate                    125973 non-null float64\n",
      "srv_serror_rate                125973 non-null float64\n",
      "rerror_rate                    125973 non-null float64\n",
      "srv_rerror_rate                125973 non-null float64\n",
      "same_srv_rate                  125973 non-null float64\n",
      "diff_srv_rate                  125973 non-null float64\n",
      "srv_diff_host_rate             125973 non-null float64\n",
      "dst_host_count                 125973 non-null int64\n",
      "dst_host_srv_count             125973 non-null int64\n",
      "dst_host_same_srv_rate         125973 non-null float64\n",
      "dst_host_diff_srv_rate         125973 non-null float64\n",
      "dst_host_same_src_port_rate    125973 non-null float64\n",
      "dst_host_srv_diff_host_rate    125973 non-null float64\n",
      "dst_host_serror_rate           125973 non-null float64\n",
      "dst_host_srv_serror_rate       125973 non-null float64\n",
      "dst_host_rerror_rate           125973 non-null float64\n",
      "dst_host_srv_rerror_rate       125973 non-null float64\n",
      "attack                         125973 non-null object\n",
      "last_flag                      125973 non-null int64\n",
      "dtypes: float64(15), int64(24), object(4)\n",
      "memory usage: 41.3+ MB\n"
     ]
    }
   ],
   "source": [
    "df_net_train.info()"
   ]
  },
  {
   "cell_type": "code",
   "execution_count": 13,
   "metadata": {},
   "outputs": [
    {
     "data": {
      "text/plain": [
       "tcp     102689\n",
       "udp      14993\n",
       "icmp      8291\n",
       "Name: protocol_type, dtype: int64"
      ]
     },
     "execution_count": 13,
     "metadata": {},
     "output_type": "execute_result"
    }
   ],
   "source": [
    "df_net_train.protocol_type.value_counts()"
   ]
  },
  {
   "cell_type": "code",
   "execution_count": 14,
   "metadata": {},
   "outputs": [
    {
     "data": {
      "text/plain": [
       "0    125948\n",
       "1        25\n",
       "Name: land, dtype: int64"
      ]
     },
     "execution_count": 14,
     "metadata": {},
     "output_type": "execute_result"
    }
   ],
   "source": [
    "df_net_train.land.value_counts()"
   ]
  },
  {
   "cell_type": "code",
   "execution_count": 15,
   "metadata": {},
   "outputs": [],
   "source": [
    "### Appending Train and Test and making a new dataframe"
   ]
  },
  {
   "cell_type": "code",
   "execution_count": 16,
   "metadata": {},
   "outputs": [],
   "source": [
    "df_net=pd.concat([df_net_train,df_net_test])"
   ]
  },
  {
   "cell_type": "code",
   "execution_count": 18,
   "metadata": {},
   "outputs": [],
   "source": [
    "### spliting data into continuous and catagorical variables"
   ]
  },
  {
   "cell_type": "code",
   "execution_count": 17,
   "metadata": {},
   "outputs": [],
   "source": [
    "df_net_cat=df_net[['protocol_type','service','flag','land','logged_in','root_shell','su_attempted','is_host_login','is_guest_login']]"
   ]
  },
  {
   "cell_type": "code",
   "execution_count": 18,
   "metadata": {},
   "outputs": [],
   "source": [
    "df_net_cont=df_net.loc[:,df_net.columns.difference(['protocol_type','service','flag','land','logged_in','root_shell','su_attempted','is_host_login','is_guest_login'])]"
   ]
  },
  {
   "cell_type": "code",
   "execution_count": 16,
   "metadata": {},
   "outputs": [],
   "source": [
    "df_net_cont['attack_dum']=np.where(df_net_cont.attack == 'normal', 0, 1)"
   ]
  },
  {
   "cell_type": "code",
   "execution_count": 17,
   "metadata": {},
   "outputs": [],
   "source": [
    "df_net_cont.drop(columns='attack',inplace = True)"
   ]
  },
  {
   "cell_type": "code",
   "execution_count": 18,
   "metadata": {},
   "outputs": [
    {
     "data": {
      "text/html": [
       "<div>\n",
       "<style scoped>\n",
       "    .dataframe tbody tr th:only-of-type {\n",
       "        vertical-align: middle;\n",
       "    }\n",
       "\n",
       "    .dataframe tbody tr th {\n",
       "        vertical-align: top;\n",
       "    }\n",
       "\n",
       "    .dataframe thead th {\n",
       "        text-align: right;\n",
       "    }\n",
       "</style>\n",
       "<table border=\"1\" class=\"dataframe\">\n",
       "  <thead>\n",
       "    <tr style=\"text-align: right;\">\n",
       "      <th></th>\n",
       "      <th>protocol_type</th>\n",
       "      <th>service</th>\n",
       "      <th>flag</th>\n",
       "      <th>land</th>\n",
       "      <th>logged_in</th>\n",
       "      <th>root_shell</th>\n",
       "      <th>su_attempted</th>\n",
       "      <th>is_host_login</th>\n",
       "      <th>is_guest_login</th>\n",
       "    </tr>\n",
       "  </thead>\n",
       "  <tbody>\n",
       "    <tr>\n",
       "      <td>N</td>\n",
       "      <td>148517</td>\n",
       "      <td>148517</td>\n",
       "      <td>148517</td>\n",
       "      <td>148517.00</td>\n",
       "      <td>148517.00</td>\n",
       "      <td>148517.00</td>\n",
       "      <td>148517.00</td>\n",
       "      <td>148517.00</td>\n",
       "      <td>148517.00</td>\n",
       "    </tr>\n",
       "    <tr>\n",
       "      <td>NMISS</td>\n",
       "      <td>0</td>\n",
       "      <td>0</td>\n",
       "      <td>0</td>\n",
       "      <td>0.00</td>\n",
       "      <td>0.00</td>\n",
       "      <td>0.00</td>\n",
       "      <td>0.00</td>\n",
       "      <td>0.00</td>\n",
       "      <td>0.00</td>\n",
       "    </tr>\n",
       "    <tr>\n",
       "      <td>MODE</td>\n",
       "      <td>tcp</td>\n",
       "      <td>http</td>\n",
       "      <td>SF</td>\n",
       "      <td>0.00</td>\n",
       "      <td>0.00</td>\n",
       "      <td>0.00</td>\n",
       "      <td>0.00</td>\n",
       "      <td>0.00</td>\n",
       "      <td>0.00</td>\n",
       "    </tr>\n",
       "    <tr>\n",
       "      <td>FREQ</td>\n",
       "      <td>121569</td>\n",
       "      <td>48191</td>\n",
       "      <td>89820</td>\n",
       "      <td>148485.00</td>\n",
       "      <td>88696.00</td>\n",
       "      <td>148293.00</td>\n",
       "      <td>148433.00</td>\n",
       "      <td>148505.00</td>\n",
       "      <td>146689.00</td>\n",
       "    </tr>\n",
       "    <tr>\n",
       "      <td>PERCENT</td>\n",
       "      <td>81.86</td>\n",
       "      <td>32.45</td>\n",
       "      <td>60.48</td>\n",
       "      <td>99.98</td>\n",
       "      <td>59.72</td>\n",
       "      <td>99.85</td>\n",
       "      <td>99.94</td>\n",
       "      <td>99.99</td>\n",
       "      <td>98.77</td>\n",
       "    </tr>\n",
       "  </tbody>\n",
       "</table>\n",
       "</div>"
      ],
      "text/plain": [
       "        protocol_type service    flag       land  logged_in  root_shell  \\\n",
       "N              148517  148517  148517  148517.00  148517.00   148517.00   \n",
       "NMISS               0       0       0       0.00       0.00        0.00   \n",
       "MODE              tcp    http      SF       0.00       0.00        0.00   \n",
       "FREQ           121569   48191   89820  148485.00   88696.00   148293.00   \n",
       "PERCENT         81.86   32.45   60.48      99.98      59.72       99.85   \n",
       "\n",
       "         su_attempted  is_host_login  is_guest_login  \n",
       "N           148517.00      148517.00       148517.00  \n",
       "NMISS            0.00           0.00            0.00  \n",
       "MODE             0.00           0.00            0.00  \n",
       "FREQ        148433.00      148505.00       146689.00  \n",
       "PERCENT         99.94          99.99           98.77  "
      ]
     },
     "execution_count": 18,
     "metadata": {},
     "output_type": "execute_result"
    }
   ],
   "source": [
    "df_net_cat.apply(lambda x : categorical_var_summary(x))"
   ]
  },
  {
   "cell_type": "code",
   "execution_count": 19,
   "metadata": {},
   "outputs": [
    {
     "data": {
      "text/html": [
       "<div>\n",
       "<style scoped>\n",
       "    .dataframe tbody tr th:only-of-type {\n",
       "        vertical-align: middle;\n",
       "    }\n",
       "\n",
       "    .dataframe tbody tr th {\n",
       "        vertical-align: top;\n",
       "    }\n",
       "\n",
       "    .dataframe thead th {\n",
       "        text-align: right;\n",
       "    }\n",
       "</style>\n",
       "<table border=\"1\" class=\"dataframe\">\n",
       "  <thead>\n",
       "    <tr style=\"text-align: right;\">\n",
       "      <th></th>\n",
       "      <th>count</th>\n",
       "      <th>diff_srv_rate</th>\n",
       "      <th>dst_bytes</th>\n",
       "      <th>dst_host_count</th>\n",
       "      <th>dst_host_diff_srv_rate</th>\n",
       "      <th>dst_host_rerror_rate</th>\n",
       "      <th>dst_host_same_src_port_rate</th>\n",
       "      <th>dst_host_same_srv_rate</th>\n",
       "      <th>dst_host_serror_rate</th>\n",
       "      <th>dst_host_srv_count</th>\n",
       "      <th>...</th>\n",
       "      <th>same_srv_rate</th>\n",
       "      <th>serror_rate</th>\n",
       "      <th>src_bytes</th>\n",
       "      <th>srv_count</th>\n",
       "      <th>srv_diff_host_rate</th>\n",
       "      <th>srv_rerror_rate</th>\n",
       "      <th>srv_serror_rate</th>\n",
       "      <th>urgent</th>\n",
       "      <th>wrong_fragment</th>\n",
       "      <th>attack_dum</th>\n",
       "    </tr>\n",
       "  </thead>\n",
       "  <tbody>\n",
       "    <tr>\n",
       "      <td>N</td>\n",
       "      <td>1.485170e+05</td>\n",
       "      <td>148517.000000</td>\n",
       "      <td>1.485170e+05</td>\n",
       "      <td>1.485170e+05</td>\n",
       "      <td>148517.000000</td>\n",
       "      <td>148517.000000</td>\n",
       "      <td>148517.000000</td>\n",
       "      <td>148517.000000</td>\n",
       "      <td>148517.000000</td>\n",
       "      <td>1.485170e+05</td>\n",
       "      <td>...</td>\n",
       "      <td>148517.000000</td>\n",
       "      <td>148517.000000</td>\n",
       "      <td>1.485170e+05</td>\n",
       "      <td>1.485170e+05</td>\n",
       "      <td>148517.000000</td>\n",
       "      <td>148517.000000</td>\n",
       "      <td>148517.000000</td>\n",
       "      <td>148517.000000</td>\n",
       "      <td>148517.000000</td>\n",
       "      <td>148517.000000</td>\n",
       "    </tr>\n",
       "    <tr>\n",
       "      <td>NMISS</td>\n",
       "      <td>0.000000e+00</td>\n",
       "      <td>0.000000</td>\n",
       "      <td>0.000000e+00</td>\n",
       "      <td>0.000000e+00</td>\n",
       "      <td>0.000000</td>\n",
       "      <td>0.000000</td>\n",
       "      <td>0.000000</td>\n",
       "      <td>0.000000</td>\n",
       "      <td>0.000000</td>\n",
       "      <td>0.000000e+00</td>\n",
       "      <td>...</td>\n",
       "      <td>0.000000</td>\n",
       "      <td>0.000000</td>\n",
       "      <td>0.000000e+00</td>\n",
       "      <td>0.000000e+00</td>\n",
       "      <td>0.000000</td>\n",
       "      <td>0.000000</td>\n",
       "      <td>0.000000</td>\n",
       "      <td>0.000000</td>\n",
       "      <td>0.000000</td>\n",
       "      <td>0.000000</td>\n",
       "    </tr>\n",
       "    <tr>\n",
       "      <td>SUM</td>\n",
       "      <td>1.237690e+07</td>\n",
       "      <td>10063.730000</td>\n",
       "      <td>2.537985e+09</td>\n",
       "      <td>2.731644e+07</td>\n",
       "      <td>12490.730000</td>\n",
       "      <td>20231.030000</td>\n",
       "      <td>21673.420000</td>\n",
       "      <td>79385.400000</td>\n",
       "      <td>38038.440000</td>\n",
       "      <td>1.774224e+07</td>\n",
       "      <td>...</td>\n",
       "      <td>99949.370000</td>\n",
       "      <td>38157.680000</td>\n",
       "      <td>5.974534e+09</td>\n",
       "      <td>4.195893e+06</td>\n",
       "      <td>14471.700000</td>\n",
       "      <td>20567.690000</td>\n",
       "      <td>37921.880000</td>\n",
       "      <td>30.000000</td>\n",
       "      <td>3048.000000</td>\n",
       "      <td>71463.000000</td>\n",
       "    </tr>\n",
       "    <tr>\n",
       "      <td>MEAN</td>\n",
       "      <td>8.333656e+01</td>\n",
       "      <td>0.067761</td>\n",
       "      <td>1.708885e+04</td>\n",
       "      <td>1.839280e+02</td>\n",
       "      <td>0.084103</td>\n",
       "      <td>0.136220</td>\n",
       "      <td>0.145932</td>\n",
       "      <td>0.534521</td>\n",
       "      <td>0.256122</td>\n",
       "      <td>1.194627e+02</td>\n",
       "      <td>...</td>\n",
       "      <td>0.672983</td>\n",
       "      <td>0.256925</td>\n",
       "      <td>4.022795e+04</td>\n",
       "      <td>2.825194e+01</td>\n",
       "      <td>0.097441</td>\n",
       "      <td>0.138487</td>\n",
       "      <td>0.255337</td>\n",
       "      <td>0.000202</td>\n",
       "      <td>0.020523</td>\n",
       "      <td>0.481177</td>\n",
       "    </tr>\n",
       "    <tr>\n",
       "      <td>MEDIAN</td>\n",
       "      <td>1.300000e+01</td>\n",
       "      <td>0.000000</td>\n",
       "      <td>0.000000e+00</td>\n",
       "      <td>2.550000e+02</td>\n",
       "      <td>0.020000</td>\n",
       "      <td>0.000000</td>\n",
       "      <td>0.000000</td>\n",
       "      <td>0.600000</td>\n",
       "      <td>0.000000</td>\n",
       "      <td>7.200000e+01</td>\n",
       "      <td>...</td>\n",
       "      <td>1.000000</td>\n",
       "      <td>0.000000</td>\n",
       "      <td>4.400000e+01</td>\n",
       "      <td>7.000000e+00</td>\n",
       "      <td>0.000000</td>\n",
       "      <td>0.000000</td>\n",
       "      <td>0.000000</td>\n",
       "      <td>0.000000</td>\n",
       "      <td>0.000000</td>\n",
       "      <td>0.000000</td>\n",
       "    </tr>\n",
       "    <tr>\n",
       "      <td>STD</td>\n",
       "      <td>1.167607e+02</td>\n",
       "      <td>0.194666</td>\n",
       "      <td>3.703525e+06</td>\n",
       "      <td>9.852833e+01</td>\n",
       "      <td>0.194102</td>\n",
       "      <td>0.322741</td>\n",
       "      <td>0.308638</td>\n",
       "      <td>0.448061</td>\n",
       "      <td>0.428500</td>\n",
       "      <td>1.112323e+02</td>\n",
       "      <td>...</td>\n",
       "      <td>0.436544</td>\n",
       "      <td>0.431918</td>\n",
       "      <td>5.409612e+06</td>\n",
       "      <td>7.536963e+01</td>\n",
       "      <td>0.258886</td>\n",
       "      <td>0.341783</td>\n",
       "      <td>0.432578</td>\n",
       "      <td>0.019417</td>\n",
       "      <td>0.240069</td>\n",
       "      <td>0.499647</td>\n",
       "    </tr>\n",
       "    <tr>\n",
       "      <td>VAR</td>\n",
       "      <td>1.363307e+04</td>\n",
       "      <td>0.037895</td>\n",
       "      <td>1.371610e+13</td>\n",
       "      <td>9.707831e+03</td>\n",
       "      <td>0.037676</td>\n",
       "      <td>0.104162</td>\n",
       "      <td>0.095257</td>\n",
       "      <td>0.200759</td>\n",
       "      <td>0.183612</td>\n",
       "      <td>1.237263e+04</td>\n",
       "      <td>...</td>\n",
       "      <td>0.190570</td>\n",
       "      <td>0.186553</td>\n",
       "      <td>2.926390e+13</td>\n",
       "      <td>5.680582e+03</td>\n",
       "      <td>0.067022</td>\n",
       "      <td>0.116816</td>\n",
       "      <td>0.187124</td>\n",
       "      <td>0.000377</td>\n",
       "      <td>0.057633</td>\n",
       "      <td>0.249647</td>\n",
       "    </tr>\n",
       "    <tr>\n",
       "      <td>MIN</td>\n",
       "      <td>0.000000e+00</td>\n",
       "      <td>0.000000</td>\n",
       "      <td>0.000000e+00</td>\n",
       "      <td>0.000000e+00</td>\n",
       "      <td>0.000000</td>\n",
       "      <td>0.000000</td>\n",
       "      <td>0.000000</td>\n",
       "      <td>0.000000</td>\n",
       "      <td>0.000000</td>\n",
       "      <td>0.000000e+00</td>\n",
       "      <td>...</td>\n",
       "      <td>0.000000</td>\n",
       "      <td>0.000000</td>\n",
       "      <td>0.000000e+00</td>\n",
       "      <td>0.000000e+00</td>\n",
       "      <td>0.000000</td>\n",
       "      <td>0.000000</td>\n",
       "      <td>0.000000</td>\n",
       "      <td>0.000000</td>\n",
       "      <td>0.000000</td>\n",
       "      <td>0.000000</td>\n",
       "    </tr>\n",
       "    <tr>\n",
       "      <td>P1</td>\n",
       "      <td>1.000000e+00</td>\n",
       "      <td>0.000000</td>\n",
       "      <td>0.000000e+00</td>\n",
       "      <td>1.000000e+00</td>\n",
       "      <td>0.000000</td>\n",
       "      <td>0.000000</td>\n",
       "      <td>0.000000</td>\n",
       "      <td>0.000000</td>\n",
       "      <td>0.000000</td>\n",
       "      <td>1.000000e+00</td>\n",
       "      <td>...</td>\n",
       "      <td>0.000000</td>\n",
       "      <td>0.000000</td>\n",
       "      <td>0.000000e+00</td>\n",
       "      <td>1.000000e+00</td>\n",
       "      <td>0.000000</td>\n",
       "      <td>0.000000</td>\n",
       "      <td>0.000000</td>\n",
       "      <td>0.000000</td>\n",
       "      <td>0.000000</td>\n",
       "      <td>0.000000</td>\n",
       "    </tr>\n",
       "    <tr>\n",
       "      <td>P5</td>\n",
       "      <td>1.000000e+00</td>\n",
       "      <td>0.000000</td>\n",
       "      <td>0.000000e+00</td>\n",
       "      <td>3.000000e+00</td>\n",
       "      <td>0.000000</td>\n",
       "      <td>0.000000</td>\n",
       "      <td>0.000000</td>\n",
       "      <td>0.000000</td>\n",
       "      <td>0.000000</td>\n",
       "      <td>1.000000e+00</td>\n",
       "      <td>...</td>\n",
       "      <td>0.010000</td>\n",
       "      <td>0.000000</td>\n",
       "      <td>0.000000e+00</td>\n",
       "      <td>1.000000e+00</td>\n",
       "      <td>0.000000</td>\n",
       "      <td>0.000000</td>\n",
       "      <td>0.000000</td>\n",
       "      <td>0.000000</td>\n",
       "      <td>0.000000</td>\n",
       "      <td>0.000000</td>\n",
       "    </tr>\n",
       "    <tr>\n",
       "      <td>P10</td>\n",
       "      <td>1.000000e+00</td>\n",
       "      <td>0.000000</td>\n",
       "      <td>0.000000e+00</td>\n",
       "      <td>1.200000e+01</td>\n",
       "      <td>0.000000</td>\n",
       "      <td>0.000000</td>\n",
       "      <td>0.000000</td>\n",
       "      <td>0.010000</td>\n",
       "      <td>0.000000</td>\n",
       "      <td>2.000000e+00</td>\n",
       "      <td>...</td>\n",
       "      <td>0.030000</td>\n",
       "      <td>0.000000</td>\n",
       "      <td>0.000000e+00</td>\n",
       "      <td>1.000000e+00</td>\n",
       "      <td>0.000000</td>\n",
       "      <td>0.000000</td>\n",
       "      <td>0.000000</td>\n",
       "      <td>0.000000</td>\n",
       "      <td>0.000000</td>\n",
       "      <td>0.000000</td>\n",
       "    </tr>\n",
       "    <tr>\n",
       "      <td>P25</td>\n",
       "      <td>2.000000e+00</td>\n",
       "      <td>0.000000</td>\n",
       "      <td>0.000000e+00</td>\n",
       "      <td>8.700000e+01</td>\n",
       "      <td>0.000000</td>\n",
       "      <td>0.000000</td>\n",
       "      <td>0.000000</td>\n",
       "      <td>0.050000</td>\n",
       "      <td>0.000000</td>\n",
       "      <td>1.100000e+01</td>\n",
       "      <td>...</td>\n",
       "      <td>0.100000</td>\n",
       "      <td>0.000000</td>\n",
       "      <td>0.000000e+00</td>\n",
       "      <td>2.000000e+00</td>\n",
       "      <td>0.000000</td>\n",
       "      <td>0.000000</td>\n",
       "      <td>0.000000</td>\n",
       "      <td>0.000000</td>\n",
       "      <td>0.000000</td>\n",
       "      <td>0.000000</td>\n",
       "    </tr>\n",
       "    <tr>\n",
       "      <td>P50</td>\n",
       "      <td>1.300000e+01</td>\n",
       "      <td>0.000000</td>\n",
       "      <td>0.000000e+00</td>\n",
       "      <td>2.550000e+02</td>\n",
       "      <td>0.020000</td>\n",
       "      <td>0.000000</td>\n",
       "      <td>0.000000</td>\n",
       "      <td>0.600000</td>\n",
       "      <td>0.000000</td>\n",
       "      <td>7.200000e+01</td>\n",
       "      <td>...</td>\n",
       "      <td>1.000000</td>\n",
       "      <td>0.000000</td>\n",
       "      <td>4.400000e+01</td>\n",
       "      <td>7.000000e+00</td>\n",
       "      <td>0.000000</td>\n",
       "      <td>0.000000</td>\n",
       "      <td>0.000000</td>\n",
       "      <td>0.000000</td>\n",
       "      <td>0.000000</td>\n",
       "      <td>0.000000</td>\n",
       "    </tr>\n",
       "    <tr>\n",
       "      <td>P75</td>\n",
       "      <td>1.410000e+02</td>\n",
       "      <td>0.060000</td>\n",
       "      <td>5.710000e+02</td>\n",
       "      <td>2.550000e+02</td>\n",
       "      <td>0.070000</td>\n",
       "      <td>0.000000</td>\n",
       "      <td>0.050000</td>\n",
       "      <td>1.000000</td>\n",
       "      <td>0.600000</td>\n",
       "      <td>2.550000e+02</td>\n",
       "      <td>...</td>\n",
       "      <td>1.000000</td>\n",
       "      <td>0.850000</td>\n",
       "      <td>2.780000e+02</td>\n",
       "      <td>1.700000e+01</td>\n",
       "      <td>0.000000</td>\n",
       "      <td>0.000000</td>\n",
       "      <td>0.910000</td>\n",
       "      <td>0.000000</td>\n",
       "      <td>0.000000</td>\n",
       "      <td>1.000000</td>\n",
       "    </tr>\n",
       "    <tr>\n",
       "      <td>P90</td>\n",
       "      <td>2.560000e+02</td>\n",
       "      <td>0.080000</td>\n",
       "      <td>3.437400e+03</td>\n",
       "      <td>2.550000e+02</td>\n",
       "      <td>0.110000</td>\n",
       "      <td>0.910000</td>\n",
       "      <td>0.840000</td>\n",
       "      <td>1.000000</td>\n",
       "      <td>1.000000</td>\n",
       "      <td>2.550000e+02</td>\n",
       "      <td>...</td>\n",
       "      <td>1.000000</td>\n",
       "      <td>1.000000</td>\n",
       "      <td>8.840000e+02</td>\n",
       "      <td>4.000000e+01</td>\n",
       "      <td>0.330000</td>\n",
       "      <td>1.000000</td>\n",
       "      <td>1.000000</td>\n",
       "      <td>0.000000</td>\n",
       "      <td>0.000000</td>\n",
       "      <td>1.000000</td>\n",
       "    </tr>\n",
       "    <tr>\n",
       "      <td>P95</td>\n",
       "      <td>2.880000e+02</td>\n",
       "      <td>0.440000</td>\n",
       "      <td>8.314000e+03</td>\n",
       "      <td>2.550000e+02</td>\n",
       "      <td>0.600000</td>\n",
       "      <td>1.000000</td>\n",
       "      <td>1.000000</td>\n",
       "      <td>1.000000</td>\n",
       "      <td>1.000000</td>\n",
       "      <td>2.550000e+02</td>\n",
       "      <td>...</td>\n",
       "      <td>1.000000</td>\n",
       "      <td>1.000000</td>\n",
       "      <td>1.594200e+03</td>\n",
       "      <td>1.590000e+02</td>\n",
       "      <td>1.000000</td>\n",
       "      <td>1.000000</td>\n",
       "      <td>1.000000</td>\n",
       "      <td>0.000000</td>\n",
       "      <td>0.000000</td>\n",
       "      <td>1.000000</td>\n",
       "    </tr>\n",
       "    <tr>\n",
       "      <td>P99</td>\n",
       "      <td>5.110000e+02</td>\n",
       "      <td>1.000000</td>\n",
       "      <td>2.559816e+04</td>\n",
       "      <td>2.550000e+02</td>\n",
       "      <td>1.000000</td>\n",
       "      <td>1.000000</td>\n",
       "      <td>1.000000</td>\n",
       "      <td>1.000000</td>\n",
       "      <td>1.000000</td>\n",
       "      <td>2.550000e+02</td>\n",
       "      <td>...</td>\n",
       "      <td>1.000000</td>\n",
       "      <td>1.000000</td>\n",
       "      <td>5.454000e+04</td>\n",
       "      <td>5.100000e+02</td>\n",
       "      <td>1.000000</td>\n",
       "      <td>1.000000</td>\n",
       "      <td>1.000000</td>\n",
       "      <td>0.000000</td>\n",
       "      <td>0.000000</td>\n",
       "      <td>1.000000</td>\n",
       "    </tr>\n",
       "    <tr>\n",
       "      <td>MAX</td>\n",
       "      <td>5.110000e+02</td>\n",
       "      <td>1.000000</td>\n",
       "      <td>1.309937e+09</td>\n",
       "      <td>2.550000e+02</td>\n",
       "      <td>1.000000</td>\n",
       "      <td>1.000000</td>\n",
       "      <td>1.000000</td>\n",
       "      <td>1.000000</td>\n",
       "      <td>1.000000</td>\n",
       "      <td>2.550000e+02</td>\n",
       "      <td>...</td>\n",
       "      <td>1.000000</td>\n",
       "      <td>1.000000</td>\n",
       "      <td>1.379964e+09</td>\n",
       "      <td>5.110000e+02</td>\n",
       "      <td>1.000000</td>\n",
       "      <td>1.000000</td>\n",
       "      <td>1.000000</td>\n",
       "      <td>3.000000</td>\n",
       "      <td>3.000000</td>\n",
       "      <td>1.000000</td>\n",
       "    </tr>\n",
       "  </tbody>\n",
       "</table>\n",
       "<p>18 rows × 34 columns</p>\n",
       "</div>"
      ],
      "text/plain": [
       "               count  diff_srv_rate     dst_bytes  dst_host_count  \\\n",
       "N       1.485170e+05  148517.000000  1.485170e+05    1.485170e+05   \n",
       "NMISS   0.000000e+00       0.000000  0.000000e+00    0.000000e+00   \n",
       "SUM     1.237690e+07   10063.730000  2.537985e+09    2.731644e+07   \n",
       "MEAN    8.333656e+01       0.067761  1.708885e+04    1.839280e+02   \n",
       "MEDIAN  1.300000e+01       0.000000  0.000000e+00    2.550000e+02   \n",
       "STD     1.167607e+02       0.194666  3.703525e+06    9.852833e+01   \n",
       "VAR     1.363307e+04       0.037895  1.371610e+13    9.707831e+03   \n",
       "MIN     0.000000e+00       0.000000  0.000000e+00    0.000000e+00   \n",
       "P1      1.000000e+00       0.000000  0.000000e+00    1.000000e+00   \n",
       "P5      1.000000e+00       0.000000  0.000000e+00    3.000000e+00   \n",
       "P10     1.000000e+00       0.000000  0.000000e+00    1.200000e+01   \n",
       "P25     2.000000e+00       0.000000  0.000000e+00    8.700000e+01   \n",
       "P50     1.300000e+01       0.000000  0.000000e+00    2.550000e+02   \n",
       "P75     1.410000e+02       0.060000  5.710000e+02    2.550000e+02   \n",
       "P90     2.560000e+02       0.080000  3.437400e+03    2.550000e+02   \n",
       "P95     2.880000e+02       0.440000  8.314000e+03    2.550000e+02   \n",
       "P99     5.110000e+02       1.000000  2.559816e+04    2.550000e+02   \n",
       "MAX     5.110000e+02       1.000000  1.309937e+09    2.550000e+02   \n",
       "\n",
       "        dst_host_diff_srv_rate  dst_host_rerror_rate  \\\n",
       "N                148517.000000         148517.000000   \n",
       "NMISS                 0.000000              0.000000   \n",
       "SUM               12490.730000          20231.030000   \n",
       "MEAN                  0.084103              0.136220   \n",
       "MEDIAN                0.020000              0.000000   \n",
       "STD                   0.194102              0.322741   \n",
       "VAR                   0.037676              0.104162   \n",
       "MIN                   0.000000              0.000000   \n",
       "P1                    0.000000              0.000000   \n",
       "P5                    0.000000              0.000000   \n",
       "P10                   0.000000              0.000000   \n",
       "P25                   0.000000              0.000000   \n",
       "P50                   0.020000              0.000000   \n",
       "P75                   0.070000              0.000000   \n",
       "P90                   0.110000              0.910000   \n",
       "P95                   0.600000              1.000000   \n",
       "P99                   1.000000              1.000000   \n",
       "MAX                   1.000000              1.000000   \n",
       "\n",
       "        dst_host_same_src_port_rate  dst_host_same_srv_rate  \\\n",
       "N                     148517.000000           148517.000000   \n",
       "NMISS                      0.000000                0.000000   \n",
       "SUM                    21673.420000            79385.400000   \n",
       "MEAN                       0.145932                0.534521   \n",
       "MEDIAN                     0.000000                0.600000   \n",
       "STD                        0.308638                0.448061   \n",
       "VAR                        0.095257                0.200759   \n",
       "MIN                        0.000000                0.000000   \n",
       "P1                         0.000000                0.000000   \n",
       "P5                         0.000000                0.000000   \n",
       "P10                        0.000000                0.010000   \n",
       "P25                        0.000000                0.050000   \n",
       "P50                        0.000000                0.600000   \n",
       "P75                        0.050000                1.000000   \n",
       "P90                        0.840000                1.000000   \n",
       "P95                        1.000000                1.000000   \n",
       "P99                        1.000000                1.000000   \n",
       "MAX                        1.000000                1.000000   \n",
       "\n",
       "        dst_host_serror_rate  dst_host_srv_count  ...  same_srv_rate  \\\n",
       "N              148517.000000        1.485170e+05  ...  148517.000000   \n",
       "NMISS               0.000000        0.000000e+00  ...       0.000000   \n",
       "SUM             38038.440000        1.774224e+07  ...   99949.370000   \n",
       "MEAN                0.256122        1.194627e+02  ...       0.672983   \n",
       "MEDIAN              0.000000        7.200000e+01  ...       1.000000   \n",
       "STD                 0.428500        1.112323e+02  ...       0.436544   \n",
       "VAR                 0.183612        1.237263e+04  ...       0.190570   \n",
       "MIN                 0.000000        0.000000e+00  ...       0.000000   \n",
       "P1                  0.000000        1.000000e+00  ...       0.000000   \n",
       "P5                  0.000000        1.000000e+00  ...       0.010000   \n",
       "P10                 0.000000        2.000000e+00  ...       0.030000   \n",
       "P25                 0.000000        1.100000e+01  ...       0.100000   \n",
       "P50                 0.000000        7.200000e+01  ...       1.000000   \n",
       "P75                 0.600000        2.550000e+02  ...       1.000000   \n",
       "P90                 1.000000        2.550000e+02  ...       1.000000   \n",
       "P95                 1.000000        2.550000e+02  ...       1.000000   \n",
       "P99                 1.000000        2.550000e+02  ...       1.000000   \n",
       "MAX                 1.000000        2.550000e+02  ...       1.000000   \n",
       "\n",
       "          serror_rate     src_bytes     srv_count  srv_diff_host_rate  \\\n",
       "N       148517.000000  1.485170e+05  1.485170e+05       148517.000000   \n",
       "NMISS        0.000000  0.000000e+00  0.000000e+00            0.000000   \n",
       "SUM      38157.680000  5.974534e+09  4.195893e+06        14471.700000   \n",
       "MEAN         0.256925  4.022795e+04  2.825194e+01            0.097441   \n",
       "MEDIAN       0.000000  4.400000e+01  7.000000e+00            0.000000   \n",
       "STD          0.431918  5.409612e+06  7.536963e+01            0.258886   \n",
       "VAR          0.186553  2.926390e+13  5.680582e+03            0.067022   \n",
       "MIN          0.000000  0.000000e+00  0.000000e+00            0.000000   \n",
       "P1           0.000000  0.000000e+00  1.000000e+00            0.000000   \n",
       "P5           0.000000  0.000000e+00  1.000000e+00            0.000000   \n",
       "P10          0.000000  0.000000e+00  1.000000e+00            0.000000   \n",
       "P25          0.000000  0.000000e+00  2.000000e+00            0.000000   \n",
       "P50          0.000000  4.400000e+01  7.000000e+00            0.000000   \n",
       "P75          0.850000  2.780000e+02  1.700000e+01            0.000000   \n",
       "P90          1.000000  8.840000e+02  4.000000e+01            0.330000   \n",
       "P95          1.000000  1.594200e+03  1.590000e+02            1.000000   \n",
       "P99          1.000000  5.454000e+04  5.100000e+02            1.000000   \n",
       "MAX          1.000000  1.379964e+09  5.110000e+02            1.000000   \n",
       "\n",
       "        srv_rerror_rate  srv_serror_rate         urgent  wrong_fragment  \\\n",
       "N         148517.000000    148517.000000  148517.000000   148517.000000   \n",
       "NMISS          0.000000         0.000000       0.000000        0.000000   \n",
       "SUM        20567.690000     37921.880000      30.000000     3048.000000   \n",
       "MEAN           0.138487         0.255337       0.000202        0.020523   \n",
       "MEDIAN         0.000000         0.000000       0.000000        0.000000   \n",
       "STD            0.341783         0.432578       0.019417        0.240069   \n",
       "VAR            0.116816         0.187124       0.000377        0.057633   \n",
       "MIN            0.000000         0.000000       0.000000        0.000000   \n",
       "P1             0.000000         0.000000       0.000000        0.000000   \n",
       "P5             0.000000         0.000000       0.000000        0.000000   \n",
       "P10            0.000000         0.000000       0.000000        0.000000   \n",
       "P25            0.000000         0.000000       0.000000        0.000000   \n",
       "P50            0.000000         0.000000       0.000000        0.000000   \n",
       "P75            0.000000         0.910000       0.000000        0.000000   \n",
       "P90            1.000000         1.000000       0.000000        0.000000   \n",
       "P95            1.000000         1.000000       0.000000        0.000000   \n",
       "P99            1.000000         1.000000       0.000000        0.000000   \n",
       "MAX            1.000000         1.000000       3.000000        3.000000   \n",
       "\n",
       "           attack_dum  \n",
       "N       148517.000000  \n",
       "NMISS        0.000000  \n",
       "SUM      71463.000000  \n",
       "MEAN         0.481177  \n",
       "MEDIAN       0.000000  \n",
       "STD          0.499647  \n",
       "VAR          0.249647  \n",
       "MIN          0.000000  \n",
       "P1           0.000000  \n",
       "P5           0.000000  \n",
       "P10          0.000000  \n",
       "P25          0.000000  \n",
       "P50          0.000000  \n",
       "P75          1.000000  \n",
       "P90          1.000000  \n",
       "P95          1.000000  \n",
       "P99          1.000000  \n",
       "MAX          1.000000  \n",
       "\n",
       "[18 rows x 34 columns]"
      ]
     },
     "execution_count": 19,
     "metadata": {},
     "output_type": "execute_result"
    }
   ],
   "source": [
    "df_net_cont.apply(lambda x : continuous_var_summary(x))"
   ]
  },
  {
   "cell_type": "code",
   "execution_count": 31,
   "metadata": {},
   "outputs": [],
   "source": [
    "import seaborn as sns"
   ]
  },
  {
   "cell_type": "code",
   "execution_count": 32,
   "metadata": {},
   "outputs": [],
   "source": [
    "def create_cat_plot(x):\n",
    "    sns.countplot(x)\n",
    "    plt.show()"
   ]
  },
  {
   "cell_type": "code",
   "execution_count": 33,
   "metadata": {},
   "outputs": [],
   "source": [
    "def create_cont_plot(x):\n",
    "    sns.distplot(x)\n",
    "    plt.show()"
   ]
  },
  {
   "cell_type": "code",
   "execution_count": 24,
   "metadata": {},
   "outputs": [
    {
     "data": {
      "image/png": "[encoded data removed]",
      "text/plain": [
       "<Figure size 432x288 with 1 Axes>"
      ]
     },
     "metadata": {
      "needs_background": "light"
     },
     "output_type": "display_data"
    },
    {
     "data": {
      "image/png": "[encoded data removed]",
      "text/plain": [
       "<Figure size 432x288 with 1 Axes>"
      ]
     },
     "metadata": {
      "needs_background": "light"
     },
     "output_type": "display_data"
    },
    {
     "data": {
      "image/png": "[encoded data removed]",
      "text/plain": [
       "<Figure size 432x288 with 1 Axes>"
      ]
     },
     "metadata": {
      "needs_background": "light"
     },
     "output_type": "display_data"
    },
    {
     "data": {
      "image/png": "[encoded data removed]",
      "text/plain": [
       "<Figure size 432x288 with 1 Axes>"
      ]
     },
     "metadata": {
      "needs_background": "light"
     },
     "output_type": "display_data"
    },
    {
     "data": {
      "image/png": "[encoded data removed]",
      "text/plain": [
       "<Figure size 432x288 with 1 Axes>"
      ]
     },
     "metadata": {
      "needs_background": "light"
     },
     "output_type": "display_data"
    },
    {
     "data": {
      "image/png": "[encoded data removed]",
      "text/plain": [
       "<Figure size 432x288 with 1 Axes>"
      ]
     },
     "metadata": {
      "needs_background": "light"
     },
     "output_type": "display_data"
    },
    {
     "data": {
      "image/png": "[encoded data removed]",
      "text/plain": [
       "<Figure size 432x288 with 1 Axes>"
      ]
     },
     "metadata": {
      "needs_background": "light"
     },
     "output_type": "display_data"
    },
    {
     "data": {
      "image/png": "[encoded data removed]",
      "text/plain": [
       "<Figure size 432x288 with 1 Axes>"
      ]
     },
     "metadata": {
      "needs_background": "light"
     },
     "output_type": "display_data"
    },
    {
     "data": {
      "image/png": "[encoded data removed]",
      "text/plain": [
       "<Figure size 432x288 with 1 Axes>"
      ]
     },
     "metadata": {
      "needs_background": "light"
     },
     "output_type": "display_data"
    },
    {
     "data": {
      "image/png": "[encoded data removed]",
      "text/plain": [
       "<Figure size 432x288 with 1 Axes>"
      ]
     },
     "metadata": {
      "needs_background": "light"
     },
     "output_type": "display_data"
    },
    {
     "data": {
      "image/png": "[encoded data removed]",
      "text/plain": [
       "<Figure size 432x288 with 1 Axes>"
      ]
     },
     "metadata": {
      "needs_background": "light"
     },
     "output_type": "display_data"
    },
    {
     "data": {
      "image/png": "[encoded data removed]",
      "text/plain": [
       "<Figure size 432x288 with 1 Axes>"
      ]
     },
     "metadata": {
      "needs_background": "light"
     },
     "output_type": "display_data"
    },
    {
     "data": {
      "image/png": "[encoded data removed]",
      "text/plain": [
       "<Figure size 432x288 with 1 Axes>"
      ]
     },
     "metadata": {
      "needs_background": "light"
     },
     "output_type": "display_data"
    },
    {
     "data": {
      "image/png": "[encoded data removed]",
      "text/plain": [
       "<Figure size 432x288 with 1 Axes>"
      ]
     },
     "metadata": {
      "needs_background": "light"
     },
     "output_type": "display_data"
    },
    {
     "data": {
      "image/png": "[encoded data removed]",
      "text/plain": [
       "<Figure size 432x288 with 1 Axes>"
      ]
     },
     "metadata": {
      "needs_background": "light"
     },
     "output_type": "display_data"
    },
    {
     "data": {
      "image/png": "[encoded data removed]",
      "text/plain": [
       "<Figure size 432x288 with 1 Axes>"
      ]
     },
     "metadata": {
      "needs_background": "light"
     },
     "output_type": "display_data"
    },
    {
     "data": {
      "image/png": "[encoded data removed]",
      "text/plain": [
       "<Figure size 432x288 with 1 Axes>"
      ]
     },
     "metadata": {
      "needs_background": "light"
     },
     "output_type": "display_data"
    },
    {
     "data": {
      "image/png": "[encoded data removed]",
      "text/plain": [
       "<Figure size 432x288 with 1 Axes>"
      ]
     },
     "metadata": {
      "needs_background": "light"
     },
     "output_type": "display_data"
    },
    {
     "data": {
      "image/png": "[encoded data removed]",
      "text/plain": [
       "<Figure size 432x288 with 1 Axes>"
      ]
     },
     "metadata": {
      "needs_background": "light"
     },
     "output_type": "display_data"
    },
    {
     "data": {
      "image/png": "[encoded data removed]",
      "text/plain": [
       "<Figure size 432x288 with 1 Axes>"
      ]
     },
     "metadata": {
      "needs_background": "light"
     },
     "output_type": "display_data"
    },
    {
     "name": "stderr",
     "output_type": "stream",
     "text": [
      "C:\\Users\\Admin\\Anaconda3\\lib\\site-packages\\statsmodels\\nonparametric\\kde.py:487: RuntimeWarning: invalid value encountered in true_divide\n",
      "  binned = fast_linbin(X, a, b, gridsize) / (delta * nobs)\n",
      "C:\\Users\\Admin\\Anaconda3\\lib\\site-packages\\statsmodels\\nonparametric\\kdetools.py:34: RuntimeWarning: invalid value encountered in double_scalars\n",
      "  FAC1 = 2*(np.pi*bw/RANGE)**2\n"
     ]
    },
    {
     "data": {
      "image/png": "[encoded data removed]",
      "text/plain": [
       "<Figure size 432x288 with 1 Axes>"
      ]
     },
     "metadata": {
      "needs_background": "light"
     },
     "output_type": "display_data"
    },
    {
     "data": {
      "image/png": "[encoded data removed]",
      "text/plain": [
       "<Figure size 432x288 with 1 Axes>"
      ]
     },
     "metadata": {
      "needs_background": "light"
     },
     "output_type": "display_data"
    },
    {
     "data": {
      "image/png": "[encoded data removed]",
      "text/plain": [
       "<Figure size 432x288 with 1 Axes>"
      ]
     },
     "metadata": {
      "needs_background": "light"
     },
     "output_type": "display_data"
    },
    {
     "data": {
      "image/png": "[encoded data removed]",
      "text/plain": [
       "<Figure size 432x288 with 1 Axes>"
      ]
     },
     "metadata": {
      "needs_background": "light"
     },
     "output_type": "display_data"
    },
    {
     "data": {
      "image/png": "[encoded data removed]",
      "text/plain": [
       "<Figure size 432x288 with 1 Axes>"
      ]
     },
     "metadata": {
      "needs_background": "light"
     },
     "output_type": "display_data"
    },
    {
     "data": {
      "image/png": "[encoded data removed]",
      "text/plain": [
       "<Figure size 432x288 with 1 Axes>"
      ]
     },
     "metadata": {
      "needs_background": "light"
     },
     "output_type": "display_data"
    },
    {
     "data": {
      "image/png": "[encoded data removed]",
      "text/plain": [
       "<Figure size 432x288 with 1 Axes>"
      ]
     },
     "metadata": {
      "needs_background": "light"
     },
     "output_type": "display_data"
    },
    {
     "data": {
      "image/png": "[encoded data removed]",
      "text/plain": [
       "<Figure size 432x288 with 1 Axes>"
      ]
     },
     "metadata": {
      "needs_background": "light"
     },
     "output_type": "display_data"
    },
    {
     "data": {
      "image/png": "[encoded data removed]",
      "text/plain": [
       "<Figure size 432x288 with 1 Axes>"
      ]
     },
     "metadata": {
      "needs_background": "light"
     },
     "output_type": "display_data"
    },
    {
     "data": {
      "image/png": "[encoded data removed]",
      "text/plain": [
       "<Figure size 432x288 with 1 Axes>"
      ]
     },
     "metadata": {
      "needs_background": "light"
     },
     "output_type": "display_data"
    },
    {
     "data": {
      "image/png": "[encoded data removed]",
      "text/plain": [
       "<Figure size 432x288 with 1 Axes>"
      ]
     },
     "metadata": {
      "needs_background": "light"
     },
     "output_type": "display_data"
    },
    {
     "data": {
      "image/png": "[encoded data removed]",
      "text/plain": [
       "<Figure size 432x288 with 1 Axes>"
      ]
     },
     "metadata": {
      "needs_background": "light"
     },
     "output_type": "display_data"
    },
    {
     "data": {
      "image/png": "[encoded data removed]",
      "text/plain": [
       "<Figure size 432x288 with 1 Axes>"
      ]
     },
     "metadata": {
      "needs_background": "light"
     },
     "output_type": "display_data"
    },
    {
     "data": {
      "image/png": "[encoded data removed]",
      "text/plain": [
       "<Figure size 432x288 with 1 Axes>"
      ]
     },
     "metadata": {
      "needs_background": "light"
     },
     "output_type": "display_data"
    },
    {
     "data": {
      "text/plain": [
       "count                          None\n",
       "diff_srv_rate                  None\n",
       "dst_bytes                      None\n",
       "dst_host_count                 None\n",
       "dst_host_diff_srv_rate         None\n",
       "dst_host_rerror_rate           None\n",
       "dst_host_same_src_port_rate    None\n",
       "dst_host_same_srv_rate         None\n",
       "dst_host_serror_rate           None\n",
       "dst_host_srv_count             None\n",
       "dst_host_srv_diff_host_rate    None\n",
       "dst_host_srv_rerror_rate       None\n",
       "dst_host_srv_serror_rate       None\n",
       "duration                       None\n",
       "hot                            None\n",
       "last_flag                      None\n",
       "num_access_files               None\n",
       "num_compromised                None\n",
       "num_failed_logins              None\n",
       "num_file_creations             None\n",
       "num_outbound_cmds              None\n",
       "num_root                       None\n",
       "num_shells                     None\n",
       "rerror_rate                    None\n",
       "same_srv_rate                  None\n",
       "serror_rate                    None\n",
       "src_bytes                      None\n",
       "srv_count                      None\n",
       "srv_diff_host_rate             None\n",
       "srv_rerror_rate                None\n",
       "srv_serror_rate                None\n",
       "urgent                         None\n",
       "wrong_fragment                 None\n",
       "attack_dum                     None\n",
       "dtype: object"
      ]
     },
     "execution_count": 24,
     "metadata": {},
     "output_type": "execute_result"
    }
   ],
   "source": [
    "df_net_cont.apply(create_cont_plot)"
   ]
  },
  {
   "cell_type": "code",
   "execution_count": 141,
   "metadata": {},
   "outputs": [
    {
     "data": {
      "image/png": "[encoded data removed]",
      "text/plain": [
       "<Figure size 432x288 with 1 Axes>"
      ]
     },
     "metadata": {
      "needs_background": "light"
     },
     "output_type": "display_data"
    },
    {
     "data": {
      "image/png": "[encoded data removed]",
      "text/plain": [
       "<Figure size 432x288 with 1 Axes>"
      ]
     },
     "metadata": {
      "needs_background": "light"
     },
     "output_type": "display_data"
    },
    {
     "data": {
      "image/png": "[encoded data removed]",
      "text/plain": [
       "<Figure size 432x288 with 1 Axes>"
      ]
     },
     "metadata": {
      "needs_background": "light"
     },
     "output_type": "display_data"
    },
    {
     "data": {
      "image/png": "[encoded data removed]",
      "text/plain": [
       "<Figure size 432x288 with 1 Axes>"
      ]
     },
     "metadata": {
      "needs_background": "light"
     },
     "output_type": "display_data"
    },
    {
     "data": {
      "image/png": "[encoded data removed]",
      "text/plain": [
       "<Figure size 432x288 with 1 Axes>"
      ]
     },
     "metadata": {
      "needs_background": "light"
     },
     "output_type": "display_data"
    },
    {
     "data": {
      "image/png": "[encoded data removed]",
      "text/plain": [
       "<Figure size 432x288 with 1 Axes>"
      ]
     },
     "metadata": {
      "needs_background": "light"
     },
     "output_type": "display_data"
    },
    {
     "data": {
      "image/png": "[encoded data removed]",
      "text/plain": [
       "<Figure size 432x288 with 1 Axes>"
      ]
     },
     "metadata": {
      "needs_background": "light"
     },
     "output_type": "display_data"
    },
    {
     "data": {
      "image/png": "[encoded data removed]",
      "text/plain": [
       "<Figure size 432x288 with 1 Axes>"
      ]
     },
     "metadata": {
      "needs_background": "light"
     },
     "output_type": "display_data"
    },
    {
     "data": {
      "image/png": "[encoded data removed]",
      "text/plain": [
       "<Figure size 432x288 with 1 Axes>"
      ]
     },
     "metadata": {
      "needs_background": "light"
     },
     "output_type": "display_data"
    },
    {
     "data": {
      "text/plain": [
       "protocol_type     None\n",
       "service           None\n",
       "flag              None\n",
       "land              None\n",
       "logged_in         None\n",
       "root_shell        None\n",
       "su_attempted      None\n",
       "is_host_login     None\n",
       "is_guest_login    None\n",
       "dtype: object"
      ]
     },
     "execution_count": 141,
     "metadata": {},
     "output_type": "execute_result"
    }
   ],
   "source": [
    "df_net_cat.apply(create_cat_plot)"
   ]
  },
  {
   "cell_type": "code",
   "execution_count": 150,
   "metadata": {},
   "outputs": [],
   "source": [
    "### Create Dummy variables"
   ]
  },
  {
   "cell_type": "code",
   "execution_count": 20,
   "metadata": {},
   "outputs": [
    {
     "name": "stderr",
     "output_type": "stream",
     "text": [
      "C:\\Users\\Admin\\Anaconda3\\lib\\site-packages\\pandas\\core\\frame.py:4102: SettingWithCopyWarning: \n",
      "A value is trying to be set on a copy of a slice from a DataFrame\n",
      "\n",
      "See the caveats in the documentation: http://pandas.pydata.org/pandas-docs/stable/user_guide/indexing.html#returning-a-view-versus-a-copy\n",
      "  errors=errors,\n"
     ]
    }
   ],
   "source": [
    "df_net_cat.drop(columns='service',inplace= True)"
   ]
  },
  {
   "cell_type": "code",
   "execution_count": 21,
   "metadata": {},
   "outputs": [
    {
     "name": "stderr",
     "output_type": "stream",
     "text": [
      "C:\\Users\\Admin\\Anaconda3\\lib\\site-packages\\ipykernel_launcher.py:3: SettingWithCopyWarning: \n",
      "A value is trying to be set on a copy of a slice from a DataFrame.\n",
      "Try using .loc[row_indexer,col_indexer] = value instead\n",
      "\n",
      "See the caveats in the documentation: http://pandas.pydata.org/pandas-docs/stable/user_guide/indexing.html#returning-a-view-versus-a-copy\n",
      "  This is separate from the ipykernel package so we can avoid doing imports until\n"
     ]
    }
   ],
   "source": [
    "# for c_feature in categorical_features\n",
    "for c_feature in list(df_net_cat.columns):\n",
    "    df_net_cat[c_feature] = df_net_cat[c_feature].astype('category')\n",
    "    df_net_cat = create_dummies(df_net_cat, c_feature)\n"
   ]
  },
  {
   "cell_type": "code",
   "execution_count": 27,
   "metadata": {},
   "outputs": [],
   "source": [
    "net_corr=df_net_cont.corr()"
   ]
  },
  {
   "cell_type": "code",
   "execution_count": 28,
   "metadata": {},
   "outputs": [],
   "source": [
    "net_corr.to_excel('F:/analytix_labs/3. Network Intrusion Detection System/NSL_Dataset/net_corr.xlsx')"
   ]
  },
  {
   "cell_type": "code",
   "execution_count": 38,
   "metadata": {},
   "outputs": [
    {
     "data": {
      "text/plain": [
       "<matplotlib.axes._subplots.AxesSubplot at 0xe7cc408>"
      ]
     },
     "execution_count": 38,
     "metadata": {},
     "output_type": "execute_result"
    },
    {
     "data": {
      "image/png": "[encoded data removed]",
      "text/plain": [
       "<Figure size 864x648 with 2 Axes>"
      ]
     },
     "metadata": {
      "needs_background": "light"
     },
     "output_type": "display_data"
    }
   ],
   "source": [
    "plt.figure(figsize = (12, 9))\n",
    "sns.heatmap(df_net_cont.corr(), annot= False)"
   ]
  },
  {
   "cell_type": "code",
   "execution_count": 2,
   "metadata": {},
   "outputs": [],
   "source": [
    "### dropping unnecessary variable "
   ]
  },
  {
   "cell_type": "code",
   "execution_count": 22,
   "metadata": {},
   "outputs": [],
   "source": [
    "df_net_cont.drop(columns= 'num_outbound_cmds',inplace= True)"
   ]
  },
  {
   "cell_type": "code",
   "execution_count": 23,
   "metadata": {},
   "outputs": [
    {
     "data": {
      "text/plain": [
       "0    147327\n",
       "3       929\n",
       "1       261\n",
       "Name: wrong_fragment, dtype: int64"
      ]
     },
     "execution_count": 23,
     "metadata": {},
     "output_type": "execute_result"
    }
   ],
   "source": [
    "df_net_cont.wrong_fragment.value_counts()"
   ]
  },
  {
   "cell_type": "code",
   "execution_count": 31,
   "metadata": {},
   "outputs": [
    {
     "name": "stdout",
     "output_type": "stream",
     "text": [
      "<class 'pandas.core.frame.DataFrame'>\n",
      "Int64Index: 148517 entries, 0 to 22543\n",
      "Data columns (total 19 columns):\n",
      "protocol_type_tcp    148517 non-null uint8\n",
      "protocol_type_udp    148517 non-null uint8\n",
      "flag_REJ             148517 non-null uint8\n",
      "flag_RSTO            148517 non-null uint8\n",
      "flag_RSTOS0          148517 non-null uint8\n",
      "flag_RSTR            148517 non-null uint8\n",
      "flag_S0              148517 non-null uint8\n",
      "flag_S1              148517 non-null uint8\n",
      "flag_S2              148517 non-null uint8\n",
      "flag_S3              148517 non-null uint8\n",
      "flag_SF              148517 non-null uint8\n",
      "flag_SH              148517 non-null uint8\n",
      "land_1               148517 non-null uint8\n",
      "logged_in_1          148517 non-null uint8\n",
      "root_shell_1         148517 non-null uint8\n",
      "su_attempted_1       148517 non-null uint8\n",
      "su_attempted_2       148517 non-null uint8\n",
      "is_host_login_1      148517 non-null uint8\n",
      "is_guest_login_1     148517 non-null uint8\n",
      "dtypes: uint8(19)\n",
      "memory usage: 3.8 MB\n"
     ]
    }
   ],
   "source": [
    "df_net_cat.info()"
   ]
  },
  {
   "cell_type": "code",
   "execution_count": 106,
   "metadata": {},
   "outputs": [],
   "source": [
    "### Building Logistics Model"
   ]
  },
  {
   "cell_type": "code",
   "execution_count": 24,
   "metadata": {},
   "outputs": [],
   "source": [
    "df_net_new=pd.concat([df_net_cont,df_net_cat], axis = 1)"
   ]
  },
  {
   "cell_type": "code",
   "execution_count": 25,
   "metadata": {},
   "outputs": [],
   "source": [
    "# Train and Test split\n",
    "train, test = train_test_split(df_net_new, test_size = 0.3, random_state =  123)"
   ]
  },
  {
   "cell_type": "code",
   "execution_count": 26,
   "metadata": {},
   "outputs": [],
   "source": [
    "### Generating Feature columns"
   ]
  },
  {
   "cell_type": "code",
   "execution_count": 27,
   "metadata": {},
   "outputs": [],
   "source": [
    "feature_col =[]"
   ]
  },
  {
   "cell_type": "code",
   "execution_count": 28,
   "metadata": {},
   "outputs": [],
   "source": [
    "for i in list(train.columns) :\n",
    "     if i != 'attack_dum':\n",
    "            feature_col.append(i)\n",
    "            "
   ]
  },
  {
   "cell_type": "code",
   "execution_count": 29,
   "metadata": {},
   "outputs": [],
   "source": [
    "# get all the independant variables for model creation\n",
    "model_param = 'attack_dum ~ ' + ' + '.join(feature_col)"
   ]
  },
  {
   "cell_type": "code",
   "execution_count": 30,
   "metadata": {},
   "outputs": [
    {
     "data": {
      "text/plain": [
       "'attack_dum ~ count + diff_srv_rate + dst_bytes + dst_host_count + dst_host_diff_srv_rate + dst_host_rerror_rate + dst_host_same_src_port_rate + dst_host_same_srv_rate + dst_host_serror_rate + dst_host_srv_count + dst_host_srv_diff_host_rate + dst_host_srv_rerror_rate + dst_host_srv_serror_rate + duration + hot + last_flag + num_access_files + num_compromised + num_failed_logins + num_file_creations + num_root + num_shells + rerror_rate + same_srv_rate + serror_rate + src_bytes + srv_count + srv_diff_host_rate + srv_rerror_rate + srv_serror_rate + urgent + wrong_fragment + protocol_type_tcp + protocol_type_udp + flag_REJ + flag_RSTO + flag_RSTOS0 + flag_RSTR + flag_S0 + flag_S1 + flag_S2 + flag_S3 + flag_SF + flag_SH + land_1 + logged_in_1 + root_shell_1 + su_attempted_1 + su_attempted_2 + is_host_login_1 + is_guest_login_1'"
      ]
     },
     "execution_count": 30,
     "metadata": {},
     "output_type": "execute_result"
    }
   ],
   "source": [
    "model_param"
   ]
  },
  {
   "cell_type": "code",
   "execution_count": 31,
   "metadata": {},
   "outputs": [],
   "source": [
    "model_param='''attack_dum ~ count + diff_srv_rate + dst_bytes + dst_host_count + \n",
    "dst_host_diff_srv_rate + dst_host_same_src_port_rate + dst_host_same_srv_rate + dst_host_srv_count + dst_host_srv_diff_host_rate + duration + hot + last_flag + num_access_files + \n",
    "num_failed_logins + num_file_creations + num_root + num_shells + rerror_rate + same_srv_rate + serror_rate + src_bytes + \n",
    "srv_count + srv_diff_host_rate  + urgent + wrong_fragment + protocol_type_tcp + \n",
    "protocol_type_udp  + flag_RSTO + flag_RSTOS0 + flag_S1 + flag_S2 + flag_S3 + flag_SH + land_1 \n",
    "+ root_shell_1 + su_attempted_1 + su_attempted_2 + is_host_login_1 + is_guest_login_1\n",
    "'''"
   ]
  },
  {
   "cell_type": "code",
   "execution_count": 40,
   "metadata": {},
   "outputs": [],
   "source": [
    "### F_regression to remove multicolinearity"
   ]
  },
  {
   "cell_type": "code",
   "execution_count": 41,
   "metadata": {},
   "outputs": [],
   "source": [
    "from statsmodels.stats.outliers_influence import variance_inflation_factor\n",
    "from patsy import dmatrices"
   ]
  },
  {
   "cell_type": "code",
   "execution_count": 42,
   "metadata": {},
   "outputs": [],
   "source": [
    "\n",
    "# separate the Y and X variables\n",
    "y, X = dmatrices(model_param,df_net_new, return_type = 'dataframe')"
   ]
  },
  {
   "cell_type": "code",
   "execution_count": 43,
   "metadata": {},
   "outputs": [
    {
     "data": {
      "text/html": [
       "<div>\n",
       "<style scoped>\n",
       "    .dataframe tbody tr th:only-of-type {\n",
       "        vertical-align: middle;\n",
       "    }\n",
       "\n",
       "    .dataframe tbody tr th {\n",
       "        vertical-align: top;\n",
       "    }\n",
       "\n",
       "    .dataframe thead th {\n",
       "        text-align: right;\n",
       "    }\n",
       "</style>\n",
       "<table border=\"1\" class=\"dataframe\">\n",
       "  <thead>\n",
       "    <tr style=\"text-align: right;\">\n",
       "      <th></th>\n",
       "      <th>Features</th>\n",
       "      <th>VIF Factor</th>\n",
       "    </tr>\n",
       "  </thead>\n",
       "  <tbody>\n",
       "    <tr>\n",
       "      <td>0</td>\n",
       "      <td>Intercept</td>\n",
       "      <td>173.6</td>\n",
       "    </tr>\n",
       "    <tr>\n",
       "      <td>1</td>\n",
       "      <td>count</td>\n",
       "      <td>5.1</td>\n",
       "    </tr>\n",
       "    <tr>\n",
       "      <td>2</td>\n",
       "      <td>diff_srv_rate</td>\n",
       "      <td>2.0</td>\n",
       "    </tr>\n",
       "    <tr>\n",
       "      <td>3</td>\n",
       "      <td>dst_bytes</td>\n",
       "      <td>1.0</td>\n",
       "    </tr>\n",
       "    <tr>\n",
       "      <td>4</td>\n",
       "      <td>dst_host_count</td>\n",
       "      <td>2.2</td>\n",
       "    </tr>\n",
       "    <tr>\n",
       "      <td>5</td>\n",
       "      <td>dst_host_diff_srv_rate</td>\n",
       "      <td>2.7</td>\n",
       "    </tr>\n",
       "    <tr>\n",
       "      <td>6</td>\n",
       "      <td>dst_host_same_src_port_rate</td>\n",
       "      <td>2.3</td>\n",
       "    </tr>\n",
       "    <tr>\n",
       "      <td>7</td>\n",
       "      <td>dst_host_same_srv_rate</td>\n",
       "      <td>11.7</td>\n",
       "    </tr>\n",
       "    <tr>\n",
       "      <td>8</td>\n",
       "      <td>dst_host_srv_count</td>\n",
       "      <td>8.8</td>\n",
       "    </tr>\n",
       "    <tr>\n",
       "      <td>9</td>\n",
       "      <td>dst_host_srv_diff_host_rate</td>\n",
       "      <td>1.8</td>\n",
       "    </tr>\n",
       "    <tr>\n",
       "      <td>10</td>\n",
       "      <td>duration</td>\n",
       "      <td>1.3</td>\n",
       "    </tr>\n",
       "    <tr>\n",
       "      <td>11</td>\n",
       "      <td>hot</td>\n",
       "      <td>2.1</td>\n",
       "    </tr>\n",
       "    <tr>\n",
       "      <td>12</td>\n",
       "      <td>last_flag</td>\n",
       "      <td>1.4</td>\n",
       "    </tr>\n",
       "    <tr>\n",
       "      <td>13</td>\n",
       "      <td>num_access_files</td>\n",
       "      <td>1.5</td>\n",
       "    </tr>\n",
       "    <tr>\n",
       "      <td>14</td>\n",
       "      <td>num_failed_logins</td>\n",
       "      <td>1.1</td>\n",
       "    </tr>\n",
       "    <tr>\n",
       "      <td>15</td>\n",
       "      <td>num_file_creations</td>\n",
       "      <td>1.0</td>\n",
       "    </tr>\n",
       "    <tr>\n",
       "      <td>16</td>\n",
       "      <td>num_root</td>\n",
       "      <td>1.2</td>\n",
       "    </tr>\n",
       "    <tr>\n",
       "      <td>17</td>\n",
       "      <td>num_shells</td>\n",
       "      <td>1.1</td>\n",
       "    </tr>\n",
       "    <tr>\n",
       "      <td>18</td>\n",
       "      <td>rerror_rate</td>\n",
       "      <td>2.6</td>\n",
       "    </tr>\n",
       "    <tr>\n",
       "      <td>19</td>\n",
       "      <td>same_srv_rate</td>\n",
       "      <td>10.5</td>\n",
       "    </tr>\n",
       "    <tr>\n",
       "      <td>20</td>\n",
       "      <td>serror_rate</td>\n",
       "      <td>5.1</td>\n",
       "    </tr>\n",
       "    <tr>\n",
       "      <td>21</td>\n",
       "      <td>src_bytes</td>\n",
       "      <td>1.0</td>\n",
       "    </tr>\n",
       "    <tr>\n",
       "      <td>22</td>\n",
       "      <td>srv_count</td>\n",
       "      <td>4.2</td>\n",
       "    </tr>\n",
       "    <tr>\n",
       "      <td>23</td>\n",
       "      <td>srv_diff_host_rate</td>\n",
       "      <td>1.3</td>\n",
       "    </tr>\n",
       "    <tr>\n",
       "      <td>24</td>\n",
       "      <td>urgent</td>\n",
       "      <td>1.0</td>\n",
       "    </tr>\n",
       "    <tr>\n",
       "      <td>25</td>\n",
       "      <td>wrong_fragment</td>\n",
       "      <td>1.1</td>\n",
       "    </tr>\n",
       "    <tr>\n",
       "      <td>26</td>\n",
       "      <td>protocol_type_tcp</td>\n",
       "      <td>6.8</td>\n",
       "    </tr>\n",
       "    <tr>\n",
       "      <td>27</td>\n",
       "      <td>protocol_type_udp</td>\n",
       "      <td>4.2</td>\n",
       "    </tr>\n",
       "    <tr>\n",
       "      <td>28</td>\n",
       "      <td>flag_RSTO</td>\n",
       "      <td>1.1</td>\n",
       "    </tr>\n",
       "    <tr>\n",
       "      <td>29</td>\n",
       "      <td>flag_RSTOS0</td>\n",
       "      <td>1.0</td>\n",
       "    </tr>\n",
       "    <tr>\n",
       "      <td>30</td>\n",
       "      <td>flag_S1</td>\n",
       "      <td>1.0</td>\n",
       "    </tr>\n",
       "    <tr>\n",
       "      <td>31</td>\n",
       "      <td>flag_S2</td>\n",
       "      <td>1.0</td>\n",
       "    </tr>\n",
       "    <tr>\n",
       "      <td>32</td>\n",
       "      <td>flag_S3</td>\n",
       "      <td>1.0</td>\n",
       "    </tr>\n",
       "    <tr>\n",
       "      <td>33</td>\n",
       "      <td>flag_SH</td>\n",
       "      <td>1.1</td>\n",
       "    </tr>\n",
       "    <tr>\n",
       "      <td>34</td>\n",
       "      <td>land_1</td>\n",
       "      <td>1.0</td>\n",
       "    </tr>\n",
       "    <tr>\n",
       "      <td>35</td>\n",
       "      <td>root_shell_1</td>\n",
       "      <td>1.5</td>\n",
       "    </tr>\n",
       "    <tr>\n",
       "      <td>36</td>\n",
       "      <td>su_attempted_1</td>\n",
       "      <td>1.0</td>\n",
       "    </tr>\n",
       "    <tr>\n",
       "      <td>37</td>\n",
       "      <td>su_attempted_2</td>\n",
       "      <td>2.0</td>\n",
       "    </tr>\n",
       "    <tr>\n",
       "      <td>38</td>\n",
       "      <td>is_host_login_1</td>\n",
       "      <td>1.0</td>\n",
       "    </tr>\n",
       "    <tr>\n",
       "      <td>39</td>\n",
       "      <td>is_guest_login_1</td>\n",
       "      <td>2.2</td>\n",
       "    </tr>\n",
       "  </tbody>\n",
       "</table>\n",
       "</div>"
      ],
      "text/plain": [
       "                       Features  VIF Factor\n",
       "0                     Intercept       173.6\n",
       "1                         count         5.1\n",
       "2                 diff_srv_rate         2.0\n",
       "3                     dst_bytes         1.0\n",
       "4                dst_host_count         2.2\n",
       "5        dst_host_diff_srv_rate         2.7\n",
       "6   dst_host_same_src_port_rate         2.3\n",
       "7        dst_host_same_srv_rate        11.7\n",
       "8            dst_host_srv_count         8.8\n",
       "9   dst_host_srv_diff_host_rate         1.8\n",
       "10                     duration         1.3\n",
       "11                          hot         2.1\n",
       "12                    last_flag         1.4\n",
       "13             num_access_files         1.5\n",
       "14            num_failed_logins         1.1\n",
       "15           num_file_creations         1.0\n",
       "16                     num_root         1.2\n",
       "17                   num_shells         1.1\n",
       "18                  rerror_rate         2.6\n",
       "19                same_srv_rate        10.5\n",
       "20                  serror_rate         5.1\n",
       "21                    src_bytes         1.0\n",
       "22                    srv_count         4.2\n",
       "23           srv_diff_host_rate         1.3\n",
       "24                       urgent         1.0\n",
       "25               wrong_fragment         1.1\n",
       "26            protocol_type_tcp         6.8\n",
       "27            protocol_type_udp         4.2\n",
       "28                    flag_RSTO         1.1\n",
       "29                  flag_RSTOS0         1.0\n",
       "30                      flag_S1         1.0\n",
       "31                      flag_S2         1.0\n",
       "32                      flag_S3         1.0\n",
       "33                      flag_SH         1.1\n",
       "34                       land_1         1.0\n",
       "35                 root_shell_1         1.5\n",
       "36               su_attempted_1         1.0\n",
       "37               su_attempted_2         2.0\n",
       "38              is_host_login_1         1.0\n",
       "39             is_guest_login_1         2.2"
      ]
     },
     "execution_count": 43,
     "metadata": {},
     "output_type": "execute_result"
    }
   ],
   "source": [
    "# For each X, calculate VIF and save in dataframe\n",
    "vif = pd.DataFrame()\n",
    "vif['Features'] = X.columns\n",
    "vif['VIF Factor'] = [variance_inflation_factor(X.values, i) for i in range(X.shape[1])]\n",
    "\n",
    "# display the output\n",
    "vif.round(1)"
   ]
  },
  {
   "cell_type": "code",
   "execution_count": 32,
   "metadata": {},
   "outputs": [
    {
     "ename": "NameError",
     "evalue": "name 'vif' is not defined",
     "output_type": "error",
     "traceback": [
      "\u001b[1;31m---------------------------------------------------------------------------\u001b[0m",
      "\u001b[1;31mNameError\u001b[0m                                 Traceback (most recent call last)",
      "\u001b[1;32m<ipython-input-32-bb4f2b0e4d7b>\u001b[0m in \u001b[0;36m<module>\u001b[1;34m\u001b[0m\n\u001b[1;32m----> 1\u001b[1;33m \u001b[0mvif\u001b[0m\u001b[1;33m.\u001b[0m\u001b[0mto_excel\u001b[0m\u001b[1;33m(\u001b[0m\u001b[1;34m'F:/analytix_labs/3. Network Intrusion Detection System/NSL_Dataset/net_vif.xlsx'\u001b[0m\u001b[1;33m)\u001b[0m\u001b[1;33m\u001b[0m\u001b[1;33m\u001b[0m\u001b[0m\n\u001b[0m",
      "\u001b[1;31mNameError\u001b[0m: name 'vif' is not defined"
     ]
    }
   ],
   "source": [
    "vif.to_excel('F:/analytix_labs/3. Network Intrusion Detection System/NSL_Dataset/net_vif.xlsx')"
   ]
  },
  {
   "cell_type": "code",
   "execution_count": null,
   "metadata": {},
   "outputs": [],
   "source": []
  },
  {
   "cell_type": "code",
   "execution_count": 54,
   "metadata": {},
   "outputs": [
    {
     "name": "stdout",
     "output_type": "stream",
     "text": [
      "Warning: Maximum number of iterations has been exceeded.\n",
      "         Current function value: 0.107992\n",
      "         Iterations: 35\n"
     ]
    },
    {
     "name": "stderr",
     "output_type": "stream",
     "text": [
      "C:\\Users\\Admin\\Anaconda3\\lib\\site-packages\\statsmodels\\base\\model.py:512: ConvergenceWarning: Maximum Likelihood optimization failed to converge. Check mle_retvals\n",
      "  \"Check mle_retvals\", ConvergenceWarning)\n"
     ]
    }
   ],
   "source": [
    "m1 = smf.logit(formula = model_param, data = train).fit()"
   ]
  },
  {
   "cell_type": "code",
   "execution_count": 209,
   "metadata": {},
   "outputs": [
    {
     "name": "stdout",
     "output_type": "stream",
     "text": [
      "                           Logit Regression Results                           \n",
      "==============================================================================\n",
      "Dep. Variable:             attack_dum   No. Observations:               103961\n",
      "Model:                          Logit   Df Residuals:                   103921\n",
      "Method:                           MLE   Df Model:                           39\n",
      "Date:                Mon, 23 Mar 2020   Pseudo R-squ.:                  0.8441\n",
      "Time:                        15:28:46   Log-Likelihood:                -11227.\n",
      "converged:                      False   LL-Null:                       -71996.\n",
      "Covariance Type:            nonrobust   LLR p-value:                     0.000\n",
      "===============================================================================================\n",
      "                                  coef    std err          z      P>|z|      [0.025      0.975]\n",
      "-----------------------------------------------------------------------------------------------\n",
      "Intercept                      10.3963      0.198     52.436      0.000      10.008      10.785\n",
      "count                           0.0176      0.001     17.885      0.000       0.016       0.020\n",
      "diff_srv_rate                  -1.7911      0.109    -16.464      0.000      -2.004      -1.578\n",
      "dst_bytes                   -4.012e-09    8.4e-09     -0.477      0.633   -2.05e-08    1.25e-08\n",
      "dst_host_count                  0.0156      0.000     41.837      0.000       0.015       0.016\n",
      "dst_host_diff_srv_rate          2.4346      0.122     19.954      0.000       2.195       2.674\n",
      "dst_host_same_src_port_rate     1.5618      0.062     25.238      0.000       1.440       1.683\n",
      "dst_host_same_srv_rate          2.8907      0.124     23.279      0.000       2.647       3.134\n",
      "dst_host_srv_count             -0.0093      0.000    -21.307      0.000      -0.010      -0.008\n",
      "dst_host_srv_diff_host_rate     3.1577      0.184     17.133      0.000       2.796       3.519\n",
      "duration                     9.236e-05   9.63e-06      9.592      0.000    7.35e-05       0.000\n",
      "hot                             0.0125      0.010      1.293      0.196      -0.006       0.031\n",
      "last_flag                      -0.6476      0.008    -85.503      0.000      -0.662      -0.633\n",
      "num_access_files               -1.8369      0.432     -4.250      0.000      -2.684      -0.990\n",
      "num_failed_logins               1.9979      0.177     11.301      0.000       1.651       2.344\n",
      "num_file_creations             -0.4709      0.086     -5.486      0.000      -0.639      -0.303\n",
      "num_root                       -0.1035      0.018     -5.617      0.000      -0.140      -0.067\n",
      "num_shells                      0.9415      0.457      2.058      0.040       0.045       1.838\n",
      "rerror_rate                     3.3596      0.072     46.366      0.000       3.218       3.502\n",
      "same_srv_rate                  -2.6125      0.118    -22.080      0.000      -2.844      -2.381\n",
      "serror_rate                     5.7581      0.101     57.105      0.000       5.560       5.956\n",
      "src_bytes                    1.281e-07   4.53e-08      2.828      0.005    3.93e-08    2.17e-07\n",
      "srv_count                      -0.0155      0.001    -15.401      0.000      -0.017      -0.014\n",
      "srv_diff_host_rate              1.0250      0.071     14.503      0.000       0.886       1.164\n",
      "urgent                          1.9377      0.862      2.247      0.025       0.248       3.628\n",
      "wrong_fragment                  1.6250      0.077     21.057      0.000       1.474       1.776\n",
      "protocol_type_tcp              -2.7687      0.071    -38.956      0.000      -2.908      -2.629\n",
      "protocol_type_udp              -3.8665      0.067    -57.769      0.000      -3.998      -3.735\n",
      "flag_RSTO                      -0.9008      0.139     -6.493      0.000      -1.173      -0.629\n",
      "flag_RSTOS0                    -0.4344      1.149     -0.378      0.705      -2.686       1.817\n",
      "flag_S1                       -10.8153      0.530    -20.410      0.000     -11.854      -9.777\n",
      "flag_S2                        -6.1414      0.419    -14.670      0.000      -6.962      -5.321\n",
      "flag_S3                        -1.7701      0.234     -7.564      0.000      -2.229      -1.311\n",
      "flag_SH                         1.1355      0.751      1.512      0.131      -0.337       2.608\n",
      "land_1                         -5.0105      0.583     -8.600      0.000      -6.152      -3.869\n",
      "root_shell_1                    1.1217      0.714      1.572      0.116      -0.277       2.520\n",
      "su_attempted_1                 -2.8860      1.822     -1.584      0.113      -6.456       0.684\n",
      "su_attempted_2                -17.3664    472.565     -0.037      0.971    -943.577     908.845\n",
      "is_host_login_1                -0.8529      2.554     -0.334      0.738      -5.859       4.153\n",
      "is_guest_login_1                1.3062      0.164      7.987      0.000       0.986       1.627\n",
      "===============================================================================================\n"
     ]
    }
   ],
   "source": [
    "print(m1.summary())"
   ]
  },
  {
   "cell_type": "code",
   "execution_count": 211,
   "metadata": {},
   "outputs": [],
   "source": [
    "# predict the probabilities\n",
    "p = m1.predict(train)"
   ]
  },
  {
   "cell_type": "code",
   "execution_count": 216,
   "metadata": {},
   "outputs": [
    {
     "data": {
      "text/plain": [
       "0.9919848941766093"
      ]
     },
     "execution_count": 216,
     "metadata": {},
     "output_type": "execute_result"
    }
   ],
   "source": [
    "# get the AUC (Concordance)\n",
    "metrics.roc_auc_score(train['attack_dum'], p)"
   ]
  },
  {
   "cell_type": "code",
   "execution_count": 218,
   "metadata": {},
   "outputs": [
    {
     "data": {
      "text/plain": [
       "0.9839697883532186"
      ]
     },
     "execution_count": 218,
     "metadata": {},
     "output_type": "execute_result"
    }
   ],
   "source": [
    "# get the meaning of this statement\n",
    "2 * metrics.roc_auc_score(train['attack_dum'], p) - 1"
   ]
  },
  {
   "cell_type": "code",
   "execution_count": 219,
   "metadata": {},
   "outputs": [],
   "source": [
    "### get Sommer'D for all X variables"
   ]
  },
  {
   "cell_type": "code",
   "execution_count": 239,
   "metadata": {},
   "outputs": [
    {
     "name": "stdout",
     "output_type": "stream",
     "text": [
      "Optimization terminated successfully.\n",
      "         Current function value: 0.516230\n",
      "         Iterations 6\n",
      "Optimization terminated successfully.\n",
      "         Current function value: 0.664631\n",
      "         Iterations 7\n",
      "Optimization terminated successfully.\n",
      "         Current function value: 0.692429\n",
      "         Iterations 6\n",
      "Optimization terminated successfully.\n",
      "         Current function value: 0.618243\n",
      "         Iterations 5\n",
      "Optimization terminated successfully.\n",
      "         Current function value: 0.656695\n",
      "         Iterations 7\n",
      "Optimization terminated successfully.\n",
      "         Current function value: 0.643208\n",
      "         Iterations 6\n",
      "Optimization terminated successfully.\n",
      "         Current function value: 0.689113\n",
      "         Iterations 4\n",
      "Optimization terminated successfully.\n",
      "         Current function value: 0.446227\n",
      "         Iterations 6\n",
      "Optimization terminated successfully.\n",
      "         Current function value: 0.479450\n",
      "         Iterations 8\n",
      "Optimization terminated successfully.\n",
      "         Current function value: 0.418808\n",
      "         Iterations 6\n",
      "Optimization terminated successfully.\n",
      "         Current function value: 0.691012\n",
      "         Iterations 4\n",
      "Optimization terminated successfully.\n",
      "         Current function value: 0.644254\n",
      "         Iterations 6\n",
      "Optimization terminated successfully.\n",
      "         Current function value: 0.472943\n",
      "         Iterations 9\n",
      "Optimization terminated successfully.\n",
      "         Current function value: 0.690980\n",
      "         Iterations 5\n",
      "Optimization terminated successfully.\n",
      "         Current function value: 0.664892\n",
      "         Iterations 5\n",
      "Optimization terminated successfully.\n",
      "         Current function value: 0.685882\n",
      "         Iterations 6\n",
      "Optimization terminated successfully.\n",
      "         Current function value: 0.691960\n",
      "         Iterations 9\n",
      "Optimization terminated successfully.\n",
      "         Current function value: 0.681937\n",
      "         Iterations 7\n",
      "Optimization terminated successfully.\n",
      "         Current function value: 0.480695\n",
      "         Iterations 9\n",
      "Optimization terminated successfully.\n",
      "         Current function value: 0.691128\n",
      "         Iterations 7\n",
      "Optimization terminated successfully.\n",
      "         Current function value: 0.692126\n",
      "         Iterations 6\n",
      "Optimization terminated successfully.\n",
      "         Current function value: 0.691891\n",
      "         Iterations 6\n",
      "Optimization terminated successfully.\n",
      "         Current function value: 0.390929\n",
      "         Iterations 7\n",
      "Optimization terminated successfully.\n",
      "         Current function value: 0.690825\n",
      "         Iterations 9\n",
      "Optimization terminated successfully.\n",
      "         Current function value: 0.692392\n",
      "         Iterations 4\n",
      "Optimization terminated successfully.\n",
      "         Current function value: 0.692431\n",
      "         Iterations 3\n",
      "Optimization terminated successfully.\n",
      "         Current function value: 0.692403\n",
      "         Iterations 6\n",
      "Optimization terminated successfully.\n",
      "         Current function value: 0.692398\n",
      "         Iterations 5\n",
      "Optimization terminated successfully.\n",
      "         Current function value: 0.595609\n",
      "         Iterations 6\n",
      "Optimization terminated successfully.\n",
      "         Current function value: 0.442831\n",
      "         Iterations 6\n",
      "Optimization terminated successfully.\n",
      "         Current function value: 0.691264\n",
      "         Iterations 7\n",
      "Optimization terminated successfully.\n",
      "         Current function value: 0.692216\n",
      "         Iterations 9\n",
      "Optimization terminated successfully.\n",
      "         Current function value: 0.691368\n",
      "         Iterations 6\n",
      "Optimization terminated successfully.\n",
      "         Current function value: 0.692160\n",
      "         Iterations 8\n",
      "Optimization terminated successfully.\n",
      "         Current function value: 0.691940\n",
      "         Iterations 11\n",
      "Optimization terminated successfully.\n",
      "         Current function value: 0.692438\n",
      "         Iterations 3\n",
      "Optimization terminated successfully.\n",
      "         Current function value: 0.690805\n",
      "         Iterations 4\n",
      "Optimization terminated successfully.\n",
      "         Current function value: 0.668462\n",
      "         Iterations 5\n",
      "Optimization terminated successfully.\n",
      "         Current function value: 0.643458\n",
      "         Iterations 6\n",
      "Optimization terminated successfully.\n",
      "         Current function value: 0.692345\n",
      "         Iterations 5\n",
      "Optimization terminated successfully.\n",
      "         Current function value: 0.396061\n",
      "         Iterations 7\n",
      "Optimization terminated successfully.\n",
      "         Current function value: 0.481915\n",
      "         Iterations 8\n",
      "Optimization terminated successfully.\n",
      "         Current function value: 0.692417\n",
      "         Iterations 7\n",
      "Optimization terminated successfully.\n",
      "         Current function value: 0.692326\n",
      "         Iterations 3\n",
      "Optimization terminated successfully.\n",
      "         Current function value: 0.685835\n",
      "         Iterations 5\n",
      "Optimization terminated successfully.\n",
      "         Current function value: 0.643972\n",
      "         Iterations 6\n",
      "Optimization terminated successfully.\n",
      "         Current function value: 0.483408\n",
      "         Iterations 8\n",
      "Optimization terminated successfully.\n",
      "         Current function value: 0.692382\n",
      "         Iterations 6\n",
      "Warning: Maximum number of iterations has been exceeded.\n",
      "         Current function value: 0.692169\n",
      "         Iterations: 35\n"
     ]
    },
    {
     "ename": "LinAlgError",
     "evalue": "Singular matrix",
     "output_type": "error",
     "traceback": [
      "\u001b[1;31m---------------------------------------------------------------------------\u001b[0m",
      "\u001b[1;31mLinAlgError\u001b[0m                               Traceback (most recent call last)",
      "\u001b[1;32m<ipython-input-239-fb1049ddab71>\u001b[0m in \u001b[0;36m<module>\u001b[1;34m\u001b[0m\n\u001b[0;32m      6\u001b[0m \u001b[1;33m\u001b[0m\u001b[0m\n\u001b[0;32m      7\u001b[0m     \u001b[1;31m# execute teh logit model\u001b[0m\u001b[1;33m\u001b[0m\u001b[1;33m\u001b[0m\u001b[1;33m\u001b[0m\u001b[0m\n\u001b[1;32m----> 8\u001b[1;33m     \u001b[0mlogreg\u001b[0m \u001b[1;33m=\u001b[0m \u001b[0msmf\u001b[0m\u001b[1;33m.\u001b[0m\u001b[0mlogit\u001b[0m\u001b[1;33m(\u001b[0m\u001b[0mformula\u001b[0m \u001b[1;33m=\u001b[0m \u001b[0mstr\u001b[0m\u001b[1;33m(\u001b[0m\u001b[1;34m'attack_dum ~ '\u001b[0m\u001b[1;33m)\u001b[0m \u001b[1;33m+\u001b[0m \u001b[0mstr\u001b[0m\u001b[1;33m(\u001b[0m\u001b[0mnum_variable\u001b[0m\u001b[1;33m)\u001b[0m\u001b[1;33m,\u001b[0m \u001b[0mdata\u001b[0m \u001b[1;33m=\u001b[0m \u001b[0mdf_net_new\u001b[0m\u001b[1;33m)\u001b[0m\u001b[1;33m.\u001b[0m\u001b[0mfit\u001b[0m\u001b[1;33m(\u001b[0m\u001b[1;33m)\u001b[0m\u001b[1;33m\u001b[0m\u001b[1;33m\u001b[0m\u001b[0m\n\u001b[0m\u001b[0;32m      9\u001b[0m \u001b[1;33m\u001b[0m\u001b[0m\n\u001b[0;32m     10\u001b[0m     \u001b[1;31m# get the predicted probabilities and create a dataframe with the predicted values\u001b[0m\u001b[1;33m\u001b[0m\u001b[1;33m\u001b[0m\u001b[1;33m\u001b[0m\u001b[0m\n",
      "\u001b[1;32m~\\Anaconda3\\lib\\site-packages\\statsmodels\\discrete\\discrete_model.py\u001b[0m in \u001b[0;36mfit\u001b[1;34m(self, start_params, method, maxiter, full_output, disp, callback, **kwargs)\u001b[0m\n\u001b[0;32m   1900\u001b[0m         bnryfit = super(Logit, self).fit(start_params=start_params,\n\u001b[0;32m   1901\u001b[0m                 \u001b[0mmethod\u001b[0m\u001b[1;33m=\u001b[0m\u001b[0mmethod\u001b[0m\u001b[1;33m,\u001b[0m \u001b[0mmaxiter\u001b[0m\u001b[1;33m=\u001b[0m\u001b[0mmaxiter\u001b[0m\u001b[1;33m,\u001b[0m \u001b[0mfull_output\u001b[0m\u001b[1;33m=\u001b[0m\u001b[0mfull_output\u001b[0m\u001b[1;33m,\u001b[0m\u001b[1;33m\u001b[0m\u001b[1;33m\u001b[0m\u001b[0m\n\u001b[1;32m-> 1902\u001b[1;33m                 disp=disp, callback=callback, **kwargs)\n\u001b[0m\u001b[0;32m   1903\u001b[0m \u001b[1;33m\u001b[0m\u001b[0m\n\u001b[0;32m   1904\u001b[0m         \u001b[0mdiscretefit\u001b[0m \u001b[1;33m=\u001b[0m \u001b[0mLogitResults\u001b[0m\u001b[1;33m(\u001b[0m\u001b[0mself\u001b[0m\u001b[1;33m,\u001b[0m \u001b[0mbnryfit\u001b[0m\u001b[1;33m)\u001b[0m\u001b[1;33m\u001b[0m\u001b[1;33m\u001b[0m\u001b[0m\n",
      "\u001b[1;32m~\\Anaconda3\\lib\\site-packages\\statsmodels\\discrete\\discrete_model.py\u001b[0m in \u001b[0;36mfit\u001b[1;34m(self, start_params, method, maxiter, full_output, disp, callback, **kwargs)\u001b[0m\n\u001b[0;32m    215\u001b[0m         mlefit = super(DiscreteModel, self).fit(start_params=start_params,\n\u001b[0;32m    216\u001b[0m                 \u001b[0mmethod\u001b[0m\u001b[1;33m=\u001b[0m\u001b[0mmethod\u001b[0m\u001b[1;33m,\u001b[0m \u001b[0mmaxiter\u001b[0m\u001b[1;33m=\u001b[0m\u001b[0mmaxiter\u001b[0m\u001b[1;33m,\u001b[0m \u001b[0mfull_output\u001b[0m\u001b[1;33m=\u001b[0m\u001b[0mfull_output\u001b[0m\u001b[1;33m,\u001b[0m\u001b[1;33m\u001b[0m\u001b[1;33m\u001b[0m\u001b[0m\n\u001b[1;32m--> 217\u001b[1;33m                 disp=disp, callback=callback, **kwargs)\n\u001b[0m\u001b[0;32m    218\u001b[0m \u001b[1;33m\u001b[0m\u001b[0m\n\u001b[0;32m    219\u001b[0m         \u001b[1;32mreturn\u001b[0m \u001b[0mmlefit\u001b[0m \u001b[1;31m# up to subclasses to wrap results\u001b[0m\u001b[1;33m\u001b[0m\u001b[1;33m\u001b[0m\u001b[0m\n",
      "\u001b[1;32m~\\Anaconda3\\lib\\site-packages\\statsmodels\\base\\model.py\u001b[0m in \u001b[0;36mfit\u001b[1;34m(self, start_params, method, maxiter, full_output, disp, fargs, callback, retall, skip_hessian, **kwargs)\u001b[0m\n\u001b[0;32m    475\u001b[0m             \u001b[0mHinv\u001b[0m \u001b[1;33m=\u001b[0m \u001b[0mcov_params_func\u001b[0m\u001b[1;33m(\u001b[0m\u001b[0mself\u001b[0m\u001b[1;33m,\u001b[0m \u001b[0mxopt\u001b[0m\u001b[1;33m,\u001b[0m \u001b[0mretvals\u001b[0m\u001b[1;33m)\u001b[0m\u001b[1;33m\u001b[0m\u001b[1;33m\u001b[0m\u001b[0m\n\u001b[0;32m    476\u001b[0m         \u001b[1;32melif\u001b[0m \u001b[0mmethod\u001b[0m \u001b[1;33m==\u001b[0m \u001b[1;34m'newton'\u001b[0m \u001b[1;32mand\u001b[0m \u001b[0mfull_output\u001b[0m\u001b[1;33m:\u001b[0m\u001b[1;33m\u001b[0m\u001b[1;33m\u001b[0m\u001b[0m\n\u001b[1;32m--> 477\u001b[1;33m             \u001b[0mHinv\u001b[0m \u001b[1;33m=\u001b[0m \u001b[0mnp\u001b[0m\u001b[1;33m.\u001b[0m\u001b[0mlinalg\u001b[0m\u001b[1;33m.\u001b[0m\u001b[0minv\u001b[0m\u001b[1;33m(\u001b[0m\u001b[1;33m-\u001b[0m\u001b[0mretvals\u001b[0m\u001b[1;33m[\u001b[0m\u001b[1;34m'Hessian'\u001b[0m\u001b[1;33m]\u001b[0m\u001b[1;33m)\u001b[0m \u001b[1;33m/\u001b[0m \u001b[0mnobs\u001b[0m\u001b[1;33m\u001b[0m\u001b[1;33m\u001b[0m\u001b[0m\n\u001b[0m\u001b[0;32m    478\u001b[0m         \u001b[1;32melif\u001b[0m \u001b[1;32mnot\u001b[0m \u001b[0mskip_hessian\u001b[0m\u001b[1;33m:\u001b[0m\u001b[1;33m\u001b[0m\u001b[1;33m\u001b[0m\u001b[0m\n\u001b[0;32m    479\u001b[0m             \u001b[0mH\u001b[0m \u001b[1;33m=\u001b[0m \u001b[1;33m-\u001b[0m\u001b[1;36m1\u001b[0m \u001b[1;33m*\u001b[0m \u001b[0mself\u001b[0m\u001b[1;33m.\u001b[0m\u001b[0mhessian\u001b[0m\u001b[1;33m(\u001b[0m\u001b[0mxopt\u001b[0m\u001b[1;33m)\u001b[0m\u001b[1;33m\u001b[0m\u001b[1;33m\u001b[0m\u001b[0m\n",
      "\u001b[1;32m~\\Anaconda3\\lib\\site-packages\\numpy\\linalg\\linalg.py\u001b[0m in \u001b[0;36minv\u001b[1;34m(a)\u001b[0m\n\u001b[0;32m    549\u001b[0m     \u001b[0msignature\u001b[0m \u001b[1;33m=\u001b[0m \u001b[1;34m'D->D'\u001b[0m \u001b[1;32mif\u001b[0m \u001b[0misComplexType\u001b[0m\u001b[1;33m(\u001b[0m\u001b[0mt\u001b[0m\u001b[1;33m)\u001b[0m \u001b[1;32melse\u001b[0m \u001b[1;34m'd->d'\u001b[0m\u001b[1;33m\u001b[0m\u001b[1;33m\u001b[0m\u001b[0m\n\u001b[0;32m    550\u001b[0m     \u001b[0mextobj\u001b[0m \u001b[1;33m=\u001b[0m \u001b[0mget_linalg_error_extobj\u001b[0m\u001b[1;33m(\u001b[0m\u001b[0m_raise_linalgerror_singular\u001b[0m\u001b[1;33m)\u001b[0m\u001b[1;33m\u001b[0m\u001b[1;33m\u001b[0m\u001b[0m\n\u001b[1;32m--> 551\u001b[1;33m     \u001b[0mainv\u001b[0m \u001b[1;33m=\u001b[0m \u001b[0m_umath_linalg\u001b[0m\u001b[1;33m.\u001b[0m\u001b[0minv\u001b[0m\u001b[1;33m(\u001b[0m\u001b[0ma\u001b[0m\u001b[1;33m,\u001b[0m \u001b[0msignature\u001b[0m\u001b[1;33m=\u001b[0m\u001b[0msignature\u001b[0m\u001b[1;33m,\u001b[0m \u001b[0mextobj\u001b[0m\u001b[1;33m=\u001b[0m\u001b[0mextobj\u001b[0m\u001b[1;33m)\u001b[0m\u001b[1;33m\u001b[0m\u001b[1;33m\u001b[0m\u001b[0m\n\u001b[0m\u001b[0;32m    552\u001b[0m     \u001b[1;32mreturn\u001b[0m \u001b[0mwrap\u001b[0m\u001b[1;33m(\u001b[0m\u001b[0mainv\u001b[0m\u001b[1;33m.\u001b[0m\u001b[0mastype\u001b[0m\u001b[1;33m(\u001b[0m\u001b[0mresult_t\u001b[0m\u001b[1;33m,\u001b[0m \u001b[0mcopy\u001b[0m\u001b[1;33m=\u001b[0m\u001b[1;32mFalse\u001b[0m\u001b[1;33m)\u001b[0m\u001b[1;33m)\u001b[0m\u001b[1;33m\u001b[0m\u001b[1;33m\u001b[0m\u001b[0m\n\u001b[0;32m    553\u001b[0m \u001b[1;33m\u001b[0m\u001b[0m\n",
      "\u001b[1;32m~\\Anaconda3\\lib\\site-packages\\numpy\\linalg\\linalg.py\u001b[0m in \u001b[0;36m_raise_linalgerror_singular\u001b[1;34m(err, flag)\u001b[0m\n\u001b[0;32m     95\u001b[0m \u001b[1;33m\u001b[0m\u001b[0m\n\u001b[0;32m     96\u001b[0m \u001b[1;32mdef\u001b[0m \u001b[0m_raise_linalgerror_singular\u001b[0m\u001b[1;33m(\u001b[0m\u001b[0merr\u001b[0m\u001b[1;33m,\u001b[0m \u001b[0mflag\u001b[0m\u001b[1;33m)\u001b[0m\u001b[1;33m:\u001b[0m\u001b[1;33m\u001b[0m\u001b[1;33m\u001b[0m\u001b[0m\n\u001b[1;32m---> 97\u001b[1;33m     \u001b[1;32mraise\u001b[0m \u001b[0mLinAlgError\u001b[0m\u001b[1;33m(\u001b[0m\u001b[1;34m\"Singular matrix\"\u001b[0m\u001b[1;33m)\u001b[0m\u001b[1;33m\u001b[0m\u001b[1;33m\u001b[0m\u001b[0m\n\u001b[0m\u001b[0;32m     98\u001b[0m \u001b[1;33m\u001b[0m\u001b[0m\n\u001b[0;32m     99\u001b[0m \u001b[1;32mdef\u001b[0m \u001b[0m_raise_linalgerror_nonposdef\u001b[0m\u001b[1;33m(\u001b[0m\u001b[0merr\u001b[0m\u001b[1;33m,\u001b[0m \u001b[0mflag\u001b[0m\u001b[1;33m)\u001b[0m\u001b[1;33m:\u001b[0m\u001b[1;33m\u001b[0m\u001b[1;33m\u001b[0m\u001b[0m\n",
      "\u001b[1;31mLinAlgError\u001b[0m: Singular matrix"
     ]
    }
   ],
   "source": [
    "# empty dataframe\n",
    "somersd_df = pd.DataFrame()\n",
    "\n",
    "# iterate for each of the X - dependant variables and get the Somer's D value\n",
    "for num_variable in df_net_new.columns.difference(['attack_dum']):\n",
    "    \n",
    "    # execute teh logit model\n",
    "    logreg = smf.logit(formula = str('attack_dum ~ ') + str(num_variable), data = df_net_new).fit()\n",
    "    \n",
    "    # get the predicted probabilities and create a dataframe with the predicted values\n",
    "    y_score = pd.DataFrame(logreg.predict())\n",
    "    \n",
    "    # name the column of the df as score\n",
    "    y_score.columns = ['Score']\n",
    "    \n",
    "    # calculate the Somer's D values\n",
    "    somers_d = 2 * metrics.roc_auc_score(df_net_new['attack_dum'], y_score) - 1\n",
    "    \n",
    "    # place the variable name and the Somers' D score in a temp dataframe\n",
    "    temp = pd.DataFrame([num_variable, somers_d]).T\n",
    "    temp.columns = ['Variable Name', 'SomersD']\n",
    "    \n",
    "    # append the data in the dataframe for all the X variables\n",
    "    somersd_df = pd.concat([somersd_df, temp], axis=0)"
   ]
  },
  {
   "cell_type": "code",
   "execution_count": 241,
   "metadata": {},
   "outputs": [],
   "source": [
    "somersd_df['Var_Sig']=np.where(somersd_df.SomersD < 0.2 , 'Insig','Sig')"
   ]
  },
  {
   "cell_type": "code",
   "execution_count": 242,
   "metadata": {},
   "outputs": [],
   "source": [
    "l1=list(somersd_df.loc[somersd_df.Var_Sig == 'Sig','Variable Name'])"
   ]
  },
  {
   "cell_type": "code",
   "execution_count": 243,
   "metadata": {},
   "outputs": [],
   "source": [
    "model_par= 'attack_dum ~ ' + ' + '.join(l1)"
   ]
  },
  {
   "cell_type": "code",
   "execution_count": 244,
   "metadata": {},
   "outputs": [
    {
     "data": {
      "text/plain": [
       "'attack_dum ~ count + diff_srv_rate + dst_host_count + dst_host_diff_srv_rate + dst_host_rerror_rate + dst_host_same_srv_rate + dst_host_serror_rate + dst_host_srv_count + dst_host_srv_rerror_rate + dst_host_srv_serror_rate + flag_S0 + flag_SF + last_flag + logged_in_1 + rerror_rate + same_srv_rate + serror_rate + srv_diff_host_rate + srv_rerror_rate + srv_serror_rate'"
      ]
     },
     "execution_count": 244,
     "metadata": {},
     "output_type": "execute_result"
    }
   ],
   "source": [
    "model_par"
   ]
  },
  {
   "cell_type": "code",
   "execution_count": 245,
   "metadata": {},
   "outputs": [
    {
     "name": "stdout",
     "output_type": "stream",
     "text": [
      "Optimization terminated successfully.\n",
      "         Current function value: 0.152278\n",
      "         Iterations 10\n"
     ]
    }
   ],
   "source": [
    "m1 = smf.logit(formula = model_par, data = train).fit()"
   ]
  },
  {
   "cell_type": "code",
   "execution_count": 246,
   "metadata": {},
   "outputs": [
    {
     "name": "stdout",
     "output_type": "stream",
     "text": [
      "                           Logit Regression Results                           \n",
      "==============================================================================\n",
      "Dep. Variable:             attack_dum   No. Observations:               103961\n",
      "Model:                          Logit   Df Residuals:                   103940\n",
      "Method:                           MLE   Df Model:                           20\n",
      "Date:                Mon, 23 Mar 2020   Pseudo R-squ.:                  0.7801\n",
      "Time:                        16:21:22   Log-Likelihood:                -15831.\n",
      "converged:                       True   LL-Null:                       -71996.\n",
      "Covariance Type:            nonrobust   LLR p-value:                     0.000\n",
      "============================================================================================\n",
      "                               coef    std err          z      P>|z|      [0.025      0.975]\n",
      "--------------------------------------------------------------------------------------------\n",
      "Intercept                    8.7239      0.246     35.499      0.000       8.242       9.206\n",
      "count                        0.0052      0.000     41.680      0.000       0.005       0.005\n",
      "diff_srv_rate               -1.9096      0.101    -18.887      0.000      -2.108      -1.711\n",
      "dst_host_count               0.0064      0.000     23.232      0.000       0.006       0.007\n",
      "dst_host_diff_srv_rate       1.2899      0.096     13.461      0.000       1.102       1.478\n",
      "dst_host_rerror_rate         0.7605      0.095      8.016      0.000       0.575       0.946\n",
      "dst_host_same_srv_rate       2.2687      0.099     22.804      0.000       2.074       2.464\n",
      "dst_host_serror_rate        -0.9665      0.167     -5.795      0.000      -1.293      -0.640\n",
      "dst_host_srv_count          -0.0119      0.000    -33.253      0.000      -0.013      -0.011\n",
      "dst_host_srv_rerror_rate     0.0894      0.154      0.582      0.561      -0.212       0.391\n",
      "dst_host_srv_serror_rate     3.0116      0.188     16.030      0.000       2.643       3.380\n",
      "flag_S0                      2.5435      0.148     17.142      0.000       2.253       2.834\n",
      "flag_SF                      3.3030      0.198     16.666      0.000       2.915       3.691\n",
      "last_flag                   -0.6640      0.007    -94.570      0.000      -0.678      -0.650\n",
      "logged_in_1                 -1.4258      0.043    -33.155      0.000      -1.510      -1.341\n",
      "rerror_rate                  0.1838      0.316      0.582      0.560      -0.435       0.802\n",
      "same_srv_rate               -2.7598      0.078    -35.445      0.000      -2.912      -2.607\n",
      "serror_rate                 -0.6251      0.315     -1.986      0.047      -1.242      -0.008\n",
      "srv_diff_host_rate           1.7811      0.052     34.084      0.000       1.679       1.884\n",
      "srv_rerror_rate              4.8287      0.315     15.315      0.000       4.211       5.447\n",
      "srv_serror_rate              4.5819      0.314     14.605      0.000       3.967       5.197\n",
      "============================================================================================\n"
     ]
    }
   ],
   "source": [
    "print(m1.summary())"
   ]
  },
  {
   "cell_type": "code",
   "execution_count": 252,
   "metadata": {},
   "outputs": [
    {
     "name": "stderr",
     "output_type": "stream",
     "text": [
      "C:\\Users\\Admin\\Anaconda3\\lib\\site-packages\\ipykernel_launcher.py:2: SettingWithCopyWarning: \n",
      "A value is trying to be set on a copy of a slice from a DataFrame.\n",
      "Try using .loc[row_indexer,col_indexer] = value instead\n",
      "\n",
      "See the caveats in the documentation: http://pandas.pydata.org/pandas-docs/stable/user_guide/indexing.html#returning-a-view-versus-a-copy\n",
      "  \n"
     ]
    }
   ],
   "source": [
    "# predict the values on training and testing\n",
    "train['pred_prob'] = m1.predict(train)\n",
    "train_predict = m1.predict(train)\n",
    "test_predict = m1.predict(test)"
   ]
  },
  {
   "cell_type": "code",
   "execution_count": 254,
   "metadata": {},
   "outputs": [
    {
     "data": {
      "text/plain": [
       "0.48236357864968593"
      ]
     },
     "execution_count": 254,
     "metadata": {},
     "output_type": "execute_result"
    }
   ],
   "source": [
    "train.attack_dum.mean()"
   ]
  },
  {
   "cell_type": "code",
   "execution_count": 237,
   "metadata": {},
   "outputs": [
    {
     "data": {
      "text/plain": [
       "0.9857563371040389"
      ]
     },
     "execution_count": 237,
     "metadata": {},
     "output_type": "execute_result"
    }
   ],
   "source": [
    "metrics.roc_auc_score(train['attack_dum'], p)"
   ]
  },
  {
   "cell_type": "code",
   "execution_count": 255,
   "metadata": {},
   "outputs": [
    {
     "data": {
      "text/plain": [
       "0.9480189686517059"
      ]
     },
     "execution_count": 255,
     "metadata": {},
     "output_type": "execute_result"
    }
   ],
   "source": [
    "metrics.accuracy_score( train['attack_dum'],\n",
    "                            train_predict>0.482)"
   ]
  },
  {
   "cell_type": "code",
   "execution_count": 257,
   "metadata": {},
   "outputs": [
    {
     "name": "stdout",
     "output_type": "stream",
     "text": [
      "The AUC for the model built on the Train Data is :  0.9857563371040389\n",
      "The AUC for the model built on the Test Data is :  0.9853729806769636\n"
     ]
    }
   ],
   "source": [
    "# model performance | Method 1: AUC\n",
    "train_auc = metrics.roc_auc_score(train['attack_dum'], train_predict)\n",
    "test_auc = metrics.roc_auc_score(test['attack_dum'], test_predict)\n",
    "\n",
    "print(\"The AUC for the model built on the Train Data is : \", train_auc)\n",
    "print(\"The AUC for the model built on the Test Data is : \", test_auc)"
   ]
  },
  {
   "cell_type": "code",
   "execution_count": 261,
   "metadata": {},
   "outputs": [],
   "source": [
    "## Intuition behind ROC curve - predicted probability as a tool for separating the '1's and '0's\n",
    "train_predicted_prob = pd.DataFrame(train_predict)\n",
    "train_predicted_prob.columns = ['prob']\n",
    "\n",
    "# making a DataFrame with actual and prob columns\n",
    "train_pf = pd.concat([train['attack_dum'], train_predicted_prob], axis = 1)\n",
    "train_pf.columns = ['actual', 'prob']"
   ]
  },
  {
   "cell_type": "code",
   "execution_count": 262,
   "metadata": {},
   "outputs": [
    {
     "data": {
      "text/html": [
       "<div>\n",
       "<style scoped>\n",
       "    .dataframe tbody tr th:only-of-type {\n",
       "        vertical-align: middle;\n",
       "    }\n",
       "\n",
       "    .dataframe tbody tr th {\n",
       "        vertical-align: top;\n",
       "    }\n",
       "\n",
       "    .dataframe thead th {\n",
       "        text-align: right;\n",
       "    }\n",
       "</style>\n",
       "<table border=\"1\" class=\"dataframe\">\n",
       "  <thead>\n",
       "    <tr style=\"text-align: right;\">\n",
       "      <th></th>\n",
       "      <th>actual</th>\n",
       "      <th>prob</th>\n",
       "    </tr>\n",
       "  </thead>\n",
       "  <tbody>\n",
       "    <tr>\n",
       "      <td>87015</td>\n",
       "      <td>0</td>\n",
       "      <td>0.005509</td>\n",
       "    </tr>\n",
       "    <tr>\n",
       "      <td>101991</td>\n",
       "      <td>1</td>\n",
       "      <td>0.998836</td>\n",
       "    </tr>\n",
       "    <tr>\n",
       "      <td>22048</td>\n",
       "      <td>1</td>\n",
       "      <td>0.995612</td>\n",
       "    </tr>\n",
       "    <tr>\n",
       "      <td>1371</td>\n",
       "      <td>0</td>\n",
       "      <td>0.146673</td>\n",
       "    </tr>\n",
       "    <tr>\n",
       "      <td>34176</td>\n",
       "      <td>1</td>\n",
       "      <td>0.995136</td>\n",
       "    </tr>\n",
       "  </tbody>\n",
       "</table>\n",
       "</div>"
      ],
      "text/plain": [
       "        actual      prob\n",
       "87015        0  0.005509\n",
       "101991       1  0.998836\n",
       "22048        1  0.995612\n",
       "1371         0  0.146673\n",
       "34176        1  0.995136"
      ]
     },
     "execution_count": 262,
     "metadata": {},
     "output_type": "execute_result"
    }
   ],
   "source": [
    "## Intuition behind ROC curve - predicted probability as a tool for separating the '1's and '0's\n",
    "test_predicted_prob = pd.DataFrame(test_predict)\n",
    "test_predicted_prob.columns = ['prob']\n",
    "\n",
    "# making a DataFrame with actual and prob columns\n",
    "test_pf = pd.concat([test['attack_dum'], test_predicted_prob], axis=1)\n",
    "test_pf.columns = ['actual','prob']\n",
    "\n",
    "test_pf.head()"
   ]
  },
  {
   "cell_type": "code",
   "execution_count": 264,
   "metadata": {},
   "outputs": [],
   "source": [
    "test_pf['predicted'] = test_pf['prob'].apply(lambda x: 1 if x > 0.482 else 0)\n",
    "train_pf['predicted'] = train_pf['prob'].apply(lambda x: 1 if x > 0.482 else 0)"
   ]
  },
  {
   "cell_type": "code",
   "execution_count": 266,
   "metadata": {},
   "outputs": [
    {
     "data": {
      "text/html": [
       "<div>\n",
       "<style scoped>\n",
       "    .dataframe tbody tr th:only-of-type {\n",
       "        vertical-align: middle;\n",
       "    }\n",
       "\n",
       "    .dataframe tbody tr th {\n",
       "        vertical-align: top;\n",
       "    }\n",
       "\n",
       "    .dataframe thead th {\n",
       "        text-align: right;\n",
       "    }\n",
       "</style>\n",
       "<table border=\"1\" class=\"dataframe\">\n",
       "  <thead>\n",
       "    <tr style=\"text-align: right;\">\n",
       "      <th>predicted</th>\n",
       "      <th>0</th>\n",
       "      <th>1</th>\n",
       "    </tr>\n",
       "    <tr>\n",
       "      <th>actual</th>\n",
       "      <th></th>\n",
       "      <th></th>\n",
       "    </tr>\n",
       "  </thead>\n",
       "  <tbody>\n",
       "    <tr>\n",
       "      <td>0</td>\n",
       "      <td>51313</td>\n",
       "      <td>2501</td>\n",
       "    </tr>\n",
       "    <tr>\n",
       "      <td>1</td>\n",
       "      <td>2903</td>\n",
       "      <td>47244</td>\n",
       "    </tr>\n",
       "  </tbody>\n",
       "</table>\n",
       "</div>"
      ],
      "text/plain": [
       "predicted      0      1\n",
       "actual                 \n",
       "0          51313   2501\n",
       "1           2903  47244"
      ]
     },
     "execution_count": 266,
     "metadata": {},
     "output_type": "execute_result"
    }
   ],
   "source": [
    "# confusion matrix of training dataset\n",
    "pd.crosstab(train_pf['actual'], train_pf['predicted'])"
   ]
  },
  {
   "cell_type": "code",
   "execution_count": 267,
   "metadata": {},
   "outputs": [
    {
     "data": {
      "text/html": [
       "<div>\n",
       "<style scoped>\n",
       "    .dataframe tbody tr th:only-of-type {\n",
       "        vertical-align: middle;\n",
       "    }\n",
       "\n",
       "    .dataframe tbody tr th {\n",
       "        vertical-align: top;\n",
       "    }\n",
       "\n",
       "    .dataframe thead th {\n",
       "        text-align: right;\n",
       "    }\n",
       "</style>\n",
       "<table border=\"1\" class=\"dataframe\">\n",
       "  <thead>\n",
       "    <tr style=\"text-align: right;\">\n",
       "      <th>predicted</th>\n",
       "      <th>0</th>\n",
       "      <th>1</th>\n",
       "    </tr>\n",
       "    <tr>\n",
       "      <th>actual</th>\n",
       "      <th></th>\n",
       "      <th></th>\n",
       "    </tr>\n",
       "  </thead>\n",
       "  <tbody>\n",
       "    <tr>\n",
       "      <td>0</td>\n",
       "      <td>22216</td>\n",
       "      <td>1024</td>\n",
       "    </tr>\n",
       "    <tr>\n",
       "      <td>1</td>\n",
       "      <td>1256</td>\n",
       "      <td>20060</td>\n",
       "    </tr>\n",
       "  </tbody>\n",
       "</table>\n",
       "</div>"
      ],
      "text/plain": [
       "predicted      0      1\n",
       "actual                 \n",
       "0          22216   1024\n",
       "1           1256  20060"
      ]
     },
     "execution_count": 267,
     "metadata": {},
     "output_type": "execute_result"
    }
   ],
   "source": [
    "# confusion matrix of testing dataset\n",
    "pd.crosstab(test_pf['actual'], test_pf['predicted'])"
   ]
  },
  {
   "cell_type": "code",
   "execution_count": 268,
   "metadata": {},
   "outputs": [
    {
     "name": "stdout",
     "output_type": "stream",
     "text": [
      "The overall accuracy score for the Train Data is :  0.9480189686517059\n",
      "The overall accuracy score for the Test Data  is :  0.9488284406140587\n"
     ]
    }
   ],
   "source": [
    "print(\"The overall accuracy score for the Train Data is : \", metrics.accuracy_score(train_pf.actual, train_pf.predicted))\n",
    "print(\"The overall accuracy score for the Test Data  is : \", metrics.accuracy_score(test_pf.actual, test_pf.predicted))"
   ]
  },
  {
   "cell_type": "markdown",
   "metadata": {},
   "source": [
    "### 2. Multinomial classification: Activity is normal or DOS or PROBE or R2L or U2R Please note that, currently the dependent variable (target variable) is not definied explicitly. "
   ]
  },
  {
   "cell_type": "markdown",
   "metadata": {},
   "source": [
    " Note : I have tried using different ML and statistical techniques to solve this problem and checked the accuracy in each case.\n",
    "\n",
    "1) Using Multinomial Logistics Regression :--- Accuracy : 84%\n",
    "\n",
    "2) Using OnevsRest Classifier  :--- Accuracy : 94%\n",
    "\n",
    "3) Using Decision Trees  :--- Accuracy : 98.6%\n",
    "\n",
    "4) Using Random Forest  :--- Accuracy : 99.87%"
   ]
  },
  {
   "cell_type": "code",
   "execution_count": 19,
   "metadata": {},
   "outputs": [],
   "source": [
    "import sklearn.tree as dt\n",
    "from sklearn import metrics\n",
    "from sklearn.tree import DecisionTreeClassifier, export_graphviz, export\n",
    "from sklearn.model_selection import GridSearchCV"
   ]
  },
  {
   "cell_type": "code",
   "execution_count": 20,
   "metadata": {},
   "outputs": [],
   "source": [
    "df_net=pd.concat([df_net_train,df_net_test])"
   ]
  },
  {
   "cell_type": "code",
   "execution_count": 21,
   "metadata": {},
   "outputs": [],
   "source": [
    "def create_dum_attack(x):\n",
    "    if x =='normal': \n",
    "        return 0 # Normal\n",
    "    elif x in ['back' ,'land','pod','neptune','smurf','teardrop','apache2','udpstorm','processtable','worm'] : \n",
    "        return 1 # Dos\n",
    "    elif x in ['satan','ipsweep','nmap','portsweep','mscan','saint'] :\n",
    "        return 2 # probe\n",
    "    elif x in ['guess_passwd','ftp_write','imap' ,'phf','multihop','warezmaster' ,'warezclient','spy',\n",
    "               'xlock','xsnoop','snmpguess','snmpgetattack','httptunnel','sendmail','named','mailbomb'] :\n",
    "        return 3 #U2L\n",
    "    elif x in ['buffer_overflow','loadmodule','rootkit','perl','ps','sqlattack','xterm']:\n",
    "        return 4 #U2R"
   ]
  },
  {
   "cell_type": "code",
   "execution_count": 22,
   "metadata": {},
   "outputs": [],
   "source": [
    "### Create Dummy for Attack Variable"
   ]
  },
  {
   "cell_type": "code",
   "execution_count": 23,
   "metadata": {},
   "outputs": [],
   "source": [
    "df_net['attack_dum']=df_net.attack.apply(create_dum_attack)\n",
    "df_net.attack_dum=df_net.attack_dum.astype('int64')"
   ]
  },
  {
   "cell_type": "code",
   "execution_count": 24,
   "metadata": {},
   "outputs": [],
   "source": [
    "df_net.drop(columns='attack',inplace=True)"
   ]
  },
  {
   "cell_type": "code",
   "execution_count": 25,
   "metadata": {},
   "outputs": [],
   "source": [
    "### Breaking data into continuos and categorical"
   ]
  },
  {
   "cell_type": "code",
   "execution_count": 26,
   "metadata": {},
   "outputs": [],
   "source": [
    "df_net_cat=df_net[['protocol_type','service','flag','land','logged_in','root_shell','su_attempted','is_host_login','is_guest_login']]"
   ]
  },
  {
   "cell_type": "code",
   "execution_count": 27,
   "metadata": {},
   "outputs": [],
   "source": [
    "df_net_cont=df_net.loc[:,df_net.columns.difference(['protocol_type','service','flag','land','logged_in','root_shell','su_attempted','is_host_login','is_guest_login'])]"
   ]
  },
  {
   "cell_type": "code",
   "execution_count": 28,
   "metadata": {},
   "outputs": [],
   "source": [
    "### Create Dummy for categorical Variable"
   ]
  },
  {
   "cell_type": "code",
   "execution_count": 29,
   "metadata": {},
   "outputs": [
    {
     "name": "stderr",
     "output_type": "stream",
     "text": [
      "C:\\Users\\Admin\\Anaconda3\\lib\\site-packages\\ipykernel_launcher.py:3: SettingWithCopyWarning: \n",
      "A value is trying to be set on a copy of a slice from a DataFrame.\n",
      "Try using .loc[row_indexer,col_indexer] = value instead\n",
      "\n",
      "See the caveats in the documentation: http://pandas.pydata.org/pandas-docs/stable/user_guide/indexing.html#returning-a-view-versus-a-copy\n",
      "  This is separate from the ipykernel package so we can avoid doing imports until\n"
     ]
    }
   ],
   "source": [
    "# for c_feature in categorical_features\n",
    "for c_feature in list(df_net_cat.columns):\n",
    "    df_net_cat[c_feature] = df_net_cat[c_feature].astype('category')\n",
    "    df_net_cat = create_dummies(df_net_cat, c_feature)\n"
   ]
  },
  {
   "cell_type": "code",
   "execution_count": 30,
   "metadata": {},
   "outputs": [],
   "source": [
    "### Building MultiClassification model using Decision Tree"
   ]
  },
  {
   "cell_type": "code",
   "execution_count": 31,
   "metadata": {},
   "outputs": [],
   "source": [
    "df_net_new=pd.concat([df_net_cont,df_net_cat], axis = 1)"
   ]
  },
  {
   "cell_type": "code",
   "execution_count": 32,
   "metadata": {},
   "outputs": [],
   "source": [
    "#Splitting the data\n",
    "\n",
    "feature_columns = df_net_new.columns.difference( ['attack_dum'] )\n",
    "#feature_columns1 = feature_columns"
   ]
  },
  {
   "cell_type": "code",
   "execution_count": 33,
   "metadata": {},
   "outputs": [
    {
     "data": {
      "text/plain": [
       "Index(['count', 'diff_srv_rate', 'dst_bytes', 'dst_host_count',\n",
       "       'dst_host_diff_srv_rate', 'dst_host_rerror_rate',\n",
       "       'dst_host_same_src_port_rate', 'dst_host_same_srv_rate',\n",
       "       'dst_host_serror_rate', 'dst_host_srv_count',\n",
       "       ...\n",
       "       'service_whois', 'src_bytes', 'srv_count', 'srv_diff_host_rate',\n",
       "       'srv_rerror_rate', 'srv_serror_rate', 'su_attempted_1',\n",
       "       'su_attempted_2', 'urgent', 'wrong_fragment'],\n",
       "      dtype='object', length=121)"
      ]
     },
     "execution_count": 33,
     "metadata": {},
     "output_type": "execute_result"
    }
   ],
   "source": [
    "feature_columns"
   ]
  },
  {
   "cell_type": "code",
   "execution_count": 34,
   "metadata": {},
   "outputs": [],
   "source": [
    "from sklearn.model_selection import train_test_split\n",
    "\n",
    "\n",
    "train_X, test_X, train_y, test_y = train_test_split( df_net_new[feature_columns],\n",
    "                                                  df_net_new['attack_dum'],\n",
    "                                                  test_size = 0.3,\n",
    "                                                  random_state = 555 )"
   ]
  },
  {
   "cell_type": "markdown",
   "metadata": {},
   "source": [
    "### Using Multinomial Logistic Regression"
   ]
  },
  {
   "cell_type": "code",
   "execution_count": 35,
   "metadata": {},
   "outputs": [],
   "source": [
    "# Building Models\n",
    "from sklearn.linear_model import LogisticRegression\n",
    "\n",
    "logreg = LogisticRegression(multi_class = 'multinomial',solver = 'newton-cg')\n"
   ]
  },
  {
   "cell_type": "code",
   "execution_count": 36,
   "metadata": {},
   "outputs": [
    {
     "name": "stderr",
     "output_type": "stream",
     "text": [
      "C:\\Users\\Admin\\Anaconda3\\lib\\site-packages\\scipy\\optimize\\linesearch.py:466: LineSearchWarning: The line search algorithm did not converge\n",
      "  warn('The line search algorithm did not converge', LineSearchWarning)\n",
      "C:\\Users\\Admin\\Anaconda3\\lib\\site-packages\\scipy\\optimize\\linesearch.py:314: LineSearchWarning: The line search algorithm did not converge\n",
      "  warn('The line search algorithm did not converge', LineSearchWarning)\n",
      "C:\\Users\\Admin\\Anaconda3\\lib\\site-packages\\sklearn\\utils\\optimize.py:203: ConvergenceWarning: newton-cg failed to converge. Increase the number of iterations.\n",
      "  \"number of iterations.\", ConvergenceWarning)\n"
     ]
    },
    {
     "data": {
      "text/plain": [
       "LogisticRegression(C=1.0, class_weight=None, dual=False, fit_intercept=True,\n",
       "                   intercept_scaling=1, l1_ratio=None, max_iter=100,\n",
       "                   multi_class='multinomial', n_jobs=None, penalty='l2',\n",
       "                   random_state=None, solver='newton-cg', tol=0.0001, verbose=0,\n",
       "                   warm_start=False)"
      ]
     },
     "execution_count": 36,
     "metadata": {},
     "output_type": "execute_result"
    }
   ],
   "source": [
    "logreg.fit( train_X, train_y)"
   ]
  },
  {
   "cell_type": "code",
   "execution_count": 37,
   "metadata": {},
   "outputs": [
    {
     "data": {
      "text/plain": [
       "array([1, 0, 0, ..., 0, 1, 0], dtype=int64)"
      ]
     },
     "execution_count": 37,
     "metadata": {},
     "output_type": "execute_result"
    }
   ],
   "source": [
    "logreg.predict(train_X)"
   ]
  },
  {
   "cell_type": "code",
   "execution_count": 38,
   "metadata": {},
   "outputs": [
    {
     "data": {
      "text/plain": [
       "array([[4.40507050e-04, 9.38368384e-01, 6.11911087e-02, 3.75593631e-16,\n",
       "        3.89181155e-10],\n",
       "       [9.27709671e-01, 9.46298427e-03, 5.71751286e-02, 5.62694886e-03,\n",
       "        2.52672451e-05],\n",
       "       [7.51245495e-01, 2.97818042e-02, 2.03076974e-01, 1.55146416e-02,\n",
       "        3.81084889e-04],\n",
       "       ...,\n",
       "       [9.68613881e-01, 2.59085612e-02, 5.47679160e-03, 7.62741003e-07,\n",
       "        3.04245573e-09],\n",
       "       [2.99088514e-01, 3.76459521e-01, 2.62890666e-01, 6.00698486e-02,\n",
       "        1.49145076e-03],\n",
       "       [9.68125325e-01, 2.86651684e-02, 3.20950620e-03, 3.83553508e-12,\n",
       "        1.81937826e-12]])"
      ]
     },
     "execution_count": 38,
     "metadata": {},
     "output_type": "execute_result"
    }
   ],
   "source": [
    "logreg.predict_proba(train_X)"
   ]
  },
  {
   "cell_type": "code",
   "execution_count": 39,
   "metadata": {},
   "outputs": [
    {
     "data": {
      "text/plain": [
       "[('count', 0.015959488665221545),\n",
       " ('diff_srv_rate', -0.002772070544993404),\n",
       " ('dst_bytes', 4.811112053447758e-06),\n",
       " ('dst_host_count', -0.0024799465395153246),\n",
       " ('dst_host_diff_srv_rate', -0.007876164844626827),\n",
       " ('dst_host_rerror_rate', -0.03640906942001534),\n",
       " ('dst_host_same_src_port_rate', -0.10361285635258222),\n",
       " ('dst_host_same_srv_rate', -0.05330537217971583),\n",
       " ('dst_host_serror_rate', -0.05270938326436053),\n",
       " ('dst_host_srv_count', 0.010447966831086722),\n",
       " ('dst_host_srv_diff_host_rate', -0.04210125286824398),\n",
       " ('dst_host_srv_rerror_rate', -0.03792504192426455),\n",
       " ('dst_host_srv_serror_rate', -0.05668084858611729),\n",
       " ('duration', 3.700214487959897e-05),\n",
       " ('flag_REJ', -0.011965213927814876),\n",
       " ('flag_RSTO', -0.004897942350027963),\n",
       " ('flag_RSTOS0', -9.934224167497448e-05),\n",
       " ('flag_RSTR', -0.025081652683179755),\n",
       " ('flag_S0', -0.05638068758096965),\n",
       " ('flag_S1', 0.002728988513236601),\n",
       " ('flag_S2', 0.00033201275270557264),\n",
       " ('flag_S3', -0.00319429423888395),\n",
       " ('flag_SF', 0.04893648002058144),\n",
       " ('flag_SH', -0.004236375668514715),\n",
       " ('hot', 0.008223054487531323),\n",
       " ('is_guest_login_1', -0.0008134990655697174),\n",
       " ('is_host_login_1', -7.907495536671321e-05),\n",
       " ('land_1', -0.00015809977210850076),\n",
       " ('last_flag', 0.13430149101270025),\n",
       " ('logged_in_1', 0.09059713210687853),\n",
       " ('num_access_files', 0.0017587098431040538),\n",
       " ('num_compromised', -0.0032924983897636303),\n",
       " ('num_failed_logins', -0.005222697867396627),\n",
       " ('num_file_creations', 0.016819125582980335),\n",
       " ('num_outbound_cmds', 0.0),\n",
       " ('num_root', 0.02076411952002988),\n",
       " ('num_shells', 0.00010194835248333772),\n",
       " ('protocol_type_tcp', 0.0010869633071101021),\n",
       " ('protocol_type_udp', 0.05602314542374455),\n",
       " ('rerror_rate', -0.04349312000348042),\n",
       " ('root_shell_1', 4.461934300485091e-05),\n",
       " ('same_srv_rate', -0.027815354968657127),\n",
       " ('serror_rate', -0.0596932551401366),\n",
       " ('service_X11', 0.0008000318769035293),\n",
       " ('service_Z39_50', -0.00033077007494883087),\n",
       " ('service_aol', 0.0),\n",
       " ('service_auth', 0.0025045967672840098),\n",
       " ('service_bgp', -0.0002634764229146201),\n",
       " ('service_courier', -0.0006479277699596954),\n",
       " ('service_csnet_ns', -0.00020613522791893847),\n",
       " ('service_ctf', -0.00031016001650491356),\n",
       " ('service_daytime', -0.0002767107340303407),\n",
       " ('service_discard', -0.0002506019260214496),\n",
       " ('service_domain', 0.0004289429249919197),\n",
       " ('service_domain_u', 0.041504316425733816),\n",
       " ('service_echo', -0.00012596883902085237),\n",
       " ('service_eco_i', -0.08554314715637669),\n",
       " ('service_ecr_i', -0.03401809513976027),\n",
       " ('service_efs', -0.0006611947111347414),\n",
       " ('service_exec', -0.0006151850553575759),\n",
       " ('service_finger', -0.0009392545283827372),\n",
       " ('service_ftp', -0.0008526408964310914),\n",
       " ('service_ftp_data', 0.020438341458065227),\n",
       " ('service_gopher', -0.0003373412033877409),\n",
       " ('service_harvest', -6.660005168054019e-10),\n",
       " ('service_hostnames', -0.00017372630027785672),\n",
       " ('service_http', 0.0357227495953344),\n",
       " ('service_http_2784', -3.362272291019738e-10),\n",
       " ('service_http_443', -0.0006237604283541476),\n",
       " ('service_http_8001', 0.0),\n",
       " ('service_imap4', -0.004001990630514028),\n",
       " ('service_iso_tsap', -0.00015884775407218942),\n",
       " ('service_klogin', -0.0007419538413771684),\n",
       " ('service_kshell', -0.0005016085560002312),\n",
       " ('service_ldap', -0.00039382436440166843),\n",
       " ('service_link', -0.0002313824572657824),\n",
       " ('service_login', -0.000593025799575551),\n",
       " ('service_mtp', -0.00020441448074594692),\n",
       " ('service_name', -0.0003630643389053738),\n",
       " ('service_netbios_dgm', -0.00022275062683727026),\n",
       " ('service_netbios_ns', -0.00023849879989539213),\n",
       " ('service_netbios_ssn', -0.00026115565647255687),\n",
       " ('service_netstat', -0.00022033740814983365),\n",
       " ('service_nnsp', -0.0007055615981532837),\n",
       " ('service_nntp', -0.000233843550603445),\n",
       " ('service_ntp_u', 0.0014464478254160025),\n",
       " ('service_other', 0.02570535782366034),\n",
       " ('service_pm_dump', -6.198610555068847e-05),\n",
       " ('service_pop_2', -6.726715549609575e-05),\n",
       " ('service_pop_3', -0.013765492313142485),\n",
       " ('service_printer', -0.00011163486797951213),\n",
       " ('service_private', -0.051623868754299015),\n",
       " ('service_red_i', 6.745956601634574e-05),\n",
       " ('service_remote_job', -0.000121849881028896),\n",
       " ('service_rje', -0.0002031871260506277),\n",
       " ('service_shell', -2.0916982151251733e-05),\n",
       " ('service_smtp', 0.03116827413079813),\n",
       " ('service_sql_net', -0.0002737727024978527),\n",
       " ('service_ssh', -0.0003850150857965667),\n",
       " ('service_sunrpc', -0.0016905064096242029),\n",
       " ('service_supdup', -0.0003030937999905883),\n",
       " ('service_systat', -0.00020634967340713107),\n",
       " ('service_telnet', -0.019324528341322367),\n",
       " ('service_tftp_u', 0.0),\n",
       " ('service_tim_i', 7.60972784975173e-05),\n",
       " ('service_time', 0.0004129624799799173),\n",
       " ('service_urh_i', 6.30640100762628e-05),\n",
       " ('service_urp_i', 0.008183912069649676),\n",
       " ('service_uucp', -0.0007989125988676057),\n",
       " ('service_uucp_path', -0.0002503357538562866),\n",
       " ('service_vmnet', -0.00026247921443642075),\n",
       " ('service_whois', -0.00038704932255637293),\n",
       " ('src_bytes', 6.1646348971927e-07),\n",
       " ('srv_count', 0.03862434048372421),\n",
       " ('srv_diff_host_rate', -0.06318211488642442),\n",
       " ('srv_rerror_rate', -0.04338367212164302),\n",
       " ('srv_serror_rate', -0.0605593553844411),\n",
       " ('su_attempted_1', 0.0001633356596165798),\n",
       " ('su_attempted_2', 0.00015841965242847843),\n",
       " ('urgent', -7.299446468596812e-05),\n",
       " ('wrong_fragment', -0.028140170805417725)]"
      ]
     },
     "execution_count": 39,
     "metadata": {},
     "output_type": "execute_result"
    }
   ],
   "source": [
    "list( zip( feature_columns, logreg.coef_[0] ) )"
   ]
  },
  {
   "cell_type": "code",
   "execution_count": 40,
   "metadata": {},
   "outputs": [],
   "source": [
    "#Predicting the test cases\n",
    "net_test_pred = pd.DataFrame( { 'actual':  test_y,\n",
    "                            'predicted': logreg.predict( test_X ) } )"
   ]
  },
  {
   "cell_type": "code",
   "execution_count": 47,
   "metadata": {},
   "outputs": [],
   "source": [
    "net_test_pred=net_test_pred.reset_index()"
   ]
  },
  {
   "cell_type": "code",
   "execution_count": 48,
   "metadata": {},
   "outputs": [
    {
     "data": {
      "text/html": [
       "<div>\n",
       "<style scoped>\n",
       "    .dataframe tbody tr th:only-of-type {\n",
       "        vertical-align: middle;\n",
       "    }\n",
       "\n",
       "    .dataframe tbody tr th {\n",
       "        vertical-align: top;\n",
       "    }\n",
       "\n",
       "    .dataframe thead th {\n",
       "        text-align: right;\n",
       "    }\n",
       "</style>\n",
       "<table border=\"1\" class=\"dataframe\">\n",
       "  <thead>\n",
       "    <tr style=\"text-align: right;\">\n",
       "      <th></th>\n",
       "      <th>level_0</th>\n",
       "      <th>index</th>\n",
       "      <th>actual</th>\n",
       "      <th>predicted</th>\n",
       "    </tr>\n",
       "  </thead>\n",
       "  <tbody>\n",
       "    <tr>\n",
       "      <td>0</td>\n",
       "      <td>0</td>\n",
       "      <td>17079</td>\n",
       "      <td>1</td>\n",
       "      <td>1</td>\n",
       "    </tr>\n",
       "    <tr>\n",
       "      <td>1</td>\n",
       "      <td>1</td>\n",
       "      <td>16406</td>\n",
       "      <td>1</td>\n",
       "      <td>1</td>\n",
       "    </tr>\n",
       "    <tr>\n",
       "      <td>2</td>\n",
       "      <td>2</td>\n",
       "      <td>93872</td>\n",
       "      <td>0</td>\n",
       "      <td>0</td>\n",
       "    </tr>\n",
       "    <tr>\n",
       "      <td>3</td>\n",
       "      <td>3</td>\n",
       "      <td>120413</td>\n",
       "      <td>0</td>\n",
       "      <td>0</td>\n",
       "    </tr>\n",
       "    <tr>\n",
       "      <td>4</td>\n",
       "      <td>4</td>\n",
       "      <td>45773</td>\n",
       "      <td>2</td>\n",
       "      <td>1</td>\n",
       "    </tr>\n",
       "    <tr>\n",
       "      <td>...</td>\n",
       "      <td>...</td>\n",
       "      <td>...</td>\n",
       "      <td>...</td>\n",
       "      <td>...</td>\n",
       "    </tr>\n",
       "    <tr>\n",
       "      <td>44551</td>\n",
       "      <td>44551</td>\n",
       "      <td>28854</td>\n",
       "      <td>1</td>\n",
       "      <td>1</td>\n",
       "    </tr>\n",
       "    <tr>\n",
       "      <td>44552</td>\n",
       "      <td>44552</td>\n",
       "      <td>2567</td>\n",
       "      <td>1</td>\n",
       "      <td>1</td>\n",
       "    </tr>\n",
       "    <tr>\n",
       "      <td>44553</td>\n",
       "      <td>44553</td>\n",
       "      <td>5479</td>\n",
       "      <td>3</td>\n",
       "      <td>3</td>\n",
       "    </tr>\n",
       "    <tr>\n",
       "      <td>44554</td>\n",
       "      <td>44554</td>\n",
       "      <td>21277</td>\n",
       "      <td>2</td>\n",
       "      <td>1</td>\n",
       "    </tr>\n",
       "    <tr>\n",
       "      <td>44555</td>\n",
       "      <td>44555</td>\n",
       "      <td>15796</td>\n",
       "      <td>2</td>\n",
       "      <td>1</td>\n",
       "    </tr>\n",
       "  </tbody>\n",
       "</table>\n",
       "<p>44556 rows × 4 columns</p>\n",
       "</div>"
      ],
      "text/plain": [
       "       level_0   index  actual  predicted\n",
       "0            0   17079       1          1\n",
       "1            1   16406       1          1\n",
       "2            2   93872       0          0\n",
       "3            3  120413       0          0\n",
       "4            4   45773       2          1\n",
       "...        ...     ...     ...        ...\n",
       "44551    44551   28854       1          1\n",
       "44552    44552    2567       1          1\n",
       "44553    44553    5479       3          3\n",
       "44554    44554   21277       2          1\n",
       "44555    44555   15796       2          1\n",
       "\n",
       "[44556 rows x 4 columns]"
      ]
     },
     "execution_count": 48,
     "metadata": {},
     "output_type": "execute_result"
    }
   ],
   "source": []
  },
  {
   "cell_type": "code",
   "execution_count": 42,
   "metadata": {},
   "outputs": [
    {
     "data": {
      "text/plain": [
       "array([[22592,   468,    27,    20,     0],\n",
       "       [ 1436, 14389,    82,    19,     0],\n",
       "       [ 2123,  1786,   288,    28,     0],\n",
       "       [  885,   138,    12,   225,     0],\n",
       "       [   17,     2,     4,    15,     0]], dtype=int64)"
      ]
     },
     "execution_count": 42,
     "metadata": {},
     "output_type": "execute_result"
    }
   ],
   "source": [
    "# Creating a confusion matrix\n",
    "\n",
    "from sklearn import metrics\n",
    "\n",
    "cm = metrics.confusion_matrix( net_test_pred.actual,\n",
    "                            net_test_pred.predicted)\n",
    "cm"
   ]
  },
  {
   "cell_type": "code",
   "execution_count": 43,
   "metadata": {},
   "outputs": [],
   "source": [
    "#pd.crosstab(net_test_pred.actual, net_test_pred.predicted)"
   ]
  },
  {
   "cell_type": "code",
   "execution_count": 44,
   "metadata": {},
   "outputs": [],
   "source": [
    "import matplotlib.pyplot as plt\n",
    "import seaborn as sn\n",
    "%matplotlib inline"
   ]
  },
  {
   "cell_type": "code",
   "execution_count": 45,
   "metadata": {},
   "outputs": [
    {
     "data": {
      "text/plain": [
       "Text(0.5, 15.0, 'Predicted label')"
      ]
     },
     "execution_count": 45,
     "metadata": {},
     "output_type": "execute_result"
    },
    {
     "data": {
      "image/png": "[encoded data removed]",
      "text/plain": [
       "<Figure size 432x288 with 2 Axes>"
      ]
     },
     "metadata": {
      "needs_background": "light"
     },
     "output_type": "display_data"
    }
   ],
   "source": [
    "sn.heatmap(cm, annot=True,  fmt='.2f', xticklabels = [\"Normal\", \"Dos\",\"Probe\",\"U2L\",\"U2R\"] , yticklabels = [\"Normal\", \"Dos\",\"Probe\",\"U2L\",\"U2R\"] )\n",
    "plt.ylabel('True label')\n",
    "plt.xlabel('Predicted label')"
   ]
  },
  {
   "cell_type": "code",
   "execution_count": 49,
   "metadata": {},
   "outputs": [
    {
     "data": {
      "text/plain": [
       "0.84"
      ]
     },
     "execution_count": 49,
     "metadata": {},
     "output_type": "execute_result"
    }
   ],
   "source": [
    "score = metrics.accuracy_score( net_test_pred.actual, net_test_pred.predicted )\n",
    "round( float(score), 2 )"
   ]
  },
  {
   "cell_type": "code",
   "execution_count": 174,
   "metadata": {},
   "outputs": [],
   "source": [
    "### Conslusion : Multinomial Logistics Regression using SkLearn yielded 84% accuracy."
   ]
  },
  {
   "cell_type": "code",
   "execution_count": 50,
   "metadata": {},
   "outputs": [
    {
     "data": {
      "text/html": [
       "<div>\n",
       "<style scoped>\n",
       "    .dataframe tbody tr th:only-of-type {\n",
       "        vertical-align: middle;\n",
       "    }\n",
       "\n",
       "    .dataframe tbody tr th {\n",
       "        vertical-align: top;\n",
       "    }\n",
       "\n",
       "    .dataframe thead th {\n",
       "        text-align: right;\n",
       "    }\n",
       "</style>\n",
       "<table border=\"1\" class=\"dataframe\">\n",
       "  <thead>\n",
       "    <tr style=\"text-align: right;\">\n",
       "      <th></th>\n",
       "      <th>0</th>\n",
       "      <th>1</th>\n",
       "      <th>2</th>\n",
       "      <th>3</th>\n",
       "      <th>4</th>\n",
       "    </tr>\n",
       "  </thead>\n",
       "  <tbody>\n",
       "    <tr>\n",
       "      <td>0</td>\n",
       "      <td>0.207287</td>\n",
       "      <td>0.748837</td>\n",
       "      <td>0.043567</td>\n",
       "      <td>2.944835e-04</td>\n",
       "      <td>1.405057e-05</td>\n",
       "    </tr>\n",
       "    <tr>\n",
       "      <td>1</td>\n",
       "      <td>0.000364</td>\n",
       "      <td>0.944633</td>\n",
       "      <td>0.055003</td>\n",
       "      <td>1.898498e-18</td>\n",
       "      <td>1.573132e-11</td>\n",
       "    </tr>\n",
       "    <tr>\n",
       "      <td>2</td>\n",
       "      <td>0.933075</td>\n",
       "      <td>0.016538</td>\n",
       "      <td>0.033493</td>\n",
       "      <td>1.689230e-02</td>\n",
       "      <td>1.909451e-06</td>\n",
       "    </tr>\n",
       "    <tr>\n",
       "      <td>3</td>\n",
       "      <td>0.934218</td>\n",
       "      <td>0.043947</td>\n",
       "      <td>0.012350</td>\n",
       "      <td>9.484500e-03</td>\n",
       "      <td>6.641530e-08</td>\n",
       "    </tr>\n",
       "    <tr>\n",
       "      <td>4</td>\n",
       "      <td>0.355413</td>\n",
       "      <td>0.407140</td>\n",
       "      <td>0.155033</td>\n",
       "      <td>8.040673e-02</td>\n",
       "      <td>2.007522e-03</td>\n",
       "    </tr>\n",
       "  </tbody>\n",
       "</table>\n",
       "</div>"
      ],
      "text/plain": [
       "          0         1         2             3             4\n",
       "0  0.207287  0.748837  0.043567  2.944835e-04  1.405057e-05\n",
       "1  0.000364  0.944633  0.055003  1.898498e-18  1.573132e-11\n",
       "2  0.933075  0.016538  0.033493  1.689230e-02  1.909451e-06\n",
       "3  0.934218  0.043947  0.012350  9.484500e-03  6.641530e-08\n",
       "4  0.355413  0.407140  0.155033  8.040673e-02  2.007522e-03"
      ]
     },
     "execution_count": 50,
     "metadata": {},
     "output_type": "execute_result"
    }
   ],
   "source": [
    "#How good the model is?\n",
    "predict_proba_df = pd.DataFrame( logreg.predict_proba( test_X ) )\n",
    "predict_proba_df.head()"
   ]
  },
  {
   "cell_type": "code",
   "execution_count": 51,
   "metadata": {},
   "outputs": [],
   "source": [
    "net_test_pred = pd.concat( [net_test_pred, predict_proba_df], axis = 1 )"
   ]
  },
  {
   "cell_type": "code",
   "execution_count": null,
   "metadata": {},
   "outputs": [],
   "source": []
  },
  {
   "cell_type": "code",
   "execution_count": 175,
   "metadata": {},
   "outputs": [],
   "source": [
    "#net_test_pred.columns  = ['index', 'actual', 'predicted', 'attack_normal', 'attack_dos','attack_probe','attack_u2l','attack_u2r']\n",
    "#net_test_pred['new_pred']=net_test_pred[['attack_normal', 'attack_dos','attack_probe','attack_u2l','attack_u2r']].idxmax(axis=1)\n",
    "#net_test_pred['pred_n']=np.where(net_test_pred.new_pred =='attack_normal',0,np.where(net_test_pred.new_pred =='attack_dos',1,np.where(net_test_pred.new_pred =='attack_probe',2,np.where(net_test_pred.new_pred =='attack_u2l',3,4))))"
   ]
  },
  {
   "cell_type": "code",
   "execution_count": 53,
   "metadata": {},
   "outputs": [],
   "source": [
    "#import required set of libraries\n",
    "from sklearn.metrics import roc_curve, auc\n",
    "from sklearn import datasets\n",
    "from sklearn.multiclass import OneVsRestClassifier\n",
    "from sklearn.svm import LinearSVC\n",
    "from sklearn.preprocessing import label_binarize\n",
    "#from sklearn.cross_validation import train_test_split\n",
    "import matplotlib.pyplot as plt"
   ]
  },
  {
   "cell_type": "markdown",
   "metadata": {},
   "source": [
    "### Using OneVsRest Classifier"
   ]
  },
  {
   "cell_type": "code",
   "execution_count": 137,
   "metadata": {},
   "outputs": [
    {
     "name": "stderr",
     "output_type": "stream",
     "text": [
      "C:\\Users\\Admin\\Anaconda3\\lib\\site-packages\\sklearn\\svm\\base.py:929: ConvergenceWarning: Liblinear failed to converge, increase the number of iterations.\n",
      "  \"the number of iterations.\", ConvergenceWarning)\n",
      "C:\\Users\\Admin\\Anaconda3\\lib\\site-packages\\sklearn\\svm\\base.py:929: ConvergenceWarning: Liblinear failed to converge, increase the number of iterations.\n",
      "  \"the number of iterations.\", ConvergenceWarning)\n",
      "C:\\Users\\Admin\\Anaconda3\\lib\\site-packages\\sklearn\\svm\\base.py:929: ConvergenceWarning: Liblinear failed to converge, increase the number of iterations.\n",
      "  \"the number of iterations.\", ConvergenceWarning)\n",
      "C:\\Users\\Admin\\Anaconda3\\lib\\site-packages\\sklearn\\svm\\base.py:929: ConvergenceWarning: Liblinear failed to converge, increase the number of iterations.\n",
      "  \"the number of iterations.\", ConvergenceWarning)\n",
      "C:\\Users\\Admin\\Anaconda3\\lib\\site-packages\\sklearn\\svm\\base.py:929: ConvergenceWarning: Liblinear failed to converge, increase the number of iterations.\n",
      "  \"the number of iterations.\", ConvergenceWarning)\n"
     ]
    }
   ],
   "source": [
    "# classifier model\n",
    "clf = OneVsRestClassifier(LinearSVC(random_state=0))\n",
    "y_score = clf.fit(train_X,train_y)\n",
    "pred_y=y_score.decision_function(test_X)\n",
    "\n"
   ]
  },
  {
   "cell_type": "code",
   "execution_count": 142,
   "metadata": {},
   "outputs": [],
   "source": [
    "pred_y=pd.DataFrame(pred_y)"
   ]
  },
  {
   "cell_type": "code",
   "execution_count": 144,
   "metadata": {},
   "outputs": [],
   "source": [
    "net_test_pred = pd.concat( [net_test_pred, pred_y], axis = 1 )"
   ]
  },
  {
   "cell_type": "code",
   "execution_count": 151,
   "metadata": {},
   "outputs": [],
   "source": [
    "net_test_pred.rename(columns={0: 'attack_normal_c',1: 'attack_dos_c',2: 'attack_probe_c',3: 'attack_u2l_c',4: 'attack_u2r_c'},inplace = True)\n"
   ]
  },
  {
   "cell_type": "code",
   "execution_count": 155,
   "metadata": {},
   "outputs": [],
   "source": [
    "net_test_pred['new_pred_c']=net_test_pred[['attack_normal_c', 'attack_dos_c','attack_probe_c','attack_u2l_c','attack_u2r_c']].idxmax(axis=1)\n",
    "net_test_pred['pred_c']=np.where(net_test_pred.new_pred_c =='attack_normal_c',0,np.where(net_test_pred.new_pred_c =='attack_dos_c',1,np.where(net_test_pred.new_pred_c =='attack_probe_c',2,np.where(net_test_pred.new_pred_c =='attack_u2l_c',3,4))))"
   ]
  },
  {
   "cell_type": "code",
   "execution_count": 177,
   "metadata": {},
   "outputs": [
    {
     "data": {
      "text/html": [
       "<div>\n",
       "<style scoped>\n",
       "    .dataframe tbody tr th:only-of-type {\n",
       "        vertical-align: middle;\n",
       "    }\n",
       "\n",
       "    .dataframe tbody tr th {\n",
       "        vertical-align: top;\n",
       "    }\n",
       "\n",
       "    .dataframe thead th {\n",
       "        text-align: right;\n",
       "    }\n",
       "</style>\n",
       "<table border=\"1\" class=\"dataframe\">\n",
       "  <thead>\n",
       "    <tr style=\"text-align: right;\">\n",
       "      <th></th>\n",
       "      <th>actual</th>\n",
       "      <th>predicted</th>\n",
       "      <th>pred_n</th>\n",
       "      <th>pred_c</th>\n",
       "    </tr>\n",
       "  </thead>\n",
       "  <tbody>\n",
       "    <tr>\n",
       "      <td>0</td>\n",
       "      <td>1</td>\n",
       "      <td>1</td>\n",
       "      <td>1</td>\n",
       "      <td>1</td>\n",
       "    </tr>\n",
       "    <tr>\n",
       "      <td>1</td>\n",
       "      <td>1</td>\n",
       "      <td>1</td>\n",
       "      <td>1</td>\n",
       "      <td>1</td>\n",
       "    </tr>\n",
       "    <tr>\n",
       "      <td>2</td>\n",
       "      <td>0</td>\n",
       "      <td>0</td>\n",
       "      <td>0</td>\n",
       "      <td>0</td>\n",
       "    </tr>\n",
       "    <tr>\n",
       "      <td>3</td>\n",
       "      <td>0</td>\n",
       "      <td>0</td>\n",
       "      <td>0</td>\n",
       "      <td>0</td>\n",
       "    </tr>\n",
       "    <tr>\n",
       "      <td>4</td>\n",
       "      <td>2</td>\n",
       "      <td>1</td>\n",
       "      <td>1</td>\n",
       "      <td>2</td>\n",
       "    </tr>\n",
       "    <tr>\n",
       "      <td>...</td>\n",
       "      <td>...</td>\n",
       "      <td>...</td>\n",
       "      <td>...</td>\n",
       "      <td>...</td>\n",
       "    </tr>\n",
       "    <tr>\n",
       "      <td>44551</td>\n",
       "      <td>1</td>\n",
       "      <td>1</td>\n",
       "      <td>1</td>\n",
       "      <td>1</td>\n",
       "    </tr>\n",
       "    <tr>\n",
       "      <td>44552</td>\n",
       "      <td>1</td>\n",
       "      <td>1</td>\n",
       "      <td>1</td>\n",
       "      <td>1</td>\n",
       "    </tr>\n",
       "    <tr>\n",
       "      <td>44553</td>\n",
       "      <td>3</td>\n",
       "      <td>3</td>\n",
       "      <td>3</td>\n",
       "      <td>3</td>\n",
       "    </tr>\n",
       "    <tr>\n",
       "      <td>44554</td>\n",
       "      <td>2</td>\n",
       "      <td>1</td>\n",
       "      <td>1</td>\n",
       "      <td>2</td>\n",
       "    </tr>\n",
       "    <tr>\n",
       "      <td>44555</td>\n",
       "      <td>2</td>\n",
       "      <td>1</td>\n",
       "      <td>1</td>\n",
       "      <td>2</td>\n",
       "    </tr>\n",
       "  </tbody>\n",
       "</table>\n",
       "<p>44556 rows × 4 columns</p>\n",
       "</div>"
      ],
      "text/plain": [
       "       actual  predicted  pred_n  pred_c\n",
       "0           1          1       1       1\n",
       "1           1          1       1       1\n",
       "2           0          0       0       0\n",
       "3           0          0       0       0\n",
       "4           2          1       1       2\n",
       "...       ...        ...     ...     ...\n",
       "44551       1          1       1       1\n",
       "44552       1          1       1       1\n",
       "44553       3          3       3       3\n",
       "44554       2          1       1       2\n",
       "44555       2          1       1       2\n",
       "\n",
       "[44556 rows x 4 columns]"
      ]
     },
     "execution_count": 177,
     "metadata": {},
     "output_type": "execute_result"
    }
   ],
   "source": [
    "net_test_pred[['actual','predicted','pred_n','pred_c']]"
   ]
  },
  {
   "cell_type": "code",
   "execution_count": 229,
   "metadata": {},
   "outputs": [
    {
     "data": {
      "text/plain": [
       "array([[21403,  1110,   238,   352,     4],\n",
       "       [  127, 15658,    54,    87,     0],\n",
       "       [  122,   284,  3782,    37,     0],\n",
       "       [  216,   108,     2,   931,     3],\n",
       "       [   29,     0,     1,     8,     0]], dtype=int64)"
      ]
     },
     "execution_count": 229,
     "metadata": {},
     "output_type": "execute_result"
    }
   ],
   "source": [
    "# Creating a confusion matrix\n",
    "\n",
    "from sklearn import metrics\n",
    "\n",
    "cm = metrics.confusion_matrix( net_test_pred.actual,\n",
    "                            net_test_pred.pred_c)\n",
    "cm"
   ]
  },
  {
   "cell_type": "code",
   "execution_count": 231,
   "metadata": {},
   "outputs": [],
   "source": [
    "#pd.crosstab(net_test_pred.actual,net_test_pred.pred_c)"
   ]
  },
  {
   "cell_type": "code",
   "execution_count": 232,
   "metadata": {},
   "outputs": [
    {
     "data": {
      "text/plain": [
       "0.94"
      ]
     },
     "execution_count": 232,
     "metadata": {},
     "output_type": "execute_result"
    }
   ],
   "source": [
    "score = metrics.accuracy_score( net_test_pred.actual, net_test_pred.pred_c )\n",
    "round( float(score), 2 )"
   ]
  },
  {
   "cell_type": "code",
   "execution_count": 180,
   "metadata": {},
   "outputs": [],
   "source": [
    "### Conclusion: Using OneVsRest Classifier the accuracy yielded is 94%"
   ]
  },
  {
   "cell_type": "markdown",
   "metadata": {},
   "source": [
    "### Using Decision Trees"
   ]
  },
  {
   "cell_type": "code",
   "execution_count": 181,
   "metadata": {},
   "outputs": [],
   "source": [
    "### Tuning the paramters"
   ]
  },
  {
   "cell_type": "code",
   "execution_count": 182,
   "metadata": {},
   "outputs": [],
   "source": [
    "param_grid = {'max_depth': np.arange(2, 12),\n",
    "             'max_features': np.arange(10,18)}"
   ]
  },
  {
   "cell_type": "code",
   "execution_count": 183,
   "metadata": {},
   "outputs": [
    {
     "name": "stdout",
     "output_type": "stream",
     "text": [
      "Fitting 10 folds for each of 80 candidates, totalling 800 fits\n"
     ]
    },
    {
     "name": "stderr",
     "output_type": "stream",
     "text": [
      "[Parallel(n_jobs=-1)]: Using backend LokyBackend with 4 concurrent workers.\n",
      "[Parallel(n_jobs=-1)]: Done  42 tasks      | elapsed:   38.2s\n",
      "[Parallel(n_jobs=-1)]: Done 192 tasks      | elapsed:  1.2min\n",
      "[Parallel(n_jobs=-1)]: Done 442 tasks      | elapsed:  2.3min\n",
      "[Parallel(n_jobs=-1)]: Done 792 tasks      | elapsed:  4.6min\n",
      "[Parallel(n_jobs=-1)]: Done 800 out of 800 | elapsed:  4.6min finished\n"
     ]
    },
    {
     "data": {
      "text/plain": [
       "GridSearchCV(cv=10, error_score='raise-deprecating',\n",
       "             estimator=DecisionTreeClassifier(class_weight=None,\n",
       "                                              criterion='gini', max_depth=None,\n",
       "                                              max_features=None,\n",
       "                                              max_leaf_nodes=None,\n",
       "                                              min_impurity_decrease=0.0,\n",
       "                                              min_impurity_split=None,\n",
       "                                              min_samples_leaf=1,\n",
       "                                              min_samples_split=2,\n",
       "                                              min_weight_fraction_leaf=0.0,\n",
       "                                              presort=False, random_state=None,\n",
       "                                              splitter='best'),\n",
       "             iid='warn', n_jobs=-1,\n",
       "             param_grid={'max_depth': array([ 2,  3,  4,  5,  6,  7,  8,  9, 10, 11]),\n",
       "                         'max_features': array([10, 11, 12, 13, 14, 15, 16, 17])},\n",
       "             pre_dispatch='2*n_jobs', refit=True, return_train_score=False,\n",
       "             scoring=None, verbose=1)"
      ]
     },
     "execution_count": 183,
     "metadata": {},
     "output_type": "execute_result"
    }
   ],
   "source": [
    "tree = GridSearchCV(DecisionTreeClassifier(), param_grid, cv = 10,verbose=1,n_jobs=-1)\n",
    "tree.fit( train_X, train_y )"
   ]
  },
  {
   "cell_type": "code",
   "execution_count": 184,
   "metadata": {},
   "outputs": [
    {
     "data": {
      "text/plain": [
       "DecisionTreeClassifier(class_weight=None, criterion='gini', max_depth=11,\n",
       "                       max_features=17, max_leaf_nodes=None,\n",
       "                       min_impurity_decrease=0.0, min_impurity_split=None,\n",
       "                       min_samples_leaf=1, min_samples_split=2,\n",
       "                       min_weight_fraction_leaf=0.0, presort=False,\n",
       "                       random_state=None, splitter='best')"
      ]
     },
     "execution_count": 184,
     "metadata": {},
     "output_type": "execute_result"
    }
   ],
   "source": [
    "tree.best_estimator_"
   ]
  },
  {
   "cell_type": "code",
   "execution_count": 185,
   "metadata": {},
   "outputs": [],
   "source": [
    "train_pred = tree.predict(train_X)"
   ]
  },
  {
   "cell_type": "code",
   "execution_count": 186,
   "metadata": {},
   "outputs": [
    {
     "name": "stdout",
     "output_type": "stream",
     "text": [
      "              precision    recall  f1-score   support\n",
      "\n",
      "           0       0.99      1.00      0.99     53947\n",
      "           1       1.00      1.00      1.00     37168\n",
      "           2       0.99      0.98      0.99      9852\n",
      "           3       0.94      0.90      0.92      2913\n",
      "           4       0.88      0.27      0.42        81\n",
      "\n",
      "    accuracy                           0.99    103961\n",
      "   macro avg       0.96      0.83      0.86    103961\n",
      "weighted avg       0.99      0.99      0.99    103961\n",
      "\n"
     ]
    }
   ],
   "source": [
    "print(metrics.classification_report(train_y, train_pred))"
   ]
  },
  {
   "cell_type": "code",
   "execution_count": 187,
   "metadata": {},
   "outputs": [],
   "source": [
    "test_pred = tree.predict(test_X)"
   ]
  },
  {
   "cell_type": "code",
   "execution_count": 188,
   "metadata": {},
   "outputs": [
    {
     "name": "stdout",
     "output_type": "stream",
     "text": [
      "              precision    recall  f1-score   support\n",
      "\n",
      "           0       0.99      1.00      0.99     23107\n",
      "           1       1.00      1.00      1.00     15926\n",
      "           2       0.98      0.98      0.98      4225\n",
      "           3       0.94      0.89      0.91      1260\n",
      "           4       0.47      0.18      0.26        38\n",
      "\n",
      "    accuracy                           0.99     44556\n",
      "   macro avg       0.88      0.81      0.83     44556\n",
      "weighted avg       0.99      0.99      0.99     44556\n",
      "\n"
     ]
    }
   ],
   "source": [
    "print(metrics.classification_report(test_y, test_pred))"
   ]
  },
  {
   "cell_type": "code",
   "execution_count": 187,
   "metadata": {},
   "outputs": [],
   "source": [
    "### Building Final Tree Model"
   ]
  },
  {
   "cell_type": "code",
   "execution_count": 189,
   "metadata": {},
   "outputs": [
    {
     "data": {
      "text/plain": [
       "DecisionTreeClassifier(class_weight=None, criterion='gini', max_depth=11,\n",
       "                       max_features=17, max_leaf_nodes=None,\n",
       "                       min_impurity_decrease=0.0, min_impurity_split=None,\n",
       "                       min_samples_leaf=1, min_samples_split=2,\n",
       "                       min_weight_fraction_leaf=0.0, presort=False,\n",
       "                       random_state=None, splitter='best')"
      ]
     },
     "execution_count": 189,
     "metadata": {},
     "output_type": "execute_result"
    }
   ],
   "source": [
    "clf_tree = DecisionTreeClassifier( max_depth = 11, max_features=17)\n",
    "clf_tree.fit( train_X, train_y )"
   ]
  },
  {
   "cell_type": "code",
   "execution_count": 190,
   "metadata": {},
   "outputs": [
    {
     "data": {
      "text/plain": [
       "array([2.04505228e-02, 2.12108494e-02, 7.53277446e-03, 9.90912009e-04,\n",
       "       1.25553201e-02, 3.59058700e-03, 6.74746726e-02, 5.80668914e-03,\n",
       "       3.38166875e-03, 2.74172401e-02, 7.10537644e-03, 1.84260454e-03,\n",
       "       3.05667269e-02, 3.04206118e-03, 3.16810850e-05, 1.94532978e-05,\n",
       "       9.98565730e-06, 0.00000000e+00, 2.79597895e-03, 4.97556725e-05,\n",
       "       1.11161702e-05, 1.48877279e-05, 1.32115772e-02, 5.52025383e-03,\n",
       "       9.01725985e-04, 4.61507959e-05, 0.00000000e+00, 1.21689033e-04,\n",
       "       4.29912461e-02, 1.84775827e-03, 0.00000000e+00, 0.00000000e+00,\n",
       "       5.75641103e-04, 1.55636299e-05, 0.00000000e+00, 5.55808510e-07,\n",
       "       0.00000000e+00, 3.16114727e-02, 8.14198190e-03, 1.59266429e-02,\n",
       "       0.00000000e+00, 2.30108991e-01, 1.96414567e-02, 0.00000000e+00,\n",
       "       0.00000000e+00, 0.00000000e+00, 0.00000000e+00, 0.00000000e+00,\n",
       "       0.00000000e+00, 0.00000000e+00, 0.00000000e+00, 0.00000000e+00,\n",
       "       0.00000000e+00, 0.00000000e+00, 0.00000000e+00, 0.00000000e+00,\n",
       "       2.31525535e-02, 1.54370159e-02, 0.00000000e+00, 0.00000000e+00,\n",
       "       0.00000000e+00, 0.00000000e+00, 1.51812860e-03, 2.58121860e-05,\n",
       "       0.00000000e+00, 0.00000000e+00, 2.16280001e-01, 0.00000000e+00,\n",
       "       0.00000000e+00, 0.00000000e+00, 5.36009985e-04, 0.00000000e+00,\n",
       "       0.00000000e+00, 0.00000000e+00, 0.00000000e+00, 0.00000000e+00,\n",
       "       0.00000000e+00, 0.00000000e+00, 0.00000000e+00, 0.00000000e+00,\n",
       "       0.00000000e+00, 0.00000000e+00, 0.00000000e+00, 0.00000000e+00,\n",
       "       1.66742553e-05, 0.00000000e+00, 7.01169090e-04, 0.00000000e+00,\n",
       "       0.00000000e+00, 7.34885501e-05, 0.00000000e+00, 4.77551002e-02,\n",
       "       0.00000000e+00, 0.00000000e+00, 0.00000000e+00, 0.00000000e+00,\n",
       "       2.55366873e-04, 0.00000000e+00, 0.00000000e+00, 0.00000000e+00,\n",
       "       0.00000000e+00, 0.00000000e+00, 3.03168278e-05, 0.00000000e+00,\n",
       "       0.00000000e+00, 0.00000000e+00, 0.00000000e+00, 2.19291721e-05,\n",
       "       0.00000000e+00, 0.00000000e+00, 0.00000000e+00, 0.00000000e+00,\n",
       "       4.33752630e-02, 4.72270928e-02, 3.02737239e-03, 6.26723784e-04,\n",
       "       4.79664434e-03, 0.00000000e+00, 0.00000000e+00, 0.00000000e+00,\n",
       "       8.57976691e-03])"
      ]
     },
     "execution_count": 190,
     "metadata": {},
     "output_type": "execute_result"
    }
   ],
   "source": [
    "clf_tree.feature_importances_"
   ]
  },
  {
   "cell_type": "code",
   "execution_count": 38,
   "metadata": {},
   "outputs": [],
   "source": [
    "feat_imp=list(zip(train_X.columns,clf_tree.feature_importances_ ))"
   ]
  },
  {
   "cell_type": "code",
   "execution_count": 191,
   "metadata": {},
   "outputs": [],
   "source": [
    "tree_test_pred = pd.DataFrame( { 'actual':  test_y,\n",
    "                            'predicted': clf_tree.predict( test_X ) } )"
   ]
  },
  {
   "cell_type": "code",
   "execution_count": 192,
   "metadata": {},
   "outputs": [
    {
     "data": {
      "text/plain": [
       "0.9860849268336476"
      ]
     },
     "execution_count": 192,
     "metadata": {},
     "output_type": "execute_result"
    }
   ],
   "source": [
    "metrics.accuracy_score( tree_test_pred.actual, tree_test_pred.predicted )"
   ]
  },
  {
   "cell_type": "code",
   "execution_count": 42,
   "metadata": {},
   "outputs": [
    {
     "data": {
      "image/png": "[encoded data removed]",
      "text/plain": [
       "<Figure size 432x288 with 2 Axes>"
      ]
     },
     "metadata": {
      "needs_background": "light"
     },
     "output_type": "display_data"
    }
   ],
   "source": [
    "tree_cm = metrics.confusion_matrix( tree_test_pred.predicted,\n",
    "                                 tree_test_pred.actual,[1,0] )\n",
    "sns.heatmap(tree_cm, annot=True,\n",
    "         fmt='.2f',\n",
    "         xticklabels = [\"Left\", \"No Left\"] , yticklabels = [\"Left\", \"No Left\"] )\n",
    "\n",
    "plt.ylabel('True label')\n",
    "plt.xlabel('Predicted label')\n",
    "plt.show()"
   ]
  },
  {
   "cell_type": "code",
   "execution_count": 54,
   "metadata": {},
   "outputs": [],
   "source": [
    "#metrics.roc_auc_score( tree_test_pred.actual, tree_test_pred.predicted )"
   ]
  },
  {
   "cell_type": "code",
   "execution_count": 50,
   "metadata": {},
   "outputs": [],
   "source": [
    "### metrics.roc_auc_score( tree_test_pred.actual, tree_test_pred.predicted,multi_class=\"ovo\")"
   ]
  },
  {
   "cell_type": "markdown",
   "metadata": {},
   "source": [
    "### Using Random Forest Classifier"
   ]
  },
  {
   "cell_type": "code",
   "execution_count": 59,
   "metadata": {},
   "outputs": [],
   "source": [
    "from sklearn.ensemble import RandomForestClassifier"
   ]
  },
  {
   "cell_type": "code",
   "execution_count": 61,
   "metadata": {},
   "outputs": [
    {
     "name": "stdout",
     "output_type": "stream",
     "text": [
      "Fitting 5 folds for each of 80 candidates, totalling 400 fits\n"
     ]
    },
    {
     "name": "stderr",
     "output_type": "stream",
     "text": [
      "[Parallel(n_jobs=-1)]: Using backend LokyBackend with 4 concurrent workers.\n",
      "[Parallel(n_jobs=-1)]: Done  42 tasks      | elapsed:  2.3min\n",
      "[Parallel(n_jobs=-1)]: Done 192 tasks      | elapsed: 12.2min\n",
      "[Parallel(n_jobs=-1)]: Done 400 out of 400 | elapsed: 26.5min finished\n"
     ]
    }
   ],
   "source": [
    "pargrid_rf = {'n_estimators': np.arange(50,70),\n",
    "                  'max_features': np.arange(10,14)}\n",
    "\n",
    "#from sklearn.grid_search import GridSearchCV\n",
    "gscv_rf = GridSearchCV(estimator=RandomForestClassifier(), \n",
    "                        param_grid=pargrid_rf, \n",
    "                        cv=5,\n",
    "                        verbose=True, n_jobs=-1)\n",
    "\n",
    "gscv_results = gscv_rf.fit(train_X, train_y)"
   ]
  },
  {
   "cell_type": "code",
   "execution_count": 62,
   "metadata": {},
   "outputs": [
    {
     "data": {
      "text/plain": [
       "{'max_features': 13, 'n_estimators': 67}"
      ]
     },
     "execution_count": 62,
     "metadata": {},
     "output_type": "execute_result"
    }
   ],
   "source": [
    "gscv_results.best_params_"
   ]
  },
  {
   "cell_type": "code",
   "execution_count": 65,
   "metadata": {},
   "outputs": [
    {
     "data": {
      "text/plain": [
       "0.9987976260328393"
      ]
     },
     "execution_count": 65,
     "metadata": {},
     "output_type": "execute_result"
    }
   ],
   "source": [
    "gscv_rf.best_score_"
   ]
  },
  {
   "cell_type": "code",
   "execution_count": 66,
   "metadata": {},
   "outputs": [
    {
     "data": {
      "text/plain": [
       "RandomForestClassifier(bootstrap=True, class_weight=None, criterion='gini',\n",
       "                       max_depth=None, max_features=13, max_leaf_nodes=None,\n",
       "                       min_impurity_decrease=0.0, min_impurity_split=None,\n",
       "                       min_samples_leaf=1, min_samples_split=2,\n",
       "                       min_weight_fraction_leaf=0.0, n_estimators=67, n_jobs=-1,\n",
       "                       oob_score=True, random_state=None, verbose=0,\n",
       "                       warm_start=False)"
      ]
     },
     "execution_count": 66,
     "metadata": {},
     "output_type": "execute_result"
    }
   ],
   "source": [
    "radm_clf = RandomForestClassifier(oob_score=True,n_estimators=67, max_features=13, n_jobs=-1)\n",
    "radm_clf.fit( train_X, train_y )"
   ]
  },
  {
   "cell_type": "code",
   "execution_count": 67,
   "metadata": {},
   "outputs": [],
   "source": [
    "radm_test_pred = pd.DataFrame( { 'actual':  test_y,\n",
    "                            'predicted': radm_clf.predict( test_X ) } )"
   ]
  },
  {
   "cell_type": "code",
   "execution_count": 73,
   "metadata": {},
   "outputs": [
    {
     "name": "stdout",
     "output_type": "stream",
     "text": [
      "0.9986982673489542\n"
     ]
    }
   ],
   "source": [
    "print(metrics.accuracy_score( radm_test_pred.actual, radm_test_pred.predicted ))\n",
    "#print(metrics.roc_auc_score( radm_test_pred.actual, radm_test_pred.predicted ))"
   ]
  },
  {
   "cell_type": "code",
   "execution_count": 75,
   "metadata": {},
   "outputs": [
    {
     "name": "stdout",
     "output_type": "stream",
     "text": [
      "              precision    recall  f1-score   support\n",
      "\n",
      "           0       1.00      1.00      1.00     23107\n",
      "           1       1.00      1.00      1.00     15926\n",
      "           2       1.00      1.00      1.00      4225\n",
      "           3       0.99      0.99      0.99      1260\n",
      "           4       0.85      0.74      0.79        38\n",
      "\n",
      "    accuracy                           1.00     44556\n",
      "   macro avg       0.97      0.94      0.95     44556\n",
      "weighted avg       1.00      1.00      1.00     44556\n",
      "\n"
     ]
    }
   ],
   "source": [
    "print(metrics.classification_report( radm_test_pred.actual, radm_test_pred.predicted))"
   ]
  },
  {
   "cell_type": "code",
   "execution_count": 78,
   "metadata": {},
   "outputs": [
    {
     "data": {
      "text/plain": [
       "array([[23087,     6,     3,     9,     3],\n",
       "       [    7, 15918,     1,     0,     0],\n",
       "       [    9,     1,  4220,     2,     0],\n",
       "       [    3,     1,     1,  1245,     7],\n",
       "       [    1,     0,     0,     4,    28]], dtype=int64)"
      ]
     },
     "execution_count": 78,
     "metadata": {},
     "output_type": "execute_result"
    }
   ],
   "source": [
    "tree_cm = metrics.confusion_matrix( radm_test_pred.predicted,\n",
    "                                 radm_test_pred.actual,)\n",
    "tree_cm"
   ]
  },
  {
   "cell_type": "code",
   "execution_count": 86,
   "metadata": {},
   "outputs": [],
   "source": [
    "#print(radm_clf.feature_importances_)\n",
    "#print(np.argsort(radm_clf.feature_importances_))"
   ]
  },
  {
   "cell_type": "code",
   "execution_count": 79,
   "metadata": {},
   "outputs": [],
   "source": [
    "#Conclusion : Using random forest yielded an accuracy of 99.87%"
   ]
  },
  {
   "cell_type": "code",
   "execution_count": null,
   "metadata": {},
   "outputs": [],
   "source": []
  },
  {
   "cell_type": "code",
   "execution_count": null,
   "metadata": {},
   "outputs": [],
   "source": []
  },
  {
   "cell_type": "code",
   "execution_count": null,
   "metadata": {},
   "outputs": [],
   "source": []
  }
 ],
 "metadata": {
  "kernelspec": {
   "display_name": "Python 3",
   "language": "python",
   "name": "python3"
  },
  "language_info": {
   "codemirror_mode": {
    "name": "ipython",
    "version": 3
   },
   "file_extension": ".py",
   "mimetype": "text/x-python",
   "name": "python",
   "nbconvert_exporter": "python",
   "pygments_lexer": "ipython3",
   "version": "3.7.4"
  }
 },
 "nbformat": 4,
 "nbformat_minor": 2
}
