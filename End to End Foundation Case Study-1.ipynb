{
 "cells": [
  {
   "cell_type": "code",
   "execution_count": 1,
   "metadata": {},
   "outputs": [],
   "source": [
    "import pandas as pd\n",
    "import numpy as np\n",
    "import seaborn as sns\n",
    "from matplotlib import pyplot as plt\n",
    "%matplotlib inline"
   ]
  },
  {
   "cell_type": "code",
   "execution_count": 2,
   "metadata": {},
   "outputs": [],
   "source": [
    "import scipy.stats as stats"
   ]
  },
  {
   "cell_type": "code",
   "execution_count": 3,
   "metadata": {},
   "outputs": [],
   "source": [
    "df_md_chrg_inpat_sum=pd.read_csv('F:/analytix_labs/9. End to End Foundation Case Study-1/Medicare_Charge_Inpatient_DRG100_DRG_Summary_by_DRG_FY2011.csv')\n",
    "df_md_chrg_outpat_sum=pd.read_csv('F:/analytix_labs/9. End to End Foundation Case Study-1/Medicare_Charge_Outpatient_APC30_Summary_by_APC_CY2011.csv')\n",
    "df_md_prov_chrg_inpat=pd.read_csv('F:/analytix_labs/9. End to End Foundation Case Study-1/Medicare_Provider_Charge_Inpatient_DRG100_FY2011.csv')\n",
    "df_md_prov_chrg_outpat=pd.read_csv('F:/analytix_labs/9. End to End Foundation Case Study-1/Medicare_Provider_Charge_Outpatient_APC30_CY2011_v2.csv')\n",
    "df_pat_hist=pd.read_csv('F:/analytix_labs/9. End to End Foundation Case Study-1/Patient_history_samp.csv')\n",
    "df_pat_hist_rev=pd.read_csv('F:/analytix_labs/9. End to End Foundation Case Study-1/Review_patient_history_samp.csv')\n",
    "df_trx_rev=pd.read_csv('F:/analytix_labs/9. End to End Foundation Case Study-1/Review_transaction_coo.csv')\n",
    "df_trx=pd.read_csv('F:/analytix_labs/9. End to End Foundation Case Study-1/Transaction_coo.csv')"
   ]
  },
  {
   "cell_type": "markdown",
   "metadata": {},
   "source": [
    "### Part 1 : Identify providers that overcharge for certain procedures or regions where procedures are too expensive."
   ]
  },
  {
   "cell_type": "markdown",
   "metadata": {},
   "source": [
    "### Part 1A: Highest cost variation."
   ]
  },
  {
   "cell_type": "code",
   "execution_count": 4,
   "metadata": {},
   "outputs": [
    {
     "data": {
      "text/html": [
       "<div>\n",
       "<style scoped>\n",
       "    .dataframe tbody tr th:only-of-type {\n",
       "        vertical-align: middle;\n",
       "    }\n",
       "\n",
       "    .dataframe tbody tr th {\n",
       "        vertical-align: top;\n",
       "    }\n",
       "\n",
       "    .dataframe thead th {\n",
       "        text-align: right;\n",
       "    }\n",
       "</style>\n",
       "<table border=\"1\" class=\"dataframe\">\n",
       "  <thead>\n",
       "    <tr style=\"text-align: right;\">\n",
       "      <th></th>\n",
       "      <th>DRG Definition</th>\n",
       "      <th>Provider Id</th>\n",
       "      <th>Provider Name</th>\n",
       "      <th>Provider Street Address</th>\n",
       "      <th>Provider City</th>\n",
       "      <th>Provider State</th>\n",
       "      <th>Provider Zip Code</th>\n",
       "      <th>Hospital Referral Region (HRR) Description</th>\n",
       "      <th>Total Discharges</th>\n",
       "      <th>Average Covered Charges</th>\n",
       "      <th>Average Total Payments</th>\n",
       "      <th>Average Medicare Payments</th>\n",
       "    </tr>\n",
       "  </thead>\n",
       "  <tbody>\n",
       "    <tr>\n",
       "      <td>0</td>\n",
       "      <td>039 - EXTRACRANIAL PROCEDURES W/O CC/MCC</td>\n",
       "      <td>10001</td>\n",
       "      <td>SOUTHEAST ALABAMA MEDICAL CENTER</td>\n",
       "      <td>1108 ROSS CLARK CIRCLE</td>\n",
       "      <td>DOTHAN</td>\n",
       "      <td>AL</td>\n",
       "      <td>36301</td>\n",
       "      <td>AL - Dothan</td>\n",
       "      <td>91</td>\n",
       "      <td>32963.07692</td>\n",
       "      <td>5777.241758</td>\n",
       "      <td>4763.736264</td>\n",
       "    </tr>\n",
       "    <tr>\n",
       "      <td>1</td>\n",
       "      <td>039 - EXTRACRANIAL PROCEDURES W/O CC/MCC</td>\n",
       "      <td>10005</td>\n",
       "      <td>MARSHALL MEDICAL CENTER SOUTH</td>\n",
       "      <td>2505 U S HIGHWAY 431 NORTH</td>\n",
       "      <td>BOAZ</td>\n",
       "      <td>AL</td>\n",
       "      <td>35957</td>\n",
       "      <td>AL - Birmingham</td>\n",
       "      <td>14</td>\n",
       "      <td>15131.85714</td>\n",
       "      <td>5787.571429</td>\n",
       "      <td>4976.714286</td>\n",
       "    </tr>\n",
       "    <tr>\n",
       "      <td>2</td>\n",
       "      <td>039 - EXTRACRANIAL PROCEDURES W/O CC/MCC</td>\n",
       "      <td>10006</td>\n",
       "      <td>ELIZA COFFEE MEMORIAL HOSPITAL</td>\n",
       "      <td>205 MARENGO STREET</td>\n",
       "      <td>FLORENCE</td>\n",
       "      <td>AL</td>\n",
       "      <td>35631</td>\n",
       "      <td>AL - Birmingham</td>\n",
       "      <td>24</td>\n",
       "      <td>37560.37500</td>\n",
       "      <td>5434.958333</td>\n",
       "      <td>4453.791667</td>\n",
       "    </tr>\n",
       "    <tr>\n",
       "      <td>3</td>\n",
       "      <td>039 - EXTRACRANIAL PROCEDURES W/O CC/MCC</td>\n",
       "      <td>10011</td>\n",
       "      <td>ST VINCENT'S EAST</td>\n",
       "      <td>50 MEDICAL PARK EAST DRIVE</td>\n",
       "      <td>BIRMINGHAM</td>\n",
       "      <td>AL</td>\n",
       "      <td>35235</td>\n",
       "      <td>AL - Birmingham</td>\n",
       "      <td>25</td>\n",
       "      <td>13998.28000</td>\n",
       "      <td>5417.560000</td>\n",
       "      <td>4129.160000</td>\n",
       "    </tr>\n",
       "    <tr>\n",
       "      <td>4</td>\n",
       "      <td>039 - EXTRACRANIAL PROCEDURES W/O CC/MCC</td>\n",
       "      <td>10016</td>\n",
       "      <td>SHELBY BAPTIST MEDICAL CENTER</td>\n",
       "      <td>1000 FIRST STREET NORTH</td>\n",
       "      <td>ALABASTER</td>\n",
       "      <td>AL</td>\n",
       "      <td>35007</td>\n",
       "      <td>AL - Birmingham</td>\n",
       "      <td>18</td>\n",
       "      <td>31633.27778</td>\n",
       "      <td>5658.333333</td>\n",
       "      <td>4851.444444</td>\n",
       "    </tr>\n",
       "  </tbody>\n",
       "</table>\n",
       "</div>"
      ],
      "text/plain": [
       "                             DRG Definition  Provider Id  \\\n",
       "0  039 - EXTRACRANIAL PROCEDURES W/O CC/MCC        10001   \n",
       "1  039 - EXTRACRANIAL PROCEDURES W/O CC/MCC        10005   \n",
       "2  039 - EXTRACRANIAL PROCEDURES W/O CC/MCC        10006   \n",
       "3  039 - EXTRACRANIAL PROCEDURES W/O CC/MCC        10011   \n",
       "4  039 - EXTRACRANIAL PROCEDURES W/O CC/MCC        10016   \n",
       "\n",
       "                      Provider Name     Provider Street Address Provider City  \\\n",
       "0  SOUTHEAST ALABAMA MEDICAL CENTER      1108 ROSS CLARK CIRCLE        DOTHAN   \n",
       "1     MARSHALL MEDICAL CENTER SOUTH  2505 U S HIGHWAY 431 NORTH          BOAZ   \n",
       "2    ELIZA COFFEE MEMORIAL HOSPITAL          205 MARENGO STREET      FLORENCE   \n",
       "3                 ST VINCENT'S EAST  50 MEDICAL PARK EAST DRIVE    BIRMINGHAM   \n",
       "4     SHELBY BAPTIST MEDICAL CENTER     1000 FIRST STREET NORTH     ALABASTER   \n",
       "\n",
       "  Provider State  Provider Zip Code  \\\n",
       "0             AL              36301   \n",
       "1             AL              35957   \n",
       "2             AL              35631   \n",
       "3             AL              35235   \n",
       "4             AL              35007   \n",
       "\n",
       "  Hospital Referral Region (HRR) Description  Total Discharges  \\\n",
       "0                                AL - Dothan                91   \n",
       "1                            AL - Birmingham                14   \n",
       "2                            AL - Birmingham                24   \n",
       "3                            AL - Birmingham                25   \n",
       "4                            AL - Birmingham                18   \n",
       "\n",
       "   Average Covered Charges  Average Total Payments  Average Medicare Payments  \n",
       "0              32963.07692             5777.241758                4763.736264  \n",
       "1              15131.85714             5787.571429                4976.714286  \n",
       "2              37560.37500             5434.958333                4453.791667  \n",
       "3              13998.28000             5417.560000                4129.160000  \n",
       "4              31633.27778             5658.333333                4851.444444  "
      ]
     },
     "execution_count": 4,
     "metadata": {},
     "output_type": "execute_result"
    }
   ],
   "source": [
    "df_md_prov_chrg_inpat.head()"
   ]
  },
  {
   "cell_type": "code",
   "execution_count": 5,
   "metadata": {},
   "outputs": [
    {
     "data": {
      "text/html": [
       "<div>\n",
       "<style scoped>\n",
       "    .dataframe tbody tr th:only-of-type {\n",
       "        vertical-align: middle;\n",
       "    }\n",
       "\n",
       "    .dataframe tbody tr th {\n",
       "        vertical-align: top;\n",
       "    }\n",
       "\n",
       "    .dataframe thead th {\n",
       "        text-align: right;\n",
       "    }\n",
       "</style>\n",
       "<table border=\"1\" class=\"dataframe\">\n",
       "  <thead>\n",
       "    <tr style=\"text-align: right;\">\n",
       "      <th></th>\n",
       "      <th>APC</th>\n",
       "      <th>Provider Id</th>\n",
       "      <th>Provider Name</th>\n",
       "      <th>Provider Street Address</th>\n",
       "      <th>Provider City</th>\n",
       "      <th>Provider State</th>\n",
       "      <th>Provider Zip Code</th>\n",
       "      <th>Hospital Referral Region (HRR) Description</th>\n",
       "      <th>Outpatient Services</th>\n",
       "      <th>Average  Estimated Submitted Charges</th>\n",
       "      <th>Average Total Payments</th>\n",
       "    </tr>\n",
       "  </thead>\n",
       "  <tbody>\n",
       "    <tr>\n",
       "      <td>0</td>\n",
       "      <td>0012 - Level I Debridement &amp; Destruction</td>\n",
       "      <td>10029</td>\n",
       "      <td>EAST ALABAMA MEDICAL CENTER AND SNF</td>\n",
       "      <td>2000 PEPPERELL PARKWAY</td>\n",
       "      <td>OPELIKA</td>\n",
       "      <td>AL</td>\n",
       "      <td>36801</td>\n",
       "      <td>AL - Birmingham</td>\n",
       "      <td>23</td>\n",
       "      <td>78.086957</td>\n",
       "      <td>21.910435</td>\n",
       "    </tr>\n",
       "    <tr>\n",
       "      <td>1</td>\n",
       "      <td>0012 - Level I Debridement &amp; Destruction</td>\n",
       "      <td>20024</td>\n",
       "      <td>CENTRAL PENINSULA GENERAL HOSPITAL</td>\n",
       "      <td>250 HOSPITAL PLACE</td>\n",
       "      <td>SOLDOTNA</td>\n",
       "      <td>AK</td>\n",
       "      <td>99669</td>\n",
       "      <td>AK - Anchorage</td>\n",
       "      <td>994</td>\n",
       "      <td>149.589749</td>\n",
       "      <td>36.623853</td>\n",
       "    </tr>\n",
       "    <tr>\n",
       "      <td>2</td>\n",
       "      <td>0012 - Level I Debridement &amp; Destruction</td>\n",
       "      <td>30064</td>\n",
       "      <td>UNIVERSITY OF ARIZONA MEDICAL CTR-UNIVERSIT, THE</td>\n",
       "      <td>1501 NORTH CAMPBELL AVENUE</td>\n",
       "      <td>TUCSON</td>\n",
       "      <td>AZ</td>\n",
       "      <td>85724</td>\n",
       "      <td>AZ - Tucson</td>\n",
       "      <td>1765</td>\n",
       "      <td>50.135411</td>\n",
       "      <td>14.541841</td>\n",
       "    </tr>\n",
       "    <tr>\n",
       "      <td>3</td>\n",
       "      <td>0012 - Level I Debridement &amp; Destruction</td>\n",
       "      <td>30088</td>\n",
       "      <td>BANNER BAYWOOD MEDICAL CENTER</td>\n",
       "      <td>6644 EAST BAYWOOD AVENUE</td>\n",
       "      <td>MESA</td>\n",
       "      <td>AZ</td>\n",
       "      <td>85206</td>\n",
       "      <td>AZ - Mesa</td>\n",
       "      <td>20</td>\n",
       "      <td>112.400000</td>\n",
       "      <td>23.736000</td>\n",
       "    </tr>\n",
       "    <tr>\n",
       "      <td>4</td>\n",
       "      <td>0012 - Level I Debridement &amp; Destruction</td>\n",
       "      <td>30111</td>\n",
       "      <td>UNIVERSITY OF ARIZONA MEDICAL CTR- SOUTH CAM, THE</td>\n",
       "      <td>2800 EAST AJO WAY</td>\n",
       "      <td>TUCSON</td>\n",
       "      <td>AZ</td>\n",
       "      <td>85713</td>\n",
       "      <td>AZ - Tucson</td>\n",
       "      <td>22</td>\n",
       "      <td>152.045455</td>\n",
       "      <td>16.569091</td>\n",
       "    </tr>\n",
       "  </tbody>\n",
       "</table>\n",
       "</div>"
      ],
      "text/plain": [
       "                                        APC  Provider Id  \\\n",
       "0  0012 - Level I Debridement & Destruction        10029   \n",
       "1  0012 - Level I Debridement & Destruction        20024   \n",
       "2  0012 - Level I Debridement & Destruction        30064   \n",
       "3  0012 - Level I Debridement & Destruction        30088   \n",
       "4  0012 - Level I Debridement & Destruction        30111   \n",
       "\n",
       "                                       Provider Name  \\\n",
       "0                EAST ALABAMA MEDICAL CENTER AND SNF   \n",
       "1                 CENTRAL PENINSULA GENERAL HOSPITAL   \n",
       "2   UNIVERSITY OF ARIZONA MEDICAL CTR-UNIVERSIT, THE   \n",
       "3                      BANNER BAYWOOD MEDICAL CENTER   \n",
       "4  UNIVERSITY OF ARIZONA MEDICAL CTR- SOUTH CAM, THE   \n",
       "\n",
       "      Provider Street Address Provider City Provider State  Provider Zip Code  \\\n",
       "0      2000 PEPPERELL PARKWAY       OPELIKA             AL              36801   \n",
       "1          250 HOSPITAL PLACE      SOLDOTNA             AK              99669   \n",
       "2  1501 NORTH CAMPBELL AVENUE        TUCSON             AZ              85724   \n",
       "3    6644 EAST BAYWOOD AVENUE          MESA             AZ              85206   \n",
       "4           2800 EAST AJO WAY        TUCSON             AZ              85713   \n",
       "\n",
       "  Hospital Referral Region (HRR) Description  Outpatient Services  \\\n",
       "0                            AL - Birmingham                   23   \n",
       "1                             AK - Anchorage                  994   \n",
       "2                                AZ - Tucson                 1765   \n",
       "3                                  AZ - Mesa                   20   \n",
       "4                                AZ - Tucson                   22   \n",
       "\n",
       "   Average  Estimated Submitted Charges  Average Total Payments  \n",
       "0                             78.086957               21.910435  \n",
       "1                            149.589749               36.623853  \n",
       "2                             50.135411               14.541841  \n",
       "3                            112.400000               23.736000  \n",
       "4                            152.045455               16.569091  "
      ]
     },
     "execution_count": 5,
     "metadata": {},
     "output_type": "execute_result"
    }
   ],
   "source": [
    "df_md_prov_chrg_outpat.head()"
   ]
  },
  {
   "cell_type": "code",
   "execution_count": 6,
   "metadata": {},
   "outputs": [
    {
     "name": "stdout",
     "output_type": "stream",
     "text": [
      "<class 'pandas.core.frame.DataFrame'>\n",
      "RangeIndex: 100 entries, 0 to 99\n",
      "Data columns (total 5 columns):\n",
      "DRG Definition               100 non-null object\n",
      "Total Discharges             100 non-null int64\n",
      "Average Covered Charges      100 non-null float64\n",
      "Average Total Payments       100 non-null float64\n",
      "Average Medicare Payments    100 non-null float64\n",
      "dtypes: float64(3), int64(1), object(1)\n",
      "memory usage: 4.0+ KB\n"
     ]
    }
   ],
   "source": [
    "df_md_chrg_inpat_sum.info()"
   ]
  },
  {
   "cell_type": "code",
   "execution_count": 7,
   "metadata": {},
   "outputs": [
    {
     "name": "stdout",
     "output_type": "stream",
     "text": [
      "<class 'pandas.core.frame.DataFrame'>\n",
      "RangeIndex: 30 entries, 0 to 29\n",
      "Data columns (total 4 columns):\n",
      "APC                                    30 non-null object\n",
      "Outpatient Services                    30 non-null int64\n",
      "Average Estimated Submitted Charges    30 non-null float64\n",
      "Average Total Payments                 30 non-null float64\n",
      "dtypes: float64(2), int64(1), object(1)\n",
      "memory usage: 1.1+ KB\n"
     ]
    }
   ],
   "source": [
    "df_md_chrg_outpat_sum.info()"
   ]
  },
  {
   "cell_type": "code",
   "execution_count": 8,
   "metadata": {},
   "outputs": [
    {
     "data": {
      "text/html": [
       "<div>\n",
       "<style scoped>\n",
       "    .dataframe tbody tr th:only-of-type {\n",
       "        vertical-align: middle;\n",
       "    }\n",
       "\n",
       "    .dataframe tbody tr th {\n",
       "        vertical-align: top;\n",
       "    }\n",
       "\n",
       "    .dataframe thead th {\n",
       "        text-align: right;\n",
       "    }\n",
       "</style>\n",
       "<table border=\"1\" class=\"dataframe\">\n",
       "  <thead>\n",
       "    <tr style=\"text-align: right;\">\n",
       "      <th></th>\n",
       "      <th>DRG Definition</th>\n",
       "      <th>Total Discharges</th>\n",
       "      <th>Average Covered Charges</th>\n",
       "      <th>Average Total Payments</th>\n",
       "      <th>Average Medicare Payments</th>\n",
       "    </tr>\n",
       "  </thead>\n",
       "  <tbody>\n",
       "    <tr>\n",
       "      <td>0</td>\n",
       "      <td>039 - EXTRACRANIAL PROCEDURES W/O CC/MCC</td>\n",
       "      <td>37861</td>\n",
       "      <td>29228.55368</td>\n",
       "      <td>6902.381289</td>\n",
       "      <td>5514.435910</td>\n",
       "    </tr>\n",
       "    <tr>\n",
       "      <td>1</td>\n",
       "      <td>057 - DEGENERATIVE NERVOUS SYSTEM DISORDERS W/...</td>\n",
       "      <td>37927</td>\n",
       "      <td>23924.98059</td>\n",
       "      <td>6809.799325</td>\n",
       "      <td>5791.920242</td>\n",
       "    </tr>\n",
       "    <tr>\n",
       "      <td>2</td>\n",
       "      <td>064 - INTRACRANIAL HEMORRHAGE OR CEREBRAL INFA...</td>\n",
       "      <td>68163</td>\n",
       "      <td>49186.95644</td>\n",
       "      <td>13614.616130</td>\n",
       "      <td>12415.825360</td>\n",
       "    </tr>\n",
       "    <tr>\n",
       "      <td>3</td>\n",
       "      <td>065 - INTRACRANIAL HEMORRHAGE OR CEREBRAL INFA...</td>\n",
       "      <td>110983</td>\n",
       "      <td>30371.27399</td>\n",
       "      <td>8037.269492</td>\n",
       "      <td>6858.689088</td>\n",
       "    </tr>\n",
       "    <tr>\n",
       "      <td>4</td>\n",
       "      <td>066 - INTRACRANIAL HEMORRHAGE OR CEREBRAL INFA...</td>\n",
       "      <td>62346</td>\n",
       "      <td>23300.06199</td>\n",
       "      <td>5762.881821</td>\n",
       "      <td>4508.202659</td>\n",
       "    </tr>\n",
       "  </tbody>\n",
       "</table>\n",
       "</div>"
      ],
      "text/plain": [
       "                                      DRG Definition  Total Discharges  \\\n",
       "0           039 - EXTRACRANIAL PROCEDURES W/O CC/MCC             37861   \n",
       "1  057 - DEGENERATIVE NERVOUS SYSTEM DISORDERS W/...             37927   \n",
       "2  064 - INTRACRANIAL HEMORRHAGE OR CEREBRAL INFA...             68163   \n",
       "3  065 - INTRACRANIAL HEMORRHAGE OR CEREBRAL INFA...            110983   \n",
       "4  066 - INTRACRANIAL HEMORRHAGE OR CEREBRAL INFA...             62346   \n",
       "\n",
       "   Average Covered Charges  Average Total Payments  Average Medicare Payments  \n",
       "0              29228.55368             6902.381289                5514.435910  \n",
       "1              23924.98059             6809.799325                5791.920242  \n",
       "2              49186.95644            13614.616130               12415.825360  \n",
       "3              30371.27399             8037.269492                6858.689088  \n",
       "4              23300.06199             5762.881821                4508.202659  "
      ]
     },
     "execution_count": 8,
     "metadata": {},
     "output_type": "execute_result"
    }
   ],
   "source": [
    "df_md_chrg_inpat_sum.head()"
   ]
  },
  {
   "cell_type": "code",
   "execution_count": 9,
   "metadata": {},
   "outputs": [],
   "source": [
    "df_md_chrg_inpat_sum_new = df_md_chrg_inpat_sum.drop(columns='Average Covered Charges')"
   ]
  },
  {
   "cell_type": "code",
   "execution_count": 10,
   "metadata": {},
   "outputs": [
    {
     "name": "stdout",
     "output_type": "stream",
     "text": [
      "<class 'pandas.core.frame.DataFrame'>\n",
      "RangeIndex: 100 entries, 0 to 99\n",
      "Data columns (total 4 columns):\n",
      "DRG Definition               100 non-null object\n",
      "Total Discharges             100 non-null int64\n",
      "Average Total Payments       100 non-null float64\n",
      "Average Medicare Payments    100 non-null float64\n",
      "dtypes: float64(2), int64(1), object(1)\n",
      "memory usage: 3.2+ KB\n"
     ]
    }
   ],
   "source": [
    "df_md_chrg_inpat_sum_new.info()"
   ]
  },
  {
   "cell_type": "code",
   "execution_count": 11,
   "metadata": {},
   "outputs": [
    {
     "data": {
      "text/html": [
       "<div>\n",
       "<style scoped>\n",
       "    .dataframe tbody tr th:only-of-type {\n",
       "        vertical-align: middle;\n",
       "    }\n",
       "\n",
       "    .dataframe tbody tr th {\n",
       "        vertical-align: top;\n",
       "    }\n",
       "\n",
       "    .dataframe thead th {\n",
       "        text-align: right;\n",
       "    }\n",
       "</style>\n",
       "<table border=\"1\" class=\"dataframe\">\n",
       "  <thead>\n",
       "    <tr style=\"text-align: right;\">\n",
       "      <th></th>\n",
       "      <th>APC</th>\n",
       "      <th>Outpatient Services</th>\n",
       "      <th>Average Estimated Submitted Charges</th>\n",
       "      <th>Average Total Payments</th>\n",
       "    </tr>\n",
       "  </thead>\n",
       "  <tbody>\n",
       "    <tr>\n",
       "      <td>0</td>\n",
       "      <td>0012 - Level I Debridement &amp; Destruction</td>\n",
       "      <td>275987</td>\n",
       "      <td>74.202956</td>\n",
       "      <td>16.147079</td>\n",
       "    </tr>\n",
       "    <tr>\n",
       "      <td>1</td>\n",
       "      <td>0013 - Level II Debridement &amp; Destruction</td>\n",
       "      <td>434706</td>\n",
       "      <td>196.170070</td>\n",
       "      <td>56.133853</td>\n",
       "    </tr>\n",
       "    <tr>\n",
       "      <td>2</td>\n",
       "      <td>0015 - Level III Debridement &amp; Destruction</td>\n",
       "      <td>509576</td>\n",
       "      <td>326.503444</td>\n",
       "      <td>97.156250</td>\n",
       "    </tr>\n",
       "    <tr>\n",
       "      <td>3</td>\n",
       "      <td>0019 - Level I Excision/ Biopsy</td>\n",
       "      <td>27860</td>\n",
       "      <td>2013.181972</td>\n",
       "      <td>330.908369</td>\n",
       "    </tr>\n",
       "    <tr>\n",
       "      <td>4</td>\n",
       "      <td>0020 - Level II Excision/ Biopsy</td>\n",
       "      <td>40642</td>\n",
       "      <td>3161.457873</td>\n",
       "      <td>567.156154</td>\n",
       "    </tr>\n",
       "  </tbody>\n",
       "</table>\n",
       "</div>"
      ],
      "text/plain": [
       "                                          APC  Outpatient Services  \\\n",
       "0    0012 - Level I Debridement & Destruction               275987   \n",
       "1   0013 - Level II Debridement & Destruction               434706   \n",
       "2  0015 - Level III Debridement & Destruction               509576   \n",
       "3             0019 - Level I Excision/ Biopsy                27860   \n",
       "4            0020 - Level II Excision/ Biopsy                40642   \n",
       "\n",
       "   Average Estimated Submitted Charges  Average Total Payments  \n",
       "0                            74.202956               16.147079  \n",
       "1                           196.170070               56.133853  \n",
       "2                           326.503444               97.156250  \n",
       "3                          2013.181972              330.908369  \n",
       "4                          3161.457873              567.156154  "
      ]
     },
     "execution_count": 11,
     "metadata": {},
     "output_type": "execute_result"
    }
   ],
   "source": [
    "df_md_chrg_outpat_sum.head()"
   ]
  },
  {
   "cell_type": "code",
   "execution_count": null,
   "metadata": {},
   "outputs": [],
   "source": []
  },
  {
   "cell_type": "code",
   "execution_count": null,
   "metadata": {},
   "outputs": [],
   "source": []
  },
  {
   "cell_type": "code",
   "execution_count": 13,
   "metadata": {},
   "outputs": [
    {
     "name": "stdout",
     "output_type": "stream",
     "text": [
      "<class 'pandas.core.frame.DataFrame'>\n",
      "RangeIndex: 30 entries, 0 to 29\n",
      "Data columns (total 4 columns):\n",
      "APC                                    30 non-null object\n",
      "Outpatient Services                    30 non-null int64\n",
      "Average Estimated Submitted Charges    30 non-null float64\n",
      "Average Total Payments                 30 non-null float64\n",
      "dtypes: float64(2), int64(1), object(1)\n",
      "memory usage: 1.1+ KB\n"
     ]
    }
   ],
   "source": [
    "df_md_chrg_outpat_sum.info()"
   ]
  },
  {
   "cell_type": "code",
   "execution_count": 14,
   "metadata": {},
   "outputs": [],
   "source": [
    "df_md_chrg_inpat_sum_new.rename(columns = {'DRG Definition':'procedure','Total Discharges':'patients_service',\n",
    "                                           'Average Total Payments':'avg_claims','Average Medicare Payments':'avg_reimbursement'},inplace = True)"
   ]
  },
  {
   "cell_type": "code",
   "execution_count": 15,
   "metadata": {},
   "outputs": [],
   "source": [
    "df_md_chrg_outpat_sum.rename(columns = {'APC':'procedure','Outpatient Services':'patients_service',\n",
    "                                           'Average Estimated Submitted Charges':'avg_claims','Average Total Payments':'avg_reimbursement'},inplace = True)"
   ]
  },
  {
   "cell_type": "code",
   "execution_count": 16,
   "metadata": {},
   "outputs": [],
   "source": [
    "df_md_chrg_sum =pd.concat([df_md_chrg_inpat_sum_new,df_md_chrg_outpat_sum],axis=0)"
   ]
  },
  {
   "cell_type": "code",
   "execution_count": 17,
   "metadata": {},
   "outputs": [
    {
     "name": "stdout",
     "output_type": "stream",
     "text": [
      "<class 'pandas.core.frame.DataFrame'>\n",
      "Int64Index: 130 entries, 0 to 29\n",
      "Data columns (total 4 columns):\n",
      "procedure            130 non-null object\n",
      "patients_service     130 non-null int64\n",
      "avg_claims           130 non-null float64\n",
      "avg_reimbursement    130 non-null float64\n",
      "dtypes: float64(2), int64(1), object(1)\n",
      "memory usage: 5.1+ KB\n"
     ]
    }
   ],
   "source": [
    "df_md_chrg_sum.info()"
   ]
  },
  {
   "cell_type": "code",
   "execution_count": 18,
   "metadata": {},
   "outputs": [
    {
     "data": {
      "text/html": [
       "<div>\n",
       "<style scoped>\n",
       "    .dataframe tbody tr th:only-of-type {\n",
       "        vertical-align: middle;\n",
       "    }\n",
       "\n",
       "    .dataframe tbody tr th {\n",
       "        vertical-align: top;\n",
       "    }\n",
       "\n",
       "    .dataframe thead th {\n",
       "        text-align: right;\n",
       "    }\n",
       "</style>\n",
       "<table border=\"1\" class=\"dataframe\">\n",
       "  <thead>\n",
       "    <tr style=\"text-align: right;\">\n",
       "      <th></th>\n",
       "      <th>procedure</th>\n",
       "      <th>patients_service</th>\n",
       "      <th>avg_claims</th>\n",
       "      <th>avg_reimbursement</th>\n",
       "    </tr>\n",
       "  </thead>\n",
       "  <tbody>\n",
       "    <tr>\n",
       "      <td>0</td>\n",
       "      <td>039 - EXTRACRANIAL PROCEDURES W/O CC/MCC</td>\n",
       "      <td>37861</td>\n",
       "      <td>6902.381289</td>\n",
       "      <td>5514.435910</td>\n",
       "    </tr>\n",
       "    <tr>\n",
       "      <td>1</td>\n",
       "      <td>057 - DEGENERATIVE NERVOUS SYSTEM DISORDERS W/...</td>\n",
       "      <td>37927</td>\n",
       "      <td>6809.799325</td>\n",
       "      <td>5791.920242</td>\n",
       "    </tr>\n",
       "    <tr>\n",
       "      <td>2</td>\n",
       "      <td>064 - INTRACRANIAL HEMORRHAGE OR CEREBRAL INFA...</td>\n",
       "      <td>68163</td>\n",
       "      <td>13614.616130</td>\n",
       "      <td>12415.825360</td>\n",
       "    </tr>\n",
       "    <tr>\n",
       "      <td>3</td>\n",
       "      <td>065 - INTRACRANIAL HEMORRHAGE OR CEREBRAL INFA...</td>\n",
       "      <td>110983</td>\n",
       "      <td>8037.269492</td>\n",
       "      <td>6858.689088</td>\n",
       "    </tr>\n",
       "    <tr>\n",
       "      <td>4</td>\n",
       "      <td>066 - INTRACRANIAL HEMORRHAGE OR CEREBRAL INFA...</td>\n",
       "      <td>62346</td>\n",
       "      <td>5762.881821</td>\n",
       "      <td>4508.202659</td>\n",
       "    </tr>\n",
       "  </tbody>\n",
       "</table>\n",
       "</div>"
      ],
      "text/plain": [
       "                                           procedure  patients_service  \\\n",
       "0           039 - EXTRACRANIAL PROCEDURES W/O CC/MCC             37861   \n",
       "1  057 - DEGENERATIVE NERVOUS SYSTEM DISORDERS W/...             37927   \n",
       "2  064 - INTRACRANIAL HEMORRHAGE OR CEREBRAL INFA...             68163   \n",
       "3  065 - INTRACRANIAL HEMORRHAGE OR CEREBRAL INFA...            110983   \n",
       "4  066 - INTRACRANIAL HEMORRHAGE OR CEREBRAL INFA...             62346   \n",
       "\n",
       "     avg_claims  avg_reimbursement  \n",
       "0   6902.381289        5514.435910  \n",
       "1   6809.799325        5791.920242  \n",
       "2  13614.616130       12415.825360  \n",
       "3   8037.269492        6858.689088  \n",
       "4   5762.881821        4508.202659  "
      ]
     },
     "execution_count": 18,
     "metadata": {},
     "output_type": "execute_result"
    }
   ],
   "source": [
    "df_md_chrg_sum.head()"
   ]
  },
  {
   "cell_type": "code",
   "execution_count": 19,
   "metadata": {},
   "outputs": [
    {
     "name": "stdout",
     "output_type": "stream",
     "text": [
      "<class 'pandas.core.frame.DataFrame'>\n",
      "RangeIndex: 43372 entries, 0 to 43371\n",
      "Data columns (total 11 columns):\n",
      "APC                                           43372 non-null object\n",
      "Provider Id                                   43372 non-null int64\n",
      "Provider Name                                 43372 non-null object\n",
      "Provider Street Address                       43372 non-null object\n",
      "Provider City                                 43372 non-null object\n",
      "Provider State                                43372 non-null object\n",
      "Provider Zip Code                             43372 non-null int64\n",
      "Hospital Referral Region (HRR) Description    43372 non-null object\n",
      "Outpatient Services                           43372 non-null int64\n",
      "Average  Estimated Submitted Charges          43372 non-null float64\n",
      "Average Total Payments                        43372 non-null float64\n",
      "dtypes: float64(2), int64(3), object(6)\n",
      "memory usage: 3.6+ MB\n"
     ]
    }
   ],
   "source": [
    "df_md_prov_chrg_outpat.info()"
   ]
  },
  {
   "cell_type": "code",
   "execution_count": 20,
   "metadata": {},
   "outputs": [
    {
     "name": "stdout",
     "output_type": "stream",
     "text": [
      "<class 'pandas.core.frame.DataFrame'>\n",
      "RangeIndex: 163065 entries, 0 to 163064\n",
      "Data columns (total 12 columns):\n",
      "DRG Definition                                163065 non-null object\n",
      "Provider Id                                   163065 non-null int64\n",
      "Provider Name                                 163065 non-null object\n",
      "Provider Street Address                       163065 non-null object\n",
      "Provider City                                 163065 non-null object\n",
      "Provider State                                163065 non-null object\n",
      "Provider Zip Code                             163065 non-null int64\n",
      "Hospital Referral Region (HRR) Description    163065 non-null object\n",
      "Total Discharges                              163065 non-null int64\n",
      "Average Covered Charges                       163065 non-null float64\n",
      "Average Total Payments                        163065 non-null float64\n",
      "Average Medicare Payments                     163065 non-null float64\n",
      "dtypes: float64(3), int64(3), object(6)\n",
      "memory usage: 14.9+ MB\n"
     ]
    }
   ],
   "source": [
    "df_md_prov_chrg_inpat.info()"
   ]
  },
  {
   "cell_type": "code",
   "execution_count": null,
   "metadata": {},
   "outputs": [],
   "source": []
  },
  {
   "cell_type": "code",
   "execution_count": 21,
   "metadata": {},
   "outputs": [],
   "source": [
    "df_md_prov_chrg_inpat_new=df_md_prov_chrg_inpat.drop(columns = ['Average Covered Charges'])"
   ]
  },
  {
   "cell_type": "code",
   "execution_count": 22,
   "metadata": {},
   "outputs": [],
   "source": [
    "df_md_prov_chrg_inpat_new.rename(columns = {'DRG Definition':'procedure','Total Discharges':'patients_service',\n",
    "                                           'Average Total Payments':'avg_claims','Average Medicare Payments':'avg_reimbursement'},inplace = True)"
   ]
  },
  {
   "cell_type": "code",
   "execution_count": 23,
   "metadata": {},
   "outputs": [
    {
     "name": "stdout",
     "output_type": "stream",
     "text": [
      "<class 'pandas.core.frame.DataFrame'>\n",
      "RangeIndex: 163065 entries, 0 to 163064\n",
      "Data columns (total 11 columns):\n",
      "procedure                                     163065 non-null object\n",
      "Provider Id                                   163065 non-null int64\n",
      "Provider Name                                 163065 non-null object\n",
      "Provider Street Address                       163065 non-null object\n",
      "Provider City                                 163065 non-null object\n",
      "Provider State                                163065 non-null object\n",
      "Provider Zip Code                             163065 non-null int64\n",
      "Hospital Referral Region (HRR) Description    163065 non-null object\n",
      "patients_service                              163065 non-null int64\n",
      "avg_claims                                    163065 non-null float64\n",
      "avg_reimbursement                             163065 non-null float64\n",
      "dtypes: float64(2), int64(3), object(6)\n",
      "memory usage: 13.7+ MB\n"
     ]
    }
   ],
   "source": [
    "df_md_prov_chrg_inpat_new.info()"
   ]
  },
  {
   "cell_type": "code",
   "execution_count": 24,
   "metadata": {},
   "outputs": [
    {
     "name": "stdout",
     "output_type": "stream",
     "text": [
      "<class 'pandas.core.frame.DataFrame'>\n",
      "RangeIndex: 43372 entries, 0 to 43371\n",
      "Data columns (total 11 columns):\n",
      "APC                                           43372 non-null object\n",
      "Provider Id                                   43372 non-null int64\n",
      "Provider Name                                 43372 non-null object\n",
      "Provider Street Address                       43372 non-null object\n",
      "Provider City                                 43372 non-null object\n",
      "Provider State                                43372 non-null object\n",
      "Provider Zip Code                             43372 non-null int64\n",
      "Hospital Referral Region (HRR) Description    43372 non-null object\n",
      "Outpatient Services                           43372 non-null int64\n",
      "Average  Estimated Submitted Charges          43372 non-null float64\n",
      "Average Total Payments                        43372 non-null float64\n",
      "dtypes: float64(2), int64(3), object(6)\n",
      "memory usage: 3.6+ MB\n"
     ]
    }
   ],
   "source": [
    "df_md_prov_chrg_outpat.info()"
   ]
  },
  {
   "cell_type": "code",
   "execution_count": 25,
   "metadata": {},
   "outputs": [],
   "source": [
    "df_md_prov_chrg_outpat.rename(columns = {'APC':'procedure','Outpatient Services':'patients_service',\n",
    "                                           'Average  Estimated Submitted Charges':'avg_claims','Average Total Payments':'avg_reimbursement'},inplace = True)"
   ]
  },
  {
   "cell_type": "code",
   "execution_count": 26,
   "metadata": {},
   "outputs": [
    {
     "name": "stdout",
     "output_type": "stream",
     "text": [
      "<class 'pandas.core.frame.DataFrame'>\n",
      "RangeIndex: 43372 entries, 0 to 43371\n",
      "Data columns (total 11 columns):\n",
      "procedure                                     43372 non-null object\n",
      "Provider Id                                   43372 non-null int64\n",
      "Provider Name                                 43372 non-null object\n",
      "Provider Street Address                       43372 non-null object\n",
      "Provider City                                 43372 non-null object\n",
      "Provider State                                43372 non-null object\n",
      "Provider Zip Code                             43372 non-null int64\n",
      "Hospital Referral Region (HRR) Description    43372 non-null object\n",
      "patients_service                              43372 non-null int64\n",
      "avg_claims                                    43372 non-null float64\n",
      "avg_reimbursement                             43372 non-null float64\n",
      "dtypes: float64(2), int64(3), object(6)\n",
      "memory usage: 3.6+ MB\n"
     ]
    }
   ],
   "source": [
    "df_md_prov_chrg_outpat.info()"
   ]
  },
  {
   "cell_type": "code",
   "execution_count": 27,
   "metadata": {},
   "outputs": [],
   "source": [
    "df_md_prov_chrg=pd.concat([df_md_prov_chrg_inpat_new,df_md_prov_chrg_outpat])"
   ]
  },
  {
   "cell_type": "code",
   "execution_count": 28,
   "metadata": {},
   "outputs": [],
   "source": [
    "df_md_prov_chrg['avg_paid']=df_md_prov_chrg.avg_claims-df_md_prov_chrg.avg_reimbursement"
   ]
  },
  {
   "cell_type": "code",
   "execution_count": 29,
   "metadata": {
    "scrolled": true
   },
   "outputs": [
    {
     "name": "stdout",
     "output_type": "stream",
     "text": [
      "<class 'pandas.core.frame.DataFrame'>\n",
      "Int64Index: 206437 entries, 0 to 43371\n",
      "Data columns (total 12 columns):\n",
      "procedure                                     206437 non-null object\n",
      "Provider Id                                   206437 non-null int64\n",
      "Provider Name                                 206437 non-null object\n",
      "Provider Street Address                       206437 non-null object\n",
      "Provider City                                 206437 non-null object\n",
      "Provider State                                206437 non-null object\n",
      "Provider Zip Code                             206437 non-null int64\n",
      "Hospital Referral Region (HRR) Description    206437 non-null object\n",
      "patients_service                              206437 non-null int64\n",
      "avg_claims                                    206437 non-null float64\n",
      "avg_reimbursement                             206437 non-null float64\n",
      "avg_paid                                      206437 non-null float64\n",
      "dtypes: float64(3), int64(3), object(6)\n",
      "memory usage: 20.5+ MB\n"
     ]
    }
   ],
   "source": [
    "df_md_prov_chrg.info()"
   ]
  },
  {
   "cell_type": "code",
   "execution_count": 30,
   "metadata": {},
   "outputs": [],
   "source": [
    "df_md_prov_chrg_cont=df_md_prov_chrg.loc[:,df_md_prov_chrg.columns.difference(['procedure','Provider State','Provider City','Hospital Referral Region (HRR) Description','Provider Id','Provider Name','Provider Street Address','Provider Zip Code'])]"
   ]
  },
  {
   "cell_type": "code",
   "execution_count": 31,
   "metadata": {},
   "outputs": [
    {
     "name": "stdout",
     "output_type": "stream",
     "text": [
      "<class 'pandas.core.frame.DataFrame'>\n",
      "Int64Index: 206437 entries, 0 to 43371\n",
      "Data columns (total 4 columns):\n",
      "avg_claims           206437 non-null float64\n",
      "avg_paid             206437 non-null float64\n",
      "avg_reimbursement    206437 non-null float64\n",
      "patients_service     206437 non-null int64\n",
      "dtypes: float64(3), int64(1)\n",
      "memory usage: 7.9 MB\n"
     ]
    }
   ],
   "source": [
    "df_md_prov_chrg_cont.info()"
   ]
  },
  {
   "cell_type": "code",
   "execution_count": 32,
   "metadata": {},
   "outputs": [],
   "source": [
    "# Create Data audit Report for continuous variables\n",
    "def continuous_var_summary(x):\n",
    "    return pd.Series([x.count(), x.isnull().sum(), x.sum(), x.mean(), x.median(),  \n",
    "                      x.std(), x.var(), x.min(), x.quantile(0.01), x.quantile(0.05),\n",
    "                          x.quantile(0.10),x.quantile(0.25),x.quantile(0.50),x.quantile(0.75), \n",
    "                              x.quantile(0.90),x.quantile(0.95), x.quantile(0.99),x.max()], \n",
    "                  index = ['N', 'NMISS', 'SUM', 'MEAN','MEDIAN', 'STD', 'VAR', 'MIN', 'P1', \n",
    "                               'P5' ,'P10' ,'P25' ,'P50' ,'P75' ,'P90' ,'P95' ,'P99' ,'MAX'])"
   ]
  },
  {
   "cell_type": "code",
   "execution_count": 33,
   "metadata": {},
   "outputs": [
    {
     "data": {
      "text/html": [
       "<div>\n",
       "<style scoped>\n",
       "    .dataframe tbody tr th:only-of-type {\n",
       "        vertical-align: middle;\n",
       "    }\n",
       "\n",
       "    .dataframe tbody tr th {\n",
       "        vertical-align: top;\n",
       "    }\n",
       "\n",
       "    .dataframe thead th {\n",
       "        text-align: right;\n",
       "    }\n",
       "</style>\n",
       "<table border=\"1\" class=\"dataframe\">\n",
       "  <thead>\n",
       "    <tr style=\"text-align: right;\">\n",
       "      <th></th>\n",
       "      <th>avg_claims</th>\n",
       "      <th>avg_paid</th>\n",
       "      <th>avg_reimbursement</th>\n",
       "      <th>patients_service</th>\n",
       "    </tr>\n",
       "  </thead>\n",
       "  <tbody>\n",
       "    <tr>\n",
       "      <td>N</td>\n",
       "      <td>2.064370e+05</td>\n",
       "      <td>2.064370e+05</td>\n",
       "      <td>2.064370e+05</td>\n",
       "      <td>2.064370e+05</td>\n",
       "    </tr>\n",
       "    <tr>\n",
       "      <td>NMISS</td>\n",
       "      <td>0.000000e+00</td>\n",
       "      <td>0.000000e+00</td>\n",
       "      <td>0.000000e+00</td>\n",
       "      <td>0.000000e+00</td>\n",
       "    </tr>\n",
       "    <tr>\n",
       "      <td>SUM</td>\n",
       "      <td>1.646880e+09</td>\n",
       "      <td>2.502131e+08</td>\n",
       "      <td>1.396667e+09</td>\n",
       "      <td>3.247723e+07</td>\n",
       "    </tr>\n",
       "    <tr>\n",
       "      <td>MEAN</td>\n",
       "      <td>7.977639e+03</td>\n",
       "      <td>1.212055e+03</td>\n",
       "      <td>6.765584e+03</td>\n",
       "      <td>1.573227e+02</td>\n",
       "    </tr>\n",
       "    <tr>\n",
       "      <td>MEDIAN</td>\n",
       "      <td>6.154913e+03</td>\n",
       "      <td>9.175000e+02</td>\n",
       "      <td>5.064667e+03</td>\n",
       "      <td>3.200000e+01</td>\n",
       "    </tr>\n",
       "    <tr>\n",
       "      <td>STD</td>\n",
       "      <td>7.639621e+03</td>\n",
       "      <td>1.268829e+03</td>\n",
       "      <td>7.311338e+03</td>\n",
       "      <td>1.520598e+03</td>\n",
       "    </tr>\n",
       "    <tr>\n",
       "      <td>VAR</td>\n",
       "      <td>5.836381e+07</td>\n",
       "      <td>1.609927e+06</td>\n",
       "      <td>5.345567e+07</td>\n",
       "      <td>2.312218e+06</td>\n",
       "    </tr>\n",
       "    <tr>\n",
       "      <td>MIN</td>\n",
       "      <td>1.264375e+01</td>\n",
       "      <td>0.000000e+00</td>\n",
       "      <td>7.305000e+00</td>\n",
       "      <td>1.100000e+01</td>\n",
       "    </tr>\n",
       "    <tr>\n",
       "      <td>P1</td>\n",
       "      <td>1.132456e+02</td>\n",
       "      <td>4.188983e+01</td>\n",
       "      <td>4.984186e+01</td>\n",
       "      <td>1.100000e+01</td>\n",
       "    </tr>\n",
       "    <tr>\n",
       "      <td>P5</td>\n",
       "      <td>2.720672e+02</td>\n",
       "      <td>1.817642e+02</td>\n",
       "      <td>7.214817e+01</td>\n",
       "      <td>1.200000e+01</td>\n",
       "    </tr>\n",
       "    <tr>\n",
       "      <td>P10</td>\n",
       "      <td>6.430429e+02</td>\n",
       "      <td>4.228857e+02</td>\n",
       "      <td>1.271146e+02</td>\n",
       "      <td>1.300000e+01</td>\n",
       "    </tr>\n",
       "    <tr>\n",
       "      <td>P25</td>\n",
       "      <td>4.048062e+03</td>\n",
       "      <td>7.145467e+02</td>\n",
       "      <td>2.864955e+03</td>\n",
       "      <td>1.800000e+01</td>\n",
       "    </tr>\n",
       "    <tr>\n",
       "      <td>P50</td>\n",
       "      <td>6.154913e+03</td>\n",
       "      <td>9.175000e+02</td>\n",
       "      <td>5.064667e+03</td>\n",
       "      <td>3.200000e+01</td>\n",
       "    </tr>\n",
       "    <tr>\n",
       "      <td>P75</td>\n",
       "      <td>9.940824e+03</td>\n",
       "      <td>1.265058e+03</td>\n",
       "      <td>8.812583e+03</td>\n",
       "      <td>7.100000e+01</td>\n",
       "    </tr>\n",
       "    <tr>\n",
       "      <td>P90</td>\n",
       "      <td>1.549975e+04</td>\n",
       "      <td>2.182352e+03</td>\n",
       "      <td>1.396357e+04</td>\n",
       "      <td>1.870000e+02</td>\n",
       "    </tr>\n",
       "    <tr>\n",
       "      <td>P95</td>\n",
       "      <td>2.126590e+04</td>\n",
       "      <td>3.146535e+03</td>\n",
       "      <td>1.943376e+04</td>\n",
       "      <td>3.880000e+02</td>\n",
       "    </tr>\n",
       "    <tr>\n",
       "      <td>P99</td>\n",
       "      <td>3.979723e+04</td>\n",
       "      <td>6.288510e+03</td>\n",
       "      <td>3.719993e+04</td>\n",
       "      <td>1.803000e+03</td>\n",
       "    </tr>\n",
       "    <tr>\n",
       "      <td>MAX</td>\n",
       "      <td>1.561582e+05</td>\n",
       "      <td>7.599865e+04</td>\n",
       "      <td>1.546208e+05</td>\n",
       "      <td>2.190420e+05</td>\n",
       "    </tr>\n",
       "  </tbody>\n",
       "</table>\n",
       "</div>"
      ],
      "text/plain": [
       "          avg_claims      avg_paid  avg_reimbursement  patients_service\n",
       "N       2.064370e+05  2.064370e+05       2.064370e+05      2.064370e+05\n",
       "NMISS   0.000000e+00  0.000000e+00       0.000000e+00      0.000000e+00\n",
       "SUM     1.646880e+09  2.502131e+08       1.396667e+09      3.247723e+07\n",
       "MEAN    7.977639e+03  1.212055e+03       6.765584e+03      1.573227e+02\n",
       "MEDIAN  6.154913e+03  9.175000e+02       5.064667e+03      3.200000e+01\n",
       "STD     7.639621e+03  1.268829e+03       7.311338e+03      1.520598e+03\n",
       "VAR     5.836381e+07  1.609927e+06       5.345567e+07      2.312218e+06\n",
       "MIN     1.264375e+01  0.000000e+00       7.305000e+00      1.100000e+01\n",
       "P1      1.132456e+02  4.188983e+01       4.984186e+01      1.100000e+01\n",
       "P5      2.720672e+02  1.817642e+02       7.214817e+01      1.200000e+01\n",
       "P10     6.430429e+02  4.228857e+02       1.271146e+02      1.300000e+01\n",
       "P25     4.048062e+03  7.145467e+02       2.864955e+03      1.800000e+01\n",
       "P50     6.154913e+03  9.175000e+02       5.064667e+03      3.200000e+01\n",
       "P75     9.940824e+03  1.265058e+03       8.812583e+03      7.100000e+01\n",
       "P90     1.549975e+04  2.182352e+03       1.396357e+04      1.870000e+02\n",
       "P95     2.126590e+04  3.146535e+03       1.943376e+04      3.880000e+02\n",
       "P99     3.979723e+04  6.288510e+03       3.719993e+04      1.803000e+03\n",
       "MAX     1.561582e+05  7.599865e+04       1.546208e+05      2.190420e+05"
      ]
     },
     "execution_count": 33,
     "metadata": {},
     "output_type": "execute_result"
    }
   ],
   "source": [
    "df_md_prov_chrg_cont.apply(continuous_var_summary)"
   ]
  },
  {
   "cell_type": "code",
   "execution_count": null,
   "metadata": {},
   "outputs": [],
   "source": []
  },
  {
   "cell_type": "code",
   "execution_count": null,
   "metadata": {},
   "outputs": [],
   "source": []
  },
  {
   "cell_type": "code",
   "execution_count": null,
   "metadata": {},
   "outputs": [],
   "source": []
  },
  {
   "cell_type": "code",
   "execution_count": 34,
   "metadata": {},
   "outputs": [],
   "source": [
    "df_md_prov_chrg_summ=df_md_prov_chrg.pivot_table(values=['avg_claims','avg_reimbursement','avg_paid'], index=['procedure'], aggfunc=['mean','var']).reset_index()"
   ]
  },
  {
   "cell_type": "code",
   "execution_count": 35,
   "metadata": {},
   "outputs": [
    {
     "name": "stdout",
     "output_type": "stream",
     "text": [
      "<class 'pandas.core.frame.DataFrame'>\n",
      "RangeIndex: 130 entries, 0 to 129\n",
      "Data columns (total 7 columns):\n",
      "(procedure, )                130 non-null object\n",
      "(mean, avg_claims)           130 non-null float64\n",
      "(mean, avg_paid)             130 non-null float64\n",
      "(mean, avg_reimbursement)    130 non-null float64\n",
      "(var, avg_claims)            130 non-null float64\n",
      "(var, avg_paid)              130 non-null float64\n",
      "(var, avg_reimbursement)     130 non-null float64\n",
      "dtypes: float64(6), object(1)\n",
      "memory usage: 7.2+ KB\n"
     ]
    }
   ],
   "source": [
    "df_md_prov_chrg_summ.info()"
   ]
  },
  {
   "cell_type": "code",
   "execution_count": 36,
   "metadata": {},
   "outputs": [
    {
     "name": "stdout",
     "output_type": "stream",
     "text": [
      "<class 'pandas.core.frame.DataFrame'>\n",
      "Int64Index: 130 entries, 0 to 29\n",
      "Data columns (total 4 columns):\n",
      "procedure            130 non-null object\n",
      "patients_service     130 non-null int64\n",
      "avg_claims           130 non-null float64\n",
      "avg_reimbursement    130 non-null float64\n",
      "dtypes: float64(2), int64(1), object(1)\n",
      "memory usage: 5.1+ KB\n"
     ]
    }
   ],
   "source": [
    "df_md_chrg_sum.info()"
   ]
  },
  {
   "cell_type": "code",
   "execution_count": 37,
   "metadata": {},
   "outputs": [],
   "source": [
    "df_md_prov_chrg_summ=pd.DataFrame(data=df_md_prov_chrg_summ.values,columns=['procedure','avg_claims','avg_paid','avg_reimbursement','var_claims','var_paid','var_reimbursement'])"
   ]
  },
  {
   "cell_type": "code",
   "execution_count": 38,
   "metadata": {},
   "outputs": [
    {
     "name": "stdout",
     "output_type": "stream",
     "text": [
      "<class 'pandas.core.frame.DataFrame'>\n",
      "RangeIndex: 130 entries, 0 to 129\n",
      "Data columns (total 7 columns):\n",
      "procedure            130 non-null object\n",
      "avg_claims           130 non-null object\n",
      "avg_paid             130 non-null object\n",
      "avg_reimbursement    130 non-null object\n",
      "var_claims           130 non-null object\n",
      "var_paid             130 non-null object\n",
      "var_reimbursement    130 non-null object\n",
      "dtypes: object(7)\n",
      "memory usage: 7.2+ KB\n"
     ]
    }
   ],
   "source": [
    "df_md_prov_chrg_summ.info()"
   ]
  },
  {
   "cell_type": "code",
   "execution_count": null,
   "metadata": {},
   "outputs": [],
   "source": []
  },
  {
   "cell_type": "code",
   "execution_count": 39,
   "metadata": {},
   "outputs": [],
   "source": [
    "df_md_prov_chrg_new= pd.merge(df_md_prov_chrg_summ,df_md_chrg_sum, how = 'right', left_on = 'procedure', right_on = 'procedure',suffixes=('_prov', '_sum'))"
   ]
  },
  {
   "cell_type": "code",
   "execution_count": 40,
   "metadata": {},
   "outputs": [],
   "source": [
    "df_md_prov_chrg_new['claim_anomaly']=df_md_prov_chrg_new.avg_claims_prov-df_md_prov_chrg_new.avg_claims_sum"
   ]
  },
  {
   "cell_type": "code",
   "execution_count": 41,
   "metadata": {},
   "outputs": [
    {
     "name": "stdout",
     "output_type": "stream",
     "text": [
      "<class 'pandas.core.frame.DataFrame'>\n",
      "Int64Index: 130 entries, 0 to 129\n",
      "Data columns (total 11 columns):\n",
      "procedure                 130 non-null object\n",
      "avg_claims_prov           130 non-null object\n",
      "avg_paid                  130 non-null object\n",
      "avg_reimbursement_prov    130 non-null object\n",
      "var_claims                130 non-null object\n",
      "var_paid                  130 non-null object\n",
      "var_reimbursement         130 non-null object\n",
      "patients_service          130 non-null int64\n",
      "avg_claims_sum            130 non-null float64\n",
      "avg_reimbursement_sum     130 non-null float64\n",
      "claim_anomaly             130 non-null object\n",
      "dtypes: float64(2), int64(1), object(8)\n",
      "memory usage: 12.2+ KB\n"
     ]
    }
   ],
   "source": [
    "df_md_prov_chrg_new.info()"
   ]
  },
  {
   "cell_type": "code",
   "execution_count": 42,
   "metadata": {},
   "outputs": [
    {
     "data": {
      "text/html": [
       "<div>\n",
       "<style scoped>\n",
       "    .dataframe tbody tr th:only-of-type {\n",
       "        vertical-align: middle;\n",
       "    }\n",
       "\n",
       "    .dataframe tbody tr th {\n",
       "        vertical-align: top;\n",
       "    }\n",
       "\n",
       "    .dataframe thead th {\n",
       "        text-align: right;\n",
       "    }\n",
       "</style>\n",
       "<table border=\"1\" class=\"dataframe\">\n",
       "  <thead>\n",
       "    <tr style=\"text-align: right;\">\n",
       "      <th></th>\n",
       "      <th>procedure</th>\n",
       "      <th>avg_claims_prov</th>\n",
       "      <th>avg_paid</th>\n",
       "      <th>avg_reimbursement_prov</th>\n",
       "      <th>var_claims</th>\n",
       "      <th>var_paid</th>\n",
       "      <th>var_reimbursement</th>\n",
       "      <th>patients_service</th>\n",
       "      <th>avg_claims_sum</th>\n",
       "      <th>avg_reimbursement_sum</th>\n",
       "      <th>claim_anomaly</th>\n",
       "    </tr>\n",
       "  </thead>\n",
       "  <tbody>\n",
       "    <tr>\n",
       "      <td>0</td>\n",
       "      <td>0012 - Level I Debridement &amp; Destruction</td>\n",
       "      <td>91.0844</td>\n",
       "      <td>73.3025</td>\n",
       "      <td>17.7818</td>\n",
       "      <td>9148.26</td>\n",
       "      <td>9017.58</td>\n",
       "      <td>20.6168</td>\n",
       "      <td>275987</td>\n",
       "      <td>74.202956</td>\n",
       "      <td>16.147079</td>\n",
       "      <td>16.8814</td>\n",
       "    </tr>\n",
       "    <tr>\n",
       "      <td>1</td>\n",
       "      <td>0013 - Level II Debridement &amp; Destruction</td>\n",
       "      <td>262.558</td>\n",
       "      <td>206.415</td>\n",
       "      <td>56.1424</td>\n",
       "      <td>65529.6</td>\n",
       "      <td>65750.6</td>\n",
       "      <td>70.1686</td>\n",
       "      <td>434706</td>\n",
       "      <td>196.170070</td>\n",
       "      <td>56.133853</td>\n",
       "      <td>66.3876</td>\n",
       "    </tr>\n",
       "    <tr>\n",
       "      <td>2</td>\n",
       "      <td>0015 - Level III Debridement &amp; Destruction</td>\n",
       "      <td>362.122</td>\n",
       "      <td>264.148</td>\n",
       "      <td>97.9743</td>\n",
       "      <td>57940.7</td>\n",
       "      <td>57322.3</td>\n",
       "      <td>115.471</td>\n",
       "      <td>509576</td>\n",
       "      <td>326.503444</td>\n",
       "      <td>97.156250</td>\n",
       "      <td>35.6185</td>\n",
       "    </tr>\n",
       "    <tr>\n",
       "      <td>3</td>\n",
       "      <td>0019 - Level I Excision/ Biopsy</td>\n",
       "      <td>2264.43</td>\n",
       "      <td>1932.68</td>\n",
       "      <td>331.748</td>\n",
       "      <td>7.75629e+06</td>\n",
       "      <td>7.73382e+06</td>\n",
       "      <td>1254.19</td>\n",
       "      <td>27860</td>\n",
       "      <td>2013.181972</td>\n",
       "      <td>330.908369</td>\n",
       "      <td>251.244</td>\n",
       "    </tr>\n",
       "    <tr>\n",
       "      <td>4</td>\n",
       "      <td>0020 - Level II Excision/ Biopsy</td>\n",
       "      <td>3430.85</td>\n",
       "      <td>2862.1</td>\n",
       "      <td>568.756</td>\n",
       "      <td>6.37127e+06</td>\n",
       "      <td>6.32991e+06</td>\n",
       "      <td>3716.47</td>\n",
       "      <td>40642</td>\n",
       "      <td>3161.457873</td>\n",
       "      <td>567.156154</td>\n",
       "      <td>269.397</td>\n",
       "    </tr>\n",
       "  </tbody>\n",
       "</table>\n",
       "</div>"
      ],
      "text/plain": [
       "                                    procedure avg_claims_prov avg_paid  \\\n",
       "0    0012 - Level I Debridement & Destruction         91.0844  73.3025   \n",
       "1   0013 - Level II Debridement & Destruction         262.558  206.415   \n",
       "2  0015 - Level III Debridement & Destruction         362.122  264.148   \n",
       "3             0019 - Level I Excision/ Biopsy         2264.43  1932.68   \n",
       "4            0020 - Level II Excision/ Biopsy         3430.85   2862.1   \n",
       "\n",
       "  avg_reimbursement_prov   var_claims     var_paid var_reimbursement  \\\n",
       "0                17.7818      9148.26      9017.58           20.6168   \n",
       "1                56.1424      65529.6      65750.6           70.1686   \n",
       "2                97.9743      57940.7      57322.3           115.471   \n",
       "3                331.748  7.75629e+06  7.73382e+06           1254.19   \n",
       "4                568.756  6.37127e+06  6.32991e+06           3716.47   \n",
       "\n",
       "   patients_service  avg_claims_sum  avg_reimbursement_sum claim_anomaly  \n",
       "0            275987       74.202956              16.147079       16.8814  \n",
       "1            434706      196.170070              56.133853       66.3876  \n",
       "2            509576      326.503444              97.156250       35.6185  \n",
       "3             27860     2013.181972             330.908369       251.244  \n",
       "4             40642     3161.457873             567.156154       269.397  "
      ]
     },
     "execution_count": 42,
     "metadata": {},
     "output_type": "execute_result"
    }
   ],
   "source": [
    "df_md_prov_chrg_new.head()"
   ]
  },
  {
   "cell_type": "code",
   "execution_count": 43,
   "metadata": {},
   "outputs": [],
   "source": [
    "df_md_prov_chrg_new['cov_paid']=df_md_prov_chrg_new.var_paid/df_md_prov_chrg_new.avg_paid"
   ]
  },
  {
   "cell_type": "code",
   "execution_count": 44,
   "metadata": {},
   "outputs": [],
   "source": [
    "df_md_prov_chrg_cont_new = df_md_prov_chrg_new.drop(columns = 'procedure')"
   ]
  },
  {
   "cell_type": "code",
   "execution_count": 45,
   "metadata": {},
   "outputs": [],
   "source": [
    "def box_plot(x):\n",
    "    plt.figure(figsize=(10,10))\n",
    "    plt.boxplot(x)\n",
    "    plt.show()"
   ]
  },
  {
   "cell_type": "code",
   "execution_count": 46,
   "metadata": {},
   "outputs": [
    {
     "data": {
      "image/png": "[encoded data removed]",
      "text/plain": [
       "<Figure size 720x720 with 1 Axes>"
      ]
     },
     "metadata": {
      "needs_background": "light"
     },
     "output_type": "display_data"
    },
    {
     "data": {
      "image/png": "[encoded data removed]",
      "text/plain": [
       "<Figure size 720x720 with 1 Axes>"
      ]
     },
     "metadata": {
      "needs_background": "light"
     },
     "output_type": "display_data"
    },
    {
     "data": {
      "image/png": "[encoded data removed]",
      "text/plain": [
       "<Figure size 720x720 with 1 Axes>"
      ]
     },
     "metadata": {
      "needs_background": "light"
     },
     "output_type": "display_data"
    },
    {
     "data": {
      "image/png": "[encoded data removed]",
      "text/plain": [
       "<Figure size 720x720 with 1 Axes>"
      ]
     },
     "metadata": {
      "needs_background": "light"
     },
     "output_type": "display_data"
    },
    {
     "data": {
      "image/png": "[encoded data removed]",
      "text/plain": [
       "<Figure size 720x720 with 1 Axes>"
      ]
     },
     "metadata": {
      "needs_background": "light"
     },
     "output_type": "display_data"
    },
    {
     "data": {
      "image/png": "[encoded data removed]",
      "text/plain": [
       "<Figure size 720x720 with 1 Axes>"
      ]
     },
     "metadata": {
      "needs_background": "light"
     },
     "output_type": "display_data"
    },
    {
     "data": {
      "image/png": "[encoded data removed]",
      "text/plain": [
       "<Figure size 720x720 with 1 Axes>"
      ]
     },
     "metadata": {
      "needs_background": "light"
     },
     "output_type": "display_data"
    },
    {
     "data": {
      "image/png": "[encoded data removed]",
      "text/plain": [
       "<Figure size 720x720 with 1 Axes>"
      ]
     },
     "metadata": {
      "needs_background": "light"
     },
     "output_type": "display_data"
    },
    {
     "data": {
      "image/png": "[encoded data removed]",
      "text/plain": [
       "<Figure size 720x720 with 1 Axes>"
      ]
     },
     "metadata": {
      "needs_background": "light"
     },
     "output_type": "display_data"
    },
    {
     "data": {
      "image/png": "[encoded data removed]",
      "text/plain": [
       "<Figure size 720x720 with 1 Axes>"
      ]
     },
     "metadata": {
      "needs_background": "light"
     },
     "output_type": "display_data"
    },
    {
     "data": {
      "image/png": "[encoded data removed]",
      "text/plain": [
       "<Figure size 720x720 with 1 Axes>"
      ]
     },
     "metadata": {
      "needs_background": "light"
     },
     "output_type": "display_data"
    },
    {
     "data": {
      "text/plain": [
       "avg_claims_prov           None\n",
       "avg_paid                  None\n",
       "avg_reimbursement_prov    None\n",
       "var_claims                None\n",
       "var_paid                  None\n",
       "var_reimbursement         None\n",
       "patients_service          None\n",
       "avg_claims_sum            None\n",
       "avg_reimbursement_sum     None\n",
       "claim_anomaly             None\n",
       "cov_paid                  None\n",
       "dtype: object"
      ]
     },
     "execution_count": 46,
     "metadata": {},
     "output_type": "execute_result"
    }
   ],
   "source": [
    "df_md_prov_chrg_cont_new.apply(box_plot)"
   ]
  },
  {
   "cell_type": "code",
   "execution_count": 47,
   "metadata": {},
   "outputs": [
    {
     "name": "stdout",
     "output_type": "stream",
     "text": [
      "<class 'pandas.core.frame.DataFrame'>\n",
      "Int64Index: 130 entries, 0 to 129\n",
      "Data columns (total 12 columns):\n",
      "procedure                 130 non-null object\n",
      "avg_claims_prov           130 non-null object\n",
      "avg_paid                  130 non-null object\n",
      "avg_reimbursement_prov    130 non-null object\n",
      "var_claims                130 non-null object\n",
      "var_paid                  130 non-null object\n",
      "var_reimbursement         130 non-null object\n",
      "patients_service          130 non-null int64\n",
      "avg_claims_sum            130 non-null float64\n",
      "avg_reimbursement_sum     130 non-null float64\n",
      "claim_anomaly             130 non-null object\n",
      "cov_paid                  130 non-null object\n",
      "dtypes: float64(2), int64(1), object(9)\n",
      "memory usage: 13.2+ KB\n"
     ]
    }
   ],
   "source": [
    "df_md_prov_chrg_new.info()"
   ]
  },
  {
   "cell_type": "markdown",
   "metadata": {},
   "source": [
    "### Highest Cost of Variation among Procedures"
   ]
  },
  {
   "cell_type": "code",
   "execution_count": 48,
   "metadata": {},
   "outputs": [
    {
     "data": {
      "text/html": [
       "<div>\n",
       "<style scoped>\n",
       "    .dataframe tbody tr th:only-of-type {\n",
       "        vertical-align: middle;\n",
       "    }\n",
       "\n",
       "    .dataframe tbody tr th {\n",
       "        vertical-align: top;\n",
       "    }\n",
       "\n",
       "    .dataframe thead th {\n",
       "        text-align: right;\n",
       "    }\n",
       "</style>\n",
       "<table border=\"1\" class=\"dataframe\">\n",
       "  <thead>\n",
       "    <tr style=\"text-align: right;\">\n",
       "      <th></th>\n",
       "      <th>procedure</th>\n",
       "      <th>avg_claims_prov</th>\n",
       "      <th>avg_paid</th>\n",
       "      <th>avg_reimbursement_prov</th>\n",
       "      <th>var_claims</th>\n",
       "      <th>var_paid</th>\n",
       "      <th>var_reimbursement</th>\n",
       "      <th>patients_service</th>\n",
       "      <th>avg_claims_sum</th>\n",
       "      <th>avg_reimbursement_sum</th>\n",
       "      <th>claim_anomaly</th>\n",
       "      <th>cov_paid</th>\n",
       "    </tr>\n",
       "  </thead>\n",
       "  <tbody>\n",
       "    <tr>\n",
       "      <td>58</td>\n",
       "      <td>249 - PERC CARDIOVASC PROC W NON-DRUG-ELUTING ...</td>\n",
       "      <td>12593.5</td>\n",
       "      <td>1972.05</td>\n",
       "      <td>10621.5</td>\n",
       "      <td>1.2724e+07</td>\n",
       "      <td>8.45032e+06</td>\n",
       "      <td>6.10737e+06</td>\n",
       "      <td>35760</td>\n",
       "      <td>12557.68079</td>\n",
       "      <td>10711.88118</td>\n",
       "      <td>35.8338</td>\n",
       "      <td>4285.03</td>\n",
       "    </tr>\n",
       "  </tbody>\n",
       "</table>\n",
       "</div>"
      ],
      "text/plain": [
       "                                            procedure avg_claims_prov  \\\n",
       "58  249 - PERC CARDIOVASC PROC W NON-DRUG-ELUTING ...         12593.5   \n",
       "\n",
       "   avg_paid avg_reimbursement_prov  var_claims     var_paid var_reimbursement  \\\n",
       "58  1972.05                10621.5  1.2724e+07  8.45032e+06       6.10737e+06   \n",
       "\n",
       "    patients_service  avg_claims_sum  avg_reimbursement_sum claim_anomaly  \\\n",
       "58             35760     12557.68079            10711.88118       35.8338   \n",
       "\n",
       "   cov_paid  \n",
       "58  4285.03  "
      ]
     },
     "execution_count": 48,
     "metadata": {},
     "output_type": "execute_result"
    }
   ],
   "source": [
    "df_md_prov_chrg_new.loc[df_md_prov_chrg_new['cov_paid']==df_md_prov_chrg_new['cov_paid'].max()]"
   ]
  },
  {
   "cell_type": "code",
   "execution_count": 49,
   "metadata": {},
   "outputs": [
    {
     "data": {
      "text/html": [
       "<div>\n",
       "<style scoped>\n",
       "    .dataframe tbody tr th:only-of-type {\n",
       "        vertical-align: middle;\n",
       "    }\n",
       "\n",
       "    .dataframe tbody tr th {\n",
       "        vertical-align: top;\n",
       "    }\n",
       "\n",
       "    .dataframe thead th {\n",
       "        text-align: right;\n",
       "    }\n",
       "</style>\n",
       "<table border=\"1\" class=\"dataframe\">\n",
       "  <thead>\n",
       "    <tr style=\"text-align: right;\">\n",
       "      <th></th>\n",
       "      <th>procedure</th>\n",
       "      <th>avg_claims_prov</th>\n",
       "      <th>avg_paid</th>\n",
       "      <th>avg_reimbursement_prov</th>\n",
       "      <th>var_claims</th>\n",
       "      <th>var_paid</th>\n",
       "      <th>var_reimbursement</th>\n",
       "      <th>patients_service</th>\n",
       "      <th>avg_claims_sum</th>\n",
       "      <th>avg_reimbursement_sum</th>\n",
       "      <th>claim_anomaly</th>\n",
       "      <th>cov_paid</th>\n",
       "    </tr>\n",
       "  </thead>\n",
       "  <tbody>\n",
       "    <tr>\n",
       "      <td>122</td>\n",
       "      <td>870 - SEPTICEMIA OR SEVERE SEPSIS W MV 96+ HOURS</td>\n",
       "      <td>44259.5</td>\n",
       "      <td>2360.05</td>\n",
       "      <td>41899.4</td>\n",
       "      <td>1.43787e+08</td>\n",
       "      <td>8.23169e+06</td>\n",
       "      <td>1.38458e+08</td>\n",
       "      <td>29215</td>\n",
       "      <td>44763.50553</td>\n",
       "      <td>42281.2929</td>\n",
       "      <td>-504.016</td>\n",
       "      <td>3487.93</td>\n",
       "    </tr>\n",
       "  </tbody>\n",
       "</table>\n",
       "</div>"
      ],
      "text/plain": [
       "                                            procedure avg_claims_prov  \\\n",
       "122  870 - SEPTICEMIA OR SEVERE SEPSIS W MV 96+ HOURS         44259.5   \n",
       "\n",
       "    avg_paid avg_reimbursement_prov   var_claims     var_paid  \\\n",
       "122  2360.05                41899.4  1.43787e+08  8.23169e+06   \n",
       "\n",
       "    var_reimbursement  patients_service  avg_claims_sum  \\\n",
       "122       1.38458e+08             29215     44763.50553   \n",
       "\n",
       "     avg_reimbursement_sum claim_anomaly cov_paid  \n",
       "122             42281.2929      -504.016  3487.93  "
      ]
     },
     "execution_count": 49,
     "metadata": {},
     "output_type": "execute_result"
    }
   ],
   "source": [
    "df_md_prov_chrg_new.loc[df_md_prov_chrg_new['var_claims']==df_md_prov_chrg_new['var_claims'].max()]"
   ]
  },
  {
   "cell_type": "code",
   "execution_count": 50,
   "metadata": {},
   "outputs": [
    {
     "data": {
      "text/html": [
       "<div>\n",
       "<style scoped>\n",
       "    .dataframe tbody tr th:only-of-type {\n",
       "        vertical-align: middle;\n",
       "    }\n",
       "\n",
       "    .dataframe tbody tr th {\n",
       "        vertical-align: top;\n",
       "    }\n",
       "\n",
       "    .dataframe thead th {\n",
       "        text-align: right;\n",
       "    }\n",
       "</style>\n",
       "<table border=\"1\" class=\"dataframe\">\n",
       "  <thead>\n",
       "    <tr style=\"text-align: right;\">\n",
       "      <th></th>\n",
       "      <th>procedure</th>\n",
       "      <th>avg_claims_prov</th>\n",
       "      <th>avg_paid</th>\n",
       "      <th>avg_reimbursement_prov</th>\n",
       "      <th>var_claims</th>\n",
       "      <th>var_paid</th>\n",
       "      <th>var_reimbursement</th>\n",
       "      <th>patients_service</th>\n",
       "      <th>avg_claims_sum</th>\n",
       "      <th>avg_reimbursement_sum</th>\n",
       "      <th>claim_anomaly</th>\n",
       "      <th>cov_paid</th>\n",
       "    </tr>\n",
       "  </thead>\n",
       "  <tbody>\n",
       "    <tr>\n",
       "      <td>10</td>\n",
       "      <td>0204 - Level I Nerve Injections</td>\n",
       "      <td>1279.78</td>\n",
       "      <td>1102.33</td>\n",
       "      <td>177.453</td>\n",
       "      <td>1.17905e+06</td>\n",
       "      <td>1.17636e+06</td>\n",
       "      <td>343.702</td>\n",
       "      <td>278325</td>\n",
       "      <td>725.316346</td>\n",
       "      <td>177.582565</td>\n",
       "      <td>554.469</td>\n",
       "      <td>1067.16</td>\n",
       "    </tr>\n",
       "  </tbody>\n",
       "</table>\n",
       "</div>"
      ],
      "text/plain": [
       "                          procedure avg_claims_prov avg_paid  \\\n",
       "10  0204 - Level I Nerve Injections         1279.78  1102.33   \n",
       "\n",
       "   avg_reimbursement_prov   var_claims     var_paid var_reimbursement  \\\n",
       "10                177.453  1.17905e+06  1.17636e+06           343.702   \n",
       "\n",
       "    patients_service  avg_claims_sum  avg_reimbursement_sum claim_anomaly  \\\n",
       "10            278325      725.316346             177.582565       554.469   \n",
       "\n",
       "   cov_paid  \n",
       "10  1067.16  "
      ]
     },
     "execution_count": 50,
     "metadata": {},
     "output_type": "execute_result"
    }
   ],
   "source": [
    "df_md_prov_chrg_new.loc[df_md_prov_chrg_new['claim_anomaly']==df_md_prov_chrg_new['claim_anomaly'].max()]"
   ]
  },
  {
   "cell_type": "markdown",
   "metadata": {},
   "source": [
    "### Part 1B: Highest -Cost Claims by Provider"
   ]
  },
  {
   "cell_type": "code",
   "execution_count": 51,
   "metadata": {},
   "outputs": [],
   "source": [
    "df_md_prov_chrg=pd.merge(df_md_prov_chrg,df_md_chrg_sum, how = 'left', left_on = 'procedure', right_on = 'procedure',suffixes=('_prov', '_sum'))"
   ]
  },
  {
   "cell_type": "code",
   "execution_count": 52,
   "metadata": {},
   "outputs": [
    {
     "name": "stdout",
     "output_type": "stream",
     "text": [
      "<class 'pandas.core.frame.DataFrame'>\n",
      "Int64Index: 206437 entries, 0 to 206436\n",
      "Data columns (total 15 columns):\n",
      "procedure                                     206437 non-null object\n",
      "Provider Id                                   206437 non-null int64\n",
      "Provider Name                                 206437 non-null object\n",
      "Provider Street Address                       206437 non-null object\n",
      "Provider City                                 206437 non-null object\n",
      "Provider State                                206437 non-null object\n",
      "Provider Zip Code                             206437 non-null int64\n",
      "Hospital Referral Region (HRR) Description    206437 non-null object\n",
      "patients_service_prov                         206437 non-null int64\n",
      "avg_claims_prov                               206437 non-null float64\n",
      "avg_reimbursement_prov                        206437 non-null float64\n",
      "avg_paid                                      206437 non-null float64\n",
      "patients_service_sum                          206437 non-null int64\n",
      "avg_claims_sum                                206437 non-null float64\n",
      "avg_reimbursement_sum                         206437 non-null float64\n",
      "dtypes: float64(5), int64(4), object(6)\n",
      "memory usage: 25.2+ MB\n"
     ]
    }
   ],
   "source": [
    "df_md_prov_chrg.info()"
   ]
  },
  {
   "cell_type": "code",
   "execution_count": 61,
   "metadata": {},
   "outputs": [],
   "source": [
    "## claim anomaly is calculated using the difference between the avg claims made by any providers on any \n",
    "## particular procedure - the avg claim of that procedure obtained from the procedure summmary\n",
    "df_md_prov_chrg['claim_anomaly']=df_md_prov_chrg['avg_claims_prov']-df_md_prov_chrg['avg_claims_sum']"
   ]
  },
  {
   "cell_type": "code",
   "execution_count": 62,
   "metadata": {},
   "outputs": [
    {
     "data": {
      "text/plain": [
       "117684.29061"
      ]
     },
     "execution_count": 62,
     "metadata": {},
     "output_type": "execute_result"
    }
   ],
   "source": [
    "df_md_prov_chrg['claim_anomaly'].max()"
   ]
  },
  {
   "cell_type": "code",
   "execution_count": 63,
   "metadata": {},
   "outputs": [
    {
     "name": "stdout",
     "output_type": "stream",
     "text": [
      "<class 'pandas.core.frame.DataFrame'>\n",
      "Int64Index: 206437 entries, 0 to 206436\n",
      "Data columns (total 16 columns):\n",
      "procedure                                     206437 non-null object\n",
      "Provider Id                                   206437 non-null int64\n",
      "Provider Name                                 206437 non-null object\n",
      "Provider Street Address                       206437 non-null object\n",
      "Provider City                                 206437 non-null object\n",
      "Provider State                                206437 non-null object\n",
      "Provider Zip Code                             206437 non-null int64\n",
      "Hospital Referral Region (HRR) Description    206437 non-null object\n",
      "patients_service_prov                         206437 non-null int64\n",
      "avg_claims_prov                               206437 non-null float64\n",
      "avg_reimbursement_prov                        206437 non-null float64\n",
      "avg_paid                                      206437 non-null float64\n",
      "patients_service_sum                          206437 non-null int64\n",
      "avg_claims_sum                                206437 non-null float64\n",
      "avg_reimbursement_sum                         206437 non-null float64\n",
      "claim_anomaly                                 206437 non-null float64\n",
      "dtypes: float64(6), int64(4), object(6)\n",
      "memory usage: 26.8+ MB\n"
     ]
    }
   ],
   "source": [
    "df_md_prov_chrg.info()"
   ]
  },
  {
   "cell_type": "code",
   "execution_count": 64,
   "metadata": {},
   "outputs": [
    {
     "data": {
      "text/html": [
       "<div>\n",
       "<style scoped>\n",
       "    .dataframe tbody tr th:only-of-type {\n",
       "        vertical-align: middle;\n",
       "    }\n",
       "\n",
       "    .dataframe tbody tr th {\n",
       "        vertical-align: top;\n",
       "    }\n",
       "\n",
       "    .dataframe thead th {\n",
       "        text-align: right;\n",
       "    }\n",
       "</style>\n",
       "<table border=\"1\" class=\"dataframe\">\n",
       "  <thead>\n",
       "    <tr style=\"text-align: right;\">\n",
       "      <th></th>\n",
       "      <th>procedure</th>\n",
       "      <th>Provider Id</th>\n",
       "      <th>Provider Name</th>\n",
       "      <th>Provider Street Address</th>\n",
       "      <th>Provider City</th>\n",
       "      <th>Provider State</th>\n",
       "      <th>Provider Zip Code</th>\n",
       "      <th>Hospital Referral Region (HRR) Description</th>\n",
       "      <th>patients_service_prov</th>\n",
       "      <th>avg_claims_prov</th>\n",
       "      <th>avg_reimbursement_prov</th>\n",
       "      <th>avg_paid</th>\n",
       "      <th>patients_service_sum</th>\n",
       "      <th>avg_claims_sum</th>\n",
       "      <th>avg_reimbursement_sum</th>\n",
       "      <th>claim_anomaly</th>\n",
       "    </tr>\n",
       "  </thead>\n",
       "  <tbody>\n",
       "    <tr>\n",
       "      <td>39562</td>\n",
       "      <td>207 - RESPIRATORY SYSTEM DIAGNOSIS W VENTILATO...</td>\n",
       "      <td>50441</td>\n",
       "      <td>STANFORD HOSPITAL</td>\n",
       "      <td>300 PASTEUR DRIVE</td>\n",
       "      <td>STANFORD</td>\n",
       "      <td>CA</td>\n",
       "      <td>94305</td>\n",
       "      <td>CA - San Mateo County</td>\n",
       "      <td>11</td>\n",
       "      <td>156158.1818</td>\n",
       "      <td>154620.8182</td>\n",
       "      <td>1537.3636</td>\n",
       "      <td>33407</td>\n",
       "      <td>38473.89119</td>\n",
       "      <td>35916.06388</td>\n",
       "      <td>117684.29061</td>\n",
       "    </tr>\n",
       "  </tbody>\n",
       "</table>\n",
       "</div>"
      ],
      "text/plain": [
       "                                               procedure  Provider Id  \\\n",
       "39562  207 - RESPIRATORY SYSTEM DIAGNOSIS W VENTILATO...        50441   \n",
       "\n",
       "           Provider Name Provider Street Address Provider City Provider State  \\\n",
       "39562  STANFORD HOSPITAL       300 PASTEUR DRIVE      STANFORD             CA   \n",
       "\n",
       "       Provider Zip Code Hospital Referral Region (HRR) Description  \\\n",
       "39562              94305                      CA - San Mateo County   \n",
       "\n",
       "       patients_service_prov  avg_claims_prov  avg_reimbursement_prov  \\\n",
       "39562                     11      156158.1818             154620.8182   \n",
       "\n",
       "        avg_paid  patients_service_sum  avg_claims_sum  avg_reimbursement_sum  \\\n",
       "39562  1537.3636                 33407     38473.89119            35916.06388   \n",
       "\n",
       "       claim_anomaly  \n",
       "39562   117684.29061  "
      ]
     },
     "execution_count": 64,
     "metadata": {},
     "output_type": "execute_result"
    }
   ],
   "source": [
    "df_md_prov_chrg.loc[df_md_prov_chrg['claim_anomaly']==df_md_prov_chrg['claim_anomaly'].max()]"
   ]
  },
  {
   "cell_type": "code",
   "execution_count": 65,
   "metadata": {},
   "outputs": [],
   "source": [
    "df_md_prov_chrg_provider=df_md_prov_chrg.pivot_table(values=['claim_anomaly'], index=['Provider Name'], aggfunc=['sum'])"
   ]
  },
  {
   "cell_type": "code",
   "execution_count": 66,
   "metadata": {},
   "outputs": [
    {
     "data": {
      "text/html": [
       "<div>\n",
       "<style scoped>\n",
       "    .dataframe tbody tr th:only-of-type {\n",
       "        vertical-align: middle;\n",
       "    }\n",
       "\n",
       "    .dataframe tbody tr th {\n",
       "        vertical-align: top;\n",
       "    }\n",
       "\n",
       "    .dataframe thead tr th {\n",
       "        text-align: left;\n",
       "    }\n",
       "\n",
       "    .dataframe thead tr:last-of-type th {\n",
       "        text-align: right;\n",
       "    }\n",
       "</style>\n",
       "<table border=\"1\" class=\"dataframe\">\n",
       "  <thead>\n",
       "    <tr>\n",
       "      <th></th>\n",
       "      <th>sum</th>\n",
       "    </tr>\n",
       "    <tr>\n",
       "      <th></th>\n",
       "      <th>claim_anomaly</th>\n",
       "    </tr>\n",
       "    <tr>\n",
       "      <th>Provider Name</th>\n",
       "      <th></th>\n",
       "    </tr>\n",
       "  </thead>\n",
       "  <tbody>\n",
       "    <tr>\n",
       "      <td>JOHNS HOPKINS HOSPITAL, THE</td>\n",
       "      <td>1.189379e+06</td>\n",
       "    </tr>\n",
       "  </tbody>\n",
       "</table>\n",
       "</div>"
      ],
      "text/plain": [
       "                                      sum\n",
       "                            claim_anomaly\n",
       "Provider Name                            \n",
       "JOHNS HOPKINS HOSPITAL, THE  1.189379e+06"
      ]
     },
     "execution_count": 66,
     "metadata": {},
     "output_type": "execute_result"
    }
   ],
   "source": [
    "df_md_prov_chrg_provider.loc[df_md_prov_chrg_provider[('sum', 'claim_anomaly')]== df_md_prov_chrg_provider[('sum', 'claim_anomaly')].max()]"
   ]
  },
  {
   "cell_type": "code",
   "execution_count": 67,
   "metadata": {},
   "outputs": [
    {
     "data": {
      "text/plain": [
       "<Figure size 1440x720 with 0 Axes>"
      ]
     },
     "metadata": {},
     "output_type": "display_data"
    },
    {
     "data": {
      "image/png": "[encoded data removed]",
      "text/plain": [
       "<Figure size 432x288 with 1 Axes>"
      ]
     },
     "metadata": {
      "needs_background": "light"
     },
     "output_type": "display_data"
    }
   ],
   "source": [
    "plt.figure(figsize =(20,10))\n",
    "df_md_prov_chrg_provider.plot(kind ='bar')\n",
    "plt.show()"
   ]
  },
  {
   "cell_type": "markdown",
   "metadata": {},
   "source": [
    "### Part 1C: Highest -Cost Claims by Region"
   ]
  },
  {
   "cell_type": "code",
   "execution_count": 68,
   "metadata": {},
   "outputs": [],
   "source": [
    "df_md_prov_chrg_reg=df_md_prov_chrg.pivot_table(values=['claim_anomaly'], index=['Provider State'], aggfunc=['sum'])"
   ]
  },
  {
   "cell_type": "code",
   "execution_count": 69,
   "metadata": {},
   "outputs": [
    {
     "data": {
      "text/html": [
       "<div>\n",
       "<style scoped>\n",
       "    .dataframe tbody tr th:only-of-type {\n",
       "        vertical-align: middle;\n",
       "    }\n",
       "\n",
       "    .dataframe tbody tr th {\n",
       "        vertical-align: top;\n",
       "    }\n",
       "\n",
       "    .dataframe thead tr th {\n",
       "        text-align: left;\n",
       "    }\n",
       "\n",
       "    .dataframe thead tr:last-of-type th {\n",
       "        text-align: right;\n",
       "    }\n",
       "</style>\n",
       "<table border=\"1\" class=\"dataframe\">\n",
       "  <thead>\n",
       "    <tr>\n",
       "      <th></th>\n",
       "      <th>sum</th>\n",
       "    </tr>\n",
       "    <tr>\n",
       "      <th></th>\n",
       "      <th>claim_anomaly</th>\n",
       "    </tr>\n",
       "    <tr>\n",
       "      <th>Provider State</th>\n",
       "      <th></th>\n",
       "    </tr>\n",
       "  </thead>\n",
       "  <tbody>\n",
       "    <tr>\n",
       "      <td>CA</td>\n",
       "      <td>3.411177e+07</td>\n",
       "    </tr>\n",
       "  </tbody>\n",
       "</table>\n",
       "</div>"
      ],
      "text/plain": [
       "                         sum\n",
       "               claim_anomaly\n",
       "Provider State              \n",
       "CA              3.411177e+07"
      ]
     },
     "execution_count": 69,
     "metadata": {},
     "output_type": "execute_result"
    }
   ],
   "source": [
    "df_md_prov_chrg_reg.loc[df_md_prov_chrg_reg[('sum', 'claim_anomaly')]== df_md_prov_chrg_reg[('sum', 'claim_anomaly')].max()]"
   ]
  },
  {
   "cell_type": "code",
   "execution_count": 70,
   "metadata": {},
   "outputs": [
    {
     "data": {
      "text/plain": [
       "<Figure size 1440x720 with 0 Axes>"
      ]
     },
     "metadata": {},
     "output_type": "display_data"
    },
    {
     "data": {
      "image/png": "[encoded data removed]",
      "text/plain": [
       "<Figure size 432x288 with 1 Axes>"
      ]
     },
     "metadata": {
      "needs_background": "light"
     },
     "output_type": "display_data"
    }
   ],
   "source": [
    "plt.figure(figsize =(20,10))\n",
    "df_md_prov_chrg_reg.plot(kind ='bar')\n",
    "plt.show()"
   ]
  },
  {
   "cell_type": "code",
   "execution_count": 71,
   "metadata": {},
   "outputs": [],
   "source": [
    "df_md_prov_chrg_reg1=df_md_prov_chrg.pivot_table(values=['claim_anomaly'], index=['Provider City'], aggfunc=['sum'])"
   ]
  },
  {
   "cell_type": "code",
   "execution_count": 72,
   "metadata": {},
   "outputs": [
    {
     "data": {
      "text/html": [
       "<div>\n",
       "<style scoped>\n",
       "    .dataframe tbody tr th:only-of-type {\n",
       "        vertical-align: middle;\n",
       "    }\n",
       "\n",
       "    .dataframe tbody tr th {\n",
       "        vertical-align: top;\n",
       "    }\n",
       "\n",
       "    .dataframe thead tr th {\n",
       "        text-align: left;\n",
       "    }\n",
       "\n",
       "    .dataframe thead tr:last-of-type th {\n",
       "        text-align: right;\n",
       "    }\n",
       "</style>\n",
       "<table border=\"1\" class=\"dataframe\">\n",
       "  <thead>\n",
       "    <tr>\n",
       "      <th></th>\n",
       "      <th>sum</th>\n",
       "    </tr>\n",
       "    <tr>\n",
       "      <th></th>\n",
       "      <th>claim_anomaly</th>\n",
       "    </tr>\n",
       "    <tr>\n",
       "      <th>Provider City</th>\n",
       "      <th></th>\n",
       "    </tr>\n",
       "  </thead>\n",
       "  <tbody>\n",
       "    <tr>\n",
       "      <td>BROOKLYN</td>\n",
       "      <td>5.924851e+06</td>\n",
       "    </tr>\n",
       "  </tbody>\n",
       "</table>\n",
       "</div>"
      ],
      "text/plain": [
       "                        sum\n",
       "              claim_anomaly\n",
       "Provider City              \n",
       "BROOKLYN       5.924851e+06"
      ]
     },
     "execution_count": 72,
     "metadata": {},
     "output_type": "execute_result"
    }
   ],
   "source": [
    "df_md_prov_chrg_reg1.loc[df_md_prov_chrg_reg1[('sum', 'claim_anomaly')]== df_md_prov_chrg_reg1[('sum', 'claim_anomaly')].max()]"
   ]
  },
  {
   "cell_type": "code",
   "execution_count": 73,
   "metadata": {},
   "outputs": [
    {
     "data": {
      "text/plain": [
       "<Figure size 1440x720 with 0 Axes>"
      ]
     },
     "metadata": {},
     "output_type": "display_data"
    },
    {
     "data": {
      "image/png": "[encoded data removed]",
      "text/plain": [
       "<Figure size 432x288 with 1 Axes>"
      ]
     },
     "metadata": {
      "needs_background": "light"
     },
     "output_type": "display_data"
    }
   ],
   "source": [
    "plt.figure(figsize =(20,10))\n",
    "df_md_prov_chrg_reg1.plot(kind ='bar')\n",
    "plt.show()"
   ]
  },
  {
   "cell_type": "markdown",
   "metadata": {},
   "source": [
    "### Part 1C: Highest Number of procedures and largest differences between Claims and Reimbursements."
   ]
  },
  {
   "cell_type": "code",
   "execution_count": 74,
   "metadata": {},
   "outputs": [
    {
     "data": {
      "text/html": [
       "<div>\n",
       "<style scoped>\n",
       "    .dataframe tbody tr th:only-of-type {\n",
       "        vertical-align: middle;\n",
       "    }\n",
       "\n",
       "    .dataframe tbody tr th {\n",
       "        vertical-align: top;\n",
       "    }\n",
       "\n",
       "    .dataframe thead th {\n",
       "        text-align: right;\n",
       "    }\n",
       "</style>\n",
       "<table border=\"1\" class=\"dataframe\">\n",
       "  <thead>\n",
       "    <tr style=\"text-align: right;\">\n",
       "      <th></th>\n",
       "      <th>procedure</th>\n",
       "      <th>Provider Id</th>\n",
       "      <th>Provider Name</th>\n",
       "      <th>Provider Street Address</th>\n",
       "      <th>Provider City</th>\n",
       "      <th>Provider State</th>\n",
       "      <th>Provider Zip Code</th>\n",
       "      <th>Hospital Referral Region (HRR) Description</th>\n",
       "      <th>patients_service_prov</th>\n",
       "      <th>avg_claims_prov</th>\n",
       "      <th>avg_reimbursement_prov</th>\n",
       "      <th>avg_paid</th>\n",
       "      <th>patients_service_sum</th>\n",
       "      <th>avg_claims_sum</th>\n",
       "      <th>avg_reimbursement_sum</th>\n",
       "      <th>claim_anomaly</th>\n",
       "    </tr>\n",
       "  </thead>\n",
       "  <tbody>\n",
       "    <tr>\n",
       "      <td>49109</td>\n",
       "      <td>249 - PERC CARDIOVASC PROC W NON-DRUG-ELUTING ...</td>\n",
       "      <td>500051</td>\n",
       "      <td>OVERLAKE HOSPITAL MEDICAL CENTER</td>\n",
       "      <td>1035-116TH AVE NE</td>\n",
       "      <td>BELLEVUE</td>\n",
       "      <td>WA</td>\n",
       "      <td>98004</td>\n",
       "      <td>WA - Seattle</td>\n",
       "      <td>23</td>\n",
       "      <td>84499.26087</td>\n",
       "      <td>8500.608696</td>\n",
       "      <td>75998.652174</td>\n",
       "      <td>35760</td>\n",
       "      <td>12557.68079</td>\n",
       "      <td>10711.88118</td>\n",
       "      <td>71941.58008</td>\n",
       "    </tr>\n",
       "  </tbody>\n",
       "</table>\n",
       "</div>"
      ],
      "text/plain": [
       "                                               procedure  Provider Id  \\\n",
       "49109  249 - PERC CARDIOVASC PROC W NON-DRUG-ELUTING ...       500051   \n",
       "\n",
       "                          Provider Name Provider Street Address Provider City  \\\n",
       "49109  OVERLAKE HOSPITAL MEDICAL CENTER       1035-116TH AVE NE      BELLEVUE   \n",
       "\n",
       "      Provider State  Provider Zip Code  \\\n",
       "49109             WA              98004   \n",
       "\n",
       "      Hospital Referral Region (HRR) Description  patients_service_prov  \\\n",
       "49109                               WA - Seattle                     23   \n",
       "\n",
       "       avg_claims_prov  avg_reimbursement_prov      avg_paid  \\\n",
       "49109      84499.26087             8500.608696  75998.652174   \n",
       "\n",
       "       patients_service_sum  avg_claims_sum  avg_reimbursement_sum  \\\n",
       "49109                 35760     12557.68079            10711.88118   \n",
       "\n",
       "       claim_anomaly  \n",
       "49109    71941.58008  "
      ]
     },
     "execution_count": 74,
     "metadata": {},
     "output_type": "execute_result"
    }
   ],
   "source": [
    "df_md_prov_chrg.loc[df_md_prov_chrg['avg_paid']==df_md_prov_chrg['avg_paid'].max()]"
   ]
  },
  {
   "cell_type": "code",
   "execution_count": 75,
   "metadata": {},
   "outputs": [
    {
     "data": {
      "text/html": [
       "<div>\n",
       "<style scoped>\n",
       "    .dataframe tbody tr th:only-of-type {\n",
       "        vertical-align: middle;\n",
       "    }\n",
       "\n",
       "    .dataframe tbody tr th {\n",
       "        vertical-align: top;\n",
       "    }\n",
       "\n",
       "    .dataframe thead th {\n",
       "        text-align: right;\n",
       "    }\n",
       "</style>\n",
       "<table border=\"1\" class=\"dataframe\">\n",
       "  <thead>\n",
       "    <tr style=\"text-align: right;\">\n",
       "      <th></th>\n",
       "      <th>avg_paid</th>\n",
       "      <th>procedure</th>\n",
       "    </tr>\n",
       "    <tr>\n",
       "      <th>Provider Name</th>\n",
       "      <th></th>\n",
       "      <th></th>\n",
       "    </tr>\n",
       "  </thead>\n",
       "  <tbody>\n",
       "    <tr>\n",
       "      <td>ABBEVILLE GENERAL HOSPITAL</td>\n",
       "      <td>1225.476784</td>\n",
       "      <td>25</td>\n",
       "    </tr>\n",
       "    <tr>\n",
       "      <td>ABBOTT NORTHWESTERN HOSPITAL</td>\n",
       "      <td>8603.249997</td>\n",
       "      <td>121</td>\n",
       "    </tr>\n",
       "    <tr>\n",
       "      <td>ABILENE REGIONAL MEDICAL CENTER</td>\n",
       "      <td>7219.586305</td>\n",
       "      <td>71</td>\n",
       "    </tr>\n",
       "    <tr>\n",
       "      <td>ABINGTON MEMORIAL HOSPITAL</td>\n",
       "      <td>5620.885882</td>\n",
       "      <td>121</td>\n",
       "    </tr>\n",
       "    <tr>\n",
       "      <td>ACMH HOSPITAL</td>\n",
       "      <td>1827.926299</td>\n",
       "      <td>54</td>\n",
       "    </tr>\n",
       "    <tr>\n",
       "      <td>...</td>\n",
       "      <td>...</td>\n",
       "      <td>...</td>\n",
       "    </tr>\n",
       "    <tr>\n",
       "      <td>YAVAPAI REGIONAL MEDICAL CENTER-EAST</td>\n",
       "      <td>2792.357143</td>\n",
       "      <td>34</td>\n",
       "    </tr>\n",
       "    <tr>\n",
       "      <td>YORK HOSPITAL</td>\n",
       "      <td>9415.235300</td>\n",
       "      <td>179</td>\n",
       "    </tr>\n",
       "    <tr>\n",
       "      <td>YUKON KUSKOKWIM DELTA REG HOSPITAL</td>\n",
       "      <td>1060.222226</td>\n",
       "      <td>6</td>\n",
       "    </tr>\n",
       "    <tr>\n",
       "      <td>YUMA REGIONAL MEDICAL CENTER</td>\n",
       "      <td>4980.351364</td>\n",
       "      <td>102</td>\n",
       "    </tr>\n",
       "    <tr>\n",
       "      <td>ZUNI COMPREHENSIVE COMMUNITY HEALTH CENTER</td>\n",
       "      <td>845.000000</td>\n",
       "      <td>1</td>\n",
       "    </tr>\n",
       "  </tbody>\n",
       "</table>\n",
       "<p>3201 rows × 2 columns</p>\n",
       "</div>"
      ],
      "text/plain": [
       "                                               avg_paid  procedure\n",
       "Provider Name                                                     \n",
       "ABBEVILLE GENERAL HOSPITAL                  1225.476784         25\n",
       "ABBOTT NORTHWESTERN HOSPITAL                8603.249997        121\n",
       "ABILENE REGIONAL MEDICAL CENTER             7219.586305         71\n",
       "ABINGTON MEMORIAL HOSPITAL                  5620.885882        121\n",
       "ACMH HOSPITAL                               1827.926299         54\n",
       "...                                                 ...        ...\n",
       "YAVAPAI REGIONAL MEDICAL CENTER-EAST        2792.357143         34\n",
       "YORK HOSPITAL                               9415.235300        179\n",
       "YUKON KUSKOKWIM DELTA REG HOSPITAL          1060.222226          6\n",
       "YUMA REGIONAL MEDICAL CENTER                4980.351364        102\n",
       "ZUNI COMPREHENSIVE COMMUNITY HEALTH CENTER   845.000000          1\n",
       "\n",
       "[3201 rows x 2 columns]"
      ]
     },
     "execution_count": 75,
     "metadata": {},
     "output_type": "execute_result"
    }
   ],
   "source": [
    "df_md_prov_chrg.pivot_table(values=['procedure','avg_paid'], index=['Provider Name'], aggfunc={'procedure':'count','avg_paid':'max'})"
   ]
  },
  {
   "cell_type": "markdown",
   "metadata": {},
   "source": [
    "### Part 2: Identify the three providers that are least similar to other providers and the three regions that are least similar to other regions."
   ]
  },
  {
   "cell_type": "code",
   "execution_count": 76,
   "metadata": {},
   "outputs": [
    {
     "name": "stdout",
     "output_type": "stream",
     "text": [
      "<class 'pandas.core.frame.DataFrame'>\n",
      "Int64Index: 206437 entries, 0 to 206436\n",
      "Data columns (total 16 columns):\n",
      "procedure                                     206437 non-null object\n",
      "Provider Id                                   206437 non-null int64\n",
      "Provider Name                                 206437 non-null object\n",
      "Provider Street Address                       206437 non-null object\n",
      "Provider City                                 206437 non-null object\n",
      "Provider State                                206437 non-null object\n",
      "Provider Zip Code                             206437 non-null int64\n",
      "Hospital Referral Region (HRR) Description    206437 non-null object\n",
      "patients_service_prov                         206437 non-null int64\n",
      "avg_claims_prov                               206437 non-null float64\n",
      "avg_reimbursement_prov                        206437 non-null float64\n",
      "avg_paid                                      206437 non-null float64\n",
      "patients_service_sum                          206437 non-null int64\n",
      "avg_claims_sum                                206437 non-null float64\n",
      "avg_reimbursement_sum                         206437 non-null float64\n",
      "claim_anomaly                                 206437 non-null float64\n",
      "dtypes: float64(6), int64(4), object(6)\n",
      "memory usage: 26.8+ MB\n"
     ]
    }
   ],
   "source": [
    "df_md_prov_chrg.info()"
   ]
  },
  {
   "cell_type": "markdown",
   "metadata": {},
   "source": [
    "### Part2A: Providers least like others."
   ]
  },
  {
   "cell_type": "code",
   "execution_count": 85,
   "metadata": {},
   "outputs": [
    {
     "name": "stdout",
     "output_type": "stream",
     "text": [
      "5892.761029000001\n"
     ]
    }
   ],
   "source": [
    "Q1 = df_md_prov_chrg.avg_claims_prov.quantile(0.25)\n",
    "Q3 = df_md_prov_chrg.avg_claims_prov.quantile(0.75)\n",
    "IQR = Q3 - Q1\n",
    "print(IQR)"
   ]
  },
  {
   "cell_type": "code",
   "execution_count": 86,
   "metadata": {},
   "outputs": [],
   "source": [
    "df_md_prov_chrg['claim_outlier']=np.where((df_md_prov_chrg.avg_claims_prov < (Q1 - 1.5 * IQR)) |(df_md_prov_chrg.avg_claims_prov > (Q3 + 1.5 * IQR)),1,0)"
   ]
  },
  {
   "cell_type": "code",
   "execution_count": 94,
   "metadata": {},
   "outputs": [
    {
     "data": {
      "text/html": [
       "<div>\n",
       "<style scoped>\n",
       "    .dataframe tbody tr th:only-of-type {\n",
       "        vertical-align: middle;\n",
       "    }\n",
       "\n",
       "    .dataframe tbody tr th {\n",
       "        vertical-align: top;\n",
       "    }\n",
       "\n",
       "    .dataframe thead th {\n",
       "        text-align: right;\n",
       "    }\n",
       "</style>\n",
       "<table border=\"1\" class=\"dataframe\">\n",
       "  <thead>\n",
       "    <tr style=\"text-align: right;\">\n",
       "      <th></th>\n",
       "      <th>Provider Name</th>\n",
       "      <th>avg_claims_prov</th>\n",
       "    </tr>\n",
       "  </thead>\n",
       "  <tbody>\n",
       "    <tr>\n",
       "      <td>39562</td>\n",
       "      <td>STANFORD HOSPITAL</td>\n",
       "      <td>156158.1818</td>\n",
       "    </tr>\n",
       "    <tr>\n",
       "      <td>150793</td>\n",
       "      <td>WESTCHESTER MEDICAL CENTER</td>\n",
       "      <td>140255.2667</td>\n",
       "    </tr>\n",
       "    <tr>\n",
       "      <td>109459</td>\n",
       "      <td>PINNACLE HOSPITAL</td>\n",
       "      <td>131187.3571</td>\n",
       "    </tr>\n",
       "  </tbody>\n",
       "</table>\n",
       "</div>"
      ],
      "text/plain": [
       "                     Provider Name  avg_claims_prov\n",
       "39562            STANFORD HOSPITAL      156158.1818\n",
       "150793  WESTCHESTER MEDICAL CENTER      140255.2667\n",
       "109459           PINNACLE HOSPITAL      131187.3571"
      ]
     },
     "execution_count": 94,
     "metadata": {},
     "output_type": "execute_result"
    }
   ],
   "source": [
    "df_md_prov_chrg[['Provider Name','avg_claims_prov']][df_md_prov_chrg['claim_outlier'] == 1].sort_values(by ='avg_claims_prov',ascending = False).head(3)"
   ]
  },
  {
   "cell_type": "markdown",
   "metadata": {},
   "source": [
    "### Part 2B : Regions least like others."
   ]
  },
  {
   "cell_type": "code",
   "execution_count": 93,
   "metadata": {},
   "outputs": [
    {
     "data": {
      "text/html": [
       "<div>\n",
       "<style scoped>\n",
       "    .dataframe tbody tr th:only-of-type {\n",
       "        vertical-align: middle;\n",
       "    }\n",
       "\n",
       "    .dataframe tbody tr th {\n",
       "        vertical-align: top;\n",
       "    }\n",
       "\n",
       "    .dataframe thead th {\n",
       "        text-align: right;\n",
       "    }\n",
       "</style>\n",
       "<table border=\"1\" class=\"dataframe\">\n",
       "  <thead>\n",
       "    <tr style=\"text-align: right;\">\n",
       "      <th></th>\n",
       "      <th>Provider State</th>\n",
       "      <th>avg_claims_prov</th>\n",
       "    </tr>\n",
       "  </thead>\n",
       "  <tbody>\n",
       "    <tr>\n",
       "      <td>39562</td>\n",
       "      <td>CA</td>\n",
       "      <td>156158.1818</td>\n",
       "    </tr>\n",
       "    <tr>\n",
       "      <td>150793</td>\n",
       "      <td>NY</td>\n",
       "      <td>140255.2667</td>\n",
       "    </tr>\n",
       "    <tr>\n",
       "      <td>109459</td>\n",
       "      <td>IN</td>\n",
       "      <td>131187.3571</td>\n",
       "    </tr>\n",
       "  </tbody>\n",
       "</table>\n",
       "</div>"
      ],
      "text/plain": [
       "       Provider State  avg_claims_prov\n",
       "39562              CA      156158.1818\n",
       "150793             NY      140255.2667\n",
       "109459             IN      131187.3571"
      ]
     },
     "execution_count": 93,
     "metadata": {},
     "output_type": "execute_result"
    }
   ],
   "source": [
    "df_md_prov_chrg[['Provider State','avg_claims_prov']][df_md_prov_chrg['claim_outlier'] == 1].sort_values(by ='avg_claims_prov',ascending = False).head(3)"
   ]
  },
  {
   "cell_type": "markdown",
   "metadata": {},
   "source": [
    "### Part 3 : Identify 10,000 Medicare patients who are involved in anomalous activities"
   ]
  },
  {
   "cell_type": "code",
   "execution_count": 97,
   "metadata": {},
   "outputs": [],
   "source": [
    "### Since the patients level data are different from provider and procedure level data, it is difficult to merge the data and\n",
    "### do descriptive analysis over it"
   ]
  },
  {
   "cell_type": "code",
   "execution_count": 95,
   "metadata": {},
   "outputs": [
    {
     "data": {
      "text/html": [
       "<div>\n",
       "<style scoped>\n",
       "    .dataframe tbody tr th:only-of-type {\n",
       "        vertical-align: middle;\n",
       "    }\n",
       "\n",
       "    .dataframe tbody tr th {\n",
       "        vertical-align: top;\n",
       "    }\n",
       "\n",
       "    .dataframe thead th {\n",
       "        text-align: right;\n",
       "    }\n",
       "</style>\n",
       "<table border=\"1\" class=\"dataframe\">\n",
       "  <thead>\n",
       "    <tr style=\"text-align: right;\">\n",
       "      <th></th>\n",
       "      <th>id</th>\n",
       "      <th>age</th>\n",
       "      <th>gender</th>\n",
       "      <th>income</th>\n",
       "    </tr>\n",
       "  </thead>\n",
       "  <tbody>\n",
       "    <tr>\n",
       "      <td>0</td>\n",
       "      <td>381693273</td>\n",
       "      <td>65-74</td>\n",
       "      <td>F</td>\n",
       "      <td>24000-31999</td>\n",
       "    </tr>\n",
       "    <tr>\n",
       "      <td>1</td>\n",
       "      <td>444060924</td>\n",
       "      <td>65-74</td>\n",
       "      <td>M</td>\n",
       "      <td>24000-31999</td>\n",
       "    </tr>\n",
       "    <tr>\n",
       "      <td>2</td>\n",
       "      <td>3641691</td>\n",
       "      <td>65-74</td>\n",
       "      <td>F</td>\n",
       "      <td>24000-31999</td>\n",
       "    </tr>\n",
       "    <tr>\n",
       "      <td>3</td>\n",
       "      <td>672653795</td>\n",
       "      <td>65-74</td>\n",
       "      <td>M</td>\n",
       "      <td>48000+</td>\n",
       "    </tr>\n",
       "    <tr>\n",
       "      <td>4</td>\n",
       "      <td>144916176</td>\n",
       "      <td>&lt;65</td>\n",
       "      <td>F</td>\n",
       "      <td>48000+</td>\n",
       "    </tr>\n",
       "    <tr>\n",
       "      <td>...</td>\n",
       "      <td>...</td>\n",
       "      <td>...</td>\n",
       "      <td>...</td>\n",
       "      <td>...</td>\n",
       "    </tr>\n",
       "    <tr>\n",
       "      <td>4995</td>\n",
       "      <td>28831157</td>\n",
       "      <td>&lt;65</td>\n",
       "      <td>M</td>\n",
       "      <td>24000-31999</td>\n",
       "    </tr>\n",
       "    <tr>\n",
       "      <td>4996</td>\n",
       "      <td>612539786</td>\n",
       "      <td>&lt;65</td>\n",
       "      <td>F</td>\n",
       "      <td>24000-31999</td>\n",
       "    </tr>\n",
       "    <tr>\n",
       "      <td>4997</td>\n",
       "      <td>978751518</td>\n",
       "      <td>75-84</td>\n",
       "      <td>F</td>\n",
       "      <td>&lt;16000</td>\n",
       "    </tr>\n",
       "    <tr>\n",
       "      <td>4998</td>\n",
       "      <td>105489783</td>\n",
       "      <td>75-84</td>\n",
       "      <td>M</td>\n",
       "      <td>24000-31999</td>\n",
       "    </tr>\n",
       "    <tr>\n",
       "      <td>4999</td>\n",
       "      <td>650750373</td>\n",
       "      <td>85+</td>\n",
       "      <td>F</td>\n",
       "      <td>&lt;16000</td>\n",
       "    </tr>\n",
       "  </tbody>\n",
       "</table>\n",
       "<p>5000 rows × 4 columns</p>\n",
       "</div>"
      ],
      "text/plain": [
       "             id    age gender       income\n",
       "0     381693273  65-74      F  24000-31999\n",
       "1     444060924  65-74      M  24000-31999\n",
       "2       3641691  65-74      F  24000-31999\n",
       "3     672653795  65-74      M       48000+\n",
       "4     144916176    <65      F       48000+\n",
       "...         ...    ...    ...          ...\n",
       "4995   28831157    <65      M  24000-31999\n",
       "4996  612539786    <65      F  24000-31999\n",
       "4997  978751518  75-84      F       <16000\n",
       "4998  105489783  75-84      M  24000-31999\n",
       "4999  650750373    85+      F       <16000\n",
       "\n",
       "[5000 rows x 4 columns]"
      ]
     },
     "execution_count": 95,
     "metadata": {},
     "output_type": "execute_result"
    }
   ],
   "source": [
    "df_pat_hist_rev"
   ]
  },
  {
   "cell_type": "code",
   "execution_count": 96,
   "metadata": {},
   "outputs": [
    {
     "data": {
      "text/html": [
       "<div>\n",
       "<style scoped>\n",
       "    .dataframe tbody tr th:only-of-type {\n",
       "        vertical-align: middle;\n",
       "    }\n",
       "\n",
       "    .dataframe tbody tr th {\n",
       "        vertical-align: top;\n",
       "    }\n",
       "\n",
       "    .dataframe thead th {\n",
       "        text-align: right;\n",
       "    }\n",
       "</style>\n",
       "<table border=\"1\" class=\"dataframe\">\n",
       "  <thead>\n",
       "    <tr style=\"text-align: right;\">\n",
       "      <th></th>\n",
       "      <th>id</th>\n",
       "      <th>global_proc_id</th>\n",
       "      <th>count</th>\n",
       "    </tr>\n",
       "  </thead>\n",
       "  <tbody>\n",
       "    <tr>\n",
       "      <td>0</td>\n",
       "      <td>65822</td>\n",
       "      <td>109</td>\n",
       "      <td>1</td>\n",
       "    </tr>\n",
       "    <tr>\n",
       "      <td>1</td>\n",
       "      <td>65822</td>\n",
       "      <td>125</td>\n",
       "      <td>1</td>\n",
       "    </tr>\n",
       "    <tr>\n",
       "      <td>2</td>\n",
       "      <td>119695</td>\n",
       "      <td>70</td>\n",
       "      <td>1</td>\n",
       "    </tr>\n",
       "    <tr>\n",
       "      <td>3</td>\n",
       "      <td>119695</td>\n",
       "      <td>124</td>\n",
       "      <td>1</td>\n",
       "    </tr>\n",
       "    <tr>\n",
       "      <td>4</td>\n",
       "      <td>119695</td>\n",
       "      <td>125</td>\n",
       "      <td>1</td>\n",
       "    </tr>\n",
       "    <tr>\n",
       "      <td>...</td>\n",
       "      <td>...</td>\n",
       "      <td>...</td>\n",
       "      <td>...</td>\n",
       "    </tr>\n",
       "    <tr>\n",
       "      <td>15036</td>\n",
       "      <td>999454987</td>\n",
       "      <td>112</td>\n",
       "      <td>1</td>\n",
       "    </tr>\n",
       "    <tr>\n",
       "      <td>15037</td>\n",
       "      <td>999460247</td>\n",
       "      <td>69</td>\n",
       "      <td>1</td>\n",
       "    </tr>\n",
       "    <tr>\n",
       "      <td>15038</td>\n",
       "      <td>999460247</td>\n",
       "      <td>92</td>\n",
       "      <td>1</td>\n",
       "    </tr>\n",
       "    <tr>\n",
       "      <td>15039</td>\n",
       "      <td>999460247</td>\n",
       "      <td>124</td>\n",
       "      <td>1</td>\n",
       "    </tr>\n",
       "    <tr>\n",
       "      <td>15040</td>\n",
       "      <td>999921648</td>\n",
       "      <td>60</td>\n",
       "      <td>1</td>\n",
       "    </tr>\n",
       "  </tbody>\n",
       "</table>\n",
       "<p>15041 rows × 3 columns</p>\n",
       "</div>"
      ],
      "text/plain": [
       "              id  global_proc_id  count\n",
       "0          65822             109      1\n",
       "1          65822             125      1\n",
       "2         119695              70      1\n",
       "3         119695             124      1\n",
       "4         119695             125      1\n",
       "...          ...             ...    ...\n",
       "15036  999454987             112      1\n",
       "15037  999460247              69      1\n",
       "15038  999460247              92      1\n",
       "15039  999460247             124      1\n",
       "15040  999921648              60      1\n",
       "\n",
       "[15041 rows x 3 columns]"
      ]
     },
     "execution_count": 96,
     "metadata": {},
     "output_type": "execute_result"
    }
   ],
   "source": [
    "df_trx_rev"
   ]
  },
  {
   "cell_type": "code",
   "execution_count": null,
   "metadata": {},
   "outputs": [],
   "source": []
  },
  {
   "cell_type": "code",
   "execution_count": null,
   "metadata": {},
   "outputs": [],
   "source": []
  },
  {
   "cell_type": "code",
   "execution_count": null,
   "metadata": {},
   "outputs": [],
   "source": []
  },
  {
   "cell_type": "code",
   "execution_count": null,
   "metadata": {},
   "outputs": [],
   "source": []
  }
 ],
 "metadata": {
  "kernelspec": {
   "display_name": "Python 3",
   "language": "python",
   "name": "python3"
  },
  "language_info": {
   "codemirror_mode": {
    "name": "ipython",
    "version": 3
   },
   "file_extension": ".py",
   "mimetype": "text/x-python",
   "name": "python",
   "nbconvert_exporter": "python",
   "pygments_lexer": "ipython3",
   "version": "3.7.4"
  }
 },
 "nbformat": 4,
 "nbformat_minor": 2
}
