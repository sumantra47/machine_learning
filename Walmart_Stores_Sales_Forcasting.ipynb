{
 "cells": [
  {
   "cell_type": "markdown",
   "metadata": {},
   "source": [
    "### You are provided with historical sales data for 45 Walmart stores located in different regions. Each store contains a number of departments, and you are tasked with predicting the department-wide sales for each store.\n",
    "### In addition, Walmart runs several promotional markdown events throughout the year. These markdowns precede prominent holidays, the four largest of which are the Super Bowl, Labour Day, Thanksgiving, and Christmas. The weeks including these holidays are weighted five times higher in the evaluation than non-holiday weeks. Part of the challenge presented by this competition is modelling the effects of markdowns on these holiday weeks in the absence of complete/ideal historical data."
   ]
  },
  {
   "cell_type": "code",
   "execution_count": 1,
   "metadata": {
    "colab": {
     "base_uri": "https://localhost:8080/",
     "height": 408
    },
    "colab_type": "code",
    "id": "MZXt27jmZuyp",
    "outputId": "d78770a2-a4b8-4fe9-cef4-91e57e2ec4a5"
   },
   "outputs": [],
   "source": [
    "import io\n",
    "import pandas as pd\n"
   ]
  },
  {
   "cell_type": "code",
   "execution_count": 2,
   "metadata": {
    "colab": {
     "base_uri": "https://localhost:8080/",
     "height": 71
    },
    "colab_type": "code",
    "id": "U75odsxpcSHF",
    "outputId": "57425853-77ca-4565-b882-ed8f6bfaf200"
   },
   "outputs": [],
   "source": [
    "import warnings\n",
    "import itertools\n",
    "\n",
    "import pandas as pd\n",
    "import numpy as np\n",
    "\n",
    "import statsmodels.api as sm\n",
    "import statsmodels.tsa.api as smt\n",
    "import statsmodels.formula.api as smf\n",
    "\n",
    "import matplotlib.pyplot as plt\n",
    "%matplotlib inline\n",
    "\n",
    "plt.style.use('bmh')\n",
    "import matplotlib.pyplot"
   ]
  },
  {
   "cell_type": "code",
   "execution_count": 3,
   "metadata": {
    "colab": {},
    "colab_type": "code",
    "id": "n5VczvI_cv1C"
   },
   "outputs": [],
   "source": [
    "import pandas as pd\n",
    "df_stores=pd.read_csv('F:/analytix_labs/2. Walmart Store Sales Forecasting/data/stores.csv')\n",
    "df_train=pd.read_csv('F:/analytix_labs/2. Walmart Store Sales Forecasting/data/train.csv')\n",
    "df_test=pd.read_csv('F:/analytix_labs/2. Walmart Store Sales Forecasting/data/test.csv')\n",
    "df_features=pd.read_csv('F:/analytix_labs/2. Walmart Store Sales Forecasting/data/features.csv')\n",
    "df_smple_sub=pd.read_csv('F:/analytix_labs/2. Walmart Store Sales Forecasting/data/sampleSubmission.csv')"
   ]
  },
  {
   "cell_type": "code",
   "execution_count": 4,
   "metadata": {
    "colab": {
     "base_uri": "https://localhost:8080/",
     "height": 221
    },
    "colab_type": "code",
    "id": "keALnRSUdEIS",
    "outputId": "dcdf72ab-0ca2-4a57-c559-8941061a8867"
   },
   "outputs": [
    {
     "name": "stdout",
     "output_type": "stream",
     "text": [
      "<class 'pandas.core.frame.DataFrame'>\n",
      "RangeIndex: 421570 entries, 0 to 421569\n",
      "Data columns (total 5 columns):\n",
      "Store           421570 non-null int64\n",
      "Dept            421570 non-null int64\n",
      "Date            421570 non-null object\n",
      "Weekly_Sales    421570 non-null float64\n",
      "IsHoliday       421570 non-null bool\n",
      "dtypes: bool(1), float64(1), int64(2), object(1)\n",
      "memory usage: 13.3+ MB\n"
     ]
    }
   ],
   "source": [
    "df_train.info()"
   ]
  },
  {
   "cell_type": "code",
   "execution_count": 5,
   "metadata": {
    "colab": {},
    "colab_type": "code",
    "id": "hNxmk9NpdQOU"
   },
   "outputs": [
    {
     "name": "stderr",
     "output_type": "stream",
     "text": [
      "C:\\ProgramData\\Anaconda3\\lib\\site-packages\\ipykernel_launcher.py:1: FutureWarning: Sorting because non-concatenation axis is not aligned. A future version\n",
      "of pandas will change to not sort by default.\n",
      "\n",
      "To accept the future behavior, pass 'sort=False'.\n",
      "\n",
      "To retain the current behavior and silence the warning, pass 'sort=True'.\n",
      "\n",
      "  \"\"\"Entry point for launching an IPython kernel.\n"
     ]
    }
   ],
   "source": [
    "df_sales=pd.concat([df_train,df_test], ignore_index=True)"
   ]
  },
  {
   "cell_type": "code",
   "execution_count": 6,
   "metadata": {
    "colab": {},
    "colab_type": "code",
    "id": "qodTujw5gdNy"
   },
   "outputs": [],
   "source": [
    "df_sales=pd.merge(df_sales, df_features, how = 'left', left_on = ['Date','Store'],right_on = ['Date','Store'])"
   ]
  },
  {
   "cell_type": "code",
   "execution_count": 7,
   "metadata": {
    "colab": {},
    "colab_type": "code",
    "id": "HrkIz99QghTi"
   },
   "outputs": [],
   "source": [
    "df_sales=pd.merge(df_sales, df_stores, how = 'left', left_on = 'Store',right_on = 'Store')"
   ]
  },
  {
   "cell_type": "code",
   "execution_count": 8,
   "metadata": {
    "colab": {
     "base_uri": "https://localhost:8080/",
     "height": 425
    },
    "colab_type": "code",
    "id": "ts_KLKh0gkhr",
    "outputId": "0ddb08e6-4fc0-42ed-9163-ccad8e8710ea"
   },
   "outputs": [
    {
     "name": "stdout",
     "output_type": "stream",
     "text": [
      "<class 'pandas.core.frame.DataFrame'>\n",
      "Int64Index: 536634 entries, 0 to 536633\n",
      "Data columns (total 17 columns):\n",
      "Date            536634 non-null object\n",
      "Dept            536634 non-null int64\n",
      "IsHoliday_x     536634 non-null bool\n",
      "Store           536634 non-null int64\n",
      "Weekly_Sales    421570 non-null float64\n",
      "Temperature     536634 non-null float64\n",
      "Fuel_Price      536634 non-null float64\n",
      "MarkDown1       265596 non-null float64\n",
      "MarkDown2       197685 non-null float64\n",
      "MarkDown3       242326 non-null float64\n",
      "MarkDown4       237143 non-null float64\n",
      "MarkDown5       266496 non-null float64\n",
      "CPI             498472 non-null float64\n",
      "Unemployment    498472 non-null float64\n",
      "IsHoliday_y     536634 non-null bool\n",
      "Type            536634 non-null object\n",
      "Size            536634 non-null int64\n",
      "dtypes: bool(2), float64(10), int64(3), object(2)\n",
      "memory usage: 66.5+ MB\n"
     ]
    }
   ],
   "source": [
    "df_sales.info()"
   ]
  },
  {
   "cell_type": "code",
   "execution_count": 9,
   "metadata": {
    "colab": {},
    "colab_type": "code",
    "id": "1m6c_00Eg0li"
   },
   "outputs": [],
   "source": [
    "df_sales['Date'] = pd.to_datetime(df_sales['Date'])"
   ]
  },
  {
   "cell_type": "code",
   "execution_count": 10,
   "metadata": {
    "colab": {},
    "colab_type": "code",
    "id": "ktAgTGw_hHd0"
   },
   "outputs": [],
   "source": [
    "df_sales['week_num']=df_sales.Date.apply(lambda x: x.weekofyear)"
   ]
  },
  {
   "cell_type": "code",
   "execution_count": 11,
   "metadata": {
    "colab": {},
    "colab_type": "code",
    "id": "-QjJvNNmy0XS"
   },
   "outputs": [],
   "source": [
    "df_sales['super_bowl']=np.where(df_sales['Date'].isin(['2010-02-10','2011-02-11','2012-02-10','2013-02-08']),1,0)\n"
   ]
  },
  {
   "cell_type": "code",
   "execution_count": 12,
   "metadata": {
    "colab": {},
    "colab_type": "code",
    "id": "VavMqnNS03Y5"
   },
   "outputs": [],
   "source": [
    "df_sales['labor_day']=np.where(df_sales['Date'].isin(['2010-09-10','2011-09-09','2012-09-07','2013-09-06']),1,0)"
   ]
  },
  {
   "cell_type": "code",
   "execution_count": 13,
   "metadata": {
    "colab": {},
    "colab_type": "code",
    "id": "PuFBjsYp05w_"
   },
   "outputs": [],
   "source": [
    "df_sales['thanksgiving']=np.where(df_sales['Date'].isin(['2010-11-26','2011-11-25','2012-11-23','2013-11-29']),1,0)"
   ]
  },
  {
   "cell_type": "code",
   "execution_count": 14,
   "metadata": {
    "colab": {},
    "colab_type": "code",
    "id": "UNQAhSDB06E5"
   },
   "outputs": [],
   "source": [
    "df_sales['christmas']=np.where(df_sales['Date'].isin(['2010-12-31','2011-12-30','2012-12-28','2013-12-27']),1,0)"
   ]
  },
  {
   "cell_type": "code",
   "execution_count": 15,
   "metadata": {
    "colab": {
     "base_uri": "https://localhost:8080/",
     "height": 510
    },
    "colab_type": "code",
    "id": "VXQW-R4u06XK",
    "outputId": "c95f7c2c-d431-4638-f196-d75606595ae3"
   },
   "outputs": [
    {
     "name": "stdout",
     "output_type": "stream",
     "text": [
      "<class 'pandas.core.frame.DataFrame'>\n",
      "Int64Index: 536634 entries, 0 to 536633\n",
      "Data columns (total 22 columns):\n",
      "Date            536634 non-null datetime64[ns]\n",
      "Dept            536634 non-null int64\n",
      "IsHoliday_x     536634 non-null bool\n",
      "Store           536634 non-null int64\n",
      "Weekly_Sales    421570 non-null float64\n",
      "Temperature     536634 non-null float64\n",
      "Fuel_Price      536634 non-null float64\n",
      "MarkDown1       265596 non-null float64\n",
      "MarkDown2       197685 non-null float64\n",
      "MarkDown3       242326 non-null float64\n",
      "MarkDown4       237143 non-null float64\n",
      "MarkDown5       266496 non-null float64\n",
      "CPI             498472 non-null float64\n",
      "Unemployment    498472 non-null float64\n",
      "IsHoliday_y     536634 non-null bool\n",
      "Type            536634 non-null object\n",
      "Size            536634 non-null int64\n",
      "week_num        536634 non-null int64\n",
      "super_bowl      536634 non-null int32\n",
      "labor_day       536634 non-null int32\n",
      "thanksgiving    536634 non-null int32\n",
      "christmas       536634 non-null int32\n",
      "dtypes: bool(2), datetime64[ns](1), float64(10), int32(4), int64(4), object(1)\n",
      "memory usage: 78.8+ MB\n"
     ]
    }
   ],
   "source": [
    "df_sales.info()"
   ]
  },
  {
   "cell_type": "code",
   "execution_count": 16,
   "metadata": {
    "colab": {
     "base_uri": "https://localhost:8080/",
     "height": 510
    },
    "colab_type": "code",
    "id": "Raq6yQ4qhJyb",
    "outputId": "d845cb90-0b26-4b4d-e975-18dc3e6c738e"
   },
   "outputs": [
    {
     "name": "stdout",
     "output_type": "stream",
     "text": [
      "<class 'pandas.core.frame.DataFrame'>\n",
      "Int64Index: 536634 entries, 0 to 536633\n",
      "Data columns (total 22 columns):\n",
      "Date            536634 non-null datetime64[ns]\n",
      "Dept            536634 non-null int64\n",
      "IsHoliday_x     536634 non-null bool\n",
      "Store           536634 non-null int64\n",
      "Weekly_Sales    421570 non-null float64\n",
      "Temperature     536634 non-null float64\n",
      "Fuel_Price      536634 non-null float64\n",
      "MarkDown1       265596 non-null float64\n",
      "MarkDown2       197685 non-null float64\n",
      "MarkDown3       242326 non-null float64\n",
      "MarkDown4       237143 non-null float64\n",
      "MarkDown5       266496 non-null float64\n",
      "CPI             498472 non-null float64\n",
      "Unemployment    498472 non-null float64\n",
      "IsHoliday_y     536634 non-null bool\n",
      "Type            536634 non-null object\n",
      "Size            536634 non-null int64\n",
      "week_num        536634 non-null int64\n",
      "super_bowl      536634 non-null int32\n",
      "labor_day       536634 non-null int32\n",
      "thanksgiving    536634 non-null int32\n",
      "christmas       536634 non-null int32\n",
      "dtypes: bool(2), datetime64[ns](1), float64(10), int32(4), int64(4), object(1)\n",
      "memory usage: 78.8+ MB\n"
     ]
    }
   ],
   "source": [
    "df_sales.info()"
   ]
  },
  {
   "cell_type": "code",
   "execution_count": 17,
   "metadata": {
    "colab": {},
    "colab_type": "code",
    "id": "ZdQFOJwlhNYW"
   },
   "outputs": [],
   "source": [
    "sales_cont=df_sales[['Weekly_Sales','Size','Temperature','CPI','Unemployment','Fuel_Price']]"
   ]
  },
  {
   "cell_type": "code",
   "execution_count": 18,
   "metadata": {
    "colab": {
     "base_uri": "https://localhost:8080/",
     "height": 238
    },
    "colab_type": "code",
    "id": "KYuQ9iFmhQwp",
    "outputId": "e2e2644a-383e-427e-f643-627a33f04d99"
   },
   "outputs": [
    {
     "name": "stdout",
     "output_type": "stream",
     "text": [
      "<class 'pandas.core.frame.DataFrame'>\n",
      "Int64Index: 536634 entries, 0 to 536633\n",
      "Data columns (total 6 columns):\n",
      "Weekly_Sales    421570 non-null float64\n",
      "Size            536634 non-null int64\n",
      "Temperature     536634 non-null float64\n",
      "CPI             498472 non-null float64\n",
      "Unemployment    498472 non-null float64\n",
      "Fuel_Price      536634 non-null float64\n",
      "dtypes: float64(5), int64(1)\n",
      "memory usage: 28.7 MB\n"
     ]
    }
   ],
   "source": [
    "sales_cont.info()"
   ]
  },
  {
   "cell_type": "code",
   "execution_count": 19,
   "metadata": {
    "colab": {},
    "colab_type": "code",
    "id": "K7uh8dZahSsJ"
   },
   "outputs": [],
   "source": [
    "sales_cat=df_sales[['Dept','Store','IsHoliday_x','Type','week_num','super_bowl','labor_day','thanksgiving','christmas']]"
   ]
  },
  {
   "cell_type": "code",
   "execution_count": 20,
   "metadata": {
    "colab": {},
    "colab_type": "code",
    "id": "xUQBL09KhU9V"
   },
   "outputs": [],
   "source": [
    "# Create Data audit Report for continuous variables\n",
    "def continuous_var_summary(x):\n",
    "    return pd.Series([x.count(), x.isnull().sum(), x.sum(), x.mean(), x.median(),  \n",
    "                      x.std(), x.var(), x.min(), x.quantile(0.01), x.quantile(0.05),\n",
    "                          x.quantile(0.10),x.quantile(0.25),x.quantile(0.50),x.quantile(0.75), \n",
    "                              x.quantile(0.90),x.quantile(0.95), x.quantile(0.99),x.max()], \n",
    "                  index = ['N', 'NMISS', 'SUM', 'MEAN','MEDIAN', 'STD', 'VAR', 'MIN', 'P1', \n",
    "                               'P5' ,'P10' ,'P25' ,'P50' ,'P75' ,'P90' ,'P95' ,'P99' ,'MAX'])"
   ]
  },
  {
   "cell_type": "code",
   "execution_count": 21,
   "metadata": {
    "colab": {},
    "colab_type": "code",
    "id": "foHVfuArhXSx"
   },
   "outputs": [],
   "source": [
    "# Create Data audit Report for categorical variables\n",
    "def categorical_var_summary(x):\n",
    "    Mode = x.value_counts().sort_values(ascending = False)[0:1].reset_index()\n",
    "    return pd.Series([x.count(), x.isnull().sum(), Mode.iloc[0, 0], Mode.iloc[0, 1], \n",
    "                          round(Mode.iloc[0, 1] * 100/x.count(), 2)], \n",
    "                  index = ['N', 'NMISS', 'MODE', 'FREQ', 'PERCENT'])"
   ]
  },
  {
   "cell_type": "code",
   "execution_count": 22,
   "metadata": {
    "colab": {},
    "colab_type": "code",
    "id": "t8FcE4INhZ6P"
   },
   "outputs": [],
   "source": [
    "# Missing value imputation for categorical and continuous variables\n",
    "def missing_imputation(x, stats = 'mean'):\n",
    "    if (x.dtypes == 'float64') | (x.dtypes == 'int64'):\n",
    "        x = x.fillna(x.mean()) if stats == 'mean' else x.fillna(x.median())\n",
    "    else:\n",
    "        x = x.fillna(x.mode())\n",
    "    return x"
   ]
  },
  {
   "cell_type": "code",
   "execution_count": 23,
   "metadata": {
    "colab": {},
    "colab_type": "code",
    "id": "9Pn0bZSchcLo"
   },
   "outputs": [],
   "source": [
    "# An utility function to create dummy variable\n",
    "def create_dummies(df, colname):\n",
    "    col_dummies = pd.get_dummies(df[colname], prefix = colname, drop_first = True)\n",
    "    df = pd.concat([df, col_dummies], axis = 1)\n",
    "    df.drop(colname, axis = 1, inplace = True )\n",
    "    return df"
   ]
  },
  {
   "cell_type": "code",
   "execution_count": 24,
   "metadata": {
    "colab": {
     "base_uri": "https://localhost:8080/",
     "height": 607
    },
    "colab_type": "code",
    "id": "Rkemyi6OhebW",
    "outputId": "536f36db-aab3-4337-b199-df3e214bcc26"
   },
   "outputs": [
    {
     "data": {
      "text/html": [
       "<div>\n",
       "<style scoped>\n",
       "    .dataframe tbody tr th:only-of-type {\n",
       "        vertical-align: middle;\n",
       "    }\n",
       "\n",
       "    .dataframe tbody tr th {\n",
       "        vertical-align: top;\n",
       "    }\n",
       "\n",
       "    .dataframe thead th {\n",
       "        text-align: right;\n",
       "    }\n",
       "</style>\n",
       "<table border=\"1\" class=\"dataframe\">\n",
       "  <thead>\n",
       "    <tr style=\"text-align: right;\">\n",
       "      <th></th>\n",
       "      <th>Weekly_Sales</th>\n",
       "      <th>Size</th>\n",
       "      <th>Temperature</th>\n",
       "      <th>CPI</th>\n",
       "      <th>Unemployment</th>\n",
       "      <th>Fuel_Price</th>\n",
       "    </tr>\n",
       "  </thead>\n",
       "  <tbody>\n",
       "    <tr>\n",
       "      <td>N</td>\n",
       "      <td>4.215700e+05</td>\n",
       "      <td>5.366340e+05</td>\n",
       "      <td>5.366340e+05</td>\n",
       "      <td>4.984720e+05</td>\n",
       "      <td>4.984720e+05</td>\n",
       "      <td>5.366340e+05</td>\n",
       "    </tr>\n",
       "    <tr>\n",
       "      <td>NMISS</td>\n",
       "      <td>1.150640e+05</td>\n",
       "      <td>0.000000e+00</td>\n",
       "      <td>0.000000e+00</td>\n",
       "      <td>3.816200e+04</td>\n",
       "      <td>3.816200e+04</td>\n",
       "      <td>0.000000e+00</td>\n",
       "    </tr>\n",
       "    <tr>\n",
       "      <td>SUM</td>\n",
       "      <td>6.737219e+09</td>\n",
       "      <td>7.334636e+10</td>\n",
       "      <td>3.153893e+07</td>\n",
       "      <td>8.578229e+07</td>\n",
       "      <td>3.884038e+06</td>\n",
       "      <td>1.829015e+06</td>\n",
       "    </tr>\n",
       "    <tr>\n",
       "      <td>MEAN</td>\n",
       "      <td>1.598126e+04</td>\n",
       "      <td>1.366786e+05</td>\n",
       "      <td>5.877176e+01</td>\n",
       "      <td>1.720905e+02</td>\n",
       "      <td>7.791888e+00</td>\n",
       "      <td>3.408310e+00</td>\n",
       "    </tr>\n",
       "    <tr>\n",
       "      <td>MEDIAN</td>\n",
       "      <td>7.612030e+03</td>\n",
       "      <td>1.401670e+05</td>\n",
       "      <td>6.006000e+01</td>\n",
       "      <td>1.824424e+02</td>\n",
       "      <td>7.795000e+00</td>\n",
       "      <td>3.523000e+00</td>\n",
       "    </tr>\n",
       "    <tr>\n",
       "      <td>STD</td>\n",
       "      <td>2.271118e+04</td>\n",
       "      <td>6.100771e+04</td>\n",
       "      <td>1.867872e+01</td>\n",
       "      <td>3.954215e+01</td>\n",
       "      <td>1.865076e+00</td>\n",
       "      <td>4.308613e-01</td>\n",
       "    </tr>\n",
       "    <tr>\n",
       "      <td>VAR</td>\n",
       "      <td>5.157979e+08</td>\n",
       "      <td>3.721941e+09</td>\n",
       "      <td>3.488944e+02</td>\n",
       "      <td>1.563582e+03</td>\n",
       "      <td>3.478508e+00</td>\n",
       "      <td>1.856414e-01</td>\n",
       "    </tr>\n",
       "    <tr>\n",
       "      <td>MIN</td>\n",
       "      <td>-4.988940e+03</td>\n",
       "      <td>3.487500e+04</td>\n",
       "      <td>-7.290000e+00</td>\n",
       "      <td>1.260640e+02</td>\n",
       "      <td>3.684000e+00</td>\n",
       "      <td>2.472000e+00</td>\n",
       "    </tr>\n",
       "    <tr>\n",
       "      <td>P1</td>\n",
       "      <td>5.000000e+00</td>\n",
       "      <td>3.487500e+04</td>\n",
       "      <td>1.687000e+01</td>\n",
       "      <td>1.261140e+02</td>\n",
       "      <td>4.077000e+00</td>\n",
       "      <td>2.572000e+00</td>\n",
       "    </tr>\n",
       "    <tr>\n",
       "      <td>P5</td>\n",
       "      <td>5.997450e+01</td>\n",
       "      <td>3.969000e+04</td>\n",
       "      <td>2.649000e+01</td>\n",
       "      <td>1.266019e+02</td>\n",
       "      <td>5.114000e+00</td>\n",
       "      <td>2.671000e+00</td>\n",
       "    </tr>\n",
       "    <tr>\n",
       "      <td>P10</td>\n",
       "      <td>2.910970e+02</td>\n",
       "      <td>3.991000e+04</td>\n",
       "      <td>3.276000e+01</td>\n",
       "      <td>1.290890e+02</td>\n",
       "      <td>5.667000e+00</td>\n",
       "      <td>2.759000e+00</td>\n",
       "    </tr>\n",
       "    <tr>\n",
       "      <td>P25</td>\n",
       "      <td>2.079650e+03</td>\n",
       "      <td>9.363800e+04</td>\n",
       "      <td>4.525000e+01</td>\n",
       "      <td>1.325219e+02</td>\n",
       "      <td>6.623000e+00</td>\n",
       "      <td>3.041000e+00</td>\n",
       "    </tr>\n",
       "    <tr>\n",
       "      <td>P50</td>\n",
       "      <td>7.612030e+03</td>\n",
       "      <td>1.401670e+05</td>\n",
       "      <td>6.006000e+01</td>\n",
       "      <td>1.824424e+02</td>\n",
       "      <td>7.795000e+00</td>\n",
       "      <td>3.523000e+00</td>\n",
       "    </tr>\n",
       "    <tr>\n",
       "      <td>P75</td>\n",
       "      <td>2.020585e+04</td>\n",
       "      <td>2.025050e+05</td>\n",
       "      <td>7.323000e+01</td>\n",
       "      <td>2.137481e+02</td>\n",
       "      <td>8.549000e+00</td>\n",
       "      <td>3.744000e+00</td>\n",
       "    </tr>\n",
       "    <tr>\n",
       "      <td>P90</td>\n",
       "      <td>4.284567e+04</td>\n",
       "      <td>2.041840e+05</td>\n",
       "      <td>8.284000e+01</td>\n",
       "      <td>2.214412e+02</td>\n",
       "      <td>9.653000e+00</td>\n",
       "      <td>3.906000e+00</td>\n",
       "    </tr>\n",
       "    <tr>\n",
       "      <td>P95</td>\n",
       "      <td>6.120195e+04</td>\n",
       "      <td>2.063020e+05</td>\n",
       "      <td>8.683000e+01</td>\n",
       "      <td>2.239170e+02</td>\n",
       "      <td>1.092600e+01</td>\n",
       "      <td>4.021000e+00</td>\n",
       "    </tr>\n",
       "    <tr>\n",
       "      <td>P99</td>\n",
       "      <td>1.064796e+05</td>\n",
       "      <td>2.196220e+05</td>\n",
       "      <td>9.244000e+01</td>\n",
       "      <td>2.274430e+02</td>\n",
       "      <td>1.418000e+01</td>\n",
       "      <td>4.193000e+00</td>\n",
       "    </tr>\n",
       "    <tr>\n",
       "      <td>MAX</td>\n",
       "      <td>6.930994e+05</td>\n",
       "      <td>2.196220e+05</td>\n",
       "      <td>1.019500e+02</td>\n",
       "      <td>2.289765e+02</td>\n",
       "      <td>1.431300e+01</td>\n",
       "      <td>4.468000e+00</td>\n",
       "    </tr>\n",
       "  </tbody>\n",
       "</table>\n",
       "</div>"
      ],
      "text/plain": [
       "        Weekly_Sales          Size   Temperature           CPI  Unemployment  \\\n",
       "N       4.215700e+05  5.366340e+05  5.366340e+05  4.984720e+05  4.984720e+05   \n",
       "NMISS   1.150640e+05  0.000000e+00  0.000000e+00  3.816200e+04  3.816200e+04   \n",
       "SUM     6.737219e+09  7.334636e+10  3.153893e+07  8.578229e+07  3.884038e+06   \n",
       "MEAN    1.598126e+04  1.366786e+05  5.877176e+01  1.720905e+02  7.791888e+00   \n",
       "MEDIAN  7.612030e+03  1.401670e+05  6.006000e+01  1.824424e+02  7.795000e+00   \n",
       "STD     2.271118e+04  6.100771e+04  1.867872e+01  3.954215e+01  1.865076e+00   \n",
       "VAR     5.157979e+08  3.721941e+09  3.488944e+02  1.563582e+03  3.478508e+00   \n",
       "MIN    -4.988940e+03  3.487500e+04 -7.290000e+00  1.260640e+02  3.684000e+00   \n",
       "P1      5.000000e+00  3.487500e+04  1.687000e+01  1.261140e+02  4.077000e+00   \n",
       "P5      5.997450e+01  3.969000e+04  2.649000e+01  1.266019e+02  5.114000e+00   \n",
       "P10     2.910970e+02  3.991000e+04  3.276000e+01  1.290890e+02  5.667000e+00   \n",
       "P25     2.079650e+03  9.363800e+04  4.525000e+01  1.325219e+02  6.623000e+00   \n",
       "P50     7.612030e+03  1.401670e+05  6.006000e+01  1.824424e+02  7.795000e+00   \n",
       "P75     2.020585e+04  2.025050e+05  7.323000e+01  2.137481e+02  8.549000e+00   \n",
       "P90     4.284567e+04  2.041840e+05  8.284000e+01  2.214412e+02  9.653000e+00   \n",
       "P95     6.120195e+04  2.063020e+05  8.683000e+01  2.239170e+02  1.092600e+01   \n",
       "P99     1.064796e+05  2.196220e+05  9.244000e+01  2.274430e+02  1.418000e+01   \n",
       "MAX     6.930994e+05  2.196220e+05  1.019500e+02  2.289765e+02  1.431300e+01   \n",
       "\n",
       "          Fuel_Price  \n",
       "N       5.366340e+05  \n",
       "NMISS   0.000000e+00  \n",
       "SUM     1.829015e+06  \n",
       "MEAN    3.408310e+00  \n",
       "MEDIAN  3.523000e+00  \n",
       "STD     4.308613e-01  \n",
       "VAR     1.856414e-01  \n",
       "MIN     2.472000e+00  \n",
       "P1      2.572000e+00  \n",
       "P5      2.671000e+00  \n",
       "P10     2.759000e+00  \n",
       "P25     3.041000e+00  \n",
       "P50     3.523000e+00  \n",
       "P75     3.744000e+00  \n",
       "P90     3.906000e+00  \n",
       "P95     4.021000e+00  \n",
       "P99     4.193000e+00  \n",
       "MAX     4.468000e+00  "
      ]
     },
     "execution_count": 24,
     "metadata": {},
     "output_type": "execute_result"
    }
   ],
   "source": [
    "sales_cont.apply(continuous_var_summary)"
   ]
  },
  {
   "cell_type": "code",
   "execution_count": 25,
   "metadata": {
    "colab": {
     "base_uri": "https://localhost:8080/",
     "height": 204
    },
    "colab_type": "code",
    "id": "oBFRQwePhgce",
    "outputId": "29b52e49-93c8-4854-d7a7-6d7760458001"
   },
   "outputs": [
    {
     "data": {
      "text/html": [
       "<div>\n",
       "<style scoped>\n",
       "    .dataframe tbody tr th:only-of-type {\n",
       "        vertical-align: middle;\n",
       "    }\n",
       "\n",
       "    .dataframe tbody tr th {\n",
       "        vertical-align: top;\n",
       "    }\n",
       "\n",
       "    .dataframe thead th {\n",
       "        text-align: right;\n",
       "    }\n",
       "</style>\n",
       "<table border=\"1\" class=\"dataframe\">\n",
       "  <thead>\n",
       "    <tr style=\"text-align: right;\">\n",
       "      <th></th>\n",
       "      <th>Dept</th>\n",
       "      <th>Store</th>\n",
       "      <th>IsHoliday_x</th>\n",
       "      <th>Type</th>\n",
       "      <th>week_num</th>\n",
       "      <th>super_bowl</th>\n",
       "      <th>labor_day</th>\n",
       "      <th>thanksgiving</th>\n",
       "      <th>christmas</th>\n",
       "    </tr>\n",
       "  </thead>\n",
       "  <tbody>\n",
       "    <tr>\n",
       "      <td>N</td>\n",
       "      <td>536634.00</td>\n",
       "      <td>536634.00</td>\n",
       "      <td>536634</td>\n",
       "      <td>536634</td>\n",
       "      <td>536634.00</td>\n",
       "      <td>536634.00</td>\n",
       "      <td>536634.00</td>\n",
       "      <td>536634.00</td>\n",
       "      <td>536634.00</td>\n",
       "    </tr>\n",
       "    <tr>\n",
       "      <td>NMISS</td>\n",
       "      <td>0.00</td>\n",
       "      <td>0.00</td>\n",
       "      <td>0</td>\n",
       "      <td>0</td>\n",
       "      <td>0.00</td>\n",
       "      <td>0.00</td>\n",
       "      <td>0.00</td>\n",
       "      <td>0.00</td>\n",
       "      <td>0.00</td>\n",
       "    </tr>\n",
       "    <tr>\n",
       "      <td>MODE</td>\n",
       "      <td>1.00</td>\n",
       "      <td>13.00</td>\n",
       "      <td>False</td>\n",
       "      <td>A</td>\n",
       "      <td>7.00</td>\n",
       "      <td>0.00</td>\n",
       "      <td>0.00</td>\n",
       "      <td>0.00</td>\n",
       "      <td>0.00</td>\n",
       "    </tr>\n",
       "    <tr>\n",
       "      <td>FREQ</td>\n",
       "      <td>8190.00</td>\n",
       "      <td>13310.00</td>\n",
       "      <td>498045</td>\n",
       "      <td>274191</td>\n",
       "      <td>11913.00</td>\n",
       "      <td>527731.00</td>\n",
       "      <td>527773.00</td>\n",
       "      <td>527699.00</td>\n",
       "      <td>527700.00</td>\n",
       "    </tr>\n",
       "    <tr>\n",
       "      <td>PERCENT</td>\n",
       "      <td>1.53</td>\n",
       "      <td>2.48</td>\n",
       "      <td>92.81</td>\n",
       "      <td>51.09</td>\n",
       "      <td>2.22</td>\n",
       "      <td>98.34</td>\n",
       "      <td>98.35</td>\n",
       "      <td>98.33</td>\n",
       "      <td>98.34</td>\n",
       "    </tr>\n",
       "  </tbody>\n",
       "</table>\n",
       "</div>"
      ],
      "text/plain": [
       "              Dept      Store IsHoliday_x    Type   week_num  super_bowl  \\\n",
       "N        536634.00  536634.00      536634  536634  536634.00   536634.00   \n",
       "NMISS         0.00       0.00           0       0       0.00        0.00   \n",
       "MODE          1.00      13.00       False       A       7.00        0.00   \n",
       "FREQ       8190.00   13310.00      498045  274191   11913.00   527731.00   \n",
       "PERCENT       1.53       2.48       92.81   51.09       2.22       98.34   \n",
       "\n",
       "         labor_day  thanksgiving  christmas  \n",
       "N        536634.00     536634.00  536634.00  \n",
       "NMISS         0.00          0.00       0.00  \n",
       "MODE          0.00          0.00       0.00  \n",
       "FREQ     527773.00     527699.00  527700.00  \n",
       "PERCENT      98.35         98.33      98.34  "
      ]
     },
     "execution_count": 25,
     "metadata": {},
     "output_type": "execute_result"
    }
   ],
   "source": [
    "sales_cat.apply(categorical_var_summary)"
   ]
  },
  {
   "cell_type": "code",
   "execution_count": 26,
   "metadata": {
    "colab": {},
    "colab_type": "code",
    "id": "CH-kgLazhjIa"
   },
   "outputs": [],
   "source": [
    "sales_cont = sales_cont.apply(lambda x: x.clip(lower = x.dropna().quantile(0.01), upper = x.quantile(0.95)))"
   ]
  },
  {
   "cell_type": "code",
   "execution_count": 27,
   "metadata": {
    "colab": {},
    "colab_type": "code",
    "id": "WFwcfUN0hlJJ"
   },
   "outputs": [],
   "source": [
    "sales_cont = sales_cont.apply(missing_imputation)"
   ]
  },
  {
   "cell_type": "code",
   "execution_count": 28,
   "metadata": {
    "colab": {
     "base_uri": "https://localhost:8080/",
     "height": 238
    },
    "colab_type": "code",
    "id": "H83XtyQLhm3S",
    "outputId": "7effbfa2-7cd6-4856-960b-d8334e4f269f"
   },
   "outputs": [
    {
     "name": "stdout",
     "output_type": "stream",
     "text": [
      "<class 'pandas.core.frame.DataFrame'>\n",
      "Int64Index: 536634 entries, 0 to 536633\n",
      "Data columns (total 6 columns):\n",
      "Weekly_Sales    536634 non-null float64\n",
      "Size            536634 non-null int64\n",
      "Temperature     536634 non-null float64\n",
      "CPI             536634 non-null float64\n",
      "Unemployment    536634 non-null float64\n",
      "Fuel_Price      536634 non-null float64\n",
      "dtypes: float64(5), int64(1)\n",
      "memory usage: 28.7 MB\n"
     ]
    }
   ],
   "source": [
    "sales_cont.info()"
   ]
  },
  {
   "cell_type": "code",
   "execution_count": 29,
   "metadata": {
    "colab": {
     "base_uri": "https://localhost:8080/",
     "height": 593
    },
    "colab_type": "code",
    "id": "6-eD8DZXhpBY",
    "outputId": "6d2c22eb-db0b-41ea-bca0-013ffd4c3612"
   },
   "outputs": [
    {
     "data": {
      "image/png": "[encoded data removed]",
      "text/plain": [
       "<Figure size 720x720 with 2 Axes>"
      ]
     },
     "metadata": {
      "needs_background": "light"
     },
     "output_type": "display_data"
    }
   ],
   "source": [
    "import seaborn as sns\n",
    "plt.figure(figsize = (10,10))\n",
    "sns.heatmap(sales_cont.corr())\n",
    "plt.show()"
   ]
  },
  {
   "cell_type": "code",
   "execution_count": 30,
   "metadata": {
    "colab": {
     "base_uri": "https://localhost:8080/",
     "height": 139
    },
    "colab_type": "code",
    "id": "Ew8p3Isohsaw",
    "outputId": "02ae2275-be97-4a07-85c1-239a73475e27"
   },
   "outputs": [
    {
     "name": "stderr",
     "output_type": "stream",
     "text": [
      "C:\\ProgramData\\Anaconda3\\lib\\site-packages\\ipykernel_launcher.py:3: SettingWithCopyWarning: \n",
      "A value is trying to be set on a copy of a slice from a DataFrame.\n",
      "Try using .loc[row_indexer,col_indexer] = value instead\n",
      "\n",
      "See the caveats in the documentation: http://pandas.pydata.org/pandas-docs/stable/user_guide/indexing.html#returning-a-view-versus-a-copy\n",
      "  This is separate from the ipykernel package so we can avoid doing imports until\n"
     ]
    }
   ],
   "source": [
    "# for c_feature in categorical_features\n",
    "for c_feature in list(sales_cat.columns):\n",
    "    sales_cat[c_feature] = sales_cat[c_feature].astype('category')\n",
    "    sales_cat = create_dummies(sales_cat, c_feature)"
   ]
  },
  {
   "cell_type": "code",
   "execution_count": 31,
   "metadata": {
    "colab": {
     "base_uri": "https://localhost:8080/",
     "height": 102
    },
    "colab_type": "code",
    "id": "vslS3tEyhvgf",
    "outputId": "7bd66f91-1553-4615-9800-f6ea687c77e0"
   },
   "outputs": [
    {
     "name": "stdout",
     "output_type": "stream",
     "text": [
      "<class 'pandas.core.frame.DataFrame'>\n",
      "Int64Index: 536634 entries, 0 to 536633\n",
      "Columns: 182 entries, Dept_2 to christmas_1\n",
      "dtypes: uint8(182)\n",
      "memory usage: 97.2 MB\n"
     ]
    }
   ],
   "source": [
    "sales_cat.info()"
   ]
  },
  {
   "cell_type": "code",
   "execution_count": 32,
   "metadata": {
    "colab": {
     "base_uri": "https://localhost:8080/",
     "height": 102
    },
    "colab_type": "code",
    "id": "eQotST0u3wSS",
    "outputId": "29cfc899-15f2-4d11-89d8-a7447e6c06ca"
   },
   "outputs": [
    {
     "name": "stdout",
     "output_type": "stream",
     "text": [
      "<class 'pandas.core.frame.DataFrame'>\n",
      "Int64Index: 536634 entries, 0 to 536633\n",
      "Columns: 182 entries, Dept_2 to christmas_1\n",
      "dtypes: uint8(182)\n",
      "memory usage: 97.2 MB\n"
     ]
    }
   ],
   "source": [
    "sales_cat.info()"
   ]
  },
  {
   "cell_type": "code",
   "execution_count": 33,
   "metadata": {
    "colab": {},
    "colab_type": "code",
    "id": "W2m-THA-hydm"
   },
   "outputs": [],
   "source": [
    "sales_new=pd.concat([sales_cont,sales_cat], axis = 1)"
   ]
  },
  {
   "cell_type": "code",
   "execution_count": 34,
   "metadata": {
    "colab": {
     "base_uri": "https://localhost:8080/",
     "height": 622
    },
    "colab_type": "code",
    "id": "qEsZZgz24fCm",
    "outputId": "d1da8f46-97bb-4f0a-cada-2aa9711eb649"
   },
   "outputs": [
    {
     "data": {
      "text/plain": [
       "1.6729055068808758"
      ]
     },
     "execution_count": 34,
     "metadata": {},
     "output_type": "execute_result"
    },
    {
     "data": {
      "image/png": "[encoded data removed]",
      "text/plain": [
       "<Figure size 720x720 with 1 Axes>"
      ]
     },
     "metadata": {
      "needs_background": "light"
     },
     "output_type": "display_data"
    }
   ],
   "source": [
    "plt.figure(figsize= (10,10))\n",
    "sns.distplot(sales_new['Weekly_Sales'])\n",
    "sales_new['Weekly_Sales'].skew()"
   ]
  },
  {
   "cell_type": "code",
   "execution_count": 35,
   "metadata": {
    "colab": {
     "base_uri": "https://localhost:8080/",
     "height": 623
    },
    "colab_type": "code",
    "id": "pXjKAveL5Ppo",
    "outputId": "b537cb8e-1234-4973-d781-0fe65c925cc0"
   },
   "outputs": [
    {
     "data": {
      "text/plain": [
       "-1.640348487213313"
      ]
     },
     "execution_count": 35,
     "metadata": {},
     "output_type": "execute_result"
    },
    {
     "data": {
      "image/png": "[encoded data removed]",
      "text/plain": [
       "<Figure size 720x720 with 1 Axes>"
      ]
     },
     "metadata": {
      "needs_background": "light"
     },
     "output_type": "display_data"
    }
   ],
   "source": [
    "plt.figure(figsize= (10,10))\n",
    "sns.distplot(np.log(sales_new['Weekly_Sales']))\n",
    "np.log(sales_new['Weekly_Sales']).skew()"
   ]
  },
  {
   "cell_type": "code",
   "execution_count": 57,
   "metadata": {
    "colab": {
     "base_uri": "https://localhost:8080/",
     "height": 279
    },
    "colab_type": "code",
    "id": "wXg3rETX6MVS",
    "outputId": "8283751c-fe11-49ff-e9e8-5cf28ef679a5"
   },
   "outputs": [
    {
     "data": {
      "text/plain": [
       "-0.14113856826232904"
      ]
     },
     "execution_count": 57,
     "metadata": {},
     "output_type": "execute_result"
    },
    {
     "data": {
      "image/png": "[encoded data removed]",
      "text/plain": [
       "<Figure size 432x288 with 1 Axes>"
      ]
     },
     "metadata": {
      "needs_background": "light"
     },
     "output_type": "display_data"
    }
   ],
   "source": [
    "from scipy import stats\n",
    "box_tran,box_lambda=stats.boxcox(sales_new['Weekly_Sales'])\n",
    "sns.distplot(pd.Series(box_tran))\n",
    "pd.Series(box_tran).skew()"
   ]
  },
  {
   "cell_type": "code",
   "execution_count": 76,
   "metadata": {
    "colab": {},
    "colab_type": "code",
    "id": "rNR5T7Vg7C0u"
   },
   "outputs": [],
   "source": [
    "#sales_new['Weekly_Sales_box']=pd.Series(box_tran)\n",
    "sales_new['Weekly_Sales_box']=np.log(sales_new['Weekly_Sales'])"
   ]
  },
  {
   "cell_type": "code",
   "execution_count": 38,
   "metadata": {
    "colab": {},
    "colab_type": "code",
    "id": "UhuhIEvW-TF_"
   },
   "outputs": [],
   "source": [
    "feature_col=sales_new.loc[:,sales_new.columns.difference(['Weekly_Sales','Weekly_Sales_box'])]\n",
    "target=sales_new['Weekly_Sales_box']"
   ]
  },
  {
   "cell_type": "markdown",
   "metadata": {
    "colab_type": "text",
    "id": "1qXi5bmI-oTR"
   },
   "source": [
    "**F_ Regression for significant variables**"
   ]
  },
  {
   "cell_type": "code",
   "execution_count": 40,
   "metadata": {
    "colab": {},
    "colab_type": "code",
    "id": "LlsxD3oG7PCe"
   },
   "outputs": [],
   "source": [
    "from sklearn.feature_selection import f_regression\n",
    "F_values, p_values  = f_regression(feature_col, target )"
   ]
  },
  {
   "cell_type": "code",
   "execution_count": 42,
   "metadata": {},
   "outputs": [],
   "source": [
    "f_reg_results = pd.DataFrame(zip(list(feature_col.columns),F_values.round(3), p_values.round(3)),columns=['Variable','F_Value', 'P_Value'])"
   ]
  },
  {
   "cell_type": "code",
   "execution_count": 45,
   "metadata": {
    "colab": {},
    "colab_type": "code",
    "id": "PXWHXnyj7PG6"
   },
   "outputs": [],
   "source": [
    "f_reg_results['Var_Sig']=np.where(f_reg_results.P_Value <= 0.1 , 'Sig', 'Insig')\n",
    "l_feature=list(f_reg_results.Variable[f_reg_results['Var_Sig'] ==  'Sig'])"
   ]
  },
  {
   "cell_type": "code",
   "execution_count": 47,
   "metadata": {
    "colab": {},
    "colab_type": "code",
    "id": "bSKYWxCJA2Wd"
   },
   "outputs": [],
   "source": [
    "model_param='Weekly_Sales_box ~ ' + ' + '.join(l_feature)"
   ]
  },
  {
   "cell_type": "code",
   "execution_count": 48,
   "metadata": {},
   "outputs": [
    {
     "data": {
      "text/plain": [
       "'Weekly_Sales_box ~ CPI + Dept_10 + Dept_11 + Dept_12 + Dept_13 + Dept_14 + Dept_16 + Dept_17 + Dept_18 + Dept_19 + Dept_2 + Dept_20 + Dept_21 + Dept_22 + Dept_23 + Dept_24 + Dept_25 + Dept_26 + Dept_27 + Dept_28 + Dept_29 + Dept_30 + Dept_31 + Dept_32 + Dept_33 + Dept_34 + Dept_35 + Dept_36 + Dept_37 + Dept_38 + Dept_39 + Dept_4 + Dept_40 + Dept_41 + Dept_42 + Dept_43 + Dept_44 + Dept_45 + Dept_46 + Dept_47 + Dept_48 + Dept_49 + Dept_5 + Dept_50 + Dept_51 + Dept_52 + Dept_54 + Dept_55 + Dept_56 + Dept_58 + Dept_59 + Dept_6 + Dept_60 + Dept_65 + Dept_67 + Dept_7 + Dept_71 + Dept_72 + Dept_74 + Dept_77 + Dept_78 + Dept_79 + Dept_8 + Dept_80 + Dept_81 + Dept_82 + Dept_83 + Dept_85 + Dept_87 + Dept_9 + Dept_90 + Dept_91 + Dept_92 + Dept_93 + Dept_94 + Dept_95 + Dept_96 + Dept_97 + Dept_98 + Dept_99 + Fuel_Price + IsHoliday_x_True + Size + Store_10 + Store_11 + Store_12 + Store_13 + Store_14 + Store_15 + Store_16 + Store_17 + Store_18 + Store_19 + Store_2 + Store_20 + Store_21 + Store_22 + Store_23 + Store_24 + Store_25 + Store_27 + Store_28 + Store_29 + Store_3 + Store_30 + Store_31 + Store_32 + Store_33 + Store_34 + Store_36 + Store_37 + Store_38 + Store_39 + Store_4 + Store_40 + Store_41 + Store_42 + Store_43 + Store_44 + Store_45 + Store_5 + Store_6 + Store_7 + Store_9 + Temperature + Type_B + Type_C + Unemployment + christmas_1 + labor_day_1 + super_bowl_1 + thanksgiving_1 + week_num_13 + week_num_14 + week_num_18 + week_num_2 + week_num_21 + week_num_22 + week_num_23 + week_num_24 + week_num_25 + week_num_26 + week_num_27 + week_num_3 + week_num_31 + week_num_32 + week_num_33 + week_num_34 + week_num_35 + week_num_36 + week_num_37 + week_num_38 + week_num_39 + week_num_4 + week_num_40 + week_num_41 + week_num_42 + week_num_43 + week_num_44 + week_num_45 + week_num_46 + week_num_47 + week_num_48 + week_num_49 + week_num_50 + week_num_51 + week_num_52 + week_num_6 + week_num_7'"
      ]
     },
     "execution_count": 48,
     "metadata": {},
     "output_type": "execute_result"
    }
   ],
   "source": [
    "model_param"
   ]
  },
  {
   "cell_type": "code",
   "execution_count": 49,
   "metadata": {
    "colab": {},
    "colab_type": "code",
    "id": "KqU7InkaA2Ul"
   },
   "outputs": [],
   "source": [
    "from statsmodels.stats.outliers_influence import variance_inflation_factor\n",
    "from patsy import dmatrices"
   ]
  },
  {
   "cell_type": "code",
   "execution_count": 46,
   "metadata": {},
   "outputs": [],
   "source": [
    "model_param='''Weekly_Sales_box ~ CPI + Dept_10 + Dept_11 + Dept_12 + Dept_13 + Dept_14 + Dept_16 + \n",
    "Dept_17 + Dept_18 + Dept_19 + Dept_2 + Dept_20 + Dept_21 + Dept_22 + Dept_23 + Dept_24 + Dept_25 + \n",
    "Dept_26 + Dept_27 + Dept_28 + Dept_29 + Dept_30 + Dept_31 + Dept_32 + Dept_33 + Dept_34 + Dept_35 + \n",
    "Dept_36 + Dept_37 + Dept_38 + Dept_39 + Dept_4 + Dept_40 + Dept_41 + Dept_42 + Dept_43 + Dept_44 + \n",
    "Dept_45 + Dept_46 + Dept_47 + Dept_48 + Dept_49 + Dept_5 + Dept_50 + Dept_51 + Dept_52 + Dept_54 + \n",
    "Dept_55 + Dept_56 + Dept_58 + Dept_59 + Dept_6 + Dept_60 + Dept_65 + Dept_67 + Dept_7 + Dept_71 + \n",
    "Dept_72 + Dept_74 + Dept_77 + Dept_78 + Dept_79 + Dept_8 + Dept_80 + Dept_81 + Dept_82 + Dept_83 + \n",
    "Dept_85 + Dept_87 + Dept_9 + Dept_90 + Dept_91 + Dept_92 + Dept_93 + Dept_94 + Dept_95 + Dept_96 + \n",
    "Dept_97 + Dept_98 + Dept_99 + Fuel_Price  + Size + Store_10 + Store_11 + Store_12 + \n",
    "Store_13 + Store_14 + Store_15 + Store_16 + Store_17 + Store_18 + Store_19 + Store_2 + Store_20 + Store_21 + \n",
    "Store_22 + Store_23 + Store_24 + Store_25 + Store_27 + Store_28 + Store_29 + Store_3 + Store_31 + \n",
    "Store_32 + Store_33 + Store_34 + Store_36 + Store_37 + Store_38 + Store_39 + Store_4 + Store_40 + Store_41 + \n",
    "Store_42 + Store_43 + Store_44 + Store_45 + Store_5 + Store_6 + Store_7 + Store_9 + Temperature   + \n",
    "Unemployment + super_bowl_1  + week_num_13 + week_num_14 + week_num_18 + \n",
    "week_num_2 + week_num_21 + week_num_22 + week_num_23 + week_num_24 + week_num_25 + week_num_26 + week_num_27 + week_num_3 + \n",
    "week_num_31 + week_num_32 + week_num_33 + week_num_34 + week_num_35   + week_num_39 + \n",
    "week_num_4 + week_num_40  + week_num_44 + week_num_45 + week_num_46  + \n",
    "week_num_48 + week_num_49 + week_num_50 + week_num_51 + week_num_7'''"
   ]
  },
  {
   "cell_type": "code",
   "execution_count": 68,
   "metadata": {
    "colab": {},
    "colab_type": "code",
    "id": "fRThGbeKBfY4"
   },
   "outputs": [],
   "source": [
    "\n",
    "# separate the Y and X variables\n",
    "y, X = dmatrices(model_param,sales_new, return_type = 'dataframe')"
   ]
  },
  {
   "cell_type": "code",
   "execution_count": 69,
   "metadata": {
    "colab": {},
    "colab_type": "code",
    "id": "DFXHCKIMBfmK"
   },
   "outputs": [
    {
     "data": {
      "text/html": [
       "<div>\n",
       "<style scoped>\n",
       "    .dataframe tbody tr th:only-of-type {\n",
       "        vertical-align: middle;\n",
       "    }\n",
       "\n",
       "    .dataframe tbody tr th {\n",
       "        vertical-align: top;\n",
       "    }\n",
       "\n",
       "    .dataframe thead th {\n",
       "        text-align: right;\n",
       "    }\n",
       "</style>\n",
       "<table border=\"1\" class=\"dataframe\">\n",
       "  <thead>\n",
       "    <tr style=\"text-align: right;\">\n",
       "      <th></th>\n",
       "      <th>Features</th>\n",
       "      <th>VIF Factor</th>\n",
       "    </tr>\n",
       "  </thead>\n",
       "  <tbody>\n",
       "    <tr>\n",
       "      <td>0</td>\n",
       "      <td>Intercept</td>\n",
       "      <td>883.0</td>\n",
       "    </tr>\n",
       "    <tr>\n",
       "      <td>1</td>\n",
       "      <td>CPI</td>\n",
       "      <td>8.4</td>\n",
       "    </tr>\n",
       "    <tr>\n",
       "      <td>2</td>\n",
       "      <td>Dept_10</td>\n",
       "      <td>1.5</td>\n",
       "    </tr>\n",
       "    <tr>\n",
       "      <td>3</td>\n",
       "      <td>Dept_11</td>\n",
       "      <td>1.5</td>\n",
       "    </tr>\n",
       "    <tr>\n",
       "      <td>4</td>\n",
       "      <td>Dept_12</td>\n",
       "      <td>1.5</td>\n",
       "    </tr>\n",
       "    <tr>\n",
       "      <td>...</td>\n",
       "      <td>...</td>\n",
       "      <td>...</td>\n",
       "    </tr>\n",
       "    <tr>\n",
       "      <td>150</td>\n",
       "      <td>week_num_48</td>\n",
       "      <td>1.0</td>\n",
       "    </tr>\n",
       "    <tr>\n",
       "      <td>151</td>\n",
       "      <td>week_num_49</td>\n",
       "      <td>1.1</td>\n",
       "    </tr>\n",
       "    <tr>\n",
       "      <td>152</td>\n",
       "      <td>week_num_50</td>\n",
       "      <td>1.1</td>\n",
       "    </tr>\n",
       "    <tr>\n",
       "      <td>153</td>\n",
       "      <td>week_num_51</td>\n",
       "      <td>1.1</td>\n",
       "    </tr>\n",
       "    <tr>\n",
       "      <td>154</td>\n",
       "      <td>week_num_7</td>\n",
       "      <td>1.1</td>\n",
       "    </tr>\n",
       "  </tbody>\n",
       "</table>\n",
       "<p>155 rows × 2 columns</p>\n",
       "</div>"
      ],
      "text/plain": [
       "        Features  VIF Factor\n",
       "0      Intercept       883.0\n",
       "1            CPI         8.4\n",
       "2        Dept_10         1.5\n",
       "3        Dept_11         1.5\n",
       "4        Dept_12         1.5\n",
       "..           ...         ...\n",
       "150  week_num_48         1.0\n",
       "151  week_num_49         1.1\n",
       "152  week_num_50         1.1\n",
       "153  week_num_51         1.1\n",
       "154   week_num_7         1.1\n",
       "\n",
       "[155 rows x 2 columns]"
      ]
     },
     "execution_count": 69,
     "metadata": {},
     "output_type": "execute_result"
    }
   ],
   "source": [
    "# For each X, calculate VIF and save in dataframe\n",
    "vif = pd.DataFrame()\n",
    "vif['Features'] = X.columns\n",
    "vif['VIF Factor'] = [variance_inflation_factor(X.values, i) for i in range(X.shape[1])]\n",
    "\n",
    "# display the output\n",
    "vif.round(1)"
   ]
  },
  {
   "cell_type": "code",
   "execution_count": 71,
   "metadata": {},
   "outputs": [],
   "source": [
    "vif.to_excel('F:/analytix_labs/2. Walmart Store Sales Forecasting/vif.xlsx')"
   ]
  },
  {
   "cell_type": "markdown",
   "metadata": {},
   "source": [
    "### Implemeting Linear Regression Stats model"
   ]
  },
  {
   "cell_type": "code",
   "execution_count": 77,
   "metadata": {},
   "outputs": [],
   "source": [
    "### Train test spilt\n",
    "### using statsmodels.formula.api\n",
    "import statsmodels.formula.api as smf\n",
    "from sklearn.model_selection import train_test_split\n",
    "from sklearn.linear_model import LinearRegression\n",
    "from sklearn.metrics import mean_absolute_error, mean_squared_error, r2_score\n",
    "import statsmodels.api as sm\n",
    "import statsmodels.formula.api as smf\n",
    "train, test = train_test_split(sales_new, test_size = 0.3, random_state = 1234)"
   ]
  },
  {
   "cell_type": "code",
   "execution_count": 78,
   "metadata": {},
   "outputs": [],
   "source": [
    "lm1 = smf.ols(model_param, train).fit()"
   ]
  },
  {
   "cell_type": "code",
   "execution_count": 79,
   "metadata": {},
   "outputs": [
    {
     "name": "stdout",
     "output_type": "stream",
     "text": [
      "                            OLS Regression Results                            \n",
      "==============================================================================\n",
      "Dep. Variable:       Weekly_Sales_box   R-squared:                       0.526\n",
      "Model:                            OLS   Adj. R-squared:                  0.526\n",
      "Method:                 Least Squares   F-statistic:                     2726.\n",
      "Date:                Tue, 02 Jun 2020   Prob (F-statistic):               0.00\n",
      "Time:                        17:26:07   Log-Likelihood:            -6.2377e+05\n",
      "No. Observations:              375643   AIC:                         1.248e+06\n",
      "Df Residuals:                  375489   BIC:                         1.250e+06\n",
      "Df Model:                         153                                         \n",
      "Covariance Type:            nonrobust                                         \n",
      "================================================================================\n",
      "                   coef    std err          t      P>|t|      [0.025      0.975]\n",
      "--------------------------------------------------------------------------------\n",
      "Intercept        9.7617      0.060    163.853      0.000       9.645       9.879\n",
      "CPI             -0.0030      0.000    -20.540      0.000      -0.003      -0.003\n",
      "Dept_10         -0.0879      0.021     -4.259      0.000      -0.128      -0.047\n",
      "Dept_11         -0.1099      0.021     -5.352      0.000      -0.150      -0.070\n",
      "Dept_12         -1.2072      0.021    -58.468      0.000      -1.248      -1.167\n",
      "Dept_13          0.7524      0.021     36.672      0.000       0.712       0.793\n",
      "Dept_14         -0.0225      0.021     -1.089      0.276      -0.063       0.018\n",
      "Dept_16         -0.2950      0.021    -14.282      0.000      -0.335      -0.255\n",
      "Dept_17         -0.4221      0.021    -20.492      0.000      -0.462      -0.382\n",
      "Dept_18         -2.1722      0.022    -97.361      0.000      -2.216      -2.129\n",
      "Dept_19         -2.3540      0.024    -97.322      0.000      -2.401      -2.307\n",
      "Dept_2           0.9639      0.021     46.862      0.000       0.924       1.004\n",
      "Dept_20         -1.0479      0.021    -49.770      0.000      -1.089      -1.007\n",
      "Dept_21         -0.7755      0.021    -37.780      0.000      -0.816      -0.735\n",
      "Dept_22         -0.4274      0.022    -19.779      0.000      -0.470      -0.385\n",
      "Dept_23          0.0225      0.021      1.049      0.294      -0.020       0.064\n",
      "Dept_24         -0.8459      0.022    -38.708      0.000      -0.889      -0.803\n",
      "Dept_25         -0.7619      0.021    -36.775      0.000      -0.803      -0.721\n",
      "Dept_26         -0.7269      0.021    -34.153      0.000      -0.769      -0.685\n",
      "Dept_27         -1.9630      0.022    -90.630      0.000      -2.005      -1.921\n",
      "Dept_28         -2.5363      0.021   -121.416      0.000      -2.577      -2.495\n",
      "Dept_29         -0.8905      0.022    -40.573      0.000      -0.934      -0.847\n",
      "Dept_30         -1.1298      0.022    -51.061      0.000      -1.173      -1.086\n",
      "Dept_31         -1.7116      0.021    -81.374      0.000      -1.753      -1.670\n",
      "Dept_32         -0.8978      0.021    -42.553      0.000      -0.939      -0.856\n",
      "Dept_33         -0.8170      0.022    -37.357      0.000      -0.860      -0.774\n",
      "Dept_34         -0.0877      0.022     -3.987      0.000      -0.131      -0.045\n",
      "Dept_35         -1.4060      0.022    -64.050      0.000      -1.449      -1.363\n",
      "Dept_36         -1.8450      0.022    -83.558      0.000      -1.888      -1.802\n",
      "Dept_37         -1.4623      0.029    -50.321      0.000      -1.519      -1.405\n",
      "Dept_38          1.2726      0.021     61.961      0.000       1.232       1.313\n",
      "Dept_39         -2.5185      0.213    -11.831      0.000      -2.936      -2.101\n",
      "Dept_4           0.6447      0.021     31.255      0.000       0.604       0.685\n",
      "Dept_40          1.0376      0.021     50.421      0.000       0.997       1.078\n",
      "Dept_41         -2.0373      0.022    -93.093      0.000      -2.080      -1.994\n",
      "Dept_42         -0.9936      0.021    -48.180      0.000      -1.034      -0.953\n",
      "Dept_43         -6.2298      0.341    -18.288      0.000      -6.897      -5.562\n",
      "Dept_44         -1.0606      0.022    -48.468      0.000      -1.103      -1.018\n",
      "Dept_45         -6.2005      0.035   -176.224      0.000      -6.269      -6.132\n",
      "Dept_46          0.3494      0.021     17.015      0.000       0.309       0.390\n",
      "Dept_47         -5.4644      0.057    -96.021      0.000      -5.576      -5.353\n",
      "Dept_48         -2.2870      0.034    -67.627      0.000      -2.353      -2.221\n",
      "Dept_49         -1.2893      0.023    -55.944      0.000      -1.334      -1.244\n",
      "Dept_5           0.0438      0.021      2.119      0.034       0.003       0.084\n",
      "Dept_50         -1.7435      0.037    -47.749      0.000      -1.815      -1.672\n",
      "Dept_51         -6.8160      0.042   -160.975      0.000      -6.899      -6.733\n",
      "Dept_52         -1.9028      0.021    -91.508      0.000      -1.944      -1.862\n",
      "Dept_54         -4.6082      0.023   -197.612      0.000      -4.654      -4.562\n",
      "Dept_55         -0.5011      0.022    -23.252      0.000      -0.543      -0.459\n",
      "Dept_56         -1.7195      0.021    -80.673      0.000      -1.761      -1.678\n",
      "Dept_58         -1.5066      0.024    -63.985      0.000      -1.553      -1.460\n",
      "Dept_59         -2.9574      0.021   -140.216      0.000      -2.999      -2.916\n",
      "Dept_6          -1.2635      0.021    -59.715      0.000      -1.305      -1.222\n",
      "Dept_60         -2.8441      0.021   -133.948      0.000      -2.886      -2.802\n",
      "Dept_65          0.9928      0.113      8.810      0.000       0.772       1.214\n",
      "Dept_67         -0.5080      0.021    -24.717      0.000      -0.548      -0.468\n",
      "Dept_7           0.0851      0.021      4.131      0.000       0.045       0.125\n",
      "Dept_71         -0.9265      0.022    -41.943      0.000      -0.970      -0.883\n",
      "Dept_72          0.4437      0.021     21.138      0.000       0.403       0.485\n",
      "Dept_74         -0.2217      0.021    -10.806      0.000      -0.262      -0.181\n",
      "Dept_77         -4.5691      0.114    -40.034      0.000      -4.793      -4.345\n",
      "Dept_78         -7.3646      0.098    -74.824      0.000      -7.558      -7.172\n",
      "Dept_79          0.4470      0.021     21.715      0.000       0.407       0.487\n",
      "Dept_8           0.6941      0.021     33.676      0.000       0.654       0.734\n",
      "Dept_80         -0.8668      0.021    -40.972      0.000      -0.908      -0.825\n",
      "Dept_81          0.1744      0.021      8.438      0.000       0.134       0.215\n",
      "Dept_82          0.1964      0.021      9.528      0.000       0.156       0.237\n",
      "Dept_83         -1.2655      0.021    -60.092      0.000      -1.307      -1.224\n",
      "Dept_85         -1.6289      0.021    -77.900      0.000      -1.670      -1.588\n",
      "Dept_87         -0.3088      0.021    -14.918      0.000      -0.349      -0.268\n",
      "Dept_9          -0.1986      0.021     -9.621      0.000      -0.239      -0.158\n",
      "Dept_90          0.7837      0.021     38.083      0.000       0.743       0.824\n",
      "Dept_91          0.4970      0.021     24.135      0.000       0.457       0.537\n",
      "Dept_92          1.1491      0.021     55.757      0.000       1.109       1.190\n",
      "Dept_93          0.0897      0.021      4.263      0.000       0.048       0.131\n",
      "Dept_94         -0.2073      0.021     -9.644      0.000      -0.249      -0.165\n",
      "Dept_95          1.2192      0.021     59.194      0.000       1.179       1.260\n",
      "Dept_96         -0.0387      0.023     -1.700      0.089      -0.083       0.006\n",
      "Dept_97         -0.0654      0.021     -3.152      0.002      -0.106      -0.025\n",
      "Dept_98         -1.2120      0.021    -57.076      0.000      -1.254      -1.170\n",
      "Dept_99         -3.3718      0.041    -81.329      0.000      -3.453      -3.291\n",
      "Fuel_Price       0.0626      0.006     10.788      0.000       0.051       0.074\n",
      "Size          1.284e-05   1.58e-07     81.140      0.000    1.25e-05    1.32e-05\n",
      "Store_10         0.6753      0.017     40.543      0.000       0.643       0.708\n",
      "Store_11        -0.3863      0.020    -19.031      0.000      -0.426      -0.347\n",
      "Store_12         0.8655      0.018     47.007      0.000       0.829       0.902\n",
      "Store_13        -0.5323      0.020    -26.024      0.000      -0.572      -0.492\n",
      "Store_14         0.0163      0.020      0.821      0.412      -0.023       0.055\n",
      "Store_15        -0.1760      0.016    -10.885      0.000      -0.208      -0.144\n",
      "Store_16         0.3055      0.020     15.607      0.000       0.267       0.344\n",
      "Store_17         0.1120      0.019      5.974      0.000       0.075       0.149\n",
      "Store_18         0.4516      0.016     27.898      0.000       0.420       0.483\n",
      "Store_19        -0.4917      0.020    -24.561      0.000      -0.531      -0.452\n",
      "Store_2         -0.1194      0.020     -6.043      0.000      -0.158      -0.081\n",
      "Store_20        -0.1582      0.020     -8.037      0.000      -0.197      -0.120\n",
      "Store_21        -0.0053      0.016     -0.336      0.737      -0.037       0.026\n",
      "Store_22         0.2944      0.016     18.292      0.000       0.263       0.326\n",
      "Store_23        -0.0462      0.020     -2.355      0.019      -0.085      -0.008\n",
      "Store_24        -0.5312      0.020    -26.324      0.000      -0.571      -0.492\n",
      "Store_25        -0.0338      0.016     -2.171      0.030      -0.064      -0.003\n",
      "Store_27        -0.3738      0.020    -18.754      0.000      -0.413      -0.335\n",
      "Store_28        -0.0409      0.023     -1.790      0.073      -0.086       0.004\n",
      "Store_29         0.4285      0.018     24.392      0.000       0.394       0.463\n",
      "Store_3          0.5821      0.021     27.441      0.000       0.541       0.624\n",
      "Store_31        -0.5350      0.020    -26.805      0.000      -0.574      -0.496\n",
      "Store_32        -0.4266      0.020    -21.504      0.000      -0.465      -0.388\n",
      "Store_33        -0.6159      0.024    -25.700      0.000      -0.663      -0.569\n",
      "Store_34         0.0190      0.018      1.077      0.281      -0.016       0.054\n",
      "Store_36        -0.1599      0.023     -6.989      0.000      -0.205      -0.115\n",
      "Store_37         0.1727      0.022      7.898      0.000       0.130       0.216\n",
      "Store_38         0.0936      0.024      3.973      0.000       0.047       0.140\n",
      "Store_39        -0.0785      0.018     -4.266      0.000      -0.115      -0.042\n",
      "Store_4         -0.6969      0.022    -32.367      0.000      -0.739      -0.655\n",
      "Store_40        -0.9452      0.019    -48.741      0.000      -0.983      -0.907\n",
      "Store_41        -0.5988      0.019    -32.335      0.000      -0.635      -0.562\n",
      "Store_42        -0.0288      0.023     -1.227      0.220      -0.075       0.017\n",
      "Store_43         0.5141      0.023     22.427      0.000       0.469       0.559\n",
      "Store_44        -0.8536      0.024    -35.044      0.000      -0.901      -0.806\n",
      "Store_45         0.3828      0.016     24.418      0.000       0.352       0.414\n",
      "Store_5          0.3664      0.022     16.741      0.000       0.323       0.409\n",
      "Store_6         -0.3546      0.020    -18.087      0.000      -0.393      -0.316\n",
      "Store_7          0.5837      0.018     32.128      0.000       0.548       0.619\n",
      "Store_9         -0.4000      0.016    -24.264      0.000      -0.432      -0.368\n",
      "Temperature     -0.0035      0.000    -17.689      0.000      -0.004      -0.003\n",
      "Unemployment    -0.2095      0.003    -63.314      0.000      -0.216      -0.203\n",
      "super_bowl_1     0.0725      0.017      4.292      0.000       0.039       0.106\n",
      "week_num_13      0.0291      0.014      2.019      0.043       0.001       0.057\n",
      "week_num_14      0.0876      0.014      6.092      0.000       0.059       0.116\n",
      "week_num_18      0.0958      0.014      6.689      0.000       0.068       0.124\n",
      "week_num_2      -0.1003      0.017     -5.920      0.000      -0.134      -0.067\n",
      "week_num_21      0.1163      0.015      7.954      0.000       0.088       0.145\n",
      "week_num_22      0.1611      0.015     10.965      0.000       0.132       0.190\n",
      "week_num_23      0.1514      0.015     10.271      0.000       0.123       0.180\n",
      "week_num_24      0.1607      0.015     10.858      0.000       0.132       0.190\n",
      "week_num_25      0.1419      0.015      9.569      0.000       0.113       0.171\n",
      "week_num_26      0.1422      0.015      9.494      0.000       0.113       0.172\n",
      "week_num_27      0.1620      0.015     10.741      0.000       0.132       0.192\n",
      "week_num_3      -0.0725      0.017     -4.296      0.000      -0.106      -0.039\n",
      "week_num_31     -0.1016      0.017     -5.953      0.000      -0.135      -0.068\n",
      "week_num_32     -0.1365      0.017     -7.984      0.000      -0.170      -0.103\n",
      "week_num_33     -0.1449      0.017     -8.520      0.000      -0.178      -0.112\n",
      "week_num_34     -0.1440      0.017     -8.482      0.000      -0.177      -0.111\n",
      "week_num_35     -0.1667      0.017     -9.857      0.000      -0.200      -0.134\n",
      "week_num_39     -0.1905      0.017    -11.343      0.000      -0.223      -0.158\n",
      "week_num_4      -0.0767      0.017     -4.533      0.000      -0.110      -0.044\n",
      "week_num_40     -0.1683      0.016    -10.240      0.000      -0.200      -0.136\n",
      "week_num_44      0.1653      0.017      9.996      0.000       0.133       0.198\n",
      "week_num_45      0.1709      0.017     10.353      0.000       0.139       0.203\n",
      "week_num_46      0.1366      0.017      8.256      0.000       0.104       0.169\n",
      "week_num_48      0.1720      0.017     10.350      0.000       0.139       0.205\n",
      "week_num_49      0.2442      0.017     14.694      0.000       0.212       0.277\n",
      "week_num_50      0.3154      0.017     18.937      0.000       0.283       0.348\n",
      "week_num_51      0.4651      0.017     27.956      0.000       0.432       0.498\n",
      "week_num_7       0.0958      0.015      6.518      0.000       0.067       0.125\n",
      "==============================================================================\n",
      "Omnibus:                    93208.998   Durbin-Watson:                   1.999\n",
      "Prob(Omnibus):                  0.000   Jarque-Bera (JB):           502712.853\n",
      "Skew:                          -1.093   Prob(JB):                         0.00\n",
      "Kurtosis:                       8.229   Cond. No.                     2.45e+07\n",
      "==============================================================================\n",
      "\n",
      "Warnings:\n",
      "[1] Standard Errors assume that the covariance matrix of the errors is correctly specified.\n",
      "[2] The condition number is large, 2.45e+07. This might indicate that there are\n",
      "strong multicollinearity or other numerical problems.\n"
     ]
    }
   ],
   "source": [
    "print(lm1.summary())"
   ]
  },
  {
   "cell_type": "code",
   "execution_count": 50,
   "metadata": {},
   "outputs": [],
   "source": [
    "#from scipy.special import boxcox, inv_boxcox"
   ]
  },
  {
   "cell_type": "code",
   "execution_count": 80,
   "metadata": {},
   "outputs": [
    {
     "name": "stderr",
     "output_type": "stream",
     "text": [
      "C:\\ProgramData\\Anaconda3\\lib\\site-packages\\ipykernel_launcher.py:2: SettingWithCopyWarning: \n",
      "A value is trying to be set on a copy of a slice from a DataFrame.\n",
      "Try using .loc[row_indexer,col_indexer] = value instead\n",
      "\n",
      "See the caveats in the documentation: http://pandas.pydata.org/pandas-docs/stable/user_guide/indexing.html#returning-a-view-versus-a-copy\n",
      "  \n"
     ]
    }
   ],
   "source": [
    "#train['Weekly_Sales_pred']=inv_boxcox(lm1.predict(train),box_lambda)\n",
    "train['Weekly_Sales_pred']=np.exp(lm1.predict(train))"
   ]
  },
  {
   "cell_type": "code",
   "execution_count": 82,
   "metadata": {},
   "outputs": [
    {
     "name": "stderr",
     "output_type": "stream",
     "text": [
      "C:\\ProgramData\\Anaconda3\\lib\\site-packages\\ipykernel_launcher.py:2: SettingWithCopyWarning: \n",
      "A value is trying to be set on a copy of a slice from a DataFrame.\n",
      "Try using .loc[row_indexer,col_indexer] = value instead\n",
      "\n",
      "See the caveats in the documentation: http://pandas.pydata.org/pandas-docs/stable/user_guide/indexing.html#returning-a-view-versus-a-copy\n",
      "  \n"
     ]
    }
   ],
   "source": [
    "#test['Weekly_Sales_pred'] = inv_boxcox(lm1.predict(test),box_lambda)\n",
    "test['Weekly_Sales_pred']=np.exp(lm1.predict(test))"
   ]
  },
  {
   "cell_type": "code",
   "execution_count": 88,
   "metadata": {},
   "outputs": [
    {
     "name": "stdout",
     "output_type": "stream",
     "text": [
      "RMSE of training data:  12424.102  |  RMSE of testing data:  12444.209\n"
     ]
    }
   ],
   "source": [
    "RMSE_train = np.sqrt(mean_squared_error(train.Weekly_Sales ,train.Weekly_Sales_pred)).round(3)\n",
    "RMSE_test = np.sqrt(mean_squared_error(test.Weekly_Sales,test.Weekly_Sales_pred)).round(3)\n",
    "\n",
    "# print the values of RMSE for train and test\n",
    "print('RMSE of training data: ', RMSE_train,  ' | ', 'RMSE of testing data: ', RMSE_test)"
   ]
  },
  {
   "cell_type": "code",
   "execution_count": 87,
   "metadata": {},
   "outputs": [
    {
     "name": "stdout",
     "output_type": "stream",
     "text": [
      "Correlation of training data:  (0.6697798749738987, 0.0)  |  Correlation of testing data:  (0.6682139270410448, 0.0)\n"
     ]
    }
   ],
   "source": [
    "Corr_train = stats.stats.pearsonr(train.Weekly_Sales ,train.Weekly_Sales_pred)\n",
    "Corr_test = stats.stats.pearsonr(test.Weekly_Sales ,test.Weekly_Sales_pred)\n",
    "\n",
    "# print the values of Correlation for train and test\n",
    "print('Correlation of training data: ', Corr_train,  ' | ', 'Correlation of testing data: ', Corr_test)"
   ]
  },
  {
   "cell_type": "code",
   "execution_count": 89,
   "metadata": {},
   "outputs": [
    {
     "name": "stdout",
     "output_type": "stream",
     "text": [
      "MAPE of training data:  6.287  |  MAPE of testing data:  6.442\n"
     ]
    }
   ],
   "source": [
    "MAPE_train = '%.3f' % np.mean(np.abs(train.Weekly_Sales - train.Weekly_Sales_pred)/train.Weekly_Sales)\n",
    "MAPE_test = '%.3f' % np.mean(np.abs(test.Weekly_Sales - test.Weekly_Sales_pred)/test.Weekly_Sales)\n",
    "\n",
    "# print the values of MAPE for train and test\n",
    "print('MAPE of training data: ', MAPE_train,  ' | ', 'MAPE of testing data: ', MAPE_test)"
   ]
  },
  {
   "cell_type": "code",
   "execution_count": 91,
   "metadata": {},
   "outputs": [
    {
     "data": {
      "text/html": [
       "<div>\n",
       "<style scoped>\n",
       "    .dataframe tbody tr th:only-of-type {\n",
       "        vertical-align: middle;\n",
       "    }\n",
       "\n",
       "    .dataframe tbody tr th {\n",
       "        vertical-align: top;\n",
       "    }\n",
       "\n",
       "    .dataframe thead th {\n",
       "        text-align: right;\n",
       "    }\n",
       "</style>\n",
       "<table border=\"1\" class=\"dataframe\">\n",
       "  <thead>\n",
       "    <tr style=\"text-align: right;\">\n",
       "      <th></th>\n",
       "      <th>Weekly_Sales</th>\n",
       "      <th>Weekly_Sales_pred</th>\n",
       "    </tr>\n",
       "  </thead>\n",
       "  <tbody>\n",
       "    <tr>\n",
       "      <td>450729</td>\n",
       "      <td>14556.784819</td>\n",
       "      <td>70012.397413</td>\n",
       "    </tr>\n",
       "    <tr>\n",
       "      <td>314302</td>\n",
       "      <td>8138.870000</td>\n",
       "      <td>5848.064748</td>\n",
       "    </tr>\n",
       "    <tr>\n",
       "      <td>452814</td>\n",
       "      <td>14556.784819</td>\n",
       "      <td>872.590743</td>\n",
       "    </tr>\n",
       "    <tr>\n",
       "      <td>238474</td>\n",
       "      <td>27365.280000</td>\n",
       "      <td>10233.920953</td>\n",
       "    </tr>\n",
       "    <tr>\n",
       "      <td>4204</td>\n",
       "      <td>1178.650000</td>\n",
       "      <td>1792.533025</td>\n",
       "    </tr>\n",
       "    <tr>\n",
       "      <td>...</td>\n",
       "      <td>...</td>\n",
       "      <td>...</td>\n",
       "    </tr>\n",
       "    <tr>\n",
       "      <td>514041</td>\n",
       "      <td>14556.784819</td>\n",
       "      <td>8686.193586</td>\n",
       "    </tr>\n",
       "    <tr>\n",
       "      <td>220532</td>\n",
       "      <td>813.730000</td>\n",
       "      <td>1301.672944</td>\n",
       "    </tr>\n",
       "    <tr>\n",
       "      <td>165158</td>\n",
       "      <td>10732.260000</td>\n",
       "      <td>10969.866787</td>\n",
       "    </tr>\n",
       "    <tr>\n",
       "      <td>451283</td>\n",
       "      <td>14556.784819</td>\n",
       "      <td>29686.226386</td>\n",
       "    </tr>\n",
       "    <tr>\n",
       "      <td>486191</td>\n",
       "      <td>14556.784819</td>\n",
       "      <td>11600.905920</td>\n",
       "    </tr>\n",
       "  </tbody>\n",
       "</table>\n",
       "<p>375643 rows × 2 columns</p>\n",
       "</div>"
      ],
      "text/plain": [
       "        Weekly_Sales  Weekly_Sales_pred\n",
       "450729  14556.784819       70012.397413\n",
       "314302   8138.870000        5848.064748\n",
       "452814  14556.784819         872.590743\n",
       "238474  27365.280000       10233.920953\n",
       "4204     1178.650000        1792.533025\n",
       "...              ...                ...\n",
       "514041  14556.784819        8686.193586\n",
       "220532    813.730000        1301.672944\n",
       "165158  10732.260000       10969.866787\n",
       "451283  14556.784819       29686.226386\n",
       "486191  14556.784819       11600.905920\n",
       "\n",
       "[375643 rows x 2 columns]"
      ]
     },
     "execution_count": 91,
     "metadata": {},
     "output_type": "execute_result"
    }
   ],
   "source": [
    "train[['Weekly_Sales','Weekly_Sales_pred']]"
   ]
  },
  {
   "cell_type": "code",
   "execution_count": 92,
   "metadata": {},
   "outputs": [
    {
     "data": {
      "image/png": "[encoded data removed]",
      "text/plain": [
       "<Figure size 432x288 with 1 Axes>"
      ]
     },
     "metadata": {
      "needs_background": "light"
     },
     "output_type": "display_data"
    }
   ],
   "source": [
    "plt.scatter(train.Weekly_Sales_pred,train.Weekly_Sales,color ='r')\n",
    "plt.show()"
   ]
  },
  {
   "cell_type": "code",
   "execution_count": 95,
   "metadata": {},
   "outputs": [],
   "source": [
    "feature_new=feature_col[['CPI','Dept_10','Dept_11','Dept_12','Dept_13','Dept_14','Dept_16',\n",
    "'Dept_17','Dept_18','Dept_19','Dept_2','Dept_20','Dept_21','Dept_22','Dept_23','Dept_24',\n",
    "'Dept_25','Dept_26','Dept_27','Dept_28','Dept_29','Dept_30','Dept_31','Dept_32','Dept_33','Dept_34',\n",
    "'Dept_35','Dept_36','Dept_37','Dept_38','Dept_39','Dept_4','Dept_40','Dept_41','Dept_42','Dept_43','Dept_44',\n",
    "'Dept_45','Dept_46','Dept_47','Dept_48','Dept_49','Dept_5','Dept_50','Dept_51','Dept_52','Dept_54',\n",
    "'Dept_55','Dept_56','Dept_58','Dept_59','Dept_6','Dept_60','Dept_65','Dept_67','Dept_7','Dept_71','Dept_72','Dept_74','Dept_77','Dept_78',\n",
    "'Dept_79','Dept_8','Dept_80','Dept_81','Dept_82','Dept_83','Dept_85','Dept_87','Dept_9','Dept_90','Dept_91',\n",
    "'Dept_92','Dept_93','Dept_94','Dept_95','Dept_96','Dept_97','Dept_98','Dept_99','Fuel_Price','Size','Store_10','Store_11','Store_12',\n",
    "'Store_13','Store_14','Store_15','Store_16','Store_17','Store_18','Store_19','Store_2','Store_20','Store_21',\n",
    "'Store_22','Store_23','Store_24','Store_25','Store_27','Store_28','Store_29','Store_3','Store_31','Store_32',\n",
    "'Store_33','Store_34','Store_36','Store_37','Store_38','Store_39','Store_4','Store_40','Store_41',\n",
    "'Store_42','Store_43','Store_44','Store_45','Store_5','Store_6','Store_7','Store_9','Temperature',\n",
    "'Unemployment','super_bowl_1','week_num_13','week_num_14','week_num_18','week_num_2','week_num_21','week_num_22','week_num_23',\n",
    "'week_num_24','week_num_25','week_num_26','week_num_27','week_num_3','week_num_31','week_num_32','week_num_33','week_num_34','week_num_35','week_num_39',\n",
    "'week_num_4','week_num_40','week_num_44','week_num_45','week_num_46','week_num_48','week_num_49','week_num_50','week_num_51','week_num_7']]"
   ]
  },
  {
   "cell_type": "code",
   "execution_count": 128,
   "metadata": {},
   "outputs": [],
   "source": [
    "### Conclusion : The error coming in Linear Regression model (MAPE,RMSE) are very high though the R2 value is quite good. \n",
    "### Hence using the features columns obainted from VIF and after manually removing insignificant variable, feeding in Randomforest\n",
    "### regression"
   ]
  },
  {
   "cell_type": "markdown",
   "metadata": {},
   "source": [
    "### Implementing Random forest Regressor "
   ]
  },
  {
   "cell_type": "code",
   "execution_count": 96,
   "metadata": {
    "colab": {},
    "colab_type": "code",
    "id": "zuR3-IUth2-6"
   },
   "outputs": [],
   "source": [
    "from sklearn.model_selection import train_test_split\n",
    "\n",
    "\n",
    "train_X, test_X, train_y, test_y = train_test_split(feature_new,\n",
    "                                                  sales_new['Weekly_Sales_box'],\n",
    "                                                  test_size = 0.3,\n",
    "                                                  random_state = 555 )"
   ]
  },
  {
   "cell_type": "code",
   "execution_count": 97,
   "metadata": {
    "colab": {},
    "colab_type": "code",
    "id": "DCrWDqoQh5Ok"
   },
   "outputs": [],
   "source": [
    "from sklearn.model_selection import cross_val_score, GridSearchCV\n",
    "from sklearn.ensemble import RandomForestRegressor"
   ]
  },
  {
   "cell_type": "code",
   "execution_count": 100,
   "metadata": {},
   "outputs": [],
   "source": [
    "radm_reg = RandomForestRegressor(oob_score=True,n_estimators=100, max_features=20, n_jobs=-1)"
   ]
  },
  {
   "cell_type": "code",
   "execution_count": 101,
   "metadata": {
    "colab": {},
    "colab_type": "code",
    "id": "7ss15QAdh_V-"
   },
   "outputs": [
    {
     "data": {
      "text/plain": [
       "RandomForestRegressor(max_features=20, n_jobs=-1, oob_score=True)"
      ]
     },
     "execution_count": 101,
     "metadata": {},
     "output_type": "execute_result"
    }
   ],
   "source": [
    "radm_reg.fit( train_X, train_y )"
   ]
  },
  {
   "cell_type": "code",
   "execution_count": 104,
   "metadata": {},
   "outputs": [
    {
     "data": {
      "text/plain": [
       "0.9902460290036075"
      ]
     },
     "execution_count": 104,
     "metadata": {},
     "output_type": "execute_result"
    }
   ],
   "source": [
    "radm_reg.score( train_X, train_y )"
   ]
  },
  {
   "cell_type": "code",
   "execution_count": 105,
   "metadata": {},
   "outputs": [
    {
     "data": {
      "text/plain": [
       "0.9416060660515464"
      ]
     },
     "execution_count": 105,
     "metadata": {},
     "output_type": "execute_result"
    }
   ],
   "source": [
    "radm_reg.score( test_X, test_y )"
   ]
  },
  {
   "cell_type": "code",
   "execution_count": 110,
   "metadata": {},
   "outputs": [],
   "source": [
    "radm_train_pred = pd.DataFrame( { 'actual':  np.exp(train_y),\n",
    "                            'predicted': np.exp(radm_reg.predict( train_X )) } )"
   ]
  },
  {
   "cell_type": "code",
   "execution_count": 108,
   "metadata": {},
   "outputs": [],
   "source": [
    "radm_test_pred = pd.DataFrame( { 'actual':  np.exp(test_y),\n",
    "                            'predicted': np.exp(radm_reg.predict( test_X )) } )"
   ]
  },
  {
   "cell_type": "code",
   "execution_count": 113,
   "metadata": {},
   "outputs": [
    {
     "name": "stdout",
     "output_type": "stream",
     "text": [
      "RMSE of training data:  1929.197  |  RMSE of testing data:  3833.856\n"
     ]
    }
   ],
   "source": [
    "RMSE_train = np.sqrt(mean_squared_error(radm_train_pred.actual ,radm_train_pred.predicted)).round(3)\n",
    "RMSE_test = np.sqrt(mean_squared_error(radm_test_pred.actual,radm_test_pred.predicted)).round(3)\n",
    "\n",
    "# print the values of RMSE for train and test\n",
    "print('RMSE of training data: ', RMSE_train,  ' | ', 'RMSE of testing data: ', RMSE_test)"
   ]
  },
  {
   "cell_type": "code",
   "execution_count": 114,
   "metadata": {},
   "outputs": [
    {
     "name": "stdout",
     "output_type": "stream",
     "text": [
      "MAPE of training data:  0.097  |  MAPE of testing data:  0.465\n"
     ]
    }
   ],
   "source": [
    "MAPE_train = '%.3f' % np.mean(np.abs(radm_train_pred.actual - radm_train_pred.predicted)/radm_train_pred.actual)\n",
    "MAPE_test = '%.3f' % np.mean(np.abs(radm_test_pred.actual - radm_test_pred.predicted)/radm_test_pred.actual)\n",
    "\n",
    "# print the values of MAPE for train and test\n",
    "print('MAPE of training data: ', MAPE_train,  ' | ', 'MAPE of testing data: ', MAPE_test)"
   ]
  },
  {
   "cell_type": "code",
   "execution_count": 115,
   "metadata": {},
   "outputs": [
    {
     "name": "stdout",
     "output_type": "stream",
     "text": [
      "Correlation of training data:  (0.9925716329574765, 0.0)  |  Correlation of testing data:  (0.9690420922649223, 0.0)\n"
     ]
    }
   ],
   "source": [
    "Corr_train = stats.stats.pearsonr(radm_train_pred.actual ,radm_train_pred.predicted)\n",
    "Corr_test = stats.stats.pearsonr(radm_test_pred.actual,radm_test_pred.predicted)\n",
    "\n",
    "# print the values of Correlation for train and test\n",
    "print('Correlation of training data: ', Corr_train,  ' | ', 'Correlation of testing data: ', Corr_test)"
   ]
  },
  {
   "cell_type": "code",
   "execution_count": 116,
   "metadata": {},
   "outputs": [
    {
     "data": {
      "image/png": "[encoded data removed]",
      "text/plain": [
       "<Figure size 432x288 with 1 Axes>"
      ]
     },
     "metadata": {
      "needs_background": "light"
     },
     "output_type": "display_data"
    }
   ],
   "source": [
    "plt.scatter(radm_train_pred.predicted,radm_train_pred.actual ,color ='r')\n",
    "plt.show()"
   ]
  },
  {
   "cell_type": "code",
   "execution_count": 118,
   "metadata": {},
   "outputs": [
    {
     "data": {
      "image/png": "[encoded data removed]",
      "text/plain": [
       "<Figure size 432x288 with 1 Axes>"
      ]
     },
     "metadata": {
      "needs_background": "light"
     },
     "output_type": "display_data"
    }
   ],
   "source": [
    "plt.scatter(radm_test_pred.predicted,radm_test_pred.actual ,color ='b')\n",
    "plt.show()"
   ]
  },
  {
   "cell_type": "code",
   "execution_count": 119,
   "metadata": {},
   "outputs": [],
   "source": [
    "feat_imp=list(zip(train_X.columns,radm_clf.feature_importances_))\n",
    "#print(np.argsort(radm_clf.feature_importances_))"
   ]
  },
  {
   "cell_type": "code",
   "execution_count": 120,
   "metadata": {},
   "outputs": [],
   "source": [
    "df_feat_imp=pd.DataFrame(feat_imp)"
   ]
  },
  {
   "cell_type": "code",
   "execution_count": 121,
   "metadata": {},
   "outputs": [],
   "source": [
    "df_feat_imp.columns=['Features','Importance']"
   ]
  },
  {
   "cell_type": "code",
   "execution_count": 124,
   "metadata": {},
   "outputs": [
    {
     "data": {
      "text/html": [
       "<div>\n",
       "<style scoped>\n",
       "    .dataframe tbody tr th:only-of-type {\n",
       "        vertical-align: middle;\n",
       "    }\n",
       "\n",
       "    .dataframe tbody tr th {\n",
       "        vertical-align: top;\n",
       "    }\n",
       "\n",
       "    .dataframe thead th {\n",
       "        text-align: right;\n",
       "    }\n",
       "</style>\n",
       "<table border=\"1\" class=\"dataframe\">\n",
       "  <thead>\n",
       "    <tr style=\"text-align: right;\">\n",
       "      <th></th>\n",
       "      <th>Features</th>\n",
       "      <th>Importance</th>\n",
       "    </tr>\n",
       "  </thead>\n",
       "  <tbody>\n",
       "    <tr>\n",
       "      <td>81</td>\n",
       "      <td>Size</td>\n",
       "      <td>0.102470</td>\n",
       "    </tr>\n",
       "    <tr>\n",
       "      <td>0</td>\n",
       "      <td>CPI</td>\n",
       "      <td>0.086393</td>\n",
       "    </tr>\n",
       "    <tr>\n",
       "      <td>123</td>\n",
       "      <td>Unemployment</td>\n",
       "      <td>0.064854</td>\n",
       "    </tr>\n",
       "    <tr>\n",
       "      <td>46</td>\n",
       "      <td>Dept_54</td>\n",
       "      <td>0.046245</td>\n",
       "    </tr>\n",
       "    <tr>\n",
       "      <td>122</td>\n",
       "      <td>Temperature</td>\n",
       "      <td>0.036583</td>\n",
       "    </tr>\n",
       "    <tr>\n",
       "      <td>37</td>\n",
       "      <td>Dept_45</td>\n",
       "      <td>0.035753</td>\n",
       "    </tr>\n",
       "    <tr>\n",
       "      <td>80</td>\n",
       "      <td>Fuel_Price</td>\n",
       "      <td>0.032330</td>\n",
       "    </tr>\n",
       "    <tr>\n",
       "      <td>44</td>\n",
       "      <td>Dept_51</td>\n",
       "      <td>0.029735</td>\n",
       "    </tr>\n",
       "    <tr>\n",
       "      <td>50</td>\n",
       "      <td>Dept_59</td>\n",
       "      <td>0.023802</td>\n",
       "    </tr>\n",
       "    <tr>\n",
       "      <td>52</td>\n",
       "      <td>Dept_60</td>\n",
       "      <td>0.022712</td>\n",
       "    </tr>\n",
       "    <tr>\n",
       "      <td>19</td>\n",
       "      <td>Dept_28</td>\n",
       "      <td>0.016924</td>\n",
       "    </tr>\n",
       "    <tr>\n",
       "      <td>29</td>\n",
       "      <td>Dept_38</td>\n",
       "      <td>0.016295</td>\n",
       "    </tr>\n",
       "    <tr>\n",
       "      <td>74</td>\n",
       "      <td>Dept_94</td>\n",
       "      <td>0.015581</td>\n",
       "    </tr>\n",
       "    <tr>\n",
       "      <td>75</td>\n",
       "      <td>Dept_95</td>\n",
       "      <td>0.015521</td>\n",
       "    </tr>\n",
       "    <tr>\n",
       "      <td>72</td>\n",
       "      <td>Dept_92</td>\n",
       "      <td>0.014714</td>\n",
       "    </tr>\n",
       "    <tr>\n",
       "      <td>63</td>\n",
       "      <td>Dept_80</td>\n",
       "      <td>0.013169</td>\n",
       "    </tr>\n",
       "    <tr>\n",
       "      <td>32</td>\n",
       "      <td>Dept_40</td>\n",
       "      <td>0.012349</td>\n",
       "    </tr>\n",
       "    <tr>\n",
       "      <td>78</td>\n",
       "      <td>Dept_98</td>\n",
       "      <td>0.011799</td>\n",
       "    </tr>\n",
       "    <tr>\n",
       "      <td>45</td>\n",
       "      <td>Dept_52</td>\n",
       "      <td>0.011275</td>\n",
       "    </tr>\n",
       "    <tr>\n",
       "      <td>10</td>\n",
       "      <td>Dept_2</td>\n",
       "      <td>0.010872</td>\n",
       "    </tr>\n",
       "  </tbody>\n",
       "</table>\n",
       "</div>"
      ],
      "text/plain": [
       "         Features  Importance\n",
       "81           Size    0.102470\n",
       "0             CPI    0.086393\n",
       "123  Unemployment    0.064854\n",
       "46        Dept_54    0.046245\n",
       "122   Temperature    0.036583\n",
       "37        Dept_45    0.035753\n",
       "80     Fuel_Price    0.032330\n",
       "44        Dept_51    0.029735\n",
       "50        Dept_59    0.023802\n",
       "52        Dept_60    0.022712\n",
       "19        Dept_28    0.016924\n",
       "29        Dept_38    0.016295\n",
       "74        Dept_94    0.015581\n",
       "75        Dept_95    0.015521\n",
       "72        Dept_92    0.014714\n",
       "63        Dept_80    0.013169\n",
       "32        Dept_40    0.012349\n",
       "78        Dept_98    0.011799\n",
       "45        Dept_52    0.011275\n",
       "10         Dept_2    0.010872"
      ]
     },
     "execution_count": 124,
     "metadata": {},
     "output_type": "execute_result"
    }
   ],
   "source": [
    "#Top 20 features\n",
    "df_feat_imp.sort_values(by='Importance',ascending = False).head(20)"
   ]
  },
  {
   "cell_type": "code",
   "execution_count": 127,
   "metadata": {},
   "outputs": [
    {
     "data": {
      "image/png": "[encoded data removed]",
      "text/plain": [
       "<Figure size 360x720 with 1 Axes>"
      ]
     },
     "metadata": {
      "needs_background": "light"
     },
     "output_type": "display_data"
    }
   ],
   "source": [
    "plt.figure(figsize=(5,10))\n",
    "sns.barplot( y = 'Features', x = 'Importance', data = df_feat_imp.sort_values(by='Importance',ascending = False).head(20) )\n",
    "plt.show()"
   ]
  },
  {
   "cell_type": "code",
   "execution_count": null,
   "metadata": {},
   "outputs": [],
   "source": []
  }
 ],
 "metadata": {
  "accelerator": "TPU",
  "colab": {
   "collapsed_sections": [],
   "name": "Walmart Stores Sales Forcasting .ipynb",
   "provenance": [],
   "toc_visible": true
  },
  "kernelspec": {
   "display_name": "Python 3",
   "language": "python",
   "name": "python3"
  },
  "language_info": {
   "codemirror_mode": {
    "name": "ipython",
    "version": 3
   },
   "file_extension": ".py",
   "mimetype": "text/x-python",
   "name": "python",
   "nbconvert_exporter": "python",
   "pygments_lexer": "ipython3",
   "version": "3.7.4"
  }
 },
 "nbformat": 4,
 "nbformat_minor": 1
}
