{
 "cells": [
  {
   "cell_type": "markdown",
   "metadata": {},
   "source": [
    "### 1. Import claims_data.csv and cust_data.csv which is provided to you and\n",
    "### combine the two datasets appropriately to create a 360-degree view of\n",
    "### the data. Use the same for the subsequent questions."
   ]
  },
  {
   "cell_type": "code",
   "execution_count": 5,
   "metadata": {},
   "outputs": [],
   "source": [
    "import pandas as pd\n",
    "import numpy as np\n",
    "import seaborn as sns\n",
    "from matplotlib import pyplot as plt\n",
    "%matplotlib inline"
   ]
  },
  {
   "cell_type": "code",
   "execution_count": 6,
   "metadata": {},
   "outputs": [],
   "source": [
    "import scipy.stats as stats"
   ]
  },
  {
   "cell_type": "code",
   "execution_count": 7,
   "metadata": {},
   "outputs": [],
   "source": [
    "df_claims=pd.read_csv('F:/analytix_labs/5. Pandas Case Study 3 - Insurance Claims Case Study/claims.csv')\n",
    "df_cust_demo=pd.read_csv('F:/analytix_labs/5. Pandas Case Study 3 - Insurance Claims Case Study/cust_demographics.csv')"
   ]
  },
  {
   "cell_type": "code",
   "execution_count": 8,
   "metadata": {},
   "outputs": [
    {
     "name": "stdout",
     "output_type": "stream",
     "text": [
      "<class 'pandas.core.frame.DataFrame'>\n",
      "RangeIndex: 1085 entries, 0 to 1084\n",
      "Data columns (total 6 columns):\n",
      "CUST_ID        1085 non-null int64\n",
      "gender         1085 non-null object\n",
      "DateOfBirth    1085 non-null object\n",
      "State          1085 non-null object\n",
      "Contact        1085 non-null object\n",
      "Segment        1085 non-null object\n",
      "dtypes: int64(1), object(5)\n",
      "memory usage: 51.0+ KB\n"
     ]
    }
   ],
   "source": [
    "df_cust_demo.info()"
   ]
  },
  {
   "cell_type": "code",
   "execution_count": 9,
   "metadata": {},
   "outputs": [],
   "source": [
    "df_cust_final=pd.merge(df_cust_demo,df_claims,left_on ='CUST_ID' , right_on ='customer_id' , how ='right')"
   ]
  },
  {
   "cell_type": "code",
   "execution_count": 10,
   "metadata": {},
   "outputs": [
    {
     "data": {
      "text/html": [
       "<div>\n",
       "<style scoped>\n",
       "    .dataframe tbody tr th:only-of-type {\n",
       "        vertical-align: middle;\n",
       "    }\n",
       "\n",
       "    .dataframe tbody tr th {\n",
       "        vertical-align: top;\n",
       "    }\n",
       "\n",
       "    .dataframe thead th {\n",
       "        text-align: right;\n",
       "    }\n",
       "</style>\n",
       "<table border=\"1\" class=\"dataframe\">\n",
       "  <thead>\n",
       "    <tr style=\"text-align: right;\">\n",
       "      <th></th>\n",
       "      <th>CUST_ID</th>\n",
       "      <th>gender</th>\n",
       "      <th>DateOfBirth</th>\n",
       "      <th>State</th>\n",
       "      <th>Contact</th>\n",
       "      <th>Segment</th>\n",
       "      <th>claim_id</th>\n",
       "      <th>customer_id</th>\n",
       "      <th>incident_cause</th>\n",
       "      <th>claim_date</th>\n",
       "      <th>claim_area</th>\n",
       "      <th>police_report</th>\n",
       "      <th>claim_type</th>\n",
       "      <th>claim_amount</th>\n",
       "      <th>total_policy_claims</th>\n",
       "      <th>fraudulent</th>\n",
       "    </tr>\n",
       "  </thead>\n",
       "  <tbody>\n",
       "    <tr>\n",
       "      <td>0</td>\n",
       "      <td>21868593.0</td>\n",
       "      <td>Female</td>\n",
       "      <td>12-Jan-79</td>\n",
       "      <td>VT</td>\n",
       "      <td>789-916-8172</td>\n",
       "      <td>Platinum</td>\n",
       "      <td>54004764</td>\n",
       "      <td>21868593</td>\n",
       "      <td>Driver error</td>\n",
       "      <td>11/27/2017</td>\n",
       "      <td>Auto</td>\n",
       "      <td>No</td>\n",
       "      <td>Material only</td>\n",
       "      <td>$2980</td>\n",
       "      <td>1.0</td>\n",
       "      <td>No</td>\n",
       "    </tr>\n",
       "    <tr>\n",
       "      <td>1</td>\n",
       "      <td>75740424.0</td>\n",
       "      <td>Female</td>\n",
       "      <td>13-Jan-70</td>\n",
       "      <td>ME</td>\n",
       "      <td>265-543-1264</td>\n",
       "      <td>Silver</td>\n",
       "      <td>33985796</td>\n",
       "      <td>75740424</td>\n",
       "      <td>Crime</td>\n",
       "      <td>10/03/2018</td>\n",
       "      <td>Home</td>\n",
       "      <td>Unknown</td>\n",
       "      <td>Material only</td>\n",
       "      <td>$2980</td>\n",
       "      <td>3.0</td>\n",
       "      <td>No</td>\n",
       "    </tr>\n",
       "  </tbody>\n",
       "</table>\n",
       "</div>"
      ],
      "text/plain": [
       "      CUST_ID  gender DateOfBirth State       Contact   Segment  claim_id  \\\n",
       "0  21868593.0  Female   12-Jan-79    VT  789-916-8172  Platinum  54004764   \n",
       "1  75740424.0  Female   13-Jan-70    ME  265-543-1264    Silver  33985796   \n",
       "\n",
       "   customer_id incident_cause  claim_date claim_area police_report  \\\n",
       "0     21868593   Driver error  11/27/2017       Auto            No   \n",
       "1     75740424          Crime  10/03/2018       Home       Unknown   \n",
       "\n",
       "      claim_type claim_amount  total_policy_claims fraudulent  \n",
       "0  Material only        $2980                  1.0         No  \n",
       "1  Material only        $2980                  3.0         No  "
      ]
     },
     "execution_count": 10,
     "metadata": {},
     "output_type": "execute_result"
    }
   ],
   "source": [
    "df_cust_final.head(2)"
   ]
  },
  {
   "cell_type": "markdown",
   "metadata": {},
   "source": [
    "### 2. Perform a data audit for the datatypes and find out if there are any\n",
    "### mismatch within the current datatypes of the columns and their\n",
    "### business significance."
   ]
  },
  {
   "cell_type": "code",
   "execution_count": 11,
   "metadata": {},
   "outputs": [
    {
     "name": "stdout",
     "output_type": "stream",
     "text": [
      "<class 'pandas.core.frame.DataFrame'>\n",
      "Int64Index: 1100 entries, 0 to 1099\n",
      "Data columns (total 16 columns):\n",
      "CUST_ID                1085 non-null float64\n",
      "gender                 1085 non-null object\n",
      "DateOfBirth            1085 non-null object\n",
      "State                  1085 non-null object\n",
      "Contact                1085 non-null object\n",
      "Segment                1085 non-null object\n",
      "claim_id               1100 non-null int64\n",
      "customer_id            1100 non-null int64\n",
      "incident_cause         1100 non-null object\n",
      "claim_date             1100 non-null object\n",
      "claim_area             1100 non-null object\n",
      "police_report          1100 non-null object\n",
      "claim_type             1100 non-null object\n",
      "claim_amount           1035 non-null object\n",
      "total_policy_claims    1090 non-null float64\n",
      "fraudulent             1100 non-null object\n",
      "dtypes: float64(2), int64(2), object(12)\n",
      "memory usage: 146.1+ KB\n"
     ]
    }
   ],
   "source": [
    "df_cust_final.info()"
   ]
  },
  {
   "cell_type": "code",
   "execution_count": 12,
   "metadata": {},
   "outputs": [],
   "source": [
    "df_cust_final['DateOfBirth']=np.where(pd.DatetimeIndex(pd.to_datetime(df_cust_final.DateOfBirth,format='%d-%b-%y')).year> pd.datetime.now().year,pd.to_datetime(df_cust_final.DateOfBirth,format='%d-%b-%y')+pd.DateOffset(years=-100),pd.to_datetime(df_cust_final.DateOfBirth,format='%d-%b-%y'))"
   ]
  },
  {
   "cell_type": "code",
   "execution_count": 13,
   "metadata": {},
   "outputs": [],
   "source": [
    "df_cust_final['claim_date']=pd.to_datetime(df_cust_final.claim_date,format='%m/%d/%Y')"
   ]
  },
  {
   "cell_type": "code",
   "execution_count": 14,
   "metadata": {},
   "outputs": [
    {
     "data": {
      "text/plain": [
       "29     NaN\n",
       "272    NaN\n",
       "281    NaN\n",
       "365    NaN\n",
       "450    NaN\n",
       "458    NaN\n",
       "468    NaN\n",
       "489    NaN\n",
       "732    NaN\n",
       "1042   NaN\n",
       "Name: total_policy_claims, dtype: float64"
      ]
     },
     "execution_count": 14,
     "metadata": {},
     "output_type": "execute_result"
    }
   ],
   "source": [
    "df_claims.total_policy_claims[df_claims.total_policy_claims.isnull() == 1]"
   ]
  },
  {
   "cell_type": "code",
   "execution_count": 15,
   "metadata": {},
   "outputs": [
    {
     "name": "stdout",
     "output_type": "stream",
     "text": [
      "<class 'pandas.core.frame.DataFrame'>\n",
      "Int64Index: 1100 entries, 0 to 1099\n",
      "Data columns (total 16 columns):\n",
      "CUST_ID                1085 non-null float64\n",
      "gender                 1085 non-null object\n",
      "DateOfBirth            1085 non-null datetime64[ns]\n",
      "State                  1085 non-null object\n",
      "Contact                1085 non-null object\n",
      "Segment                1085 non-null object\n",
      "claim_id               1100 non-null int64\n",
      "customer_id            1100 non-null int64\n",
      "incident_cause         1100 non-null object\n",
      "claim_date             1100 non-null datetime64[ns]\n",
      "claim_area             1100 non-null object\n",
      "police_report          1100 non-null object\n",
      "claim_type             1100 non-null object\n",
      "claim_amount           1035 non-null object\n",
      "total_policy_claims    1090 non-null float64\n",
      "fraudulent             1100 non-null object\n",
      "dtypes: datetime64[ns](2), float64(2), int64(2), object(10)\n",
      "memory usage: 146.1+ KB\n"
     ]
    }
   ],
   "source": [
    "df_cust_final.info()"
   ]
  },
  {
   "cell_type": "markdown",
   "metadata": {},
   "source": [
    "### 3. Convert the column claim_amount to numeric. Use the appropriate modules/attributes to remove the $ sign."
   ]
  },
  {
   "cell_type": "code",
   "execution_count": 16,
   "metadata": {},
   "outputs": [],
   "source": [
    "df_cust_final['claim_amount']=df_cust_final.claim_amount.str.replace('$','').astype('float64')"
   ]
  },
  {
   "cell_type": "code",
   "execution_count": 17,
   "metadata": {},
   "outputs": [
    {
     "name": "stdout",
     "output_type": "stream",
     "text": [
      "<class 'pandas.core.frame.DataFrame'>\n",
      "Int64Index: 1100 entries, 0 to 1099\n",
      "Data columns (total 16 columns):\n",
      "CUST_ID                1085 non-null float64\n",
      "gender                 1085 non-null object\n",
      "DateOfBirth            1085 non-null datetime64[ns]\n",
      "State                  1085 non-null object\n",
      "Contact                1085 non-null object\n",
      "Segment                1085 non-null object\n",
      "claim_id               1100 non-null int64\n",
      "customer_id            1100 non-null int64\n",
      "incident_cause         1100 non-null object\n",
      "claim_date             1100 non-null datetime64[ns]\n",
      "claim_area             1100 non-null object\n",
      "police_report          1100 non-null object\n",
      "claim_type             1100 non-null object\n",
      "claim_amount           1035 non-null float64\n",
      "total_policy_claims    1090 non-null float64\n",
      "fraudulent             1100 non-null object\n",
      "dtypes: datetime64[ns](2), float64(3), int64(2), object(9)\n",
      "memory usage: 146.1+ KB\n"
     ]
    }
   ],
   "source": [
    "df_cust_final.info()"
   ]
  },
  {
   "cell_type": "markdown",
   "metadata": {},
   "source": [
    "### 4. Of all the injury claims, some of them have gone unreported with the\n",
    "### police. Create an alert flag (1,0) for all such claims."
   ]
  },
  {
   "cell_type": "code",
   "execution_count": 18,
   "metadata": {},
   "outputs": [
    {
     "data": {
      "text/plain": [
       "array(['Material only', 'Injury only', 'Material and injury'],\n",
       "      dtype=object)"
      ]
     },
     "execution_count": 18,
     "metadata": {},
     "output_type": "execute_result"
    }
   ],
   "source": [
    "df_cust_final.claim_type.unique()"
   ]
  },
  {
   "cell_type": "code",
   "execution_count": 19,
   "metadata": {},
   "outputs": [
    {
     "data": {
      "text/plain": [
       "array(['No', 'Unknown', 'Yes'], dtype=object)"
      ]
     },
     "execution_count": 19,
     "metadata": {},
     "output_type": "execute_result"
    }
   ],
   "source": [
    "df_cust_final.police_report.unique()"
   ]
  },
  {
   "cell_type": "code",
   "execution_count": 20,
   "metadata": {},
   "outputs": [],
   "source": [
    "df_cust_final['Alert_Flag']=np.where((df_cust_final.claim_type=='Injury only') & (df_cust_final.police_report=='No'),1,0)"
   ]
  },
  {
   "cell_type": "code",
   "execution_count": 21,
   "metadata": {},
   "outputs": [
    {
     "data": {
      "text/plain": [
       "array([0, 1], dtype=int64)"
      ]
     },
     "execution_count": 21,
     "metadata": {},
     "output_type": "execute_result"
    }
   ],
   "source": [
    "df_cust_final.Alert_Flag.unique()"
   ]
  },
  {
   "cell_type": "code",
   "execution_count": 22,
   "metadata": {},
   "outputs": [
    {
     "data": {
      "text/html": [
       "<div>\n",
       "<style scoped>\n",
       "    .dataframe tbody tr th:only-of-type {\n",
       "        vertical-align: middle;\n",
       "    }\n",
       "\n",
       "    .dataframe tbody tr th {\n",
       "        vertical-align: top;\n",
       "    }\n",
       "\n",
       "    .dataframe thead th {\n",
       "        text-align: right;\n",
       "    }\n",
       "</style>\n",
       "<table border=\"1\" class=\"dataframe\">\n",
       "  <thead>\n",
       "    <tr style=\"text-align: right;\">\n",
       "      <th></th>\n",
       "      <th>CUST_ID</th>\n",
       "      <th>gender</th>\n",
       "      <th>DateOfBirth</th>\n",
       "      <th>State</th>\n",
       "      <th>Contact</th>\n",
       "      <th>Segment</th>\n",
       "      <th>claim_id</th>\n",
       "      <th>customer_id</th>\n",
       "      <th>incident_cause</th>\n",
       "      <th>claim_date</th>\n",
       "      <th>claim_area</th>\n",
       "      <th>police_report</th>\n",
       "      <th>claim_type</th>\n",
       "      <th>claim_amount</th>\n",
       "      <th>total_policy_claims</th>\n",
       "      <th>fraudulent</th>\n",
       "      <th>Alert_Flag</th>\n",
       "    </tr>\n",
       "  </thead>\n",
       "  <tbody>\n",
       "    <tr>\n",
       "      <td>0</td>\n",
       "      <td>21868593.0</td>\n",
       "      <td>Female</td>\n",
       "      <td>1979-01-12</td>\n",
       "      <td>VT</td>\n",
       "      <td>789-916-8172</td>\n",
       "      <td>Platinum</td>\n",
       "      <td>54004764</td>\n",
       "      <td>21868593</td>\n",
       "      <td>Driver error</td>\n",
       "      <td>2017-11-27</td>\n",
       "      <td>Auto</td>\n",
       "      <td>No</td>\n",
       "      <td>Material only</td>\n",
       "      <td>2980.0</td>\n",
       "      <td>1.0</td>\n",
       "      <td>No</td>\n",
       "      <td>0</td>\n",
       "    </tr>\n",
       "    <tr>\n",
       "      <td>1</td>\n",
       "      <td>75740424.0</td>\n",
       "      <td>Female</td>\n",
       "      <td>1970-01-13</td>\n",
       "      <td>ME</td>\n",
       "      <td>265-543-1264</td>\n",
       "      <td>Silver</td>\n",
       "      <td>33985796</td>\n",
       "      <td>75740424</td>\n",
       "      <td>Crime</td>\n",
       "      <td>2018-10-03</td>\n",
       "      <td>Home</td>\n",
       "      <td>Unknown</td>\n",
       "      <td>Material only</td>\n",
       "      <td>2980.0</td>\n",
       "      <td>3.0</td>\n",
       "      <td>No</td>\n",
       "      <td>0</td>\n",
       "    </tr>\n",
       "    <tr>\n",
       "      <td>2</td>\n",
       "      <td>30308357.0</td>\n",
       "      <td>Female</td>\n",
       "      <td>1984-03-11</td>\n",
       "      <td>TN</td>\n",
       "      <td>798-631-4758</td>\n",
       "      <td>Silver</td>\n",
       "      <td>53522022</td>\n",
       "      <td>30308357</td>\n",
       "      <td>Other driver error</td>\n",
       "      <td>2018-02-02</td>\n",
       "      <td>Auto</td>\n",
       "      <td>No</td>\n",
       "      <td>Material only</td>\n",
       "      <td>3369.5</td>\n",
       "      <td>1.0</td>\n",
       "      <td>Yes</td>\n",
       "      <td>0</td>\n",
       "    </tr>\n",
       "    <tr>\n",
       "      <td>3</td>\n",
       "      <td>30308357.0</td>\n",
       "      <td>Female</td>\n",
       "      <td>1984-03-11</td>\n",
       "      <td>TN</td>\n",
       "      <td>798-631-4758</td>\n",
       "      <td>Silver</td>\n",
       "      <td>63017412</td>\n",
       "      <td>30308357</td>\n",
       "      <td>Driver error</td>\n",
       "      <td>2018-04-04</td>\n",
       "      <td>Auto</td>\n",
       "      <td>No</td>\n",
       "      <td>Material only</td>\n",
       "      <td>1950.0</td>\n",
       "      <td>6.0</td>\n",
       "      <td>No</td>\n",
       "      <td>0</td>\n",
       "    </tr>\n",
       "    <tr>\n",
       "      <td>4</td>\n",
       "      <td>47830476.0</td>\n",
       "      <td>Female</td>\n",
       "      <td>1986-05-01</td>\n",
       "      <td>MA</td>\n",
       "      <td>413-187-7945</td>\n",
       "      <td>Silver</td>\n",
       "      <td>13015401</td>\n",
       "      <td>47830476</td>\n",
       "      <td>Natural causes</td>\n",
       "      <td>2018-06-17</td>\n",
       "      <td>Auto</td>\n",
       "      <td>No</td>\n",
       "      <td>Material only</td>\n",
       "      <td>1680.0</td>\n",
       "      <td>1.0</td>\n",
       "      <td>No</td>\n",
       "      <td>0</td>\n",
       "    </tr>\n",
       "    <tr>\n",
       "      <td>5</td>\n",
       "      <td>47830476.0</td>\n",
       "      <td>Female</td>\n",
       "      <td>1986-05-01</td>\n",
       "      <td>MA</td>\n",
       "      <td>413-187-7945</td>\n",
       "      <td>Silver</td>\n",
       "      <td>91609100</td>\n",
       "      <td>47830476</td>\n",
       "      <td>Natural causes</td>\n",
       "      <td>2017-04-12</td>\n",
       "      <td>Auto</td>\n",
       "      <td>Unknown</td>\n",
       "      <td>Material only</td>\n",
       "      <td>1440.0</td>\n",
       "      <td>1.0</td>\n",
       "      <td>No</td>\n",
       "      <td>0</td>\n",
       "    </tr>\n",
       "    <tr>\n",
       "      <td>6</td>\n",
       "      <td>19269962.0</td>\n",
       "      <td>Male</td>\n",
       "      <td>1977-05-13</td>\n",
       "      <td>NV</td>\n",
       "      <td>956-871-8691</td>\n",
       "      <td>Gold</td>\n",
       "      <td>22890252</td>\n",
       "      <td>19269962</td>\n",
       "      <td>Crime</td>\n",
       "      <td>2018-01-13</td>\n",
       "      <td>Auto</td>\n",
       "      <td>No</td>\n",
       "      <td>Material only</td>\n",
       "      <td>2680.0</td>\n",
       "      <td>1.0</td>\n",
       "      <td>No</td>\n",
       "      <td>0</td>\n",
       "    </tr>\n",
       "    <tr>\n",
       "      <td>7</td>\n",
       "      <td>19269962.0</td>\n",
       "      <td>Male</td>\n",
       "      <td>1977-05-13</td>\n",
       "      <td>NV</td>\n",
       "      <td>956-871-8691</td>\n",
       "      <td>Gold</td>\n",
       "      <td>39219616</td>\n",
       "      <td>19269962</td>\n",
       "      <td>Other causes</td>\n",
       "      <td>2018-09-26</td>\n",
       "      <td>Auto</td>\n",
       "      <td>No</td>\n",
       "      <td>Material only</td>\n",
       "      <td>2240.0</td>\n",
       "      <td>2.0</td>\n",
       "      <td>No</td>\n",
       "      <td>0</td>\n",
       "    </tr>\n",
       "    <tr>\n",
       "      <td>8</td>\n",
       "      <td>21831191.0</td>\n",
       "      <td>Male</td>\n",
       "      <td>1977-05-17</td>\n",
       "      <td>NH</td>\n",
       "      <td>419-712-8513</td>\n",
       "      <td>Gold</td>\n",
       "      <td>24050443</td>\n",
       "      <td>21831191</td>\n",
       "      <td>Other driver error</td>\n",
       "      <td>2017-10-04</td>\n",
       "      <td>Auto</td>\n",
       "      <td>No</td>\n",
       "      <td>Injury only</td>\n",
       "      <td>38306.5</td>\n",
       "      <td>3.0</td>\n",
       "      <td>Yes</td>\n",
       "      <td>1</td>\n",
       "    </tr>\n",
       "    <tr>\n",
       "      <td>9</td>\n",
       "      <td>21831191.0</td>\n",
       "      <td>Male</td>\n",
       "      <td>1977-05-17</td>\n",
       "      <td>NH</td>\n",
       "      <td>419-712-8513</td>\n",
       "      <td>Gold</td>\n",
       "      <td>91475471</td>\n",
       "      <td>21831191</td>\n",
       "      <td>Driver error</td>\n",
       "      <td>2018-02-09</td>\n",
       "      <td>Auto</td>\n",
       "      <td>Unknown</td>\n",
       "      <td>Material and injury</td>\n",
       "      <td>36810.0</td>\n",
       "      <td>1.0</td>\n",
       "      <td>No</td>\n",
       "      <td>0</td>\n",
       "    </tr>\n",
       "  </tbody>\n",
       "</table>\n",
       "</div>"
      ],
      "text/plain": [
       "      CUST_ID  gender DateOfBirth State       Contact   Segment  claim_id  \\\n",
       "0  21868593.0  Female  1979-01-12    VT  789-916-8172  Platinum  54004764   \n",
       "1  75740424.0  Female  1970-01-13    ME  265-543-1264    Silver  33985796   \n",
       "2  30308357.0  Female  1984-03-11    TN  798-631-4758    Silver  53522022   \n",
       "3  30308357.0  Female  1984-03-11    TN  798-631-4758    Silver  63017412   \n",
       "4  47830476.0  Female  1986-05-01    MA  413-187-7945    Silver  13015401   \n",
       "5  47830476.0  Female  1986-05-01    MA  413-187-7945    Silver  91609100   \n",
       "6  19269962.0    Male  1977-05-13    NV  956-871-8691      Gold  22890252   \n",
       "7  19269962.0    Male  1977-05-13    NV  956-871-8691      Gold  39219616   \n",
       "8  21831191.0    Male  1977-05-17    NH  419-712-8513      Gold  24050443   \n",
       "9  21831191.0    Male  1977-05-17    NH  419-712-8513      Gold  91475471   \n",
       "\n",
       "   customer_id      incident_cause claim_date claim_area police_report  \\\n",
       "0     21868593        Driver error 2017-11-27       Auto            No   \n",
       "1     75740424               Crime 2018-10-03       Home       Unknown   \n",
       "2     30308357  Other driver error 2018-02-02       Auto            No   \n",
       "3     30308357        Driver error 2018-04-04       Auto            No   \n",
       "4     47830476      Natural causes 2018-06-17       Auto            No   \n",
       "5     47830476      Natural causes 2017-04-12       Auto       Unknown   \n",
       "6     19269962               Crime 2018-01-13       Auto            No   \n",
       "7     19269962        Other causes 2018-09-26       Auto            No   \n",
       "8     21831191  Other driver error 2017-10-04       Auto            No   \n",
       "9     21831191        Driver error 2018-02-09       Auto       Unknown   \n",
       "\n",
       "            claim_type  claim_amount  total_policy_claims fraudulent  \\\n",
       "0        Material only        2980.0                  1.0         No   \n",
       "1        Material only        2980.0                  3.0         No   \n",
       "2        Material only        3369.5                  1.0        Yes   \n",
       "3        Material only        1950.0                  6.0         No   \n",
       "4        Material only        1680.0                  1.0         No   \n",
       "5        Material only        1440.0                  1.0         No   \n",
       "6        Material only        2680.0                  1.0         No   \n",
       "7        Material only        2240.0                  2.0         No   \n",
       "8          Injury only       38306.5                  3.0        Yes   \n",
       "9  Material and injury       36810.0                  1.0         No   \n",
       "\n",
       "   Alert_Flag  \n",
       "0           0  \n",
       "1           0  \n",
       "2           0  \n",
       "3           0  \n",
       "4           0  \n",
       "5           0  \n",
       "6           0  \n",
       "7           0  \n",
       "8           1  \n",
       "9           0  "
      ]
     },
     "execution_count": 22,
     "metadata": {},
     "output_type": "execute_result"
    }
   ],
   "source": [
    "df_cust_final.head(10)"
   ]
  },
  {
   "cell_type": "markdown",
   "metadata": {},
   "source": [
    "### 5. One customer can claim for insurance more than once and in each claim, multiple categories of claims can be involved. However, customer ID should remain unique. Retain the most recent observation and delete any duplicated records in the data based on the customer ID column."
   ]
  },
  {
   "cell_type": "code",
   "execution_count": 23,
   "metadata": {},
   "outputs": [],
   "source": [
    "df_cust_final['Dup_id']=df_cust_final.customer_id.duplicated()"
   ]
  },
  {
   "cell_type": "code",
   "execution_count": 24,
   "metadata": {},
   "outputs": [
    {
     "data": {
      "text/plain": [
       "0       False\n",
       "1       False\n",
       "2       False\n",
       "3        True\n",
       "4       False\n",
       "        ...  \n",
       "1095    False\n",
       "1096    False\n",
       "1097    False\n",
       "1098    False\n",
       "1099    False\n",
       "Name: Dup_id, Length: 1100, dtype: bool"
      ]
     },
     "execution_count": 24,
     "metadata": {},
     "output_type": "execute_result"
    }
   ],
   "source": [
    "df_cust_final.Dup_id"
   ]
  },
  {
   "cell_type": "code",
   "execution_count": 25,
   "metadata": {},
   "outputs": [
    {
     "data": {
      "text/html": [
       "<div>\n",
       "<style scoped>\n",
       "    .dataframe tbody tr th:only-of-type {\n",
       "        vertical-align: middle;\n",
       "    }\n",
       "\n",
       "    .dataframe tbody tr th {\n",
       "        vertical-align: top;\n",
       "    }\n",
       "\n",
       "    .dataframe thead th {\n",
       "        text-align: right;\n",
       "    }\n",
       "</style>\n",
       "<table border=\"1\" class=\"dataframe\">\n",
       "  <thead>\n",
       "    <tr style=\"text-align: right;\">\n",
       "      <th></th>\n",
       "      <th>customer_id</th>\n",
       "      <th>Dup_id</th>\n",
       "      <th>claim_date</th>\n",
       "    </tr>\n",
       "  </thead>\n",
       "  <tbody>\n",
       "    <tr>\n",
       "      <td>3</td>\n",
       "      <td>30308357</td>\n",
       "      <td>True</td>\n",
       "      <td>2018-04-04</td>\n",
       "    </tr>\n",
       "    <tr>\n",
       "      <td>5</td>\n",
       "      <td>47830476</td>\n",
       "      <td>True</td>\n",
       "      <td>2017-04-12</td>\n",
       "    </tr>\n",
       "    <tr>\n",
       "      <td>7</td>\n",
       "      <td>19269962</td>\n",
       "      <td>True</td>\n",
       "      <td>2018-09-26</td>\n",
       "    </tr>\n",
       "    <tr>\n",
       "      <td>9</td>\n",
       "      <td>21831191</td>\n",
       "      <td>True</td>\n",
       "      <td>2018-02-09</td>\n",
       "    </tr>\n",
       "    <tr>\n",
       "      <td>622</td>\n",
       "      <td>84147585</td>\n",
       "      <td>True</td>\n",
       "      <td>2018-04-10</td>\n",
       "    </tr>\n",
       "    <tr>\n",
       "      <td>624</td>\n",
       "      <td>85357756</td>\n",
       "      <td>True</td>\n",
       "      <td>2018-06-23</td>\n",
       "    </tr>\n",
       "    <tr>\n",
       "      <td>626</td>\n",
       "      <td>53539195</td>\n",
       "      <td>True</td>\n",
       "      <td>2018-10-03</td>\n",
       "    </tr>\n",
       "  </tbody>\n",
       "</table>\n",
       "</div>"
      ],
      "text/plain": [
       "     customer_id  Dup_id claim_date\n",
       "3       30308357    True 2018-04-04\n",
       "5       47830476    True 2017-04-12\n",
       "7       19269962    True 2018-09-26\n",
       "9       21831191    True 2018-02-09\n",
       "622     84147585    True 2018-04-10\n",
       "624     85357756    True 2018-06-23\n",
       "626     53539195    True 2018-10-03"
      ]
     },
     "execution_count": 25,
     "metadata": {},
     "output_type": "execute_result"
    }
   ],
   "source": [
    "df_cust_final.loc[(df_cust_final.Dup_id == True),['customer_id','Dup_id','claim_date']]"
   ]
  },
  {
   "cell_type": "code",
   "execution_count": 26,
   "metadata": {},
   "outputs": [],
   "source": [
    "df_cust_final=df_cust_final.sort_values(['customer_id', 'claim_date']).drop_duplicates('customer_id', keep='last')"
   ]
  },
  {
   "cell_type": "code",
   "execution_count": 27,
   "metadata": {},
   "outputs": [],
   "source": [
    "df_cust_final.drop(columns='Dup_id',inplace=True)"
   ]
  },
  {
   "cell_type": "code",
   "execution_count": 28,
   "metadata": {},
   "outputs": [
    {
     "name": "stdout",
     "output_type": "stream",
     "text": [
      "<class 'pandas.core.frame.DataFrame'>\n",
      "Int64Index: 1093 entries, 188 to 747\n",
      "Data columns (total 17 columns):\n",
      "CUST_ID                1078 non-null float64\n",
      "gender                 1078 non-null object\n",
      "DateOfBirth            1078 non-null datetime64[ns]\n",
      "State                  1078 non-null object\n",
      "Contact                1078 non-null object\n",
      "Segment                1078 non-null object\n",
      "claim_id               1093 non-null int64\n",
      "customer_id            1093 non-null int64\n",
      "incident_cause         1093 non-null object\n",
      "claim_date             1093 non-null datetime64[ns]\n",
      "claim_area             1093 non-null object\n",
      "police_report          1093 non-null object\n",
      "claim_type             1093 non-null object\n",
      "claim_amount           1028 non-null float64\n",
      "total_policy_claims    1083 non-null float64\n",
      "fraudulent             1093 non-null object\n",
      "Alert_Flag             1093 non-null int32\n",
      "dtypes: datetime64[ns](2), float64(3), int32(1), int64(2), object(9)\n",
      "memory usage: 149.4+ KB\n"
     ]
    }
   ],
   "source": [
    "df_cust_final.info()"
   ]
  },
  {
   "cell_type": "code",
   "execution_count": 29,
   "metadata": {},
   "outputs": [
    {
     "data": {
      "text/html": [
       "<div>\n",
       "<style scoped>\n",
       "    .dataframe tbody tr th:only-of-type {\n",
       "        vertical-align: middle;\n",
       "    }\n",
       "\n",
       "    .dataframe tbody tr th {\n",
       "        vertical-align: top;\n",
       "    }\n",
       "\n",
       "    .dataframe thead th {\n",
       "        text-align: right;\n",
       "    }\n",
       "</style>\n",
       "<table border=\"1\" class=\"dataframe\">\n",
       "  <thead>\n",
       "    <tr style=\"text-align: right;\">\n",
       "      <th></th>\n",
       "      <th>CUST_ID</th>\n",
       "      <th>gender</th>\n",
       "      <th>DateOfBirth</th>\n",
       "      <th>State</th>\n",
       "      <th>Contact</th>\n",
       "      <th>Segment</th>\n",
       "      <th>claim_id</th>\n",
       "      <th>customer_id</th>\n",
       "      <th>incident_cause</th>\n",
       "      <th>claim_date</th>\n",
       "      <th>claim_area</th>\n",
       "      <th>police_report</th>\n",
       "      <th>claim_type</th>\n",
       "      <th>claim_amount</th>\n",
       "      <th>total_policy_claims</th>\n",
       "      <th>fraudulent</th>\n",
       "      <th>Alert_Flag</th>\n",
       "    </tr>\n",
       "  </thead>\n",
       "  <tbody>\n",
       "    <tr>\n",
       "      <td>188</td>\n",
       "      <td>154557.0</td>\n",
       "      <td>Female</td>\n",
       "      <td>1978-05-23</td>\n",
       "      <td>DE</td>\n",
       "      <td>962-879-1238</td>\n",
       "      <td>Platinum</td>\n",
       "      <td>69348631</td>\n",
       "      <td>154557</td>\n",
       "      <td>Driver error</td>\n",
       "      <td>2018-04-10</td>\n",
       "      <td>Auto</td>\n",
       "      <td>No</td>\n",
       "      <td>Injury only</td>\n",
       "      <td>NaN</td>\n",
       "      <td>1.0</td>\n",
       "      <td>Yes</td>\n",
       "      <td>1</td>\n",
       "    </tr>\n",
       "    <tr>\n",
       "      <td>836</td>\n",
       "      <td>263204.0</td>\n",
       "      <td>Male</td>\n",
       "      <td>1972-12-20</td>\n",
       "      <td>TX</td>\n",
       "      <td>173-892-6314</td>\n",
       "      <td>Silver</td>\n",
       "      <td>40953049</td>\n",
       "      <td>263204</td>\n",
       "      <td>Other causes</td>\n",
       "      <td>2018-04-04</td>\n",
       "      <td>Auto</td>\n",
       "      <td>No</td>\n",
       "      <td>Material and injury</td>\n",
       "      <td>39192.0</td>\n",
       "      <td>1.0</td>\n",
       "      <td>Yes</td>\n",
       "      <td>0</td>\n",
       "    </tr>\n",
       "    <tr>\n",
       "      <td>677</td>\n",
       "      <td>287476.0</td>\n",
       "      <td>Male</td>\n",
       "      <td>1988-07-28</td>\n",
       "      <td>FL</td>\n",
       "      <td>364-598-1549</td>\n",
       "      <td>Silver</td>\n",
       "      <td>45780237</td>\n",
       "      <td>287476</td>\n",
       "      <td>Natural causes</td>\n",
       "      <td>2017-10-17</td>\n",
       "      <td>Auto</td>\n",
       "      <td>Unknown</td>\n",
       "      <td>Material only</td>\n",
       "      <td>1621.5</td>\n",
       "      <td>2.0</td>\n",
       "      <td>Yes</td>\n",
       "      <td>0</td>\n",
       "    </tr>\n",
       "    <tr>\n",
       "      <td>828</td>\n",
       "      <td>441097.0</td>\n",
       "      <td>Male</td>\n",
       "      <td>1971-08-19</td>\n",
       "      <td>CA</td>\n",
       "      <td>187-348-8375</td>\n",
       "      <td>Gold</td>\n",
       "      <td>89833962</td>\n",
       "      <td>441097</td>\n",
       "      <td>Other causes</td>\n",
       "      <td>2018-03-21</td>\n",
       "      <td>Auto</td>\n",
       "      <td>Yes</td>\n",
       "      <td>Material and injury</td>\n",
       "      <td>37040.0</td>\n",
       "      <td>1.0</td>\n",
       "      <td>No</td>\n",
       "      <td>0</td>\n",
       "    </tr>\n",
       "    <tr>\n",
       "      <td>509</td>\n",
       "      <td>524545.0</td>\n",
       "      <td>Female</td>\n",
       "      <td>1980-08-10</td>\n",
       "      <td>NC</td>\n",
       "      <td>798-862-5398</td>\n",
       "      <td>Gold</td>\n",
       "      <td>35782742</td>\n",
       "      <td>524545</td>\n",
       "      <td>Other driver error</td>\n",
       "      <td>2018-07-27</td>\n",
       "      <td>Auto</td>\n",
       "      <td>No</td>\n",
       "      <td>Injury only</td>\n",
       "      <td>35250.0</td>\n",
       "      <td>3.0</td>\n",
       "      <td>No</td>\n",
       "      <td>1</td>\n",
       "    </tr>\n",
       "  </tbody>\n",
       "</table>\n",
       "</div>"
      ],
      "text/plain": [
       "      CUST_ID  gender DateOfBirth State       Contact   Segment  claim_id  \\\n",
       "188  154557.0  Female  1978-05-23    DE  962-879-1238  Platinum  69348631   \n",
       "836  263204.0    Male  1972-12-20    TX  173-892-6314    Silver  40953049   \n",
       "677  287476.0    Male  1988-07-28    FL  364-598-1549    Silver  45780237   \n",
       "828  441097.0    Male  1971-08-19    CA  187-348-8375      Gold  89833962   \n",
       "509  524545.0  Female  1980-08-10    NC  798-862-5398      Gold  35782742   \n",
       "\n",
       "     customer_id      incident_cause claim_date claim_area police_report  \\\n",
       "188       154557        Driver error 2018-04-10       Auto            No   \n",
       "836       263204        Other causes 2018-04-04       Auto            No   \n",
       "677       287476      Natural causes 2017-10-17       Auto       Unknown   \n",
       "828       441097        Other causes 2018-03-21       Auto           Yes   \n",
       "509       524545  Other driver error 2018-07-27       Auto            No   \n",
       "\n",
       "              claim_type  claim_amount  total_policy_claims fraudulent  \\\n",
       "188          Injury only           NaN                  1.0        Yes   \n",
       "836  Material and injury       39192.0                  1.0        Yes   \n",
       "677        Material only        1621.5                  2.0        Yes   \n",
       "828  Material and injury       37040.0                  1.0         No   \n",
       "509          Injury only       35250.0                  3.0         No   \n",
       "\n",
       "     Alert_Flag  \n",
       "188           1  \n",
       "836           0  \n",
       "677           0  \n",
       "828           0  \n",
       "509           1  "
      ]
     },
     "execution_count": 29,
     "metadata": {},
     "output_type": "execute_result"
    }
   ],
   "source": [
    "df_cust_final.head()"
   ]
  },
  {
   "cell_type": "markdown",
   "metadata": {},
   "source": [
    "### 6. Check for missing values and impute the missing values with an appropriate value. (mean for continuous and mode for categorical)"
   ]
  },
  {
   "cell_type": "code",
   "execution_count": 30,
   "metadata": {},
   "outputs": [],
   "source": [
    "df_cust_final['claim_amount']=np.where(df_cust_final.claim_amount.isnull()== True,df_cust_final.claim_amount.mean(),df_cust_final.claim_amount)"
   ]
  },
  {
   "cell_type": "code",
   "execution_count": 31,
   "metadata": {},
   "outputs": [],
   "source": [
    "df_cust_final['total_policy_claims']=np.where(df_cust_final.total_policy_claims.isnull() == True,df_cust_final.total_policy_claims.mean(),df_cust_final.total_policy_claims)"
   ]
  },
  {
   "cell_type": "code",
   "execution_count": 32,
   "metadata": {},
   "outputs": [
    {
     "data": {
      "text/plain": [
       "False    1093\n",
       "Name: total_policy_claims, dtype: int64"
      ]
     },
     "execution_count": 32,
     "metadata": {},
     "output_type": "execute_result"
    }
   ],
   "source": [
    "df_cust_final.total_policy_claims.isnull().value_counts()"
   ]
  },
  {
   "cell_type": "code",
   "execution_count": 33,
   "metadata": {},
   "outputs": [
    {
     "name": "stdout",
     "output_type": "stream",
     "text": [
      "<class 'pandas.core.frame.DataFrame'>\n",
      "Int64Index: 1093 entries, 188 to 747\n",
      "Data columns (total 17 columns):\n",
      "CUST_ID                1078 non-null float64\n",
      "gender                 1078 non-null object\n",
      "DateOfBirth            1078 non-null datetime64[ns]\n",
      "State                  1078 non-null object\n",
      "Contact                1078 non-null object\n",
      "Segment                1078 non-null object\n",
      "claim_id               1093 non-null int64\n",
      "customer_id            1093 non-null int64\n",
      "incident_cause         1093 non-null object\n",
      "claim_date             1093 non-null datetime64[ns]\n",
      "claim_area             1093 non-null object\n",
      "police_report          1093 non-null object\n",
      "claim_type             1093 non-null object\n",
      "claim_amount           1093 non-null float64\n",
      "total_policy_claims    1093 non-null float64\n",
      "fraudulent             1093 non-null object\n",
      "Alert_Flag             1093 non-null int32\n",
      "dtypes: datetime64[ns](2), float64(3), int32(1), int64(2), object(9)\n",
      "memory usage: 149.4+ KB\n"
     ]
    }
   ],
   "source": [
    "df_cust_final.info()"
   ]
  },
  {
   "cell_type": "markdown",
   "metadata": {},
   "source": [
    "### 7. Calculate the age of customers in years. Based on the age, categorize the\n",
    "### customers according to the below criteria\n",
    "### Children < 18\n",
    "### Youth 18-30\n",
    "### Adult 30-60\n",
    "### Senior > 60"
   ]
  },
  {
   "cell_type": "code",
   "execution_count": 34,
   "metadata": {},
   "outputs": [],
   "source": [
    "df_cust_final['Age']=pd.datetime.now().year - pd.DatetimeIndex(df_cust_final.DateOfBirth).year"
   ]
  },
  {
   "cell_type": "code",
   "execution_count": 35,
   "metadata": {},
   "outputs": [],
   "source": [
    "df_cust_final.Age.fillna(0,inplace=True)"
   ]
  },
  {
   "cell_type": "code",
   "execution_count": 36,
   "metadata": {},
   "outputs": [],
   "source": [
    "df_cust_final['Age']=df_cust_final.Age.astype('int64')"
   ]
  },
  {
   "cell_type": "code",
   "execution_count": 37,
   "metadata": {},
   "outputs": [
    {
     "name": "stdout",
     "output_type": "stream",
     "text": [
      "<class 'pandas.core.frame.DataFrame'>\n",
      "Int64Index: 1093 entries, 188 to 747\n",
      "Data columns (total 18 columns):\n",
      "CUST_ID                1078 non-null float64\n",
      "gender                 1078 non-null object\n",
      "DateOfBirth            1078 non-null datetime64[ns]\n",
      "State                  1078 non-null object\n",
      "Contact                1078 non-null object\n",
      "Segment                1078 non-null object\n",
      "claim_id               1093 non-null int64\n",
      "customer_id            1093 non-null int64\n",
      "incident_cause         1093 non-null object\n",
      "claim_date             1093 non-null datetime64[ns]\n",
      "claim_area             1093 non-null object\n",
      "police_report          1093 non-null object\n",
      "claim_type             1093 non-null object\n",
      "claim_amount           1093 non-null float64\n",
      "total_policy_claims    1093 non-null float64\n",
      "fraudulent             1093 non-null object\n",
      "Alert_Flag             1093 non-null int32\n",
      "Age                    1093 non-null int64\n",
      "dtypes: datetime64[ns](2), float64(3), int32(1), int64(3), object(9)\n",
      "memory usage: 158.0+ KB\n"
     ]
    }
   ],
   "source": [
    "df_cust_final.info()"
   ]
  },
  {
   "cell_type": "code",
   "execution_count": 38,
   "metadata": {},
   "outputs": [],
   "source": [
    "age_label = ['Children', 'Youth', 'Adult', 'Senior']\n",
    "age_grp= [0, 18, 30, 60,100]"
   ]
  },
  {
   "cell_type": "code",
   "execution_count": 39,
   "metadata": {},
   "outputs": [],
   "source": [
    "df_cust_final['Age_Grp']=pd.cut(df_cust_final.Age, bins=age_grp,labels=age_label)"
   ]
  },
  {
   "cell_type": "code",
   "execution_count": 40,
   "metadata": {},
   "outputs": [
    {
     "data": {
      "text/html": [
       "<div>\n",
       "<style scoped>\n",
       "    .dataframe tbody tr th:only-of-type {\n",
       "        vertical-align: middle;\n",
       "    }\n",
       "\n",
       "    .dataframe tbody tr th {\n",
       "        vertical-align: top;\n",
       "    }\n",
       "\n",
       "    .dataframe thead th {\n",
       "        text-align: right;\n",
       "    }\n",
       "</style>\n",
       "<table border=\"1\" class=\"dataframe\">\n",
       "  <thead>\n",
       "    <tr style=\"text-align: right;\">\n",
       "      <th></th>\n",
       "      <th>CUST_ID</th>\n",
       "      <th>gender</th>\n",
       "      <th>DateOfBirth</th>\n",
       "      <th>State</th>\n",
       "      <th>Contact</th>\n",
       "      <th>Segment</th>\n",
       "      <th>claim_id</th>\n",
       "      <th>customer_id</th>\n",
       "      <th>incident_cause</th>\n",
       "      <th>claim_date</th>\n",
       "      <th>claim_area</th>\n",
       "      <th>police_report</th>\n",
       "      <th>claim_type</th>\n",
       "      <th>claim_amount</th>\n",
       "      <th>total_policy_claims</th>\n",
       "      <th>fraudulent</th>\n",
       "      <th>Alert_Flag</th>\n",
       "      <th>Age</th>\n",
       "      <th>Age_Grp</th>\n",
       "    </tr>\n",
       "  </thead>\n",
       "  <tbody>\n",
       "    <tr>\n",
       "      <td>188</td>\n",
       "      <td>154557.0</td>\n",
       "      <td>Female</td>\n",
       "      <td>1978-05-23</td>\n",
       "      <td>DE</td>\n",
       "      <td>962-879-1238</td>\n",
       "      <td>Platinum</td>\n",
       "      <td>69348631</td>\n",
       "      <td>154557</td>\n",
       "      <td>Driver error</td>\n",
       "      <td>2018-04-10</td>\n",
       "      <td>Auto</td>\n",
       "      <td>No</td>\n",
       "      <td>Injury only</td>\n",
       "      <td>12475.499514</td>\n",
       "      <td>1.0</td>\n",
       "      <td>Yes</td>\n",
       "      <td>1</td>\n",
       "      <td>42</td>\n",
       "      <td>Adult</td>\n",
       "    </tr>\n",
       "    <tr>\n",
       "      <td>836</td>\n",
       "      <td>263204.0</td>\n",
       "      <td>Male</td>\n",
       "      <td>1972-12-20</td>\n",
       "      <td>TX</td>\n",
       "      <td>173-892-6314</td>\n",
       "      <td>Silver</td>\n",
       "      <td>40953049</td>\n",
       "      <td>263204</td>\n",
       "      <td>Other causes</td>\n",
       "      <td>2018-04-04</td>\n",
       "      <td>Auto</td>\n",
       "      <td>No</td>\n",
       "      <td>Material and injury</td>\n",
       "      <td>39192.000000</td>\n",
       "      <td>1.0</td>\n",
       "      <td>Yes</td>\n",
       "      <td>0</td>\n",
       "      <td>48</td>\n",
       "      <td>Adult</td>\n",
       "    </tr>\n",
       "    <tr>\n",
       "      <td>677</td>\n",
       "      <td>287476.0</td>\n",
       "      <td>Male</td>\n",
       "      <td>1988-07-28</td>\n",
       "      <td>FL</td>\n",
       "      <td>364-598-1549</td>\n",
       "      <td>Silver</td>\n",
       "      <td>45780237</td>\n",
       "      <td>287476</td>\n",
       "      <td>Natural causes</td>\n",
       "      <td>2017-10-17</td>\n",
       "      <td>Auto</td>\n",
       "      <td>Unknown</td>\n",
       "      <td>Material only</td>\n",
       "      <td>1621.500000</td>\n",
       "      <td>2.0</td>\n",
       "      <td>Yes</td>\n",
       "      <td>0</td>\n",
       "      <td>32</td>\n",
       "      <td>Adult</td>\n",
       "    </tr>\n",
       "    <tr>\n",
       "      <td>828</td>\n",
       "      <td>441097.0</td>\n",
       "      <td>Male</td>\n",
       "      <td>1971-08-19</td>\n",
       "      <td>CA</td>\n",
       "      <td>187-348-8375</td>\n",
       "      <td>Gold</td>\n",
       "      <td>89833962</td>\n",
       "      <td>441097</td>\n",
       "      <td>Other causes</td>\n",
       "      <td>2018-03-21</td>\n",
       "      <td>Auto</td>\n",
       "      <td>Yes</td>\n",
       "      <td>Material and injury</td>\n",
       "      <td>37040.000000</td>\n",
       "      <td>1.0</td>\n",
       "      <td>No</td>\n",
       "      <td>0</td>\n",
       "      <td>49</td>\n",
       "      <td>Adult</td>\n",
       "    </tr>\n",
       "    <tr>\n",
       "      <td>509</td>\n",
       "      <td>524545.0</td>\n",
       "      <td>Female</td>\n",
       "      <td>1980-08-10</td>\n",
       "      <td>NC</td>\n",
       "      <td>798-862-5398</td>\n",
       "      <td>Gold</td>\n",
       "      <td>35782742</td>\n",
       "      <td>524545</td>\n",
       "      <td>Other driver error</td>\n",
       "      <td>2018-07-27</td>\n",
       "      <td>Auto</td>\n",
       "      <td>No</td>\n",
       "      <td>Injury only</td>\n",
       "      <td>35250.000000</td>\n",
       "      <td>3.0</td>\n",
       "      <td>No</td>\n",
       "      <td>1</td>\n",
       "      <td>40</td>\n",
       "      <td>Adult</td>\n",
       "    </tr>\n",
       "    <tr>\n",
       "      <td>1048</td>\n",
       "      <td>608461.0</td>\n",
       "      <td>Male</td>\n",
       "      <td>1994-12-17</td>\n",
       "      <td>AR</td>\n",
       "      <td>963-187-2873</td>\n",
       "      <td>Platinum</td>\n",
       "      <td>7180084</td>\n",
       "      <td>608461</td>\n",
       "      <td>Crime</td>\n",
       "      <td>2018-07-14</td>\n",
       "      <td>Auto</td>\n",
       "      <td>No</td>\n",
       "      <td>Material only</td>\n",
       "      <td>2630.000000</td>\n",
       "      <td>1.0</td>\n",
       "      <td>No</td>\n",
       "      <td>0</td>\n",
       "      <td>26</td>\n",
       "      <td>Youth</td>\n",
       "    </tr>\n",
       "    <tr>\n",
       "      <td>246</td>\n",
       "      <td>684748.0</td>\n",
       "      <td>Male</td>\n",
       "      <td>1977-08-03</td>\n",
       "      <td>AK</td>\n",
       "      <td>613-385-2863</td>\n",
       "      <td>Gold</td>\n",
       "      <td>7238381</td>\n",
       "      <td>684748</td>\n",
       "      <td>Other driver error</td>\n",
       "      <td>2018-07-14</td>\n",
       "      <td>Auto</td>\n",
       "      <td>No</td>\n",
       "      <td>Material only</td>\n",
       "      <td>2920.000000</td>\n",
       "      <td>2.0</td>\n",
       "      <td>No</td>\n",
       "      <td>0</td>\n",
       "      <td>43</td>\n",
       "      <td>Adult</td>\n",
       "    </tr>\n",
       "    <tr>\n",
       "      <td>179</td>\n",
       "      <td>804961.0</td>\n",
       "      <td>Female</td>\n",
       "      <td>1997-12-07</td>\n",
       "      <td>AL</td>\n",
       "      <td>487-723-4167</td>\n",
       "      <td>Gold</td>\n",
       "      <td>87184588</td>\n",
       "      <td>804961</td>\n",
       "      <td>Other causes</td>\n",
       "      <td>2017-10-10</td>\n",
       "      <td>Auto</td>\n",
       "      <td>No</td>\n",
       "      <td>Material and injury</td>\n",
       "      <td>21190.000000</td>\n",
       "      <td>1.0</td>\n",
       "      <td>No</td>\n",
       "      <td>0</td>\n",
       "      <td>23</td>\n",
       "      <td>Youth</td>\n",
       "    </tr>\n",
       "    <tr>\n",
       "      <td>1000</td>\n",
       "      <td>885337.0</td>\n",
       "      <td>Male</td>\n",
       "      <td>1962-02-17</td>\n",
       "      <td>HI</td>\n",
       "      <td>321-534-5263</td>\n",
       "      <td>Platinum</td>\n",
       "      <td>86240106</td>\n",
       "      <td>885337</td>\n",
       "      <td>Driver error</td>\n",
       "      <td>2017-07-01</td>\n",
       "      <td>Auto</td>\n",
       "      <td>No</td>\n",
       "      <td>Material only</td>\n",
       "      <td>2490.000000</td>\n",
       "      <td>2.0</td>\n",
       "      <td>No</td>\n",
       "      <td>0</td>\n",
       "      <td>58</td>\n",
       "      <td>Adult</td>\n",
       "    </tr>\n",
       "    <tr>\n",
       "      <td>405</td>\n",
       "      <td>1123356.0</td>\n",
       "      <td>Female</td>\n",
       "      <td>1960-07-29</td>\n",
       "      <td>OR</td>\n",
       "      <td>736-725-9481</td>\n",
       "      <td>Silver</td>\n",
       "      <td>50906515</td>\n",
       "      <td>1123356</td>\n",
       "      <td>Crime</td>\n",
       "      <td>2018-08-23</td>\n",
       "      <td>Auto</td>\n",
       "      <td>No</td>\n",
       "      <td>Material only</td>\n",
       "      <td>2507.000000</td>\n",
       "      <td>5.0</td>\n",
       "      <td>Yes</td>\n",
       "      <td>0</td>\n",
       "      <td>60</td>\n",
       "      <td>Adult</td>\n",
       "    </tr>\n",
       "  </tbody>\n",
       "</table>\n",
       "</div>"
      ],
      "text/plain": [
       "        CUST_ID  gender DateOfBirth State       Contact   Segment  claim_id  \\\n",
       "188    154557.0  Female  1978-05-23    DE  962-879-1238  Platinum  69348631   \n",
       "836    263204.0    Male  1972-12-20    TX  173-892-6314    Silver  40953049   \n",
       "677    287476.0    Male  1988-07-28    FL  364-598-1549    Silver  45780237   \n",
       "828    441097.0    Male  1971-08-19    CA  187-348-8375      Gold  89833962   \n",
       "509    524545.0  Female  1980-08-10    NC  798-862-5398      Gold  35782742   \n",
       "1048   608461.0    Male  1994-12-17    AR  963-187-2873  Platinum   7180084   \n",
       "246    684748.0    Male  1977-08-03    AK  613-385-2863      Gold   7238381   \n",
       "179    804961.0  Female  1997-12-07    AL  487-723-4167      Gold  87184588   \n",
       "1000   885337.0    Male  1962-02-17    HI  321-534-5263  Platinum  86240106   \n",
       "405   1123356.0  Female  1960-07-29    OR  736-725-9481    Silver  50906515   \n",
       "\n",
       "      customer_id      incident_cause claim_date claim_area police_report  \\\n",
       "188        154557        Driver error 2018-04-10       Auto            No   \n",
       "836        263204        Other causes 2018-04-04       Auto            No   \n",
       "677        287476      Natural causes 2017-10-17       Auto       Unknown   \n",
       "828        441097        Other causes 2018-03-21       Auto           Yes   \n",
       "509        524545  Other driver error 2018-07-27       Auto            No   \n",
       "1048       608461               Crime 2018-07-14       Auto            No   \n",
       "246        684748  Other driver error 2018-07-14       Auto            No   \n",
       "179        804961        Other causes 2017-10-10       Auto            No   \n",
       "1000       885337        Driver error 2017-07-01       Auto            No   \n",
       "405       1123356               Crime 2018-08-23       Auto            No   \n",
       "\n",
       "               claim_type  claim_amount  total_policy_claims fraudulent  \\\n",
       "188           Injury only  12475.499514                  1.0        Yes   \n",
       "836   Material and injury  39192.000000                  1.0        Yes   \n",
       "677         Material only   1621.500000                  2.0        Yes   \n",
       "828   Material and injury  37040.000000                  1.0         No   \n",
       "509           Injury only  35250.000000                  3.0         No   \n",
       "1048        Material only   2630.000000                  1.0         No   \n",
       "246         Material only   2920.000000                  2.0         No   \n",
       "179   Material and injury  21190.000000                  1.0         No   \n",
       "1000        Material only   2490.000000                  2.0         No   \n",
       "405         Material only   2507.000000                  5.0        Yes   \n",
       "\n",
       "      Alert_Flag  Age Age_Grp  \n",
       "188            1   42   Adult  \n",
       "836            0   48   Adult  \n",
       "677            0   32   Adult  \n",
       "828            0   49   Adult  \n",
       "509            1   40   Adult  \n",
       "1048           0   26   Youth  \n",
       "246            0   43   Adult  \n",
       "179            0   23   Youth  \n",
       "1000           0   58   Adult  \n",
       "405            0   60   Adult  "
      ]
     },
     "execution_count": 40,
     "metadata": {},
     "output_type": "execute_result"
    }
   ],
   "source": [
    "df_cust_final.head(10)"
   ]
  },
  {
   "cell_type": "code",
   "execution_count": 41,
   "metadata": {},
   "outputs": [
    {
     "name": "stdout",
     "output_type": "stream",
     "text": [
      "<class 'pandas.core.frame.DataFrame'>\n",
      "Int64Index: 1093 entries, 188 to 747\n",
      "Data columns (total 19 columns):\n",
      "CUST_ID                1078 non-null float64\n",
      "gender                 1078 non-null object\n",
      "DateOfBirth            1078 non-null datetime64[ns]\n",
      "State                  1078 non-null object\n",
      "Contact                1078 non-null object\n",
      "Segment                1078 non-null object\n",
      "claim_id               1093 non-null int64\n",
      "customer_id            1093 non-null int64\n",
      "incident_cause         1093 non-null object\n",
      "claim_date             1093 non-null datetime64[ns]\n",
      "claim_area             1093 non-null object\n",
      "police_report          1093 non-null object\n",
      "claim_type             1093 non-null object\n",
      "claim_amount           1093 non-null float64\n",
      "total_policy_claims    1093 non-null float64\n",
      "fraudulent             1093 non-null object\n",
      "Alert_Flag             1093 non-null int32\n",
      "Age                    1093 non-null int64\n",
      "Age_Grp                1078 non-null category\n",
      "dtypes: category(1), datetime64[ns](2), float64(3), int32(1), int64(3), object(9)\n",
      "memory usage: 159.2+ KB\n"
     ]
    }
   ],
   "source": [
    "df_cust_final.info()"
   ]
  },
  {
   "cell_type": "markdown",
   "metadata": {},
   "source": [
    "### 8. What is the average amount claimed by the customers from various segments?"
   ]
  },
  {
   "cell_type": "code",
   "execution_count": 42,
   "metadata": {},
   "outputs": [
    {
     "data": {
      "text/html": [
       "<div>\n",
       "<style scoped>\n",
       "    .dataframe tbody tr th:only-of-type {\n",
       "        vertical-align: middle;\n",
       "    }\n",
       "\n",
       "    .dataframe tbody tr th {\n",
       "        vertical-align: top;\n",
       "    }\n",
       "\n",
       "    .dataframe thead th {\n",
       "        text-align: right;\n",
       "    }\n",
       "</style>\n",
       "<table border=\"1\" class=\"dataframe\">\n",
       "  <thead>\n",
       "    <tr style=\"text-align: right;\">\n",
       "      <th></th>\n",
       "      <th>claim_amount</th>\n",
       "    </tr>\n",
       "    <tr>\n",
       "      <th>claim_type</th>\n",
       "      <th></th>\n",
       "    </tr>\n",
       "  </thead>\n",
       "  <tbody>\n",
       "    <tr>\n",
       "      <td>Injury only</td>\n",
       "      <td>25912.164075</td>\n",
       "    </tr>\n",
       "    <tr>\n",
       "      <td>Material and injury</td>\n",
       "      <td>28135.663878</td>\n",
       "    </tr>\n",
       "    <tr>\n",
       "      <td>Material only</td>\n",
       "      <td>2743.004534</td>\n",
       "    </tr>\n",
       "  </tbody>\n",
       "</table>\n",
       "</div>"
      ],
      "text/plain": [
       "                     claim_amount\n",
       "claim_type                       \n",
       "Injury only          25912.164075\n",
       "Material and injury  28135.663878\n",
       "Material only         2743.004534"
      ]
     },
     "execution_count": 42,
     "metadata": {},
     "output_type": "execute_result"
    }
   ],
   "source": [
    "df_cust_final.pivot_table(index='claim_type',values='claim_amount',aggfunc ='mean')"
   ]
  },
  {
   "cell_type": "markdown",
   "metadata": {},
   "source": [
    "### 9. What is the total claim amount based on incident cause for all the claims that have been done at least 20 days prior to 1st of October, 2018."
   ]
  },
  {
   "cell_type": "code",
   "execution_count": 43,
   "metadata": {},
   "outputs": [
    {
     "data": {
      "text/plain": [
       "Timestamp('2018-09-11 00:00:00')"
      ]
     },
     "execution_count": 43,
     "metadata": {},
     "output_type": "execute_result"
    }
   ],
   "source": [
    "pd.to_datetime('2018-10-01')-pd.to_timedelta(20,unit='d')"
   ]
  },
  {
   "cell_type": "code",
   "execution_count": 44,
   "metadata": {},
   "outputs": [
    {
     "data": {
      "text/html": [
       "<div>\n",
       "<style scoped>\n",
       "    .dataframe tbody tr th:only-of-type {\n",
       "        vertical-align: middle;\n",
       "    }\n",
       "\n",
       "    .dataframe tbody tr th {\n",
       "        vertical-align: top;\n",
       "    }\n",
       "\n",
       "    .dataframe thead th {\n",
       "        text-align: right;\n",
       "    }\n",
       "</style>\n",
       "<table border=\"1\" class=\"dataframe\">\n",
       "  <thead>\n",
       "    <tr style=\"text-align: right;\">\n",
       "      <th></th>\n",
       "      <th>claim_amount</th>\n",
       "    </tr>\n",
       "    <tr>\n",
       "      <th>incident_cause</th>\n",
       "      <th></th>\n",
       "    </tr>\n",
       "  </thead>\n",
       "  <tbody>\n",
       "    <tr>\n",
       "      <td>Crime</td>\n",
       "      <td>6840.000000</td>\n",
       "    </tr>\n",
       "    <tr>\n",
       "      <td>Driver error</td>\n",
       "      <td>14605.499514</td>\n",
       "    </tr>\n",
       "    <tr>\n",
       "      <td>Natural causes</td>\n",
       "      <td>8418.000000</td>\n",
       "    </tr>\n",
       "    <tr>\n",
       "      <td>Other causes</td>\n",
       "      <td>247231.499514</td>\n",
       "    </tr>\n",
       "    <tr>\n",
       "      <td>Other driver error</td>\n",
       "      <td>47599.500000</td>\n",
       "    </tr>\n",
       "  </tbody>\n",
       "</table>\n",
       "</div>"
      ],
      "text/plain": [
       "                     claim_amount\n",
       "incident_cause                   \n",
       "Crime                 6840.000000\n",
       "Driver error         14605.499514\n",
       "Natural causes        8418.000000\n",
       "Other causes        247231.499514\n",
       "Other driver error   47599.500000"
      ]
     },
     "execution_count": 44,
     "metadata": {},
     "output_type": "execute_result"
    }
   ],
   "source": [
    "df_cust_final.loc[(df_cust_final.claim_date <= '2018-10-01') & \n",
    "                  (df_cust_final.claim_date >=pd.to_datetime('2018-10-01')-pd.to_timedelta(20,unit='d')),\n",
    "                  ['customer_id','incident_cause','claim_amount',\n",
    "                   'claim_date']].pivot_table(index='incident_cause',values='claim_amount',aggfunc ='sum')"
   ]
  },
  {
   "cell_type": "markdown",
   "metadata": {},
   "source": [
    "### 10. How many adults from TX, DE and AK claimed insurance for driver related issues and causes?"
   ]
  },
  {
   "cell_type": "code",
   "execution_count": 45,
   "metadata": {},
   "outputs": [
    {
     "data": {
      "text/plain": [
       "29"
      ]
     },
     "execution_count": 45,
     "metadata": {},
     "output_type": "execute_result"
    }
   ],
   "source": [
    "df_cust_final.loc[((df_cust_final.State == 'TX')|(df_cust_final.State == 'AK')|(df_cust_final.State == 'DE'))& \n",
    "                  ((df_cust_final.incident_cause=='Driver error')|(df_cust_final.incident_cause=='Other driver error')) & \n",
    "                  (df_cust_final.Age_Grp=='Adult')].customer_id.count()"
   ]
  },
  {
   "cell_type": "markdown",
   "metadata": {},
   "source": [
    "### 11. Draw a pie chart between the aggregated value of claim amount based on gender and segment. Represent the claim amount as a percentage on the pie chart."
   ]
  },
  {
   "cell_type": "code",
   "execution_count": 46,
   "metadata": {},
   "outputs": [],
   "source": [
    "df_pie=df_cust_final.pivot_table(index='claim_type',columns='gender',values=\n",
    "                          'claim_amount',aggfunc='sum')"
   ]
  },
  {
   "cell_type": "code",
   "execution_count": 47,
   "metadata": {},
   "outputs": [
    {
     "data": {
      "text/plain": [
       "array([<matplotlib.axes._subplots.AxesSubplot object at 0x000000000B005A48>,\n",
       "       <matplotlib.axes._subplots.AxesSubplot object at 0x00000000096BC0C8>],\n",
       "      dtype=object)"
      ]
     },
     "execution_count": 47,
     "metadata": {},
     "output_type": "execute_result"
    },
    {
     "data": {
      "image/png": "[encoded data removed]",
      "text/plain": [
       "<Figure size 648x648 with 2 Axes>"
      ]
     },
     "metadata": {},
     "output_type": "display_data"
    }
   ],
   "source": [
    "df_pie.plot.pie(subplots=True,figsize=(9,9))"
   ]
  },
  {
   "cell_type": "markdown",
   "metadata": {},
   "source": [
    "### 12. Among males and females, which gender had claimed the most for any type of driver related issues? E.g. This metric can be compared using a bar chart"
   ]
  },
  {
   "cell_type": "code",
   "execution_count": 48,
   "metadata": {},
   "outputs": [
    {
     "data": {
      "text/plain": [
       "<matplotlib.axes._subplots.AxesSubplot at 0xb1b4108>"
      ]
     },
     "execution_count": 48,
     "metadata": {},
     "output_type": "execute_result"
    },
    {
     "data": {
      "image/png": "[encoded data removed]",
      "text/plain": [
       "<Figure size 432x288 with 1 Axes>"
      ]
     },
     "metadata": {
      "needs_background": "light"
     },
     "output_type": "display_data"
    }
   ],
   "source": [
    "df_cust_final[(df_cust_final.incident_cause=='Driver error')|\n",
    "                     (df_cust_final.incident_cause=='Other driver error')].pivot_table(index='incident_cause',columns='gender',values=\n",
    "                          'claim_amount',aggfunc='sum').plot(kind='bar')"
   ]
  },
  {
   "cell_type": "markdown",
   "metadata": {},
   "source": [
    "### 13. Which age group had the maximum fraudulent policy claims? Visualize it on a bar chart."
   ]
  },
  {
   "cell_type": "code",
   "execution_count": 49,
   "metadata": {},
   "outputs": [
    {
     "data": {
      "text/plain": [
       "<matplotlib.axes._subplots.AxesSubplot at 0xb630708>"
      ]
     },
     "execution_count": 49,
     "metadata": {},
     "output_type": "execute_result"
    },
    {
     "data": {
      "image/png": "[encoded data removed]",
      "text/plain": [
       "<Figure size 432x288 with 1 Axes>"
      ]
     },
     "metadata": {
      "needs_background": "light"
     },
     "output_type": "display_data"
    }
   ],
   "source": [
    "df_cust_final[df_cust_final.fraudulent == 'Yes'].groupby('Age_Grp').fraudulent.count().plot(kind='bar')"
   ]
  },
  {
   "cell_type": "markdown",
   "metadata": {},
   "source": [
    "### 14. Visualize the monthly trend of the total amount that has been claimed by the customers. Ensure that on the “month” axis, the month is in a chronological order not alphabetical order."
   ]
  },
  {
   "cell_type": "code",
   "execution_count": 50,
   "metadata": {},
   "outputs": [],
   "source": [
    "df_cust_final['claim_Mn']=pd.DatetimeIndex(df_cust_final.claim_date).month"
   ]
  },
  {
   "cell_type": "code",
   "execution_count": 51,
   "metadata": {},
   "outputs": [
    {
     "data": {
      "text/plain": [
       "<matplotlib.axes._subplots.AxesSubplot at 0xb6b45c8>"
      ]
     },
     "execution_count": 51,
     "metadata": {},
     "output_type": "execute_result"
    },
    {
     "data": {
      "image/png": "[encoded data removed]",
      "text/plain": [
       "<Figure size 432x288 with 1 Axes>"
      ]
     },
     "metadata": {
      "needs_background": "light"
     },
     "output_type": "display_data"
    }
   ],
   "source": [
    "df_cust_final.pivot_table(index='claim_Mn',values='claim_amount',aggfunc='sum').plot(kind='bar')"
   ]
  },
  {
   "cell_type": "markdown",
   "metadata": {},
   "source": [
    "### 15. What is the average claim amount for gender and age categories and suitably represent the above using a facetted bar chart, one facet that represents fraudulent claims and the other for non-fraudulent claims."
   ]
  },
  {
   "cell_type": "code",
   "execution_count": 52,
   "metadata": {},
   "outputs": [],
   "source": [
    "df_facet=df_cust_final.pivot_table(index='Age_Grp',columns=['gender','fraudulent'],values='claim_amount',aggfunc='mean').reset_index()"
   ]
  },
  {
   "cell_type": "code",
   "execution_count": 53,
   "metadata": {},
   "outputs": [],
   "source": [
    "df_facet=df_cust_final.groupby(['Age_Grp','gender','fraudulent']).claim_amount.mean().reset_index()"
   ]
  },
  {
   "cell_type": "code",
   "execution_count": 54,
   "metadata": {},
   "outputs": [],
   "source": [
    "df_facet['claim_amount']=df_facet.claim_amount.fillna(0)"
   ]
  },
  {
   "cell_type": "code",
   "execution_count": 55,
   "metadata": {},
   "outputs": [
    {
     "data": {
      "text/html": [
       "<div>\n",
       "<style scoped>\n",
       "    .dataframe tbody tr th:only-of-type {\n",
       "        vertical-align: middle;\n",
       "    }\n",
       "\n",
       "    .dataframe tbody tr th {\n",
       "        vertical-align: top;\n",
       "    }\n",
       "\n",
       "    .dataframe thead th {\n",
       "        text-align: right;\n",
       "    }\n",
       "</style>\n",
       "<table border=\"1\" class=\"dataframe\">\n",
       "  <thead>\n",
       "    <tr style=\"text-align: right;\">\n",
       "      <th></th>\n",
       "      <th>Age_Grp</th>\n",
       "      <th>gender</th>\n",
       "      <th>fraudulent</th>\n",
       "      <th>claim_amount</th>\n",
       "    </tr>\n",
       "  </thead>\n",
       "  <tbody>\n",
       "    <tr>\n",
       "      <td>0</td>\n",
       "      <td>Children</td>\n",
       "      <td>Female</td>\n",
       "      <td>No</td>\n",
       "      <td>0.000000</td>\n",
       "    </tr>\n",
       "    <tr>\n",
       "      <td>1</td>\n",
       "      <td>Children</td>\n",
       "      <td>Female</td>\n",
       "      <td>Yes</td>\n",
       "      <td>0.000000</td>\n",
       "    </tr>\n",
       "    <tr>\n",
       "      <td>2</td>\n",
       "      <td>Children</td>\n",
       "      <td>Male</td>\n",
       "      <td>No</td>\n",
       "      <td>0.000000</td>\n",
       "    </tr>\n",
       "    <tr>\n",
       "      <td>3</td>\n",
       "      <td>Children</td>\n",
       "      <td>Male</td>\n",
       "      <td>Yes</td>\n",
       "      <td>0.000000</td>\n",
       "    </tr>\n",
       "    <tr>\n",
       "      <td>4</td>\n",
       "      <td>Youth</td>\n",
       "      <td>Female</td>\n",
       "      <td>No</td>\n",
       "      <td>13064.795432</td>\n",
       "    </tr>\n",
       "    <tr>\n",
       "      <td>5</td>\n",
       "      <td>Youth</td>\n",
       "      <td>Female</td>\n",
       "      <td>Yes</td>\n",
       "      <td>8704.351780</td>\n",
       "    </tr>\n",
       "    <tr>\n",
       "      <td>6</td>\n",
       "      <td>Youth</td>\n",
       "      <td>Male</td>\n",
       "      <td>No</td>\n",
       "      <td>12172.393487</td>\n",
       "    </tr>\n",
       "    <tr>\n",
       "      <td>7</td>\n",
       "      <td>Youth</td>\n",
       "      <td>Male</td>\n",
       "      <td>Yes</td>\n",
       "      <td>11470.406220</td>\n",
       "    </tr>\n",
       "    <tr>\n",
       "      <td>8</td>\n",
       "      <td>Adult</td>\n",
       "      <td>Female</td>\n",
       "      <td>No</td>\n",
       "      <td>12149.270525</td>\n",
       "    </tr>\n",
       "    <tr>\n",
       "      <td>9</td>\n",
       "      <td>Adult</td>\n",
       "      <td>Female</td>\n",
       "      <td>Yes</td>\n",
       "      <td>11804.275480</td>\n",
       "    </tr>\n",
       "    <tr>\n",
       "      <td>10</td>\n",
       "      <td>Adult</td>\n",
       "      <td>Male</td>\n",
       "      <td>No</td>\n",
       "      <td>12384.275509</td>\n",
       "    </tr>\n",
       "    <tr>\n",
       "      <td>11</td>\n",
       "      <td>Adult</td>\n",
       "      <td>Male</td>\n",
       "      <td>Yes</td>\n",
       "      <td>16100.147700</td>\n",
       "    </tr>\n",
       "    <tr>\n",
       "      <td>12</td>\n",
       "      <td>Senior</td>\n",
       "      <td>Female</td>\n",
       "      <td>No</td>\n",
       "      <td>0.000000</td>\n",
       "    </tr>\n",
       "    <tr>\n",
       "      <td>13</td>\n",
       "      <td>Senior</td>\n",
       "      <td>Female</td>\n",
       "      <td>Yes</td>\n",
       "      <td>0.000000</td>\n",
       "    </tr>\n",
       "    <tr>\n",
       "      <td>14</td>\n",
       "      <td>Senior</td>\n",
       "      <td>Male</td>\n",
       "      <td>No</td>\n",
       "      <td>0.000000</td>\n",
       "    </tr>\n",
       "    <tr>\n",
       "      <td>15</td>\n",
       "      <td>Senior</td>\n",
       "      <td>Male</td>\n",
       "      <td>Yes</td>\n",
       "      <td>0.000000</td>\n",
       "    </tr>\n",
       "  </tbody>\n",
       "</table>\n",
       "</div>"
      ],
      "text/plain": [
       "     Age_Grp  gender fraudulent  claim_amount\n",
       "0   Children  Female         No      0.000000\n",
       "1   Children  Female        Yes      0.000000\n",
       "2   Children    Male         No      0.000000\n",
       "3   Children    Male        Yes      0.000000\n",
       "4      Youth  Female         No  13064.795432\n",
       "5      Youth  Female        Yes   8704.351780\n",
       "6      Youth    Male         No  12172.393487\n",
       "7      Youth    Male        Yes  11470.406220\n",
       "8      Adult  Female         No  12149.270525\n",
       "9      Adult  Female        Yes  11804.275480\n",
       "10     Adult    Male         No  12384.275509\n",
       "11     Adult    Male        Yes  16100.147700\n",
       "12    Senior  Female         No      0.000000\n",
       "13    Senior  Female        Yes      0.000000\n",
       "14    Senior    Male         No      0.000000\n",
       "15    Senior    Male        Yes      0.000000"
      ]
     },
     "execution_count": 55,
     "metadata": {},
     "output_type": "execute_result"
    }
   ],
   "source": [
    "df_facet"
   ]
  },
  {
   "cell_type": "code",
   "execution_count": 56,
   "metadata": {},
   "outputs": [
    {
     "data": {
      "image/png": "[encoded data removed]",
      "text/plain": [
       "<Figure size 864x432 with 8 Axes>"
      ]
     },
     "metadata": {
      "needs_background": "light"
     },
     "output_type": "display_data"
    }
   ],
   "source": [
    "g = sns.FacetGrid(df_facet, col='Age_Grp',row='fraudulent')\n",
    "g=g.map(plt.bar,'gender','claim_amount')"
   ]
  },
  {
   "cell_type": "markdown",
   "metadata": {},
   "source": [
    "### 16. Is there any similarity in the amount claimed by males and females?"
   ]
  },
  {
   "cell_type": "code",
   "execution_count": 57,
   "metadata": {},
   "outputs": [
    {
     "data": {
      "text/html": [
       "<div>\n",
       "<style scoped>\n",
       "    .dataframe tbody tr th:only-of-type {\n",
       "        vertical-align: middle;\n",
       "    }\n",
       "\n",
       "    .dataframe tbody tr th {\n",
       "        vertical-align: top;\n",
       "    }\n",
       "\n",
       "    .dataframe thead th {\n",
       "        text-align: right;\n",
       "    }\n",
       "</style>\n",
       "<table border=\"1\" class=\"dataframe\">\n",
       "  <thead>\n",
       "    <tr style=\"text-align: right;\">\n",
       "      <th></th>\n",
       "      <th>CUST_ID</th>\n",
       "      <th>claim_id</th>\n",
       "      <th>customer_id</th>\n",
       "      <th>claim_amount</th>\n",
       "      <th>total_policy_claims</th>\n",
       "      <th>Alert_Flag</th>\n",
       "      <th>Age</th>\n",
       "      <th>claim_Mn</th>\n",
       "    </tr>\n",
       "  </thead>\n",
       "  <tbody>\n",
       "    <tr>\n",
       "      <td>CUST_ID</td>\n",
       "      <td>1.000000</td>\n",
       "      <td>0.072254</td>\n",
       "      <td>1.000000</td>\n",
       "      <td>-0.049259</td>\n",
       "      <td>-0.013242</td>\n",
       "      <td>0.046627</td>\n",
       "      <td>0.013685</td>\n",
       "      <td>0.033526</td>\n",
       "    </tr>\n",
       "    <tr>\n",
       "      <td>claim_id</td>\n",
       "      <td>0.072254</td>\n",
       "      <td>1.000000</td>\n",
       "      <td>0.077472</td>\n",
       "      <td>0.044327</td>\n",
       "      <td>-0.016231</td>\n",
       "      <td>-0.001458</td>\n",
       "      <td>0.038109</td>\n",
       "      <td>-0.003441</td>\n",
       "    </tr>\n",
       "    <tr>\n",
       "      <td>customer_id</td>\n",
       "      <td>1.000000</td>\n",
       "      <td>0.077472</td>\n",
       "      <td>1.000000</td>\n",
       "      <td>-0.048712</td>\n",
       "      <td>-0.013366</td>\n",
       "      <td>0.046346</td>\n",
       "      <td>0.009068</td>\n",
       "      <td>0.029158</td>\n",
       "    </tr>\n",
       "    <tr>\n",
       "      <td>claim_amount</td>\n",
       "      <td>-0.049259</td>\n",
       "      <td>0.044327</td>\n",
       "      <td>-0.048712</td>\n",
       "      <td>1.000000</td>\n",
       "      <td>-0.023909</td>\n",
       "      <td>0.229751</td>\n",
       "      <td>0.003052</td>\n",
       "      <td>0.001227</td>\n",
       "    </tr>\n",
       "    <tr>\n",
       "      <td>total_policy_claims</td>\n",
       "      <td>-0.013242</td>\n",
       "      <td>-0.016231</td>\n",
       "      <td>-0.013366</td>\n",
       "      <td>-0.023909</td>\n",
       "      <td>1.000000</td>\n",
       "      <td>0.024485</td>\n",
       "      <td>-0.036922</td>\n",
       "      <td>0.027045</td>\n",
       "    </tr>\n",
       "    <tr>\n",
       "      <td>Alert_Flag</td>\n",
       "      <td>0.046627</td>\n",
       "      <td>-0.001458</td>\n",
       "      <td>0.046346</td>\n",
       "      <td>0.229751</td>\n",
       "      <td>0.024485</td>\n",
       "      <td>1.000000</td>\n",
       "      <td>0.030682</td>\n",
       "      <td>-0.004251</td>\n",
       "    </tr>\n",
       "    <tr>\n",
       "      <td>Age</td>\n",
       "      <td>0.013685</td>\n",
       "      <td>0.038109</td>\n",
       "      <td>0.009068</td>\n",
       "      <td>0.003052</td>\n",
       "      <td>-0.036922</td>\n",
       "      <td>0.030682</td>\n",
       "      <td>1.000000</td>\n",
       "      <td>-0.030787</td>\n",
       "    </tr>\n",
       "    <tr>\n",
       "      <td>claim_Mn</td>\n",
       "      <td>0.033526</td>\n",
       "      <td>-0.003441</td>\n",
       "      <td>0.029158</td>\n",
       "      <td>0.001227</td>\n",
       "      <td>0.027045</td>\n",
       "      <td>-0.004251</td>\n",
       "      <td>-0.030787</td>\n",
       "      <td>1.000000</td>\n",
       "    </tr>\n",
       "  </tbody>\n",
       "</table>\n",
       "</div>"
      ],
      "text/plain": [
       "                      CUST_ID  claim_id  customer_id  claim_amount  \\\n",
       "CUST_ID              1.000000  0.072254     1.000000     -0.049259   \n",
       "claim_id             0.072254  1.000000     0.077472      0.044327   \n",
       "customer_id          1.000000  0.077472     1.000000     -0.048712   \n",
       "claim_amount        -0.049259  0.044327    -0.048712      1.000000   \n",
       "total_policy_claims -0.013242 -0.016231    -0.013366     -0.023909   \n",
       "Alert_Flag           0.046627 -0.001458     0.046346      0.229751   \n",
       "Age                  0.013685  0.038109     0.009068      0.003052   \n",
       "claim_Mn             0.033526 -0.003441     0.029158      0.001227   \n",
       "\n",
       "                     total_policy_claims  Alert_Flag       Age  claim_Mn  \n",
       "CUST_ID                        -0.013242    0.046627  0.013685  0.033526  \n",
       "claim_id                       -0.016231   -0.001458  0.038109 -0.003441  \n",
       "customer_id                    -0.013366    0.046346  0.009068  0.029158  \n",
       "claim_amount                   -0.023909    0.229751  0.003052  0.001227  \n",
       "total_policy_claims             1.000000    0.024485 -0.036922  0.027045  \n",
       "Alert_Flag                      0.024485    1.000000  0.030682 -0.004251  \n",
       "Age                            -0.036922    0.030682  1.000000 -0.030787  \n",
       "claim_Mn                        0.027045   -0.004251 -0.030787  1.000000  "
      ]
     },
     "execution_count": 57,
     "metadata": {},
     "output_type": "execute_result"
    }
   ],
   "source": [
    "df_cust_final.corr()"
   ]
  },
  {
   "cell_type": "code",
   "execution_count": 58,
   "metadata": {},
   "outputs": [
    {
     "data": {
      "text/html": [
       "<div>\n",
       "<style scoped>\n",
       "    .dataframe tbody tr th:only-of-type {\n",
       "        vertical-align: middle;\n",
       "    }\n",
       "\n",
       "    .dataframe tbody tr th {\n",
       "        vertical-align: top;\n",
       "    }\n",
       "\n",
       "    .dataframe thead tr th {\n",
       "        text-align: left;\n",
       "    }\n",
       "</style>\n",
       "<table border=\"1\" class=\"dataframe\">\n",
       "  <thead>\n",
       "    <tr>\n",
       "      <th></th>\n",
       "      <th colspan=\"2\" halign=\"left\">mean</th>\n",
       "      <th colspan=\"2\" halign=\"left\">std</th>\n",
       "    </tr>\n",
       "    <tr>\n",
       "      <th>gender</th>\n",
       "      <th>Female</th>\n",
       "      <th>Male</th>\n",
       "      <th>Female</th>\n",
       "      <th>Male</th>\n",
       "    </tr>\n",
       "  </thead>\n",
       "  <tbody>\n",
       "    <tr>\n",
       "      <td>claim_amount</td>\n",
       "      <td>12099.717241</td>\n",
       "      <td>12883.131547</td>\n",
       "      <td>13147.758201</td>\n",
       "      <td>13565.91065</td>\n",
       "    </tr>\n",
       "  </tbody>\n",
       "</table>\n",
       "</div>"
      ],
      "text/plain": [
       "                      mean                         std             \n",
       "gender              Female          Male        Female         Male\n",
       "claim_amount  12099.717241  12883.131547  13147.758201  13565.91065"
      ]
     },
     "execution_count": 58,
     "metadata": {},
     "output_type": "execute_result"
    }
   ],
   "source": [
    "df_cust_final.pivot_table(columns='gender',values='claim_amount',aggfunc=['mean','std'])"
   ]
  },
  {
   "cell_type": "code",
   "execution_count": 59,
   "metadata": {},
   "outputs": [],
   "source": [
    "### Null Hypothesis : Ho -> The claim amount of male and female are similar\n",
    "### Alternate Hypothesis Ha -> The claim amount of male and female are not similar\n",
    "### Confidence Interval 95%"
   ]
  },
  {
   "cell_type": "code",
   "execution_count": 60,
   "metadata": {},
   "outputs": [],
   "source": [
    "df_male=df_cust_final[df_cust_final.gender == 'Male'].claim_amount"
   ]
  },
  {
   "cell_type": "code",
   "execution_count": 61,
   "metadata": {},
   "outputs": [],
   "source": [
    "df_female=df_cust_final[df_cust_final.gender == 'Female'].claim_amount"
   ]
  },
  {
   "cell_type": "code",
   "execution_count": 62,
   "metadata": {},
   "outputs": [
    {
     "data": {
      "text/plain": [
       "<matplotlib.axes._subplots.AxesSubplot at 0xc3e80c8>"
      ]
     },
     "execution_count": 62,
     "metadata": {},
     "output_type": "execute_result"
    },
    {
     "data": {
      "image/png": "[encoded data removed]",
      "text/plain": [
       "<Figure size 432x288 with 1 Axes>"
      ]
     },
     "metadata": {
      "needs_background": "light"
     },
     "output_type": "display_data"
    }
   ],
   "source": [
    "df_male.hist()"
   ]
  },
  {
   "cell_type": "code",
   "execution_count": 63,
   "metadata": {},
   "outputs": [
    {
     "data": {
      "text/plain": [
       "<matplotlib.axes._subplots.AxesSubplot at 0xc3919c8>"
      ]
     },
     "execution_count": 63,
     "metadata": {},
     "output_type": "execute_result"
    },
    {
     "data": {
      "image/png": "[encoded data removed]",
      "text/plain": [
       "<Figure size 432x288 with 1 Axes>"
      ]
     },
     "metadata": {
      "needs_background": "light"
     },
     "output_type": "display_data"
    }
   ],
   "source": [
    "df_female.hist()"
   ]
  },
  {
   "cell_type": "markdown",
   "metadata": {},
   "source": [
    "### Two sample T-Test (Independent)"
   ]
  },
  {
   "cell_type": "code",
   "execution_count": 64,
   "metadata": {},
   "outputs": [
    {
     "data": {
      "text/plain": [
       "Ttest_indResult(statistic=0.9621769389700356, pvalue=0.33617690369982145)"
      ]
     },
     "execution_count": 64,
     "metadata": {},
     "output_type": "execute_result"
    }
   ],
   "source": [
    "stats.ttest_ind(a = df_male,\n",
    "                b = df_female)"
   ]
  },
  {
   "cell_type": "code",
   "execution_count": 65,
   "metadata": {},
   "outputs": [],
   "source": [
    "### Conclusion : As p value is high I accept the null hypothesis,hence the claim amount of male and female are similar"
   ]
  },
  {
   "cell_type": "markdown",
   "metadata": {},
   "source": [
    "### 17. Is there any relationship between age category and segment?"
   ]
  },
  {
   "cell_type": "code",
   "execution_count": 66,
   "metadata": {},
   "outputs": [
    {
     "name": "stdout",
     "output_type": "stream",
     "text": [
      "<class 'pandas.core.frame.DataFrame'>\n",
      "Int64Index: 1093 entries, 188 to 747\n",
      "Data columns (total 20 columns):\n",
      "CUST_ID                1078 non-null float64\n",
      "gender                 1078 non-null object\n",
      "DateOfBirth            1078 non-null datetime64[ns]\n",
      "State                  1078 non-null object\n",
      "Contact                1078 non-null object\n",
      "Segment                1078 non-null object\n",
      "claim_id               1093 non-null int64\n",
      "customer_id            1093 non-null int64\n",
      "incident_cause         1093 non-null object\n",
      "claim_date             1093 non-null datetime64[ns]\n",
      "claim_area             1093 non-null object\n",
      "police_report          1093 non-null object\n",
      "claim_type             1093 non-null object\n",
      "claim_amount           1093 non-null float64\n",
      "total_policy_claims    1093 non-null float64\n",
      "fraudulent             1093 non-null object\n",
      "Alert_Flag             1093 non-null int32\n",
      "Age                    1093 non-null int64\n",
      "Age_Grp                1078 non-null category\n",
      "claim_Mn               1093 non-null int64\n",
      "dtypes: category(1), datetime64[ns](2), float64(3), int32(1), int64(4), object(9)\n",
      "memory usage: 167.8+ KB\n"
     ]
    }
   ],
   "source": [
    "df_cust_final.info()"
   ]
  },
  {
   "cell_type": "code",
   "execution_count": 67,
   "metadata": {},
   "outputs": [
    {
     "data": {
      "text/plain": [
       "188    Platinum\n",
       "836      Silver\n",
       "677      Silver\n",
       "828        Gold\n",
       "509        Gold\n",
       "         ...   \n",
       "698      Silver\n",
       "999        Gold\n",
       "72       Silver\n",
       "936        Gold\n",
       "747    Platinum\n",
       "Name: Segment, Length: 1093, dtype: object"
      ]
     },
     "execution_count": 67,
     "metadata": {},
     "output_type": "execute_result"
    }
   ],
   "source": [
    "df_cust_final.Segment"
   ]
  },
  {
   "cell_type": "code",
   "execution_count": 68,
   "metadata": {},
   "outputs": [],
   "source": [
    "### Null Hypothesis : Ho -> The age category and Segment are independent\n",
    "### Alternate Hypothesis Ha -> The age category and Segment are dependent\n",
    "### Confidence Interval 95%"
   ]
  },
  {
   "cell_type": "markdown",
   "metadata": {},
   "source": [
    "### Chi-squre Test"
   ]
  },
  {
   "cell_type": "code",
   "execution_count": 69,
   "metadata": {},
   "outputs": [],
   "source": [
    "obs_freq = df_cust_final.pivot_table(index = 'Segment', columns = 'Age_Grp', \n",
    "                 values = 'customer_id', aggfunc = 'count')"
   ]
  },
  {
   "cell_type": "code",
   "execution_count": 70,
   "metadata": {},
   "outputs": [
    {
     "data": {
      "text/html": [
       "<div>\n",
       "<style scoped>\n",
       "    .dataframe tbody tr th:only-of-type {\n",
       "        vertical-align: middle;\n",
       "    }\n",
       "\n",
       "    .dataframe tbody tr th {\n",
       "        vertical-align: top;\n",
       "    }\n",
       "\n",
       "    .dataframe thead th {\n",
       "        text-align: right;\n",
       "    }\n",
       "</style>\n",
       "<table border=\"1\" class=\"dataframe\">\n",
       "  <thead>\n",
       "    <tr style=\"text-align: right;\">\n",
       "      <th>Age_Grp</th>\n",
       "      <th>Youth</th>\n",
       "      <th>Adult</th>\n",
       "    </tr>\n",
       "    <tr>\n",
       "      <th>Segment</th>\n",
       "      <th></th>\n",
       "      <th></th>\n",
       "    </tr>\n",
       "  </thead>\n",
       "  <tbody>\n",
       "    <tr>\n",
       "      <td>Gold</td>\n",
       "      <td>88</td>\n",
       "      <td>283</td>\n",
       "    </tr>\n",
       "    <tr>\n",
       "      <td>Platinum</td>\n",
       "      <td>101</td>\n",
       "      <td>260</td>\n",
       "    </tr>\n",
       "    <tr>\n",
       "      <td>Silver</td>\n",
       "      <td>88</td>\n",
       "      <td>258</td>\n",
       "    </tr>\n",
       "  </tbody>\n",
       "</table>\n",
       "</div>"
      ],
      "text/plain": [
       "Age_Grp   Youth  Adult\n",
       "Segment               \n",
       "Gold         88    283\n",
       "Platinum    101    260\n",
       "Silver       88    258"
      ]
     },
     "execution_count": 70,
     "metadata": {},
     "output_type": "execute_result"
    }
   ],
   "source": [
    "obs_freq"
   ]
  },
  {
   "cell_type": "code",
   "execution_count": 71,
   "metadata": {},
   "outputs": [
    {
     "data": {
      "text/plain": [
       "(1.7559082572247033,\n",
       " 0.41563237282050425,\n",
       " 2,\n",
       " array([[ 95.33116883, 275.66883117],\n",
       "        [ 92.76159555, 268.23840445],\n",
       "        [ 88.90723562, 257.09276438]]))"
      ]
     },
     "execution_count": 71,
     "metadata": {},
     "output_type": "execute_result"
    }
   ],
   "source": [
    "stats.chi2_contingency(observed = obs_freq)"
   ]
  },
  {
   "cell_type": "code",
   "execution_count": 72,
   "metadata": {},
   "outputs": [],
   "source": [
    "### for DOF =2 and p value 0.415, the Test (X2) value  1.75 < X2 critical value ~ 2.85\n",
    "### Hence I will accept Null Hypothesis, ie the age category and Segment are independent"
   ]
  },
  {
   "cell_type": "markdown",
   "metadata": {},
   "source": [
    "### 18. The current year has shown a significant rise in claim amounts as compared to 2016-17 fiscal average which was $10,000."
   ]
  },
  {
   "cell_type": "code",
   "execution_count": 73,
   "metadata": {},
   "outputs": [],
   "source": [
    "### Null Hypothesis : Ho -> The claim amount current year <= claim amount 2016-2017 fiscal average\n",
    "### Alternate Hypothesis Ha -> The claim amount current year > claim amount 2016-2017 fiscal average\n",
    "### Confidence Interval 95%"
   ]
  },
  {
   "cell_type": "code",
   "execution_count": 74,
   "metadata": {},
   "outputs": [],
   "source": [
    "df_cust_final['claim_Yr']=pd.DatetimeIndex(df_cust_final.claim_date).year"
   ]
  },
  {
   "cell_type": "code",
   "execution_count": 75,
   "metadata": {},
   "outputs": [
    {
     "data": {
      "text/plain": [
       "12679.392242811045"
      ]
     },
     "execution_count": 75,
     "metadata": {},
     "output_type": "execute_result"
    }
   ],
   "source": [
    "df_cust_final.loc[df_cust_final.claim_Yr == 2018].claim_amount.mean()"
   ]
  },
  {
   "cell_type": "code",
   "execution_count": 76,
   "metadata": {},
   "outputs": [
    {
     "data": {
      "text/plain": [
       "Ttest_1sampResult(statistic=4.4147704931665, pvalue=1.2444078618606088e-05)"
      ]
     },
     "execution_count": 76,
     "metadata": {},
     "output_type": "execute_result"
    }
   ],
   "source": [
    "stats.ttest_1samp(a= df_cust_final.loc[df_cust_final.claim_Yr == 2018].claim_amount,               # Sample data\n",
    "                 popmean= 10000)"
   ]
  },
  {
   "cell_type": "code",
   "execution_count": 70,
   "metadata": {},
   "outputs": [],
   "source": [
    "### As p value is low, I am rejecting the null hypothesis. "
   ]
  },
  {
   "cell_type": "code",
   "execution_count": 3,
   "metadata": {},
   "outputs": [],
   "source": [
    "### Conclusion ,The claim amount current year > claim amount 2016-2017 fiscal average"
   ]
  },
  {
   "cell_type": "markdown",
   "metadata": {},
   "source": [
    "### 19. Is there any difference between age groups and insurance claims?"
   ]
  },
  {
   "cell_type": "code",
   "execution_count": 72,
   "metadata": {},
   "outputs": [],
   "source": [
    "### Null Hypothesis : Ho -> There is a relation between age groups and insurance claims\n",
    "### Alternate Hypothesis Ha -> There is a diffrence in insurance claims with age groups\n",
    "### Confidence Interval 95%"
   ]
  },
  {
   "cell_type": "code",
   "execution_count": 78,
   "metadata": {},
   "outputs": [],
   "source": [
    "df_youth=df_cust_final.claim_amount[df_cust_final.Age_Grp=='Youth']"
   ]
  },
  {
   "cell_type": "code",
   "execution_count": 79,
   "metadata": {},
   "outputs": [],
   "source": [
    "df_adult=df_cust_final.claim_amount[df_cust_final.Age_Grp=='Adult']"
   ]
  },
  {
   "cell_type": "code",
   "execution_count": 80,
   "metadata": {},
   "outputs": [
    {
     "data": {
      "text/plain": [
       "F_onewayResult(statistic=0.32143613001056975, pvalue=0.5708641075297693)"
      ]
     },
     "execution_count": 80,
     "metadata": {},
     "output_type": "execute_result"
    }
   ],
   "source": [
    "stats.f_oneway(df_youth,df_adult)"
   ]
  },
  {
   "cell_type": "code",
   "execution_count": 81,
   "metadata": {},
   "outputs": [
    {
     "name": "stdout",
     "output_type": "stream",
     "text": [
      "12635.880121273503 13421.084626825395\n"
     ]
    }
   ],
   "source": [
    "print(df_adult.mean(),df_adult.std())"
   ]
  },
  {
   "cell_type": "code",
   "execution_count": 82,
   "metadata": {},
   "outputs": [
    {
     "name": "stdout",
     "output_type": "stream",
     "text": [
      "12107.640762617819 13208.52350579521\n"
     ]
    }
   ],
   "source": [
    "print(df_youth.mean(),df_youth.std())"
   ]
  },
  {
   "cell_type": "code",
   "execution_count": 83,
   "metadata": {},
   "outputs": [
    {
     "data": {
      "text/plain": [
       "Ttest_indResult(statistic=-0.5669533755173957, pvalue=0.5708641075296615)"
      ]
     },
     "execution_count": 83,
     "metadata": {},
     "output_type": "execute_result"
    }
   ],
   "source": [
    "stats.ttest_ind(a= df_youth,\n",
    "                b= df_adult)"
   ]
  },
  {
   "cell_type": "code",
   "execution_count": 79,
   "metadata": {},
   "outputs": [],
   "source": [
    "### As p value is high , I will accept the null hypothesis"
   ]
  },
  {
   "cell_type": "code",
   "execution_count": 80,
   "metadata": {},
   "outputs": [],
   "source": [
    "### Conclusion : There is relation between age groups and insurance claims"
   ]
  },
  {
   "cell_type": "markdown",
   "metadata": {},
   "source": [
    "### 20. Is there any relationship between total number of policy claims and the claimed amount?"
   ]
  },
  {
   "cell_type": "code",
   "execution_count": 84,
   "metadata": {},
   "outputs": [
    {
     "data": {
      "text/plain": [
       "(-0.023908971978697457, 0.42973091875449343)"
      ]
     },
     "execution_count": 84,
     "metadata": {},
     "output_type": "execute_result"
    }
   ],
   "source": [
    "stats.pearsonr(df_cust_final.total_policy_claims, df_cust_final.claim_amount)"
   ]
  },
  {
   "cell_type": "code",
   "execution_count": 85,
   "metadata": {},
   "outputs": [],
   "source": [
    "### Conclusion there is week negative correlation or no relation between total number of policy claims and the claimed amount"
   ]
  },
  {
   "cell_type": "code",
   "execution_count": 86,
   "metadata": {},
   "outputs": [
    {
     "data": {
      "text/plain": [
       "<matplotlib.axes._subplots.AxesSubplot at 0xbc66fc8>"
      ]
     },
     "execution_count": 86,
     "metadata": {},
     "output_type": "execute_result"
    },
    {
     "data": {
      "image/png": "[encoded data removed]",
      "text/plain": [
       "<Figure size 432x288 with 1 Axes>"
      ]
     },
     "metadata": {
      "needs_background": "light"
     },
     "output_type": "display_data"
    }
   ],
   "source": [
    "df_cust_final.plot.scatter(x='total_policy_claims',y='claim_amount')"
   ]
  },
  {
   "cell_type": "code",
   "execution_count": null,
   "metadata": {},
   "outputs": [],
   "source": []
  },
  {
   "cell_type": "code",
   "execution_count": null,
   "metadata": {},
   "outputs": [],
   "source": []
  }
 ],
 "metadata": {
  "kernelspec": {
   "display_name": "Python 3",
   "language": "python",
   "name": "python3"
  },
  "language_info": {
   "codemirror_mode": {
    "name": "ipython",
    "version": 3
   },
   "file_extension": ".py",
   "mimetype": "text/x-python",
   "name": "python",
   "nbconvert_exporter": "python",
   "pygments_lexer": "ipython3",
   "version": "3.7.4"
  }
 },
 "nbformat": 4,
 "nbformat_minor": 2
}
